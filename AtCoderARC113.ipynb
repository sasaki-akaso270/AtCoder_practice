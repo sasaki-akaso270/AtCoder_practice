{
  "nbformat": 4,
  "nbformat_minor": 0,
  "metadata": {
    "colab": {
      "name": "AtCoderARC113.ipynb",
      "provenance": [],
      "authorship_tag": "ABX9TyP8yRUGfJOeLisGEZNUf4Ay",
      "include_colab_link": true
    },
    "kernelspec": {
      "name": "python3",
      "display_name": "Python 3"
    }
  },
  "cells": [
    {
      "cell_type": "markdown",
      "metadata": {
        "id": "view-in-github",
        "colab_type": "text"
      },
      "source": [
        "<a href=\"https://colab.research.google.com/github/sasaki-akaso270/AtCoder_practice/blob/main/AtCoderARC113.ipynb\" target=\"_parent\"><img src=\"https://colab.research.google.com/assets/colab-badge.svg\" alt=\"Open In Colab\"/></a>"
      ]
    },
    {
      "cell_type": "code",
      "metadata": {
        "colab": {
          "base_uri": "https://localhost:8080/"
        },
        "id": "mALP_MGFcjRO",
        "outputId": "32db291e-58d0-4203-cf7d-74dd883bd699"
      },
      "source": [
        "#AtCoderARC113 A問題\n",
        "# import math\n",
        "# def combinations_count(n, r):\n",
        "#     return math.factorial(n) // (math.factorial(n - r) * math.factorial(r))\n",
        "# k = int(input())\n",
        "# s3 = int(k**(1/3))\n",
        "# s2 = int(k**(1/2))\n",
        "# if s3 < s2:\n",
        "#   res = combinations_count(s3+2, 3)\n",
        "# else:\n",
        "#   res = combinations_count(s3+2, 3) + 3 * (s2 - s3) * s2\n",
        "\n",
        "# for i in range(s2+1, k):\n",
        "#   for j in range(1,s2+1):\n",
        "#     for l in range(1,s2+1):\n",
        "#       if i * j * l <= k:\n",
        "#         res = res + 1\n",
        "import math\n",
        "def combinations_count(n, r):\n",
        "    return math.factorial(n) // (math.factorial(n - r) * math.factorial(r))\n",
        "res = 0\n",
        "k = int(input())\n",
        "s3 = int(k**(1/3))\n",
        "for i in range(s3+1,k+1):\n",
        "  tmp = math.ceil(k/i)\n",
        "  for j in range(1,tmp+1):\n",
        "    tmp2 = math.ceil(k/i/j)\n",
        "    for l in range(1,tmp2+1):\n",
        "      if i * l * j <= k:\n",
        "        if i == j and j == l:\n",
        "          res = res + 1\n",
        "        else:\n",
        "          res = res + 3\n",
        "print(res)\n",
        "res = res + combinations_count(s3+2, 3)\n",
        "\n",
        "print(res)"
      ],
      "execution_count": 84,
      "outputs": [
        {
          "output_type": "stream",
          "text": [
            "31415\n",
            "2377410\n",
            "2382866\n"
          ],
          "name": "stdout"
        }
      ]
    },
    {
      "cell_type": "code",
      "metadata": {
        "id": "odUCNXMy5V0c"
      },
      "source": [
        ""
      ],
      "execution_count": null,
      "outputs": []
    },
    {
      "cell_type": "code",
      "metadata": {
        "colab": {
          "base_uri": "https://localhost:8080/"
        },
        "id": "OQh1bm2Jco1i",
        "outputId": "30cd372f-c62e-415d-8650-c3c8988d4e5b"
      },
      "source": [
        "#AtCoderARC113 B問題\n",
        "a,b,c = map(int, input().split())\n",
        "tmp = pow(b,c,362880)\n",
        "res = pow(a , tmp , 10)\n",
        "print(res)"
      ],
      "execution_count": 64,
      "outputs": [
        {
          "output_type": "stream",
          "text": [
            "10 3141592 9323846\n",
            "0\n"
          ],
          "name": "stdout"
        }
      ]
    },
    {
      "cell_type": "code",
      "metadata": {
        "colab": {
          "base_uri": "https://localhost:8080/"
        },
        "id": "BhczVCubgJKy",
        "outputId": "381fbe83-5aff-4f39-a822-cd82e95ccdc3"
      },
      "source": [
        "print(int(5//2))"
      ],
      "execution_count": 66,
      "outputs": [
        {
          "output_type": "stream",
          "text": [
            "2\n"
          ],
          "name": "stdout"
        }
      ]
    },
    {
      "cell_type": "code",
      "metadata": {
        "id": "QEjfgqpZvleh"
      },
      "source": [
        ""
      ],
      "execution_count": null,
      "outputs": []
    }
  ]
}