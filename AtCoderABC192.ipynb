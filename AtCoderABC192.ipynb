{
  "nbformat": 4,
  "nbformat_minor": 0,
  "metadata": {
    "colab": {
      "name": "AtCoderABC192.ipynb",
      "provenance": [],
      "collapsed_sections": [],
      "authorship_tag": "ABX9TyPfTVyeOSR7+lVvKScmNupk",
      "include_colab_link": true
    },
    "kernelspec": {
      "name": "python3",
      "display_name": "Python 3"
    }
  },
  "cells": [
    {
      "cell_type": "markdown",
      "metadata": {
        "id": "view-in-github",
        "colab_type": "text"
      },
      "source": [
        "<a href=\"https://colab.research.google.com/github/sasaki-akaso270/AtCoder_practice/blob/main/AtCoderABC192.ipynb\" target=\"_parent\"><img src=\"https://colab.research.google.com/assets/colab-badge.svg\" alt=\"Open In Colab\"/></a>"
      ]
    },
    {
      "cell_type": "code",
      "metadata": {
        "colab": {
          "base_uri": "https://localhost:8080/"
        },
        "id": "soORb_LkT5r4",
        "outputId": "bdcc5062-86ba-4c22-8e36-e34412baf324"
      },
      "source": [
        "#AtCoder ABC 192 A問題\n",
        "x = int(input())\n",
        "print(100 -  (x%100) )"
      ],
      "execution_count": 2,
      "outputs": [
        {
          "output_type": "stream",
          "text": [
            "1000\n",
            "100\n"
          ],
          "name": "stdout"
        }
      ]
    },
    {
      "cell_type": "code",
      "metadata": {
        "colab": {
          "base_uri": "https://localhost:8080/"
        },
        "id": "h_t3Rk2tUbXJ",
        "outputId": "219ba1ab-330b-4377-faf1-2d6c8005c83d"
      },
      "source": [
        "#AtCoder ABC 192 B問題\n",
        "s = input()\n",
        "if len(s) > 1:\n",
        "  if s[::2].islower() and s[1::2].isupper():\n",
        "    print(\"Yes\")\n",
        "  else:\n",
        "    print(\"No\")\n",
        "else:\n",
        "  if s[::2].islower():\n",
        "    print(\"Yes\")\n",
        "  else:\n",
        "    print(\"No\")"
      ],
      "execution_count": 11,
      "outputs": [
        {
          "output_type": "stream",
          "text": [
            "a\n",
            "Yes\n"
          ],
          "name": "stdout"
        }
      ]
    },
    {
      "cell_type": "code",
      "metadata": {
        "colab": {
          "base_uri": "https://localhost:8080/"
        },
        "id": "whZjzvL3U2Ol",
        "outputId": "1eb7f400-32cb-4a10-cc20-1c01f09237b9"
      },
      "source": [
        "#AtCoder ABC 192 C問題\n",
        "import sys\n",
        "sys.setrecursionlimit(10000)\n",
        "n,k = map(int, input().split())\n",
        "#再帰関数をかく\n",
        "#n, k ... integer \n",
        "def Kaprekar_Num(n,k):\n",
        "  if k == 0:\n",
        "    return n\n",
        "  tmp = sorted(str(n), reverse=True)\n",
        "  tmp2 = [i for i in sorted(str(n)) if i > \"0\"]\n",
        "  if not tmp2:\n",
        "    res = int(\"\".join(tmp))\n",
        "    return Kaprekar_Num(res, k-1)\n",
        "  else:\n",
        "    res = int(\"\".join(tmp)) - int(\"\".join(tmp2))\n",
        "    return Kaprekar_Num(res, k-1)\n",
        "print(Kaprekar_Num(n,k))"
      ],
      "execution_count": 3,
      "outputs": [
        {
          "output_type": "stream",
          "text": [
            "1 4\n",
            "0\n"
          ],
          "name": "stdout"
        }
      ]
    },
    {
      "cell_type": "code",
      "metadata": {
        "colab": {
          "base_uri": "https://localhost:8080/"
        },
        "id": "4gWZSq7tWhl4",
        "outputId": "f6d2ac1e-b6ef-4750-ebc9-85a288c60f03"
      },
      "source": [
        "#AtCoder ABC 192 D問題\n",
        "x = str(input())\n",
        "M = int(input())\n",
        "maxval = int(sorted(x)[-1]) + 1\n",
        "res = 0\n",
        "flag = 0\n",
        "while flag == 0:\n",
        "  tmp = int(x , maxval)\n",
        "  if tmp <= M:\n",
        "    res = res + 1\n",
        "    maxval = maxval + 1\n",
        "  else:\n",
        "    flag = 1\n",
        "print(res)\n",
        "\n",
        "# def Base_n_to_10(X,n):\n",
        "#     out = 0\n",
        "#     for i in range(1,len(str(X))+1):\n",
        "#         out += int(X[-i])*(n**(i-1))\n",
        "#     return out#int out"
      ],
      "execution_count": 18,
      "outputs": [
        {
          "output_type": "stream",
          "text": [
            "100000000000000000000000000000000000000000000000000000000000\n",
            "1000000000000000000\n",
            "1\n"
          ],
          "name": "stdout"
        }
      ]
    },
    {
      "cell_type": "code",
      "metadata": {
        "id": "2iDYvFb2n1nE"
      },
      "source": [
        "#AtCoder ABC 192 E問題\n",
        "n,m,x,y = map(int, input().split())\n"
      ],
      "execution_count": null,
      "outputs": []
    },
    {
      "cell_type": "code",
      "metadata": {
        "colab": {
          "base_uri": "https://localhost:8080/"
        },
        "id": "OYg3xzhhdG6j",
        "outputId": "8f37eb7f-9358-4254-90de-648a986d1c20"
      },
      "source": [
        "#AtCoder ABC 192 F問題\n",
        "import itertools\n",
        "n,x = map(int, input().split())\n",
        "lst = list(map(int, input().split()))\n",
        "res = []\n",
        " \n",
        "for i in range(1,len(lst)+1):\n",
        "    for conb in itertools.combinations(lst, i):\n",
        "      q, mod = divmod(x - sum(list(conb)), i)\n",
        "      if mod == 0:\n",
        "        res.append(q)\n",
        " \n",
        "print(min(res))\n",
        "\n"
      ],
      "execution_count": 17,
      "outputs": [
        {
          "output_type": "stream",
          "text": [
            "3 9999999999\n",
            "3 6 8\n",
            "4999999994\n"
          ],
          "name": "stdout"
        }
      ]
    },
    {
      "cell_type": "code",
      "metadata": {
        "id": "sELqJ3w-ne1r"
      },
      "source": [
        ""
      ],
      "execution_count": null,
      "outputs": []
    }
  ]
}