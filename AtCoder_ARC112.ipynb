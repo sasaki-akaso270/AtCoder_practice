{
  "nbformat": 4,
  "nbformat_minor": 0,
  "metadata": {
    "colab": {
      "name": "AtCoder_ARC112.ipynb",
      "provenance": [],
      "authorship_tag": "ABX9TyPJ/ufeNjTkzrVrYetgV0Ey",
      "include_colab_link": true
    },
    "kernelspec": {
      "name": "python3",
      "display_name": "Python 3"
    }
  },
  "cells": [
    {
      "cell_type": "markdown",
      "metadata": {
        "id": "view-in-github",
        "colab_type": "text"
      },
      "source": [
        "<a href=\"https://colab.research.google.com/github/sasaki-akaso270/AtCoder_practice/blob/main/AtCoder_ARC112.ipynb\" target=\"_parent\"><img src=\"https://colab.research.google.com/assets/colab-badge.svg\" alt=\"Open In Colab\"/></a>"
      ]
    },
    {
      "cell_type": "code",
      "metadata": {
        "colab": {
          "base_uri": "https://localhost:8080/"
        },
        "id": "0805N2_0FS8s",
        "outputId": "becb68c1-a6ea-4646-f5e3-08df63da2d9f"
      },
      "source": [
        "#AtCoder ARC A問題\n",
        "N = int(input())\n",
        "a = list(map(int, input().split()))\n",
        "b = list(map(int, input().split()))\n",
        "tmp = a[0]\n",
        "res = a[0] * b[0]\n",
        "print(res)\n",
        "for i in range(1,N):\n",
        "  tmp = max(tmp,a[i])\n",
        "  res = max(res,tmp*b[i] )\n",
        "  print(res)\n"
      ],
      "execution_count": 23,
      "outputs": [
        {
          "output_type": "stream",
          "text": [
            "3\n",
            "3 2 20\n",
            "1 4 1\n",
            "3\n",
            "12\n",
            "20\n"
          ],
          "name": "stdout"
        }
      ]
    },
    {
      "cell_type": "code",
      "metadata": {
        "colab": {
          "base_uri": "https://localhost:8080/"
        },
        "id": "shlYEtWQF7T_",
        "outputId": "7fabd8c5-271c-4aa4-b583-4e4efd868768"
      },
      "source": [
        "#AtCoder ARC B問題\n",
        "import collections\n",
        "n , k = map(int, input().split())\n",
        "a = list(map(int, input().split()))\n",
        "res = 0\n",
        "index = 1\n",
        "count0 = a.count(0)\n",
        "d = collections.Counter(a)\n",
        "def maxcount(lst):\n",
        "  flag = True\n",
        "  while flag:\n",
        "    lstmax = max(lst) + 1\n",
        "    if len(lst) == lstmax:\n",
        "      flag = False\n",
        "    else:\n",
        "      lst.remove(lstmax-1)\n",
        "  return max(lst) + 1\n",
        "tmp = max(a)\n",
        "for i in range(count0):\n",
        "  keys2 = [k for k , v in d.items() if v >= index and k <= tmp]\n",
        "  tmp = maxcount(keys2)\n",
        "  index = index + 1\n",
        "  res = res + tmp\n",
        "print(res)"
      ],
      "execution_count": 55,
      "outputs": [
        {
          "output_type": "stream",
          "text": [
            "4 2\n",
            "0 0 1 2\n",
            "4\n"
          ],
          "name": "stdout"
        }
      ]
    }
  ]
}