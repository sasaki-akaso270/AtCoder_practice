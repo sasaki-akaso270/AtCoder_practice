{
  "nbformat": 4,
  "nbformat_minor": 0,
  "metadata": {
    "colab": {
      "name": "AtCoder.ipynb",
      "provenance": [],
      "collapsed_sections": [
        "qsWErXmnzNs2",
        "qn6TBQ3lW_4p",
        "7nBXBPTzhquU",
        "Btbc3KTgMIak",
        "YkJ8nF6Ju5A3",
        "SpwcG0Xswzfe",
        "A-VWNbiji2ed",
        "jSj4N1ts201q",
        "bQIPKfFcvyA9",
        "lxPuf48KBhVc",
        "rXMqRdGD2Dxi",
        "aQQxGO11ioBy",
        "8qpj2l7mYDMU",
        "6jwfKX8m8c7y",
        "9uo69KyIJNIK",
        "4TM4NaHMMmzw",
        "mPZ-I_-uCWTA",
        "B2fo8BKMqljk",
        "C2NnAy---cJC",
        "oevUIp_jyYDV",
        "dJwOZR82dLSf",
        "lqZ08Q-zlhTC",
        "KMZrX7RQuItA",
        "W8IMvj5Cn7BR",
        "rrvNGExEYumO",
        "fduwXcgxbcxq",
        "fsUI8MwhjXOW",
        "SRMvzZO1y3jB",
        "u9Z7M-SpsVyh"
      ],
      "authorship_tag": "ABX9TyOR48XPzOLs1RhYDInxxF7k",
      "include_colab_link": true
    },
    "kernelspec": {
      "name": "python3",
      "display_name": "Python 3"
    }
  },
  "cells": [
    {
      "cell_type": "markdown",
      "metadata": {
        "id": "view-in-github",
        "colab_type": "text"
      },
      "source": [
        "<a href=\"https://colab.research.google.com/github/sasaki-akaso270/AtCoder_practice/blob/main/AtCoder.ipynb\" target=\"_parent\"><img src=\"https://colab.research.google.com/assets/colab-badge.svg\" alt=\"Open In Colab\"/></a>"
      ]
    },
    {
      "cell_type": "markdown",
      "metadata": {
        "id": "qsWErXmnzNs2"
      },
      "source": [
        "#AtCoderABC130\n"
      ]
    },
    {
      "cell_type": "code",
      "metadata": {
        "colab": {
          "base_uri": "https://localhost:8080/"
        },
        "id": "5LmVeWfxzRos",
        "outputId": "64ef7ce4-4c06-42bc-d9a0-30d91cef7be7"
      },
      "source": [
        "#AtcoderABC130 A問題\n",
        "\n",
        "x , a = map(int, input().split())\n",
        "if x < a:\n",
        "  print(0)\n",
        "else:\n",
        "  print(10)\n"
      ],
      "execution_count": null,
      "outputs": [
        {
          "output_type": "stream",
          "text": [
            "6 6\n",
            "10\n"
          ],
          "name": "stdout"
        }
      ]
    },
    {
      "cell_type": "code",
      "metadata": {
        "colab": {
          "base_uri": "https://localhost:8080/"
        },
        "id": "HEfkifuMz44I",
        "outputId": "cd41317f-a60a-47e3-dbec-fdeb96636b82"
      },
      "source": [
        "#AtcoderABC130 B問題\n",
        "\n",
        "n , x = map(int, input().split())\n",
        "lst = list(map(int, input().split()))\n",
        "res = 1\n",
        "tmp = 0\n",
        "for i in range(n):\n",
        "  tmp = tmp + lst[i]\n",
        "  if tmp <= x:\n",
        "    res = res + 1\n",
        "print(res)"
      ],
      "execution_count": null,
      "outputs": [
        {
          "output_type": "stream",
          "text": [
            "4 9\n",
            "3 3 3 3\n",
            "3\n"
          ],
          "name": "stdout"
        }
      ]
    },
    {
      "cell_type": "code",
      "metadata": {
        "colab": {
          "base_uri": "https://localhost:8080/"
        },
        "id": "nWsPxtJ71mcD",
        "outputId": "1664da05-725d-49f3-cd45-1a73c8e1116e"
      },
      "source": [
        "#AtcoderABC130 C問題\n",
        "\n",
        "w , h,  x, y  = map(int, input().split())\n",
        "tmp = min(w - x , x -0) * h\n",
        "tmp2 = min(h-y , y-0) * w\n",
        "if tmp != 0 and tmp2 != 0:\n",
        "  if tmp == tmp2:\n",
        "    if \n",
        "    print(tmp, 1)\n",
        "  else:\n",
        "    print(max(tmp, tmp2) , 0)\n",
        "elif tmp == 0 and tmp2 == 0:\n",
        "  print(w * h * 0.5 , 0)\n",
        "elif tmp ==0:\n",
        "  print(tmp2, 0)\n",
        "else:\n",
        "  print(tmp , 0)\n"
      ],
      "execution_count": null,
      "outputs": [
        {
          "output_type": "stream",
          "text": [
            "2 2 1 1\n",
            "2 1\n"
          ],
          "name": "stdout"
        }
      ]
    },
    {
      "cell_type": "code",
      "metadata": {
        "colab": {
          "base_uri": "https://localhost:8080/",
          "height": 562
        },
        "id": "GnHqPW8Q6eXC",
        "outputId": "6989407b-a365-48fa-ae9c-4d9d823b364c"
      },
      "source": [
        "#AtcoderABC130 D問題\n",
        "n ,k  = map(int, input().split())\n",
        "alst = list(map(int, input().split()))\n",
        "res = 0\n",
        "tmp = 0\n",
        "for i in range(n):\n",
        "  tmp = alst[i]\n",
        "  for j in range(i+1,n):\n",
        "    tmp = tmp + alst[j]\n",
        "    if k <= tmp:\n",
        "      res += 1\n",
        "print(res)"
      ],
      "execution_count": null,
      "outputs": [
        {
          "output_type": "error",
          "ename": "KeyboardInterrupt",
          "evalue": "ignored",
          "traceback": [
            "\u001b[0;31m---------------------------------------------------------------------------\u001b[0m",
            "\u001b[0;31mKeyboardInterrupt\u001b[0m                         Traceback (most recent call last)",
            "\u001b[0;32m/usr/local/lib/python3.7/dist-packages/ipykernel/kernelbase.py\u001b[0m in \u001b[0;36m_input_request\u001b[0;34m(self, prompt, ident, parent, password)\u001b[0m\n\u001b[1;32m    728\u001b[0m             \u001b[0;32mtry\u001b[0m\u001b[0;34m:\u001b[0m\u001b[0;34m\u001b[0m\u001b[0;34m\u001b[0m\u001b[0m\n\u001b[0;32m--> 729\u001b[0;31m                 \u001b[0mident\u001b[0m\u001b[0;34m,\u001b[0m \u001b[0mreply\u001b[0m \u001b[0;34m=\u001b[0m \u001b[0mself\u001b[0m\u001b[0;34m.\u001b[0m\u001b[0msession\u001b[0m\u001b[0;34m.\u001b[0m\u001b[0mrecv\u001b[0m\u001b[0;34m(\u001b[0m\u001b[0mself\u001b[0m\u001b[0;34m.\u001b[0m\u001b[0mstdin_socket\u001b[0m\u001b[0;34m,\u001b[0m \u001b[0;36m0\u001b[0m\u001b[0;34m)\u001b[0m\u001b[0;34m\u001b[0m\u001b[0;34m\u001b[0m\u001b[0m\n\u001b[0m\u001b[1;32m    730\u001b[0m             \u001b[0;32mexcept\u001b[0m \u001b[0mException\u001b[0m\u001b[0;34m:\u001b[0m\u001b[0;34m\u001b[0m\u001b[0;34m\u001b[0m\u001b[0m\n",
            "\u001b[0;32m/usr/local/lib/python3.7/dist-packages/jupyter_client/session.py\u001b[0m in \u001b[0;36mrecv\u001b[0;34m(self, socket, mode, content, copy)\u001b[0m\n\u001b[1;32m    802\u001b[0m         \u001b[0;32mtry\u001b[0m\u001b[0;34m:\u001b[0m\u001b[0;34m\u001b[0m\u001b[0;34m\u001b[0m\u001b[0m\n\u001b[0;32m--> 803\u001b[0;31m             \u001b[0mmsg_list\u001b[0m \u001b[0;34m=\u001b[0m \u001b[0msocket\u001b[0m\u001b[0;34m.\u001b[0m\u001b[0mrecv_multipart\u001b[0m\u001b[0;34m(\u001b[0m\u001b[0mmode\u001b[0m\u001b[0;34m,\u001b[0m \u001b[0mcopy\u001b[0m\u001b[0;34m=\u001b[0m\u001b[0mcopy\u001b[0m\u001b[0;34m)\u001b[0m\u001b[0;34m\u001b[0m\u001b[0;34m\u001b[0m\u001b[0m\n\u001b[0m\u001b[1;32m    804\u001b[0m         \u001b[0;32mexcept\u001b[0m \u001b[0mzmq\u001b[0m\u001b[0;34m.\u001b[0m\u001b[0mZMQError\u001b[0m \u001b[0;32mas\u001b[0m \u001b[0me\u001b[0m\u001b[0;34m:\u001b[0m\u001b[0;34m\u001b[0m\u001b[0;34m\u001b[0m\u001b[0m\n",
            "\u001b[0;32m/usr/local/lib/python3.7/dist-packages/zmq/sugar/socket.py\u001b[0m in \u001b[0;36mrecv_multipart\u001b[0;34m(self, flags, copy, track)\u001b[0m\n\u001b[1;32m    582\u001b[0m         \"\"\"\n\u001b[0;32m--> 583\u001b[0;31m         \u001b[0mparts\u001b[0m \u001b[0;34m=\u001b[0m \u001b[0;34m[\u001b[0m\u001b[0mself\u001b[0m\u001b[0;34m.\u001b[0m\u001b[0mrecv\u001b[0m\u001b[0;34m(\u001b[0m\u001b[0mflags\u001b[0m\u001b[0;34m,\u001b[0m \u001b[0mcopy\u001b[0m\u001b[0;34m=\u001b[0m\u001b[0mcopy\u001b[0m\u001b[0;34m,\u001b[0m \u001b[0mtrack\u001b[0m\u001b[0;34m=\u001b[0m\u001b[0mtrack\u001b[0m\u001b[0;34m)\u001b[0m\u001b[0;34m]\u001b[0m\u001b[0;34m\u001b[0m\u001b[0;34m\u001b[0m\u001b[0m\n\u001b[0m\u001b[1;32m    584\u001b[0m         \u001b[0;31m# have first part already, only loop while more to receive\u001b[0m\u001b[0;34m\u001b[0m\u001b[0;34m\u001b[0m\u001b[0;34m\u001b[0m\u001b[0m\n",
            "\u001b[0;32mzmq/backend/cython/socket.pyx\u001b[0m in \u001b[0;36mzmq.backend.cython.socket.Socket.recv\u001b[0;34m()\u001b[0m\n",
            "\u001b[0;32mzmq/backend/cython/socket.pyx\u001b[0m in \u001b[0;36mzmq.backend.cython.socket.Socket.recv\u001b[0;34m()\u001b[0m\n",
            "\u001b[0;32mzmq/backend/cython/socket.pyx\u001b[0m in \u001b[0;36mzmq.backend.cython.socket._recv_copy\u001b[0;34m()\u001b[0m\n",
            "\u001b[0;32m/usr/local/lib/python3.7/dist-packages/zmq/backend/cython/checkrc.pxd\u001b[0m in \u001b[0;36mzmq.backend.cython.checkrc._check_rc\u001b[0;34m()\u001b[0m\n",
            "\u001b[0;31mKeyboardInterrupt\u001b[0m: ",
            "\nDuring handling of the above exception, another exception occurred:\n",
            "\u001b[0;31mKeyboardInterrupt\u001b[0m                         Traceback (most recent call last)",
            "\u001b[0;32m<ipython-input-8-6fefd85e9b50>\u001b[0m in \u001b[0;36m<module>\u001b[0;34m()\u001b[0m\n\u001b[1;32m      1\u001b[0m \u001b[0;31m#AtcoderABC130 D問題\u001b[0m\u001b[0;34m\u001b[0m\u001b[0;34m\u001b[0m\u001b[0;34m\u001b[0m\u001b[0m\n\u001b[0;32m----> 2\u001b[0;31m \u001b[0mn\u001b[0m \u001b[0;34m,\u001b[0m\u001b[0mk\u001b[0m  \u001b[0;34m=\u001b[0m \u001b[0mmap\u001b[0m\u001b[0;34m(\u001b[0m\u001b[0mint\u001b[0m\u001b[0;34m,\u001b[0m \u001b[0minput\u001b[0m\u001b[0;34m(\u001b[0m\u001b[0;34m)\u001b[0m\u001b[0;34m.\u001b[0m\u001b[0msplit\u001b[0m\u001b[0;34m(\u001b[0m\u001b[0;34m)\u001b[0m\u001b[0;34m)\u001b[0m\u001b[0;34m\u001b[0m\u001b[0;34m\u001b[0m\u001b[0m\n\u001b[0m\u001b[1;32m      3\u001b[0m \u001b[0malst\u001b[0m \u001b[0;34m=\u001b[0m \u001b[0mlist\u001b[0m\u001b[0;34m(\u001b[0m\u001b[0mmap\u001b[0m\u001b[0;34m(\u001b[0m\u001b[0mint\u001b[0m\u001b[0;34m,\u001b[0m \u001b[0minput\u001b[0m\u001b[0;34m(\u001b[0m\u001b[0;34m)\u001b[0m\u001b[0;34m.\u001b[0m\u001b[0msplit\u001b[0m\u001b[0;34m(\u001b[0m\u001b[0;34m)\u001b[0m\u001b[0;34m)\u001b[0m\u001b[0;34m)\u001b[0m\u001b[0;34m\u001b[0m\u001b[0;34m\u001b[0m\u001b[0m\n\u001b[1;32m      4\u001b[0m \u001b[0mres\u001b[0m \u001b[0;34m=\u001b[0m \u001b[0;36m0\u001b[0m\u001b[0;34m\u001b[0m\u001b[0;34m\u001b[0m\u001b[0m\n\u001b[1;32m      5\u001b[0m \u001b[0mtmp\u001b[0m \u001b[0;34m=\u001b[0m \u001b[0;36m0\u001b[0m\u001b[0;34m\u001b[0m\u001b[0;34m\u001b[0m\u001b[0m\n",
            "\u001b[0;32m/usr/local/lib/python3.7/dist-packages/ipykernel/kernelbase.py\u001b[0m in \u001b[0;36mraw_input\u001b[0;34m(self, prompt)\u001b[0m\n\u001b[1;32m    702\u001b[0m             \u001b[0mself\u001b[0m\u001b[0;34m.\u001b[0m\u001b[0m_parent_ident\u001b[0m\u001b[0;34m,\u001b[0m\u001b[0;34m\u001b[0m\u001b[0;34m\u001b[0m\u001b[0m\n\u001b[1;32m    703\u001b[0m             \u001b[0mself\u001b[0m\u001b[0;34m.\u001b[0m\u001b[0m_parent_header\u001b[0m\u001b[0;34m,\u001b[0m\u001b[0;34m\u001b[0m\u001b[0;34m\u001b[0m\u001b[0m\n\u001b[0;32m--> 704\u001b[0;31m             \u001b[0mpassword\u001b[0m\u001b[0;34m=\u001b[0m\u001b[0;32mFalse\u001b[0m\u001b[0;34m,\u001b[0m\u001b[0;34m\u001b[0m\u001b[0;34m\u001b[0m\u001b[0m\n\u001b[0m\u001b[1;32m    705\u001b[0m         )\n\u001b[1;32m    706\u001b[0m \u001b[0;34m\u001b[0m\u001b[0m\n",
            "\u001b[0;32m/usr/local/lib/python3.7/dist-packages/ipykernel/kernelbase.py\u001b[0m in \u001b[0;36m_input_request\u001b[0;34m(self, prompt, ident, parent, password)\u001b[0m\n\u001b[1;32m    732\u001b[0m             \u001b[0;32mexcept\u001b[0m \u001b[0mKeyboardInterrupt\u001b[0m\u001b[0;34m:\u001b[0m\u001b[0;34m\u001b[0m\u001b[0;34m\u001b[0m\u001b[0m\n\u001b[1;32m    733\u001b[0m                 \u001b[0;31m# re-raise KeyboardInterrupt, to truncate traceback\u001b[0m\u001b[0;34m\u001b[0m\u001b[0;34m\u001b[0m\u001b[0;34m\u001b[0m\u001b[0m\n\u001b[0;32m--> 734\u001b[0;31m                 \u001b[0;32mraise\u001b[0m \u001b[0mKeyboardInterrupt\u001b[0m\u001b[0;34m\u001b[0m\u001b[0;34m\u001b[0m\u001b[0m\n\u001b[0m\u001b[1;32m    735\u001b[0m             \u001b[0;32melse\u001b[0m\u001b[0;34m:\u001b[0m\u001b[0;34m\u001b[0m\u001b[0;34m\u001b[0m\u001b[0m\n\u001b[1;32m    736\u001b[0m                 \u001b[0;32mbreak\u001b[0m\u001b[0;34m\u001b[0m\u001b[0;34m\u001b[0m\u001b[0m\n",
            "\u001b[0;31mKeyboardInterrupt\u001b[0m: "
          ]
        }
      ]
    },
    {
      "cell_type": "markdown",
      "metadata": {
        "id": "qn6TBQ3lW_4p"
      },
      "source": [
        "#AtCoderABC131"
      ]
    },
    {
      "cell_type": "code",
      "metadata": {
        "colab": {
          "base_uri": "https://localhost:8080/"
        },
        "id": "DdWPyFbUXC66",
        "outputId": "65cb4348-2230-4486-ed05-86be2ac18658"
      },
      "source": [
        "#AtCoderABC131 A問題\n",
        "s = input()\n",
        "flag = 0\n",
        "\n",
        "for i in range(3):\n",
        "  if s[i] == s[i+1]:\n",
        "    flag = 1\n",
        "if flag:\n",
        "  print(\"Bad\")\n",
        "else:\n",
        "  print(\"Good\")"
      ],
      "execution_count": null,
      "outputs": [
        {
          "output_type": "stream",
          "text": [
            "8080\n",
            "Good\n"
          ],
          "name": "stdout"
        }
      ]
    },
    {
      "cell_type": "code",
      "metadata": {
        "colab": {
          "base_uri": "https://localhost:8080/"
        },
        "id": "LWo0d1AcXGZl",
        "outputId": "78fce9e7-4d8f-4517-a0d5-2f236264ceb7"
      },
      "source": [
        "#AtCoderABC131 B問題\n",
        "n , l = map(int, input().split())\n",
        "lst = [l + i for i in range(n)]\n",
        "if 0 in lst:\n",
        "  print(sum(lst))\n",
        "elif l < 0:\n",
        "  print(sum(lst) - max(lst))\n",
        "else:\n",
        "  print(sum(lst) - min(lst))\n"
      ],
      "execution_count": null,
      "outputs": [
        {
          "output_type": "stream",
          "text": [
            "30 -50\n",
            "-1044\n"
          ],
          "name": "stdout"
        }
      ]
    },
    {
      "cell_type": "code",
      "metadata": {
        "colab": {
          "base_uri": "https://localhost:8080/"
        },
        "id": "_aIHSRytXG0D",
        "outputId": "884aea1c-9092-4b06-ae89-3d56a15212ef"
      },
      "source": [
        "#AtCoderABC131 C問題\n",
        "import math\n",
        "a,b,c,d = map(int, input().split())\n",
        "tmp =  (b//c) - ((a-1)//c)\n",
        "tmp2 =  (b//d) - ((a-1)//d)\n",
        "tmp3 =  (b//((c*d)//math.gcd(c,d))) - ((a-1)//((c*d)//math.gcd(c,d)))\n",
        "res = b - a + 1 - tmp - tmp2 + tmp3\n",
        "print(res)"
      ],
      "execution_count": null,
      "outputs": [
        {
          "output_type": "stream",
          "text": [
            "314159265358979323 846264338327950288 419716939 937510582\n",
            "532105071133627368\n"
          ],
          "name": "stdout"
        }
      ]
    },
    {
      "cell_type": "code",
      "metadata": {
        "colab": {
          "base_uri": "https://localhost:8080/"
        },
        "id": "uROEwtNoXHCY",
        "outputId": "44a78047-35a3-4530-d262-015339b2bdd4"
      },
      "source": [
        "#AtCoderABC131 D問題\n",
        "import numpy as np\n",
        "n = int(input())\n",
        "lst = [list(map(int,input().split())) for i in range(n)]\n",
        "arr = np.array(lst)\n",
        "# arr = np.sort(arr, axis = 0)\n",
        "ind = np.argsort(arr[:, 1])\n",
        "now = 0\n",
        "flag = 0\n",
        "for i in ind:\n",
        "  tmp = arr[i,:]\n",
        "  now += tmp[0]\n",
        "  if now > tmp[1]:\n",
        "    flag = 1\n",
        "    break\n",
        "if flag:\n",
        "  print(\"No\") \n",
        "else:\n",
        "  print(\"Yes\")\n"
      ],
      "execution_count": null,
      "outputs": [
        {
          "output_type": "stream",
          "text": [
            "5\n",
            "1 8\n",
            "1 9\n",
            "4 9\n",
            "2 4\n",
            "3 12\n",
            "Yes\n"
          ],
          "name": "stdout"
        }
      ]
    },
    {
      "cell_type": "code",
      "metadata": {
        "colab": {
          "base_uri": "https://localhost:8080/"
        },
        "id": "qVmcvIhkn_Ds",
        "outputId": "d7dee27b-7113-47a0-f916-8923b4e8bdd2"
      },
      "source": [
        "lst"
      ],
      "execution_count": null,
      "outputs": [
        {
          "output_type": "execute_result",
          "data": {
            "text/plain": [
              "array([ 1.,  1.,  2.,  3.,  4.,  4.,  8.,  9.,  9., 12.])"
            ]
          },
          "metadata": {
            "tags": []
          },
          "execution_count": 53
        }
      ]
    },
    {
      "cell_type": "markdown",
      "metadata": {
        "id": "7nBXBPTzhquU"
      },
      "source": [
        "#AtCoderABC132"
      ]
    },
    {
      "cell_type": "code",
      "metadata": {
        "colab": {
          "base_uri": "https://localhost:8080/"
        },
        "id": "T-HCwKSGhtcD",
        "outputId": "317ebfb4-b8fd-4a3a-9560-dc7013bed80d"
      },
      "source": [
        "#AtCoderABC132 A問題\n",
        "s = input()\n",
        "sets = set(s)\n",
        "if len(sets) != 2:\n",
        "  print(\"No\")\n",
        "else:\n",
        "  if s.count(list(sets)[0]) == s.count(list(sets)[1]):\n",
        "    print(\"Yes\")\n",
        "  else:\n",
        "    print(\"No\")"
      ],
      "execution_count": null,
      "outputs": [
        {
          "output_type": "stream",
          "text": [
            "stop\n",
            "No\n"
          ],
          "name": "stdout"
        }
      ]
    },
    {
      "cell_type": "code",
      "metadata": {
        "colab": {
          "base_uri": "https://localhost:8080/"
        },
        "id": "H9By905LqxL3",
        "outputId": "9c24f194-1f51-484b-b3dd-f4b11e252b1f"
      },
      "source": [
        "#AtCoderABC132 B問題\n",
        "n = int(input())\n",
        "lst = list(map(int, input().split()))\n",
        "res = 0\n",
        "for i in range(n-2):\n",
        "  tmp1 = lst[i]\n",
        "  tmp2 = lst[i+1]\n",
        "  tmp3 = lst[i+2]\n",
        "  if tmp2 <= tmp3:\n",
        "    if tmp1 <= tmp2:\n",
        "      res += 1\n",
        "  else:\n",
        "    if tmp2 <= tmp1:\n",
        "      res += 1\n",
        "print(res)\n"
      ],
      "execution_count": null,
      "outputs": [
        {
          "output_type": "stream",
          "text": [
            "9\n",
            "9 6 3 2 5 8 7 4 1\n",
            "5\n"
          ],
          "name": "stdout"
        }
      ]
    },
    {
      "cell_type": "code",
      "metadata": {
        "colab": {
          "base_uri": "https://localhost:8080/"
        },
        "id": "eO4W0Rx0taRD",
        "outputId": "59cc10b5-e897-49d5-e45e-d02ecf01e59b"
      },
      "source": [
        "#AtCoderABC132 C問題\n",
        "n = int(input())\n",
        "halfn = int(n * 0.5)\n",
        "lst = list(map(int, input().split()))\n",
        "lst.sort()\n",
        "print(lst[halfn] - lst[halfn-1])"
      ],
      "execution_count": null,
      "outputs": [
        {
          "output_type": "stream",
          "text": [
            "14\n",
            "99592 10342 29105 78532 83018 11639 92015 77204 30914 21912 34519 80835 100000 1\n",
            "42685\n"
          ],
          "name": "stdout"
        }
      ]
    },
    {
      "cell_type": "markdown",
      "metadata": {
        "id": "Btbc3KTgMIak"
      },
      "source": [
        "#AtCoderABC133"
      ]
    },
    {
      "cell_type": "code",
      "metadata": {
        "colab": {
          "base_uri": "https://localhost:8080/"
        },
        "id": "ns2KZRzNMLg_",
        "outputId": "77928257-23ad-44d7-d0ea-de3be9851304"
      },
      "source": [
        "#AtCoderABC133 A問題\n",
        "n , a, b = map(int , input().split())\n",
        "print(min(n * a , b))"
      ],
      "execution_count": null,
      "outputs": [
        {
          "output_type": "stream",
          "text": [
            "4 2 9\n",
            "8\n"
          ],
          "name": "stdout"
        }
      ]
    },
    {
      "cell_type": "code",
      "metadata": {
        "colab": {
          "base_uri": "https://localhost:8080/"
        },
        "id": "Fin8FvkrNEYQ",
        "outputId": "2ef58ba8-2c5c-414c-decf-7eb8d3213983"
      },
      "source": [
        "#AtCodeerABC133 B問題\n",
        "n , d = map(int, input().split())\n",
        "lst = [list(map(int,input().split())) for i in range(n)]\n",
        "res = 0\n",
        "for i in range(n):\n",
        "  for j in range(i+1,n):\n",
        "    tmp = sum([ (lst[i][l] - lst[j][l]) ** 2 for l in range(d)])\n",
        "    tmp_root = tmp ** 0.5\n",
        "    if tmp_root.is_integer():\n",
        "      res += 1\n",
        "print(res)"
      ],
      "execution_count": null,
      "outputs": [
        {
          "output_type": "stream",
          "text": [
            "5 1\n",
            "1\n",
            "2\n",
            "3\n",
            "4\n",
            "5\n",
            "10\n"
          ],
          "name": "stdout"
        }
      ]
    },
    {
      "cell_type": "code",
      "metadata": {
        "colab": {
          "base_uri": "https://localhost:8080/"
        },
        "id": "TiPAsV8cPDXh",
        "outputId": "bbb5cd8c-d9dd-4e99-e84d-f2ba7ea2488b"
      },
      "source": [
        "#AtCoderABC133 C問題\n",
        "l, r = map(int, input().split())\n",
        "\n",
        "res = 2019\n",
        "if r-l+1 > 2018:\n",
        "  res = 0\n",
        "else:\n",
        "  for i in range(l,r):\n",
        "    tmpi = i % 2019\n",
        "    for j in range(i+1,r+1):\n",
        "      tmp = (tmpi*(j%2019)) % 2019\n",
        "      if res > tmp:\n",
        "        res = tmp\n",
        "print(res)\n",
        "# print(pow(res, 1 , 2019))\n",
        "\n",
        "\n",
        "\n",
        "  # lst = [pow(i,1,2019) for i in range(l,r+1)]\n",
        "  # lst3 = list(map(lambda x: x%3,lst))\n",
        "  # lst673 = list(map(lambda x: x%673,lst))\n",
        "  # if 0 in lst3 and 0 in lst673:\n",
        "  #   res = 0\n",
        "  # else:\n",
        "  #   lst.sort()\n",
        "  #   res = lst[1] * lst[0]"
      ],
      "execution_count": null,
      "outputs": [
        {
          "output_type": "stream",
          "text": [
            "2020 2040\n",
            "2\n"
          ],
          "name": "stdout"
        }
      ]
    },
    {
      "cell_type": "code",
      "metadata": {
        "colab": {
          "base_uri": "https://localhost:8080/"
        },
        "id": "ISboQbOoboG7",
        "outputId": "c058b60f-944b-43cf-b32f-53a291ef297c"
      },
      "source": [
        "pow(2,10,3)"
      ],
      "execution_count": null,
      "outputs": [
        {
          "output_type": "execute_result",
          "data": {
            "text/plain": [
              "1"
            ]
          },
          "metadata": {
            "tags": []
          },
          "execution_count": 38
        }
      ]
    },
    {
      "cell_type": "markdown",
      "metadata": {
        "id": "YkJ8nF6Ju5A3"
      },
      "source": [
        "#AtCoderABC134"
      ]
    },
    {
      "cell_type": "code",
      "metadata": {
        "colab": {
          "base_uri": "https://localhost:8080/"
        },
        "id": "ZDJ5ugiNwa7W",
        "outputId": "04a8a77c-e813-45da-f7e1-15fba745c7bc"
      },
      "source": [
        "#AtCoderABC134 A問題\n",
        "r = int(input())\n",
        "print(3* r * r)"
      ],
      "execution_count": null,
      "outputs": [
        {
          "output_type": "stream",
          "text": [
            "15\n",
            "675\n"
          ],
          "name": "stdout"
        }
      ]
    },
    {
      "cell_type": "code",
      "metadata": {
        "colab": {
          "base_uri": "https://localhost:8080/"
        },
        "id": "ffD4riFCw6IK",
        "outputId": "0be9dd00-e3ff-49ab-c194-767a3e11b5d5"
      },
      "source": [
        "#AtCoderABC134 B問題\n",
        "n,d = map(int, input().split())\n",
        "tmp = 2 * d + 1\n",
        "if n % tmp ==0:\n",
        "  print(n//tmp)\n",
        "else:\n",
        "  print(n// tmp + 1)"
      ],
      "execution_count": null,
      "outputs": [
        {
          "output_type": "stream",
          "text": [
            "20 4\n",
            "3\n"
          ],
          "name": "stdout"
        }
      ]
    },
    {
      "cell_type": "code",
      "metadata": {
        "colab": {
          "base_uri": "https://localhost:8080/"
        },
        "id": "sEZ4lVNHx5nS",
        "outputId": "d4342d14-5be9-4446-fa98-dd80a33f418a"
      },
      "source": [
        "#AtCoderABC134 C問題\n",
        "n = int(input())\n",
        "lst = [int(input()) for i in range(n)]\n",
        "maxval = max(lst)\n",
        "maxind = lst.index(maxval)\n",
        "for i in range(n):\n",
        "  if i != maxind:\n",
        "    print(maxval)\n",
        "  else:\n",
        "    a = lst.pop(maxind)\n",
        "    print(max(lst))"
      ],
      "execution_count": null,
      "outputs": [
        {
          "output_type": "stream",
          "text": [
            "2\n",
            "5\n",
            "5\n",
            "5\n",
            "5\n"
          ],
          "name": "stdout"
        }
      ]
    },
    {
      "cell_type": "markdown",
      "metadata": {
        "id": "SpwcG0Xswzfe"
      },
      "source": [
        "#AtCoderABC135\n"
      ]
    },
    {
      "cell_type": "code",
      "metadata": {
        "colab": {
          "base_uri": "https://localhost:8080/"
        },
        "id": "oELOzcdSw3Zb",
        "outputId": "e8ebe4b3-74ea-488d-d1a8-8dfc36fbc2ed"
      },
      "source": [
        "#AtCoderABC135 A問題\n",
        "a,b = map(int, input().split())\n",
        "tmp  = abs(b-a)\n",
        "if tmp % 2 == 0:\n",
        "  print(int(min(a,b)+tmp/2))\n",
        "else:\n",
        "  print(\"IMPOSSIBLE\")\n"
      ],
      "execution_count": null,
      "outputs": [
        {
          "output_type": "stream",
          "text": [
            "4 1\n",
            "IMPOSSIBLE\n"
          ],
          "name": "stdout"
        }
      ]
    },
    {
      "cell_type": "code",
      "metadata": {
        "id": "dMAXfaflJucn",
        "colab": {
          "base_uri": "https://localhost:8080/"
        },
        "outputId": "933d8b79-204d-4018-85e6-2a9b35aefc9a"
      },
      "source": [
        "#AtCoderABC135 B問題\n",
        "n = int(input())\n",
        "lst = list(map(int, input().split()))\n",
        "flag = 0\n",
        "for i in range(n):\n",
        "  if lst[i] != i+1:\n",
        "    flag += 1\n",
        "\n",
        "if flag <= 2:\n",
        "  print(\"YES\")\n",
        "else:\n",
        "  print(\"NO\")"
      ],
      "execution_count": null,
      "outputs": [
        {
          "output_type": "stream",
          "text": [
            "7\n",
            "1 2 3 4 5 6 7\n",
            "YES\n"
          ],
          "name": "stdout"
        }
      ]
    },
    {
      "cell_type": "code",
      "metadata": {
        "colab": {
          "base_uri": "https://localhost:8080/"
        },
        "id": "4PB0HnFEQ9VU",
        "outputId": "4fa2f5d4-a116-4401-ad7a-94cce47264f9"
      },
      "source": [
        "#AtCoderABC135 C問題\n",
        "n = int(input())\n",
        "lstA = list(map(int, input().split()))\n",
        "lstB = list(map(int, input().split()))\n",
        "\n",
        "res = 0\n",
        "tmp = 0\n",
        "for i in range(n):\n",
        "  if lstA[i] > tmp:\n",
        "    lstA[i] = lstA[i] - tmp\n",
        "    res += tmp\n",
        "    if lstA[i] < lstB[i]:\n",
        "      res += lstA[i]\n",
        "      tmp = lstB[i] -lstA[i]\n",
        "    else:\n",
        "      res += lstB[i]\n",
        "      tmp = 0\n",
        "  else:\n",
        "    res += lstA[i]\n",
        "    lstA[i] = 0\n",
        "    tmp = lstB[i]\n",
        "\n",
        "print(res + min(tmp, lstA[n]))  "
      ],
      "execution_count": null,
      "outputs": [
        {
          "output_type": "stream",
          "text": [
            "2\n",
            "3 5 2\n",
            "4 5\n",
            "9\n"
          ],
          "name": "stdout"
        }
      ]
    },
    {
      "cell_type": "markdown",
      "metadata": {
        "id": "A-VWNbiji2ed"
      },
      "source": [
        "#AtCoderABC136"
      ]
    },
    {
      "cell_type": "code",
      "metadata": {
        "colab": {
          "base_uri": "https://localhost:8080/"
        },
        "id": "n4suPy1VlEfa",
        "outputId": "73b1b030-e33d-4a0e-a66a-a89917e3a65c"
      },
      "source": [
        "#AtCoderABC136　A問題\n",
        "a,b,c = map(int, input().split())\n",
        "if a-b >c:\n",
        "  print(0)\n",
        "else:\n",
        "  print(c-a+b)"
      ],
      "execution_count": null,
      "outputs": [
        {
          "output_type": "stream",
          "text": [
            "12 3 7\n",
            "0\n"
          ],
          "name": "stdout"
        }
      ]
    },
    {
      "cell_type": "code",
      "metadata": {
        "colab": {
          "base_uri": "https://localhost:8080/"
        },
        "id": "Hnaco7LPqbga",
        "outputId": "0f1507ab-3e8b-46cf-e8fd-29c9da8dae41"
      },
      "source": [
        "#AtCoderABC136 B問題\n",
        "n = int(input())\n",
        "res = 0\n",
        "for i in range(1,n+1):\n",
        "  if len(str(i)) % 2 != 0:\n",
        "    res += 1\n",
        "print(res)"
      ],
      "execution_count": null,
      "outputs": [
        {
          "output_type": "stream",
          "text": [
            "100000\n",
            "90909\n"
          ],
          "name": "stdout"
        }
      ]
    },
    {
      "cell_type": "code",
      "metadata": {
        "colab": {
          "base_uri": "https://localhost:8080/"
        },
        "id": "URth-nKxq_TR",
        "outputId": "386e2659-d22a-4a97-80fb-8f3501dc4ec5"
      },
      "source": [
        "#AtCoderABC136 C問題\n",
        "n = int(input())\n",
        "lst = list(map(int, input().split()))\n",
        "if n == 1:\n",
        "  print(\"Yes\")\n",
        "else:\n",
        "  flag = 0\n",
        "  for i in range(n-1):\n",
        "    tmp = lst[i]\n",
        "    if tmp > lst[i+1]:\n",
        "      flag = 1\n",
        "      break\n",
        "    elif tmp < lst[i+1]:\n",
        "      lst[i+1] = lst[i+1] - 1\n",
        "\n",
        "  if flag:\n",
        "    print(\"No\")\n",
        "  else:\n",
        "    print(\"Yes\")\n"
      ],
      "execution_count": null,
      "outputs": [
        {
          "output_type": "stream",
          "text": [
            "5\n",
            "1 2 1 1 3\n",
            "[1, 2, 1, 1, 3]\n",
            "[1, 1, 1, 1, 3]\n",
            "[1, 1, 1, 1, 3]\n",
            "[1, 1, 1, 1, 3]\n",
            "Yes\n"
          ],
          "name": "stdout"
        }
      ]
    },
    {
      "cell_type": "markdown",
      "metadata": {
        "id": "jSj4N1ts201q"
      },
      "source": [
        "#AtCoderABC137"
      ]
    },
    {
      "cell_type": "code",
      "metadata": {
        "colab": {
          "base_uri": "https://localhost:8080/"
        },
        "id": "T-QczgvJ24nq",
        "outputId": "360b4c46-4ce5-42e4-cd38-0e2a2cd74a73"
      },
      "source": [
        "#AtCoderABC137 A問題\n",
        "a,b= map(int, input().split())\n",
        "tmp = [a+b , a-b , a*b]\n",
        "print(max(tmp))"
      ],
      "execution_count": null,
      "outputs": [
        {
          "output_type": "stream",
          "text": [
            "13 3\n",
            "39\n"
          ],
          "name": "stdout"
        }
      ]
    },
    {
      "cell_type": "code",
      "metadata": {
        "colab": {
          "base_uri": "https://localhost:8080/"
        },
        "id": "KjMhF7JQ7HXm",
        "outputId": "604dc94a-fc11-4a13-e63b-427b668d865c"
      },
      "source": [
        "#AtCoderABC137 B問題\n",
        "k , x = map(int , input().split())\n",
        "lst = [str(x-k+1+i) for i in range(2*k-1)]\n",
        "print(\" \".join(lst))"
      ],
      "execution_count": null,
      "outputs": [
        {
          "output_type": "stream",
          "text": [
            "3 7\n",
            "5 6 7 8 9\n"
          ],
          "name": "stdout"
        }
      ]
    },
    {
      "cell_type": "code",
      "metadata": {
        "colab": {
          "base_uri": "https://localhost:8080/"
        },
        "id": "H-VG0i3V81IC",
        "outputId": "33ed520b-6413-44df-903a-341393c176db"
      },
      "source": [
        "#AtCoderABC137 C問題(間に合わなかった)\n",
        "n = int(input())\n",
        "lst = [sorted(input()) for i in range(n)]\n",
        "res = 0\n",
        "for i in range(n-1):\n",
        "  for j in range(i+1,n):\n",
        "    if lst[i]==lst[j]:\n",
        "      res += 1\n",
        "print(res)"
      ],
      "execution_count": null,
      "outputs": [
        {
          "output_type": "stream",
          "text": [
            "5\n",
            "abaaaaaaaa\n",
            "oneplustwo\n",
            "aaaaaaaaba\n",
            "twoplusone\n",
            "aaaabaaaaa\n",
            "4\n"
          ],
          "name": "stdout"
        }
      ]
    },
    {
      "cell_type": "code",
      "metadata": {
        "colab": {
          "base_uri": "https://localhost:8080/"
        },
        "id": "jq92n5WO-bMS",
        "outputId": "6e39816b-2e9e-44e2-a5b3-e977ab981334"
      },
      "source": [
        ""
      ],
      "execution_count": null,
      "outputs": [
        {
          "output_type": "execute_result",
          "data": {
            "text/plain": [
              "True"
            ]
          },
          "metadata": {
            "tags": []
          },
          "execution_count": 15
        }
      ]
    },
    {
      "cell_type": "markdown",
      "metadata": {
        "id": "bQIPKfFcvyA9"
      },
      "source": [
        "#AtCoderABC138"
      ]
    },
    {
      "cell_type": "code",
      "metadata": {
        "colab": {
          "base_uri": "https://localhost:8080/"
        },
        "id": "koPuOpzZv2Fe",
        "outputId": "55293c41-ae24-469e-d7b4-6416d05d6108"
      },
      "source": [
        "#AtCoderABC138 A問題\n",
        "a = int(input())\n",
        "s = input()\n",
        "if a < 3200:\n",
        "  print(\"red\")\n",
        "else:\n",
        "  print(s)"
      ],
      "execution_count": null,
      "outputs": [
        {
          "output_type": "stream",
          "text": [
            "3200\n",
            "pinl\n",
            "pinl\n"
          ],
          "name": "stdout"
        }
      ]
    },
    {
      "cell_type": "code",
      "metadata": {
        "colab": {
          "base_uri": "https://localhost:8080/"
        },
        "id": "2cdHL9L6wX1b",
        "outputId": "06f26663-a3a9-4d72-a72d-904afebef1d5"
      },
      "source": [
        "#AtCoderABC138 B問題\n",
        "n = int(input())\n",
        "lst = list(map(lambda x: 1/x , list(map(int,input().split()))))\n",
        "print(1/sum(lst))"
      ],
      "execution_count": null,
      "outputs": [
        {
          "output_type": "stream",
          "text": [
            "1\n",
            "1000\n",
            "1000.0\n"
          ],
          "name": "stdout"
        }
      ]
    },
    {
      "cell_type": "code",
      "metadata": {
        "colab": {
          "base_uri": "https://localhost:8080/"
        },
        "id": "Mzk2X9-nxGNA",
        "outputId": "3f555f44-6f25-45cc-8e59-bdbad318f00e"
      },
      "source": [
        "#ArCoderABC138 C問題\n",
        "n = int(input())\n",
        "lst = list(map(int, input().split()))\n",
        "res = lst.pop(lst.index(min(lst))) / (2**(n-1))\n",
        "for i in range(n-1,0,-1):\n",
        "  res += lst.pop(lst.index(min(lst))) / (2**(i))\n",
        "print(res)"
      ],
      "execution_count": null,
      "outputs": [
        {
          "output_type": "stream",
          "text": [
            "5\n",
            "138 138 138 138 138\n",
            "138.0\n"
          ],
          "name": "stdout"
        }
      ]
    },
    {
      "cell_type": "markdown",
      "metadata": {
        "id": "lxPuf48KBhVc"
      },
      "source": [
        "#AtCoderABC139"
      ]
    },
    {
      "cell_type": "code",
      "metadata": {
        "colab": {
          "base_uri": "https://localhost:8080/"
        },
        "id": "q5GmThVVBkYm",
        "outputId": "18d632f2-ff9a-4f76-bea8-ca0f6b795a0f"
      },
      "source": [
        "#AtCoderABC139 A問題\n",
        "s = input()\n",
        "t = input()\n",
        "res = 0\n",
        "for i in range(3):\n",
        "  if s[i] == t[i]:\n",
        "    res += 1\n",
        "print(res)"
      ],
      "execution_count": null,
      "outputs": [
        {
          "output_type": "stream",
          "text": [
            "RRR\n",
            "SSS\n",
            "0\n"
          ],
          "name": "stdout"
        }
      ]
    },
    {
      "cell_type": "code",
      "metadata": {
        "colab": {
          "base_uri": "https://localhost:8080/"
        },
        "id": "o3vhHlwwB6W6",
        "outputId": "2ed1f99b-c04a-465f-9335-2419f9df8b0c"
      },
      "source": [
        "#AtCoderABC139 B問題\n",
        "import math\n",
        "a,b = map(int, input().split())\n",
        "print(math.ceil((b-a)/(a-1))+1)"
      ],
      "execution_count": null,
      "outputs": [
        {
          "output_type": "stream",
          "text": [
            "8 8 \n",
            "1\n"
          ],
          "name": "stdout"
        }
      ]
    },
    {
      "cell_type": "code",
      "metadata": {
        "colab": {
          "base_uri": "https://localhost:8080/"
        },
        "id": "RQcpap9YIohH",
        "outputId": "ce69c237-80a7-416a-8416-cff437d36a42"
      },
      "source": [
        "#AtCoderABC139 C問題\n",
        "n = int(input())\n",
        "lst = list(map(int, input().split()))\n",
        "tmp = lst[0]\n",
        "res = 0\n",
        "tmp2 = 0\n",
        "for i in range(1,n):\n",
        "  if lst[i] <= tmp:\n",
        "    tmp2 += 1\n",
        "  else:\n",
        "    tmp2 = 0\n",
        "  if tmp2 > res:\n",
        "    res = tmp2\n",
        "  tmp = lst[i]\n",
        "print(res)"
      ],
      "execution_count": null,
      "outputs": [
        {
          "output_type": "stream",
          "text": [
            "4\n",
            "1 2 3 4\n",
            "0\n"
          ],
          "name": "stdout"
        }
      ]
    },
    {
      "cell_type": "markdown",
      "metadata": {
        "id": "rXMqRdGD2Dxi"
      },
      "source": [
        "#AtCoderABC140"
      ]
    },
    {
      "cell_type": "code",
      "metadata": {
        "colab": {
          "base_uri": "https://localhost:8080/"
        },
        "id": "zBquVelC2HH4",
        "outputId": "e029e076-17fc-4566-d931-26279b193866"
      },
      "source": [
        "#AtCoderABC140 A問題\n",
        "print(int(input())**3)"
      ],
      "execution_count": null,
      "outputs": [
        {
          "output_type": "stream",
          "text": [
            "1\n",
            "1\n"
          ],
          "name": "stdout"
        }
      ]
    },
    {
      "cell_type": "code",
      "metadata": {
        "colab": {
          "base_uri": "https://localhost:8080/"
        },
        "id": "gLlY2MjQ2a9F",
        "outputId": "2676b128-48da-45f4-8425-7fec46dccf5d"
      },
      "source": [
        "#AtCoderABC140 B問題\n",
        "n = int(input())\n",
        "lsta = list(map(int, input().split()))\n",
        "res = sum(list(map(int, input().split())))\n",
        "lstc = list(map(int, input().split()))\n",
        "\n",
        "for i in range(n-1):\n",
        "  tmp = lsta[i]\n",
        "  if lsta[i+1] == tmp + 1:\n",
        "    res += lstc[tmp-1]\n",
        "print(res)"
      ],
      "execution_count": null,
      "outputs": [
        {
          "output_type": "stream",
          "text": [
            "2\n",
            "1 2\n",
            "50 50\n",
            "50\n",
            "150\n"
          ],
          "name": "stdout"
        }
      ]
    },
    {
      "cell_type": "code",
      "metadata": {
        "colab": {
          "base_uri": "https://localhost:8080/"
        },
        "id": "PSEKG1OD4i-H",
        "outputId": "eeb7c0ab-f199-47ed-979d-3aca8637e15c"
      },
      "source": [
        "#AtCoderABC140 C問題\n",
        "n = int(input())\n",
        "lstb = list(map(int, input().split()))\n",
        "if n == 2:\n",
        "  print(lstb[0]*2)\n",
        "else:\n",
        "  res = lstb[0] \n",
        "  for i in range(n-2):\n",
        "    tmp = lstb[i]\n",
        "    if tmp > lstb[i+1]:\n",
        "      res += lstb[i+1]\n",
        "    else:\n",
        "      res += tmp\n",
        "  res += lstb[n-2]\n",
        "  print(res)\n",
        "\n"
      ],
      "execution_count": null,
      "outputs": [
        {
          "output_type": "stream",
          "text": [
            "3\n",
            "5 0\n",
            "5\n"
          ],
          "name": "stdout"
        }
      ]
    },
    {
      "cell_type": "markdown",
      "metadata": {
        "id": "aQQxGO11ioBy"
      },
      "source": [
        "#AtCoderABC141"
      ]
    },
    {
      "cell_type": "code",
      "metadata": {
        "colab": {
          "base_uri": "https://localhost:8080/"
        },
        "id": "RcVqjhkqip8C",
        "outputId": "1b374441-14da-4e6e-8a64-dc1b8cf81788"
      },
      "source": [
        "#AtCoderABC141 A問題\n",
        "s = input()\n",
        "if s[0] == \"S\":\n",
        "  print(\"Cloudy\")\n",
        "elif s[0] == \"C\":\n",
        "  print(\"Rainy\")\n",
        "else:\n",
        "  print(\"Sunny\")"
      ],
      "execution_count": null,
      "outputs": [
        {
          "output_type": "stream",
          "text": [
            "Rainy\n",
            "Sunny\n"
          ],
          "name": "stdout"
        }
      ]
    },
    {
      "cell_type": "code",
      "metadata": {
        "colab": {
          "base_uri": "https://localhost:8080/"
        },
        "id": "2XKfXcn9jIG5",
        "outputId": "7bcdb981-9690-4b7a-cb6d-5f6ee44e10ff"
      },
      "source": [
        "#AtCoderABC141 B問題\n",
        "s = input()\n",
        "flag_odd = 1\n",
        "flag_even = 1\n",
        "for i in range(len(s)):\n",
        "  if i % 2 == 0 and s[i] ==\"L\" :\n",
        "    flag_odd = 0\n",
        "  if i % 2 == 1 and s[i] == \"R\":\n",
        "    flag_even = 0\n",
        "if flag_even * flag_odd == 1:\n",
        "  print(\"Yes\")\n",
        "else:\n",
        "  print(\"No\")\n"
      ],
      "execution_count": null,
      "outputs": [
        {
          "output_type": "stream",
          "text": [
            "RDULULDURURLRDULRLR\n",
            "Yes\n"
          ],
          "name": "stdout"
        }
      ]
    },
    {
      "cell_type": "code",
      "metadata": {
        "colab": {
          "base_uri": "https://localhost:8080/"
        },
        "id": "tcBAliqtkxVI",
        "outputId": "76db23ff-9876-4142-fc9f-5a786f46bdec"
      },
      "source": [
        "#AtCoderABC141 C問題\n",
        "n, k , q = map(int, input().split())\n",
        "lst = [k-q for i in range(n)]\n",
        "for i in range(q):\n",
        "  lst[int(input())-1] += 1\n",
        "for i in range(n):\n",
        "  if lst[i] <= 0:\n",
        "    print(\"No\") \n",
        "  else:\n",
        "    print(\"Yes\")"
      ],
      "execution_count": null,
      "outputs": [
        {
          "output_type": "stream",
          "text": [
            "10 13 15\n",
            "3\n",
            "1\n",
            "4\n",
            "1\n",
            "5\n",
            "9\n",
            "2\n",
            "6\n",
            "5\n",
            "3\n",
            "5\n",
            "8\n",
            "9\n",
            "7\n",
            "9\n",
            "No\n",
            "No\n",
            "No\n",
            "No\n",
            "Yes\n",
            "No\n",
            "No\n",
            "No\n",
            "Yes\n",
            "No\n"
          ],
          "name": "stdout"
        }
      ]
    },
    {
      "cell_type": "markdown",
      "metadata": {
        "id": "8qpj2l7mYDMU"
      },
      "source": [
        "#AtCoderABC142"
      ]
    },
    {
      "cell_type": "code",
      "metadata": {
        "colab": {
          "base_uri": "https://localhost:8080/"
        },
        "id": "DaCl7_eSYFXt",
        "outputId": "7c2ce06d-2cdf-4875-933a-fb1b010fdcf8"
      },
      "source": [
        "#AtCoderABC142 A問題\n",
        "import math\n",
        "n = int(input())\n",
        "print(math.ceil(n/2) /n)"
      ],
      "execution_count": null,
      "outputs": [
        {
          "output_type": "stream",
          "text": [
            "1\n",
            "1.0\n"
          ],
          "name": "stdout"
        }
      ]
    },
    {
      "cell_type": "code",
      "metadata": {
        "colab": {
          "base_uri": "https://localhost:8080/"
        },
        "id": "Y5oRcbyrYIQY",
        "outputId": "51e680d4-e37c-45ba-eb69-ae6f23291720"
      },
      "source": [
        "#AtCoderABC142 B問題\n",
        "n , k = map(int, input().split())\n",
        "lst = list(map(int, input().split()))\n",
        "res = 0\n",
        "for i in range(n):\n",
        "  if k <= lst[i]:\n",
        "    res += 1\n",
        "print(res)"
      ],
      "execution_count": null,
      "outputs": [
        {
          "output_type": "stream",
          "text": [
            "1 500\n",
            "499\n",
            "0\n"
          ],
          "name": "stdout"
        }
      ]
    },
    {
      "cell_type": "code",
      "metadata": {
        "colab": {
          "base_uri": "https://localhost:8080/"
        },
        "id": "kg2LXNnoYIHA",
        "outputId": "573a869a-2730-4c30-f3cb-654046c0d478"
      },
      "source": [
        "#AtCoderABC142 C問題\n",
        "n = int(input())\n",
        "lst = list(map(int, input().split()))\n",
        "res = [0 for i in range(n)]\n",
        "for i in range(n):\n",
        "  res[lst[i]-1] = str(i+1)\n",
        "print(\" \".join(res))"
      ],
      "execution_count": null,
      "outputs": [
        {
          "output_type": "stream",
          "text": [
            "3\n",
            "2 3 1\n",
            "3 1 2\n"
          ],
          "name": "stdout"
        }
      ]
    },
    {
      "cell_type": "markdown",
      "metadata": {
        "id": "6jwfKX8m8c7y"
      },
      "source": [
        "#AtCoderABC143"
      ]
    },
    {
      "cell_type": "code",
      "metadata": {
        "colab": {
          "base_uri": "https://localhost:8080/"
        },
        "id": "U2YVQFF_8hAb",
        "outputId": "c55dc404-0da8-45e9-c07b-9935f18a9915"
      },
      "source": [
        "#AtCoderABC143 A問題\n",
        "a,b = map(int, input().split())\n",
        "if b*2 - a >= 0:\n",
        "  print(0)\n",
        "else:\n",
        "  print(a - b*2)"
      ],
      "execution_count": null,
      "outputs": [
        {
          "output_type": "stream",
          "text": [
            "12 4\n",
            "4\n"
          ],
          "name": "stdout"
        }
      ]
    },
    {
      "cell_type": "code",
      "metadata": {
        "colab": {
          "base_uri": "https://localhost:8080/"
        },
        "id": "mLM0K_C0BDHo",
        "outputId": "fb7e9884-dd42-435d-fd40-e6b18e1fe3e1"
      },
      "source": [
        "#AtCoderABC143 B問題\n",
        "n = int(input())\n",
        "lst = list(map(int, input().split()))\n",
        "res = 0\n",
        "for i in range(n-1):\n",
        "  for j in  range(i+1,n):\n",
        "    res += lst[i] * lst[j]\n",
        "print(res)"
      ],
      "execution_count": null,
      "outputs": [
        {
          "output_type": "stream",
          "text": [
            "7\n",
            "5 0 7 8 3 3 2\n",
            "312\n"
          ],
          "name": "stdout"
        }
      ]
    },
    {
      "cell_type": "code",
      "metadata": {
        "colab": {
          "base_uri": "https://localhost:8080/"
        },
        "id": "WRjq3zz2DwJL",
        "outputId": "8b90a610-3fa8-4719-b420-b0eaeea7c526"
      },
      "source": [
        "#AtCoderABC143 C問題\n",
        "n = int(input())\n",
        "s = input()\n",
        "cnt = 0\n",
        "for i in range(n-1):\n",
        "  if s[i] == s[i+1]:\n",
        "    cnt += 1\n",
        "print(n-cnt)"
      ],
      "execution_count": null,
      "outputs": [
        {
          "output_type": "stream",
          "text": [
            "20\n",
            "xxzaffeeeeddfkkkkllq\n",
            "10\n"
          ],
          "name": "stdout"
        }
      ]
    },
    {
      "cell_type": "code",
      "metadata": {
        "colab": {
          "base_uri": "https://localhost:8080/"
        },
        "id": "dJYBlAHWFeY5",
        "outputId": "70cc3d0b-6694-4d4c-9629-153997fb529d"
      },
      "source": [
        "#AtCoderABC143 D問題\n",
        "n = int(input())\n",
        "lst = list(map(int, input().split()))\n",
        "lst.sort()\n",
        "res = 0\n",
        "for i in range(n-2):\n",
        "  for j in range(i+1,n-1):\n",
        "    for l in range(j+1,n):\n",
        "      if lst[i] + lst[j] > lst[l]:\n",
        "        res += 1\n",
        "print(res)"
      ],
      "execution_count": null,
      "outputs": [
        {
          "output_type": "stream",
          "text": [
            "7\n",
            "218 786 704 233 645 728 389\n",
            "23\n"
          ],
          "name": "stdout"
        }
      ]
    },
    {
      "cell_type": "markdown",
      "metadata": {
        "id": "9uo69KyIJNIK"
      },
      "source": [
        "#AtCoderABC144"
      ]
    },
    {
      "cell_type": "code",
      "metadata": {
        "colab": {
          "base_uri": "https://localhost:8080/"
        },
        "id": "GJdn1VM3Jikb",
        "outputId": "8eb258f6-5071-4ae8-893d-ae7db4d4e505"
      },
      "source": [
        "#AtCoder144ABC A問題\n",
        "a,b = map(int, input().split())\n",
        "if 1 <= a <= 9 and 1 <= b <= 9:\n",
        "  print(a * b)\n",
        "else:\n",
        "  print(-1)"
      ],
      "execution_count": null,
      "outputs": [
        {
          "output_type": "stream",
          "text": [
            "9 9 \n",
            "81\n"
          ],
          "name": "stdout"
        }
      ]
    },
    {
      "cell_type": "code",
      "metadata": {
        "colab": {
          "base_uri": "https://localhost:8080/"
        },
        "id": "V-Ex7NqGJlfF",
        "outputId": "66c6499b-3877-4a3d-805e-0896b7b7b5a5"
      },
      "source": [
        "#AtCoder144ABC B問題\n",
        "n = int(input())\n",
        "lst = [i * j for i in range(1,10) for j in range(1,10)]\n",
        "if n in lst:\n",
        "  print(\"Yes\")\n",
        "else:\n",
        "  print(\"No\")"
      ],
      "execution_count": null,
      "outputs": [
        {
          "output_type": "stream",
          "text": [
            "100\n",
            "No\n"
          ],
          "name": "stdout"
        }
      ]
    },
    {
      "cell_type": "code",
      "metadata": {
        "colab": {
          "base_uri": "https://localhost:8080/"
        },
        "id": "7Sc95ooyJnzN",
        "outputId": "e52835d7-1b97-43a8-8911-022b654098a5"
      },
      "source": [
        "#AtCoder144ABC C問題\n",
        "n = int(input())\n",
        "res = n-1\n",
        "i = 1\n",
        "while i * i <= n:\n",
        "  if n % i == 0:\n",
        "    tmp = n // i + i\n",
        "    if tmp < res:\n",
        "      res = tmp\n",
        "  i += 1\n",
        "if res  == n-1:\n",
        "  print(res)\n",
        "else:\n",
        "  print(res - 2)"
      ],
      "execution_count": null,
      "outputs": [
        {
          "output_type": "stream",
          "text": [
            "10000000019\n",
            "10000000018\n"
          ],
          "name": "stdout"
        }
      ]
    },
    {
      "cell_type": "code",
      "metadata": {
        "colab": {
          "base_uri": "https://localhost:8080/"
        },
        "id": "tZNt3aIKN4Kw",
        "outputId": "fca6efcb-439c-4e45-822e-c423d82824c7"
      },
      "source": [
        "#AtCoderABC144 D問題\n",
        "import math\n",
        "a,b,x = map(int, input().split())\n",
        "if a*a*b <= 2*x:\n",
        "  res = math.atan(2*(a*a*b - x) / (a*a*a))\n",
        "  print(math.degrees(res))\n",
        "else:\n",
        "  res = math.atan((b*b*a) / (2*x))\n",
        "  print(math.degrees(res))"
      ],
      "execution_count": null,
      "outputs": [
        {
          "output_type": "stream",
          "text": [
            "3 1 8\n",
            "4.23639479905884\n"
          ],
          "name": "stdout"
        }
      ]
    },
    {
      "cell_type": "markdown",
      "metadata": {
        "id": "4TM4NaHMMmzw"
      },
      "source": [
        "#AtCoderABC145"
      ]
    },
    {
      "cell_type": "code",
      "metadata": {
        "colab": {
          "base_uri": "https://localhost:8080/"
        },
        "id": "fuhlHw8sMq94",
        "outputId": "c7a80db4-f7f1-4f15-9b61-bc671f59344c"
      },
      "source": [
        "#AtCoderABC145 A問題\n",
        "r = int(input())\n",
        "print(r**2)"
      ],
      "execution_count": null,
      "outputs": [
        {
          "output_type": "stream",
          "text": [
            "100\n",
            "10000\n"
          ],
          "name": "stdout"
        }
      ]
    },
    {
      "cell_type": "code",
      "metadata": {
        "colab": {
          "base_uri": "https://localhost:8080/"
        },
        "id": "XdEM2ILIf4X7",
        "outputId": "eff68228-184f-46ed-c159-bee5daf167dd"
      },
      "source": [
        "#AtCoderABC145 B問題\n",
        "n = int(input())\n",
        "s = input()\n",
        "if s[0:n//2] == s[n//2:n]:\n",
        "  print(\"Yes\")\n",
        "else:\n",
        "  print(\"No\")"
      ],
      "execution_count": null,
      "outputs": [
        {
          "output_type": "stream",
          "text": [
            "1\n",
            "z\n",
            "No\n"
          ],
          "name": "stdout"
        }
      ]
    },
    {
      "cell_type": "code",
      "metadata": {
        "colab": {
          "base_uri": "https://localhost:8080/"
        },
        "id": "wHmvrz5df50A",
        "outputId": "23395d5e-94dc-4ece-91d8-18d4db1432b0"
      },
      "source": [
        "#AtCoderABC145 C問題\n",
        "n = int(input())\n",
        "lst = [list(map(int, input().split())) for i in range(n)]\n",
        "res = 0\n",
        "for i in range(n-1):\n",
        "  for j in range(i+1,n):\n",
        "    res += 2 *(((lst[i][0] - lst[j][0])**2 + (lst[i][1] - lst[j][1])**2) ** 0.5)\n",
        "print(res/n)"
      ],
      "execution_count": null,
      "outputs": [
        {
          "output_type": "stream",
          "text": [
            "8\n",
            "-406 10\n",
            "512 859\n",
            "494 362\n",
            "-955 -475\n",
            "128 553\n",
            "-986 -885\n",
            "763 77\n",
            "449 310\n",
            "7641.981782438674\n"
          ],
          "name": "stdout"
        }
      ]
    },
    {
      "cell_type": "code",
      "metadata": {
        "colab": {
          "base_uri": "https://localhost:8080/"
        },
        "id": "bk0WfVrQtllc",
        "outputId": "1c06a55b-4d0d-49fa-9861-e211fda4eb12"
      },
      "source": [
        "#AtCoderABC145 D問題\n",
        "x,y = map(int,input().split())\n",
        "\n",
        "if (x+y)%3 != 0:\n",
        "  print(0)\n",
        "else:\n",
        "  n = (2*y - x)//3\n",
        "  m = (2*x - y)//3\n",
        "  if n < 0 or m < 0:\n",
        "    print(0)\n",
        "  else:\n",
        "    a = 1\n",
        "    b = 1\n",
        "    mod = 10**9 + 7\n",
        "    for i in range(n):\n",
        "      a = a*(n+m-i) % mod\n",
        "      b = b * (i+1) % mod\n",
        "    res =( a*pow(b,mod-2,mod) )% mod\n",
        "    print(res)"
      ],
      "execution_count": null,
      "outputs": [
        {
          "output_type": "stream",
          "text": [
            "999999 999999\n",
            "151840682\n"
          ],
          "name": "stdout"
        }
      ]
    },
    {
      "cell_type": "markdown",
      "metadata": {
        "id": "mPZ-I_-uCWTA"
      },
      "source": [
        "#AtCoderABC146"
      ]
    },
    {
      "cell_type": "code",
      "metadata": {
        "colab": {
          "base_uri": "https://localhost:8080/"
        },
        "id": "HC8zbKL7CZ5V",
        "outputId": "fbb64ef4-0f19-48a8-98c7-08a397903707"
      },
      "source": [
        "#AtCoderABC146 A問題\n",
        "s = input()\n",
        "if s == \"SUN\":\n",
        "  print(7)\n",
        "elif s == \"MON\":\n",
        "  print(6)\n",
        "elif s == \"TUE\":\n",
        "  print(5)\n",
        "elif s == \"WED\":\n",
        "  print(4)\n",
        "elif s == \"THU\":\n",
        "  print(3)\n",
        "elif s == \"FRI\":\n",
        "  print(2)\n",
        "else:\n",
        "  print(1)"
      ],
      "execution_count": null,
      "outputs": [
        {
          "output_type": "stream",
          "text": [
            "SUN\n",
            "7\n"
          ],
          "name": "stdout"
        }
      ]
    },
    {
      "cell_type": "code",
      "metadata": {
        "colab": {
          "base_uri": "https://localhost:8080/"
        },
        "id": "kl_2hnV6CbHj",
        "outputId": "71ad937e-d3eb-43ed-ee5d-35e6a1b2e611"
      },
      "source": [
        "#AtCoderABC146 B問題\n",
        "n = int(input())\n",
        "s = input()\n",
        "ans = \"\"\n",
        "for i in s:\n",
        "  ans += chr(ord('A') + (ord(i)-ord('A')+n) % 26)\n",
        "print(ans)"
      ],
      "execution_count": null,
      "outputs": [
        {
          "output_type": "stream",
          "text": [
            "13\n",
            "ABCDEFGHIJKLMNOPQRSTUVWXYZ\n",
            "NOPQRSTUVWXYZABCDEFGHIJKLM\n"
          ],
          "name": "stdout"
        }
      ]
    },
    {
      "cell_type": "code",
      "metadata": {
        "colab": {
          "base_uri": "https://localhost:8080/"
        },
        "id": "truQdatnCdE8",
        "outputId": "411f9f9b-e8ba-4a50-87ea-8bc8adc40132"
      },
      "source": [
        "#AtCoderABC146 C問題\n",
        "a,b,x=map(int , input().split())\n",
        "MAX = 10**9\n",
        "if a + b > x:\n",
        "  print(0)\n",
        "else:\n",
        "  right = min(10**9,x//a+1)\n",
        "  left = 0\n",
        "  while (right -left) > 1:\n",
        "    if (right + left) % 2 == 0:\n",
        "      mid = (right + left)//2\n",
        "    else:\n",
        "      mid = (right + left)//2+1\n",
        "    if mid * a + len(str(mid))*b <= x:\n",
        "      left = mid\n",
        "    else:\n",
        "      right = mid\n",
        "  if right * a + len(str(right)) * b <= x:\n",
        "    print(right)\n",
        "  else:\n",
        "    print(left)"
      ],
      "execution_count": null,
      "outputs": [
        {
          "output_type": "stream",
          "text": [
            "1234 56789 314159265\n",
            "254309\n"
          ],
          "name": "stdout"
        }
      ]
    },
    {
      "cell_type": "code",
      "metadata": {
        "colab": {
          "base_uri": "https://localhost:8080/"
        },
        "id": "4mytf1pnK0Ej",
        "outputId": "d0cd47df-0ffb-4082-e0ed-765b8cae3193"
      },
      "source": [
        " #AtCoderABC146 D問題\n",
        " "
      ],
      "execution_count": null,
      "outputs": [
        {
          "output_type": "execute_result",
          "data": {
            "text/plain": [
              "9"
            ]
          },
          "metadata": {
            "tags": []
          },
          "execution_count": 11
        }
      ]
    },
    {
      "cell_type": "markdown",
      "metadata": {
        "id": "B2fo8BKMqljk"
      },
      "source": [
        "#AtCOderABC147"
      ]
    },
    {
      "cell_type": "code",
      "metadata": {
        "colab": {
          "base_uri": "https://localhost:8080/"
        },
        "id": "BgWh2folqoA7",
        "outputId": "1ff50445-e2ae-489a-828a-bf2d49fb0567"
      },
      "source": [
        "#AtCOderABC147 A問題\n",
        "a1,a2,a3 = map(int, input().split())\n",
        "res = a1 + a2 + a3\n",
        "if res >21:\n",
        "  print(\"bust\")\n",
        "else:\n",
        "  print(\"win\")"
      ],
      "execution_count": null,
      "outputs": [
        {
          "output_type": "stream",
          "text": [
            "13 7 2\n",
            "bust\n"
          ],
          "name": "stdout"
        }
      ]
    },
    {
      "cell_type": "code",
      "metadata": {
        "colab": {
          "base_uri": "https://localhost:8080/"
        },
        "id": "2HcP6BxYqpPu",
        "outputId": "c2a023b3-f726-41c0-9f34-b861f52f4d5c"
      },
      "source": [
        "#AtCOderABC147 B問題\n",
        "s = input()\n",
        "sl = len(s)\n",
        "res = 0\n",
        "for i in range(sl//2):\n",
        "  if s[i] != s[sl-i-1]:\n",
        "    res += 1\n",
        "print(res)"
      ],
      "execution_count": null,
      "outputs": [
        {
          "output_type": "stream",
          "text": [
            "abcdabc\n",
            "2\n"
          ],
          "name": "stdout"
        }
      ]
    },
    {
      "cell_type": "code",
      "metadata": {
        "colab": {
          "base_uri": "https://localhost:8080/"
        },
        "id": "2q_cmXweskqh",
        "outputId": "7483b0c4-8627-4c65-e35f-3d4cc57ee539"
      },
      "source": [
        "#AtCOderABC147 C問題\n",
        "n = int(input())\n",
        "lst = [0] * n\n",
        "for i in range(n):\n",
        "  a = int(input())\n",
        "  tmp = [0] * a\n",
        "  for j in range(a):\n",
        "    tmp[j] = list(map(int, input().split()))\n",
        "  lst[i] = [a,tmp]\n",
        "res = 0\n",
        "\n",
        "\n",
        "for i in range(2**n):\n",
        "  tmp = 0\n",
        "  flag = 0\n",
        "  for j in range(n):\n",
        "    if ((i >> j) & 1):\n",
        "      tmp += 1\n",
        "      for l in range(lst[j][0]):\n",
        "        if ((i >> (lst[j][1][l][0]-1) & 1) != lst[j][1][l][1]):\n",
        "          flag = 1\n",
        "          break\n",
        "  if flag == 1:\n",
        "    pass\n",
        "  else:\n",
        "    res = max(res,tmp)\n",
        "print(res)"
      ],
      "execution_count": null,
      "outputs": [
        {
          "output_type": "stream",
          "text": [
            "2\n",
            "1\n",
            "2 0\n",
            "1\n",
            "1 0\n",
            "1\n"
          ],
          "name": "stdout"
        }
      ]
    },
    {
      "cell_type": "markdown",
      "metadata": {
        "id": "C2NnAy---cJC"
      },
      "source": [
        "#AtCoderABC148"
      ]
    },
    {
      "cell_type": "code",
      "metadata": {
        "colab": {
          "base_uri": "https://localhost:8080/"
        },
        "id": "XfUiKb8a-lKF",
        "outputId": "0455ad53-fde5-44d7-ed4c-e8d572adb623"
      },
      "source": [
        "#AtCoderABC148 A問題\n",
        "lst = []\n",
        "a = lst.append(int(input()))\n",
        "b = lst.append(int(input()))\n",
        "for i in range(1,4):\n",
        "  if i not in lst:\n",
        "    print(i)"
      ],
      "execution_count": null,
      "outputs": [
        {
          "output_type": "stream",
          "text": [
            "3\n",
            "1\n",
            "2\n"
          ],
          "name": "stdout"
        }
      ]
    },
    {
      "cell_type": "code",
      "metadata": {
        "colab": {
          "base_uri": "https://localhost:8080/"
        },
        "id": "rDSRmwS3JXnb",
        "outputId": "1d16a13d-b59c-4754-dbe5-ac324dd46189"
      },
      "source": [
        "#AtCoderABC148 B問題\n",
        "n = int(input())\n",
        "res =\"\"\n",
        "s , t = input().split()\n",
        "for i in range(n):\n",
        "  res = res + s[i] + t[i]\n",
        "print(res)"
      ],
      "execution_count": null,
      "outputs": [
        {
          "output_type": "stream",
          "text": [
            "8\n",
            "hmhmnknk uuuuuuuu\n",
            "humuhumunukunuku\n"
          ],
          "name": "stdout"
        }
      ]
    },
    {
      "cell_type": "code",
      "metadata": {
        "colab": {
          "base_uri": "https://localhost:8080/"
        },
        "id": "zcKjPhNsJ-8J",
        "outputId": "bab88fbc-2c78-409d-b9ff-58ef0419ad6b"
      },
      "source": [
        "#AtCoderABC148 C問題\n",
        "import math\n",
        "a, b = map(int, input().split())\n",
        "print(a*b // math.gcd(a,b))"
      ],
      "execution_count": null,
      "outputs": [
        {
          "output_type": "stream",
          "text": [
            "100000 99999\n",
            "9999900000\n"
          ],
          "name": "stdout"
        }
      ]
    },
    {
      "cell_type": "code",
      "metadata": {
        "colab": {
          "base_uri": "https://localhost:8080/"
        },
        "id": "C4lwa6nRKZQe",
        "outputId": "c0680b08-25d7-43c7-95df-093e85db1091"
      },
      "source": [
        "#AtCoderABC148 D問題\n",
        "n = int(input())\n",
        "lst = list(map(int, input().split()))\n",
        "res  = 0\n",
        "tmp = 1\n",
        "for i in range(n):\n",
        "  if tmp == lst[i]:\n",
        "    tmp += 1\n",
        "  else:\n",
        "    res += 1\n",
        "if res == n:\n",
        "  print(-1)\n",
        "else:\n",
        "  print(res)"
      ],
      "execution_count": null,
      "outputs": [
        {
          "output_type": "stream",
          "text": [
            "1\n",
            "1\n",
            "0\n"
          ],
          "name": "stdout"
        }
      ]
    },
    {
      "cell_type": "code",
      "metadata": {
        "colab": {
          "base_uri": "https://localhost:8080/"
        },
        "id": "8v5kL6xMNaNE",
        "outputId": "3700dd29-b468-4085-8cff-08e1ac3576f4"
      },
      "source": [
        "#AtCoderABC148  E問題\n",
        "n = int(input())\n",
        "\n",
        "if n%2 !=0:\n",
        "  print(0)\n",
        "else:\n",
        "  res = 0\n",
        "  while n > 2:\n",
        "    if n % 10 == 0:\n",
        "      ind = 1\n",
        "      while n >= 5**ind * 2:\n",
        "        res += n // (5**ind * 2)\n",
        "        ind += 1\n",
        "      n = 1\n",
        "    else:\n",
        "      n = n-2\n",
        "  print(res)"
      ],
      "execution_count": null,
      "outputs": [
        {
          "output_type": "stream",
          "text": [
            "1000000000000000000\n",
            "124999999999999995\n"
          ],
          "name": "stdout"
        }
      ]
    },
    {
      "cell_type": "markdown",
      "metadata": {
        "id": "oevUIp_jyYDV"
      },
      "source": [
        "#AtCoderABC149"
      ]
    },
    {
      "cell_type": "code",
      "metadata": {
        "colab": {
          "base_uri": "https://localhost:8080/"
        },
        "id": "D7XpKdgxzNJP",
        "outputId": "1341321d-86c4-4e08-b51d-8bfd4008cee0"
      },
      "source": [
        "#AtCoderABC149 A問題\n",
        "s, t = input().split()\n",
        "print(t+s)"
      ],
      "execution_count": null,
      "outputs": [
        {
          "output_type": "stream",
          "text": [
            "humu humu\n",
            "humuhumu\n"
          ],
          "name": "stdout"
        }
      ]
    },
    {
      "cell_type": "code",
      "metadata": {
        "colab": {
          "base_uri": "https://localhost:8080/"
        },
        "id": "Eu4dvzQz2Tyx",
        "outputId": "58e7a789-51a3-42ea-8bc8-05b088ca398d"
      },
      "source": [
        "#AtCoderABC149 B問題\n",
        "a,b,k = map(int, input().split())\n",
        "if a > k:\n",
        "  print(a-k,b)\n",
        "else:\n",
        "  if b > k-a:\n",
        "    print(0, b-k+a)\n",
        "  else:\n",
        "    print(0,0)"
      ],
      "execution_count": null,
      "outputs": [
        {
          "output_type": "stream",
          "text": [
            "500000000000 500000000000 1000000000000\n",
            "0 0\n"
          ],
          "name": "stdout"
        }
      ]
    },
    {
      "cell_type": "code",
      "metadata": {
        "colab": {
          "base_uri": "https://localhost:8080/"
        },
        "id": "i-fmtSz97qOC",
        "outputId": "f1d2a775-10be-4fe9-d78e-47699ca267e4"
      },
      "source": [
        "#AtCoderABC149 C問題\n",
        "x = int(input())\n",
        "def is_prime(n):\n",
        "    if n == 1: return False\n",
        "    for k in range(2, int(n**0.5) + 1):\n",
        "        if n % k == 0:\n",
        "            return False\n",
        "    return True\n",
        "if x==2:\n",
        "  print(2)\n",
        "else:\n",
        "  flag = 1\n",
        "  while flag == 1:\n",
        "    if x % 2 == 0:\n",
        "      x += 1\n",
        "    else:\n",
        "      if is_prime(x):\n",
        "        flag = 0\n",
        "      else:\n",
        "        x += 1\n",
        "  print(x)"
      ],
      "execution_count": null,
      "outputs": [
        {
          "output_type": "stream",
          "text": [
            "99992\n",
            "100003\n"
          ],
          "name": "stdout"
        }
      ]
    },
    {
      "cell_type": "code",
      "metadata": {
        "colab": {
          "base_uri": "https://localhost:8080/"
        },
        "id": "zug3-PMPAO1P",
        "outputId": "8b51f2bf-cdbe-4eb2-9932-431a400273d9"
      },
      "source": [
        "#AtCoderABC149 D問題\n",
        "n , k = map(int,input().split())\n",
        "r,s,p = map(int,input().split())\n",
        "dic={'s':r,'p':s,'r':p}\n",
        "T=list(input())\n",
        "res=0\n",
        "for i in range(k,n):\n",
        "    if T[i]==T[i-k]:T[i]=\"-\"\n",
        "for t in T:\n",
        "    if t==\"-\":continue\n",
        "    res+=dic[t]\n",
        " \n",
        "print(res)"
      ],
      "execution_count": null,
      "outputs": [
        {
          "output_type": "stream",
          "text": [
            "5 2\n",
            "8 7 6\n",
            "rsrpr\n",
            "27\n"
          ],
          "name": "stdout"
        }
      ]
    },
    {
      "cell_type": "markdown",
      "metadata": {
        "id": "dJwOZR82dLSf"
      },
      "source": [
        "#AtCoderABC150\n"
      ]
    },
    {
      "cell_type": "code",
      "metadata": {
        "colab": {
          "base_uri": "https://localhost:8080/"
        },
        "id": "LSowGIhfdOva",
        "outputId": "1156d9ed-e3ec-4f16-e75c-7eaab523228f"
      },
      "source": [
        "#AtCoderABC150 A問題\n",
        "k, x = map(int,input().split())\n",
        "if k *500 >= x:\n",
        "  print(\"Yes\")\n",
        "else:\n",
        "  print(\"No\")"
      ],
      "execution_count": null,
      "outputs": [
        {
          "output_type": "stream",
          "text": [
            "1 501\n",
            "No\n"
          ],
          "name": "stdout"
        }
      ]
    },
    {
      "cell_type": "code",
      "metadata": {
        "colab": {
          "base_uri": "https://localhost:8080/"
        },
        "id": "pbT7PwxTdQao",
        "outputId": "5f9f9e7d-6f2a-4041-8197-38b3eae587d2"
      },
      "source": [
        "#AtCoderABC150 \n",
        "n = int(input())\n",
        "s = input()\n",
        "res = 0\n",
        "\n",
        "for i in range(n-2):\n",
        "  if s[i]+s[i+1]+s[i+2] == \"ABC\":\n",
        "    res += 1\n",
        "print(res)"
      ],
      "execution_count": null,
      "outputs": [
        {
          "output_type": "stream",
          "text": [
            "33\n",
            "ABCCABCBABCCABACBCBBABCBCBCBCABCB\n",
            "5\n"
          ],
          "name": "stdout"
        }
      ]
    },
    {
      "cell_type": "code",
      "metadata": {
        "id": "KERYUxuMdRT0"
      },
      "source": [
        "#AtCoderABC150 C問題\n",
        "#参考：https://atcoder.jp/contests/abc150/submissions/22155793\n",
        "from itertools import permutations\n",
        " \n",
        "n=int(input())\n",
        "r=range(1,n+1)\n",
        "P=list(permutations(r,n))\n",
        "a=tuple(map(int,input().split()))\n",
        "b=tuple(map(int,input().split()))\n",
        " \n",
        "print(abs((P.index(a)+1)-(P.index(b)+1)))\n",
        "# n = int(input())\n",
        "# lst1 = list(map(int, input().split()))\n",
        "# lst2 = list(map(int, input().split()))\n",
        "# a = 0\n",
        "# b = 0\n",
        "# for i in range(n):\n",
        "#   if lst1[i] != i+1:\n",
        "#     a += "
      ],
      "execution_count": null,
      "outputs": []
    },
    {
      "cell_type": "markdown",
      "metadata": {
        "id": "5Csovn2csc7n"
      },
      "source": [
        "C問題の感想：基本的に"
      ]
    },
    {
      "cell_type": "markdown",
      "metadata": {
        "id": "lqZ08Q-zlhTC"
      },
      "source": [
        "#AtCoderABC151"
      ]
    },
    {
      "cell_type": "code",
      "metadata": {
        "colab": {
          "base_uri": "https://localhost:8080/"
        },
        "id": "owyRxMilllKD",
        "outputId": "d7778a4b-5e22-4783-9c67-9139567de5a6"
      },
      "source": [
        "#AtCoderABC151 \n",
        "c = input()\n",
        "print(chr(ord(c) + 1))"
      ],
      "execution_count": null,
      "outputs": [
        {
          "output_type": "stream",
          "text": [
            "y\n",
            "z\n"
          ],
          "name": "stdout"
        }
      ]
    },
    {
      "cell_type": "code",
      "metadata": {
        "colab": {
          "base_uri": "https://localhost:8080/"
        },
        "id": "eTtckvQdln38",
        "outputId": "a8cd44ad-f74f-4382-a687-b7e8723b6fc2"
      },
      "source": [
        "#AtCoderABC151 B問題\n",
        "n,k,m = map(int, input().split())\n",
        "lst = list(map(int, input().split()))\n",
        "x = n*m - sum(lst)\n",
        "if x <= k:\n",
        "  print(max(0,x))\n",
        "else:\n",
        "  print(-1)"
      ],
      "execution_count": null,
      "outputs": [
        {
          "output_type": "stream",
          "text": [
            "4 100 60\n",
            "0 0 0\n",
            "-1\n"
          ],
          "name": "stdout"
        }
      ]
    },
    {
      "cell_type": "code",
      "metadata": {
        "colab": {
          "base_uri": "https://localhost:8080/"
        },
        "id": "Rx4VrRfen8Fw",
        "outputId": "bd009dd8-1122-4fa6-c31f-8d4241311cdb"
      },
      "source": [
        "#AtCoderABC151 C問題\n",
        "n ,m = map(int , input().split())\n",
        "acrec = dict([[i+1 , 0] for i in range(n)])\n",
        "warec = dict([[i+1 , 0] for i in range(n)])\n",
        "for i in range(m):\n",
        "  p , s = input().split()\n",
        "  if s == \"AC\":\n",
        "    if acrec[int(p)] == 0:\n",
        "      acrec[int(p)] += 1\n",
        "  else:\n",
        "    if acrec[int(p)] == 0:\n",
        "      warec[int(p)] += 1\n",
        "warec = [warec[k] for k,v in acrec.items() if v == 1]\n",
        "print(sum(list(acrec.values())) , sum(warec))"
      ],
      "execution_count": null,
      "outputs": [
        {
          "output_type": "stream",
          "text": [
            "3 5\n",
            "1 WA\n",
            "2 AC\n",
            "1 AC\n",
            "1 AC\n",
            "3 WA\n",
            "2 1\n"
          ],
          "name": "stdout"
        }
      ]
    },
    {
      "cell_type": "markdown",
      "metadata": {
        "id": "KMZrX7RQuItA"
      },
      "source": [
        "#AtCoderABC152"
      ]
    },
    {
      "cell_type": "code",
      "metadata": {
        "colab": {
          "base_uri": "https://localhost:8080/"
        },
        "id": "4G98KQpkuLrI",
        "outputId": "e537fe96-938e-489e-9d87-98acdf7afbd6"
      },
      "source": [
        "#AtCoderABC152 A問題\n",
        "n ,m = map(int,input().split())\n",
        "if n==m:\n",
        "  print(\"Yes\")\n",
        "else:\n",
        "  print(\"No\")"
      ],
      "execution_count": null,
      "outputs": [
        {
          "output_type": "stream",
          "text": [
            "3 2\n",
            "No\n"
          ],
          "name": "stdout"
        }
      ]
    },
    {
      "cell_type": "code",
      "metadata": {
        "colab": {
          "base_uri": "https://localhost:8080/"
        },
        "id": "IY03jrbauegc",
        "outputId": "9626d6ed-b8a5-472d-f874-f3e64789c140"
      },
      "source": [
        "#AtCoderABC152 B問題\n",
        "a,b = map(int , input().split())\n",
        "if a < b:\n",
        "  t = str(a) * b\n",
        "  print(t)\n",
        "else:\n",
        "  t = str(b) * a\n",
        "  print(t)"
      ],
      "execution_count": null,
      "outputs": [
        {
          "output_type": "stream",
          "text": [
            "7 7 \n",
            "7777777\n"
          ],
          "name": "stdout"
        }
      ]
    },
    {
      "cell_type": "code",
      "metadata": {
        "colab": {
          "base_uri": "https://localhost:8080/"
        },
        "id": "A9IdQxlFu_PL",
        "outputId": "c2d9f102-41d3-4f15-e4b6-a31181b36ff2"
      },
      "source": [
        "#AtCoderABC152 C問題\n",
        "n = int(input())\n",
        "lst = list(map(int, input().split()))\n",
        "res = 1\n",
        "tmp = lst[0]\n",
        "for i in range(1,n):\n",
        "  if lst[i] < tmp:\n",
        "    tmp = lst[i]\n",
        "    res += 1\n",
        "print(res)"
      ],
      "execution_count": null,
      "outputs": [
        {
          "output_type": "stream",
          "text": [
            "8\n",
            "5 7 4 2 6 8 1 3\n",
            "4\n"
          ],
          "name": "stdout"
        }
      ]
    },
    {
      "cell_type": "code",
      "metadata": {
        "colab": {
          "base_uri": "https://localhost:8080/"
        },
        "id": "WOvPZhfxyack",
        "outputId": "6d43bc12-3e4d-41e9-cd2e-ec76586e0590"
      },
      "source": [
        "#AtCoderABC152 D問題\n",
        "n = int(input())\n",
        "li = [[0 for _ in range(9)] for _ in range(9)]\n",
        "for i in range(1,n+1):\n",
        "    ju = str(i)\n",
        "    if ju[0] != \"0\" and ju[-1] != \"0\":\n",
        "        li[int(ju[0])-1][int(ju[-1])-1] += 1\n",
        "ans = 0\n",
        "for i in range(9):\n",
        "    for j in range(9):\n",
        "        ans += li[i][j] * li[j][i]\n",
        "print(ans)"
      ],
      "execution_count": null,
      "outputs": [
        {
          "output_type": "stream",
          "text": [
            "100\n",
            "108\n"
          ],
          "name": "stdout"
        }
      ]
    },
    {
      "cell_type": "markdown",
      "metadata": {
        "id": "e46QLbRs2U9R"
      },
      "source": [
        "#AtCoderABC153\n"
      ]
    },
    {
      "cell_type": "code",
      "metadata": {
        "colab": {
          "base_uri": "https://localhost:8080/"
        },
        "id": "ZvJvLKAV2W1R",
        "outputId": "78aeaf30-5e23-4bbb-9e07-d5498afcbdaf"
      },
      "source": [
        "#AtCoderABC153 A問題\n",
        "import math\n",
        "h, a = map(int, input().split())\n",
        "print(math.ceil(h/a))"
      ],
      "execution_count": null,
      "outputs": [
        {
          "output_type": "stream",
          "text": [
            "10000 1\n",
            "10000\n"
          ],
          "name": "stdout"
        }
      ]
    },
    {
      "cell_type": "code",
      "metadata": {
        "colab": {
          "base_uri": "https://localhost:8080/"
        },
        "id": "RbZisc2i27-4",
        "outputId": "cc0a2d51-5928-4f0d-d7db-824e31e485be"
      },
      "source": [
        "#AtCoderABC153 B問題\n",
        "h , n = map(int, input().split())\n",
        "lst = list(map(int, input().split()))\n",
        "if sum(lst) < h:\n",
        "  print(\"No\")\n",
        "else:\n",
        "  print(\"Yes\")"
      ],
      "execution_count": null,
      "outputs": [
        {
          "output_type": "stream",
          "text": [
            "211 5\n",
            "31 41 59 26 53\n",
            "No\n"
          ],
          "name": "stdout"
        }
      ]
    },
    {
      "cell_type": "code",
      "metadata": {
        "colab": {
          "base_uri": "https://localhost:8080/"
        },
        "id": "9Iuy3FUl3pK6",
        "outputId": "0943ead6-0790-4bbc-f0b1-734e963bdb86"
      },
      "source": [
        "#AtCoderABC153 C問題\n",
        "n , k = map(int, input().split())\n",
        "lst = list(map(int,input().split()))\n",
        "res = 0\n",
        "lst_sorted = sorted(lst,reverse=True)\n",
        "res += sum(lst_sorted[k:n])\n",
        "print(res)"
      ],
      "execution_count": null,
      "outputs": [
        {
          "output_type": "stream",
          "text": [
            "3 1\n",
            "1000000000 1000000000 1000000000\n",
            "2000000000\n"
          ],
          "name": "stdout"
        }
      ]
    },
    {
      "cell_type": "code",
      "metadata": {
        "colab": {
          "base_uri": "https://localhost:8080/"
        },
        "id": "s-wb54sz5jZL",
        "outputId": "68d8ec48-0ece-4954-c807-93d05811b053"
      },
      "source": [
        "#AtCoderABC153 D問題\n",
        "h = int(input())\n",
        "if h == 1:\n",
        "  print(1)\n",
        "else:\n",
        "  res = 2\n",
        "  while h > 1:\n",
        "    res *= 2\n",
        "    h = h // 2\n",
        "  print(res - 1)\n"
      ],
      "execution_count": null,
      "outputs": [
        {
          "output_type": "stream",
          "text": [
            "1000000000000\n",
            "1099511627775\n"
          ],
          "name": "stdout"
        }
      ]
    },
    {
      "cell_type": "code",
      "metadata": {
        "colab": {
          "base_uri": "https://localhost:8080/"
        },
        "id": "akA6SYQr4vun",
        "outputId": "56a0a13b-eb47-44ca-f75c-0a81a257566d"
      },
      "source": [
        "# sum([42,6,2,45,2][3:5])"
      ],
      "execution_count": null,
      "outputs": [
        {
          "output_type": "execute_result",
          "data": {
            "text/plain": [
              "47"
            ]
          },
          "metadata": {
            "tags": []
          },
          "execution_count": 11
        }
      ]
    },
    {
      "cell_type": "markdown",
      "metadata": {
        "id": "QT6eDOoMiTFC"
      },
      "source": [
        "#AtCoderABC154"
      ]
    },
    {
      "cell_type": "code",
      "metadata": {
        "colab": {
          "base_uri": "https://localhost:8080/"
        },
        "id": "q-ZNW3OaiWJF",
        "outputId": "315b6d5e-4ec9-4ea6-d16a-296b6ea8efd5"
      },
      "source": [
        "#AtCoderABC154 A問題\n",
        "s,t = input().split()\n",
        "a,b = map(int, input().split())\n",
        "u = input()\n",
        "if s == u:\n",
        "  print(a-1,b)\n",
        "else:\n",
        "  print(a,b-1)"
      ],
      "execution_count": 3,
      "outputs": [
        {
          "output_type": "stream",
          "text": [
            "red blue\n",
            "5 5\n",
            "blue\n",
            "5 4\n"
          ],
          "name": "stdout"
        }
      ]
    },
    {
      "cell_type": "code",
      "metadata": {
        "colab": {
          "base_uri": "https://localhost:8080/"
        },
        "id": "I9LOg8-PiXTI",
        "outputId": "5fc7e2cb-3357-4df8-94c0-5694de21021f"
      },
      "source": [
        "#AtCoderABC154 B問題\n",
        "s = input()\n",
        "res = \"\"\n",
        "for i in range(len(s)):\n",
        "  res = res +  \"x\"\n",
        "print(res)"
      ],
      "execution_count": 5,
      "outputs": [
        {
          "output_type": "stream",
          "text": [
            "sardine\n",
            "xxxxxxx\n"
          ],
          "name": "stdout"
        }
      ]
    },
    {
      "cell_type": "code",
      "metadata": {
        "colab": {
          "base_uri": "https://localhost:8080/"
        },
        "id": "12z0DuTMiYhE",
        "outputId": "c9ab56c1-87ca-4279-88a0-b17e9d0860a6"
      },
      "source": [
        "#AtCoderABC154 C問題\n",
        "n = int(input())\n",
        "lst = list(map(int, input().split()))\n",
        "if len(lst) == len(set(lst)):\n",
        "  print(\"YES\")\n",
        "else:\n",
        "  print(\"NO\")"
      ],
      "execution_count": 7,
      "outputs": [
        {
          "output_type": "stream",
          "text": [
            "6\n",
            "4 1 3 1 6 2\n",
            "No\n"
          ],
          "name": "stdout"
        }
      ]
    },
    {
      "cell_type": "code",
      "metadata": {
        "colab": {
          "base_uri": "https://localhost:8080/"
        },
        "id": "GhvSe_Yqvk9Q",
        "outputId": "7b6de6f9-e9da-430c-c991-5bb05e7fcf74"
      },
      "source": [
        "#AtCoderABC154 D問題\n",
        "n,k = map(int, input().split())\n",
        "lst = list(map(int, input().split()))\n",
        "ex = list(map(lambda x : x / 2 + 0.5 , lst))\n",
        "res = sum(ex[:k])\n",
        "tmp = res\n",
        "for j in range(k,n):\n",
        "  tmp += (ex[j] - ex[j-k])\n",
        "  if res < tmp:\n",
        "    res = tmp\n",
        "print(res)"
      ],
      "execution_count": 19,
      "outputs": [
        {
          "output_type": "stream",
          "text": [
            "5 3\n",
            "1 2 2 4 5\n",
            "7.0\n"
          ],
          "name": "stdout"
        }
      ]
    },
    {
      "cell_type": "markdown",
      "metadata": {
        "id": "W8IMvj5Cn7BR"
      },
      "source": [
        "#第２回日本最強プログラマー学生選手権"
      ]
    },
    {
      "cell_type": "code",
      "metadata": {
        "colab": {
          "base_uri": "https://localhost:8080/"
        },
        "id": "IYmXQW2On__9",
        "outputId": "96a89d74-b9f8-4f4b-e256-87d7d081b567"
      },
      "source": [
        "#A問題\n",
        "import math\n",
        "x,y,z = map(int, input().split())\n",
        "print(math.ceil(y/x * z)-1)\n"
      ],
      "execution_count": null,
      "outputs": [
        {
          "output_type": "stream",
          "text": [
            "1000 1 1\n",
            "0\n"
          ],
          "name": "stdout"
        }
      ]
    },
    {
      "cell_type": "code",
      "metadata": {
        "colab": {
          "base_uri": "https://localhost:8080/"
        },
        "id": "EL05mHFxoCnp",
        "outputId": "80bd6e52-f7fa-4222-cfed-d6f4df858c5c"
      },
      "source": [
        "#B問題\n",
        "n,m= map(int,input().split())\n",
        "alst = list(map(int,input().split()))\n",
        "blst = list(map(int,input().split()))\n",
        "abunion = set(alst) | set(blst)\n",
        "abinter = set(alst) & set(blst)\n",
        "resset = list(abunion - abinter)\n",
        "res = \" \".join(list(map(str , resset)))\n",
        "print(res)"
      ],
      "execution_count": null,
      "outputs": [
        {
          "output_type": "stream",
          "text": [
            "4 4\n",
            "1 2 3 4\n",
            "1 2 3 4\n",
            "\n"
          ],
          "name": "stdout"
        }
      ]
    },
    {
      "cell_type": "code",
      "metadata": {
        "colab": {
          "base_uri": "https://localhost:8080/"
        },
        "id": "ieq9IabCqH1f",
        "outputId": "10638e66-5801-4445-b250-d138ee744e6e"
      },
      "source": [
        "#C問題\n",
        "a,b = map(int, input().split())\n",
        "res = 1\n",
        "dif = b-a\n",
        "for i in range(dif,0,-1):\n",
        "  if a % i ==0:\n",
        "    if a + i <= b:\n",
        "      res = i\n",
        "      break\n",
        "  else:\n",
        "    tmp = i *(a//i)  + i\n",
        "    tmp2 = tmp + i\n",
        "    if tmp <= b and tmp2 <= b:\n",
        "      res = i\n",
        "      break\n",
        "print(res)"
      ],
      "execution_count": null,
      "outputs": [
        {
          "output_type": "stream",
          "text": [
            "2 4\n",
            "2\n"
          ],
          "name": "stdout"
        }
      ]
    },
    {
      "cell_type": "code",
      "metadata": {
        "colab": {
          "base_uri": "https://localhost:8080/"
        },
        "id": "wtbTify1xNr4",
        "outputId": "ea039880-ce1c-4555-8c22-2e3070b7b8b8"
      },
      "source": [
        "#D問題\n",
        "n , p = map(int, input().split())\n",
        "tmp = pow(p-2,n-1,10**9 +7) * (p-1)\n",
        "print(tmp%(10**9 + 7))\n"
      ],
      "execution_count": null,
      "outputs": [
        {
          "output_type": "stream",
          "text": [
            "45108 2571593\n",
            "224219544\n"
          ],
          "name": "stdout"
        }
      ]
    },
    {
      "cell_type": "code",
      "metadata": {
        "colab": {
          "base_uri": "https://localhost:8080/"
        },
        "id": "RKjpaEpWApMp",
        "outputId": "0efa5f16-7a91-49ad-e3c6-a16342d689e0"
      },
      "source": [
        "#F問題\n",
        "import numpy as np\n",
        "n ,m, q = map(int, input().split())\n",
        "np_arr = np.zeros((n, m))\n",
        "for i in range(q):\n",
        "  t,x,y = map(int, input().split())\n",
        "  if t == 1:\n",
        "    np_arr[x-1,:] = np.array(list(map(lambda a: max(a,y) , np_arr[x-1,:])))\n",
        "  else:\n",
        "    np_arr[:,x-1] = np.array(list(map(lambda a: max(a,y) , np_arr[: , x-1])))\n",
        "  print(int(np.sum(np_arr)))"
      ],
      "execution_count": null,
      "outputs": [
        {
          "output_type": "stream",
          "text": [
            "3 3 5\n",
            "1 3 10\n",
            "30\n",
            "2 1 7\n",
            "44\n",
            "1 3 5\n",
            "44\n",
            "2 2 10\n",
            "64\n",
            "2 1 1\n",
            "64\n"
          ],
          "name": "stdout"
        }
      ]
    },
    {
      "cell_type": "markdown",
      "metadata": {
        "id": "rrvNGExEYumO"
      },
      "source": [
        "#AtCoderABC194\n"
      ]
    },
    {
      "cell_type": "code",
      "metadata": {
        "colab": {
          "base_uri": "https://localhost:8080/"
        },
        "id": "l2rxDuZxYGi1",
        "outputId": "819c474b-bc8f-4d8d-dd3c-cd0aa2288ee2"
      },
      "source": [
        "#AtCoderABC194 A問題\n",
        "a,b = map(int, input().split())\n",
        "if a+b >= 15 and b >= 8:\n",
        "  print(1)\n",
        "elif a+b >= 10 and b >= 3:\n",
        "  print(2)\n",
        "elif a + b >= 3:\n",
        "  print(3)\n",
        "else:\n",
        "  print(4)"
      ],
      "execution_count": null,
      "outputs": [
        {
          "output_type": "stream",
          "text": [
            "0 0 \n",
            "4\n"
          ],
          "name": "stdout"
        }
      ]
    },
    {
      "cell_type": "code",
      "metadata": {
        "colab": {
          "base_uri": "https://localhost:8080/"
        },
        "id": "5pFhNqf2Y0LD",
        "outputId": "58d85104-5b36-482c-a0b8-381c30158434"
      },
      "source": [
        "#AtCoderABC194 B問題\n",
        "n = int(input())\n",
        "a = []\n",
        "b = []\n",
        "res = []\n",
        "for i in range(n):\n",
        "  tmp = list(map(int, input().split()))\n",
        "  a.append(tmp[0])\n",
        "  b.append(tmp[1])\n",
        "\n",
        "for i in range(n):\n",
        "  for j in range(n):\n",
        "    if i == j:\n",
        "      tmp2 = a[i] + b[j]\n",
        "      res.append(tmp2)\n",
        "    else:\n",
        "      tmp2 = max(a[i], b[j])\n",
        "      res.append(tmp2)\n",
        "print(min(res))\n"
      ],
      "execution_count": null,
      "outputs": [
        {
          "output_type": "stream",
          "text": [
            "3\n",
            "11 7\n",
            "3 2\n",
            "6 7\n",
            "5\n"
          ],
          "name": "stdout"
        }
      ]
    },
    {
      "cell_type": "code",
      "metadata": {
        "colab": {
          "base_uri": "https://localhost:8080/"
        },
        "id": "jdB10IjvcN6n",
        "outputId": "a590cf9b-09e6-4799-a340-7ac6ae357572"
      },
      "source": [
        "#AtCoderABC194 C問題\n",
        "#なぜか実行時エラーが起こる\n",
        "# import numpy as np\n",
        "\n",
        "# n = int(input())\n",
        "# a = list(map(int,input().split()))\n",
        "# an=np.array(a)\n",
        "# c = an.reshape([n,1]) @ an.reshape([1,n])\n",
        "# res = (n+1) * sum(np.diag(c)) - 2 *  sum(sum(np.tril(c)))\n",
        "# print(res)\n",
        "\n",
        "\n",
        "##パターン2\n",
        "# import itertools\n",
        "# n = int(input())\n",
        "# a = list(map(int,input().split()))\n",
        "# tmp = - 2 *sum(list(map(lambda x:x[0]*x[1] , list(itertools.combinations(a, 2))))) \n",
        "# res = sum(list(map(lambda x: x**2 , a))) * (n-1) + tmp\n",
        "# print(res)\n",
        "\n",
        "n = int(input())\n",
        "a = list(map(int , input().split()))\n",
        "res = sum([a[i] * ((n-1) * a[i] - 2 * sum(a[i+1:])) for i in range(n)])\n",
        "\n",
        "print(res)"
      ],
      "execution_count": null,
      "outputs": [
        {
          "output_type": "stream",
          "text": [
            "3\n",
            "2 8 4\n",
            "56\n"
          ],
          "name": "stdout"
        }
      ]
    },
    {
      "cell_type": "code",
      "metadata": {
        "colab": {
          "base_uri": "https://localhost:8080/"
        },
        "id": "ydnLkMLCcOZR",
        "outputId": "1153a81a-5fc5-4349-b06a-0421a26ba541"
      },
      "source": [
        "#AtCoderABC194 D問題\n",
        "sum([]) * 3"
      ],
      "execution_count": null,
      "outputs": [
        {
          "output_type": "execute_result",
          "data": {
            "text/plain": [
              "0"
            ]
          },
          "metadata": {
            "tags": []
          },
          "execution_count": 73
        }
      ]
    },
    {
      "cell_type": "code",
      "metadata": {
        "colab": {
          "base_uri": "https://localhost:8080/"
        },
        "id": "QO3HMasMo4Hb",
        "outputId": "2d0a462c-c637-4a93-a74f-2194b8c2bcc8"
      },
      "source": [
        "list(itertools.combinations(a, 2))"
      ],
      "execution_count": null,
      "outputs": [
        {
          "output_type": "execute_result",
          "data": {
            "text/plain": [
              "[(2, 8), (2, 4), (8, 4)]"
            ]
          },
          "metadata": {
            "tags": []
          },
          "execution_count": 69
        }
      ]
    },
    {
      "cell_type": "markdown",
      "metadata": {
        "id": "fduwXcgxbcxq"
      },
      "source": [
        "#AtCoderABC195"
      ]
    },
    {
      "cell_type": "code",
      "metadata": {
        "id": "M1it4YElbf93",
        "colab": {
          "base_uri": "https://localhost:8080/"
        },
        "outputId": "411c8e9c-8b96-43b7-ee04-5a8fba0d950e"
      },
      "source": [
        "#AtCoderABC195 A問題\n",
        "m,h = map(int, input().split())\n",
        "if h % m ==0:\n",
        "  print(\"Yes\")\n",
        "else:\n",
        "  print(\"No\")"
      ],
      "execution_count": null,
      "outputs": [
        {
          "output_type": "stream",
          "text": [
            "10 125\n",
            "No\n"
          ],
          "name": "stdout"
        }
      ]
    },
    {
      "cell_type": "code",
      "metadata": {
        "id": "60J8QAkQbk-I",
        "colab": {
          "base_uri": "https://localhost:8080/"
        },
        "outputId": "c82f6548-e80e-4606-d9e7-bc4fe796cb22"
      },
      "source": [
        "#AtCoderABC195 B問題\n",
        "a ,b , w = map(int, input().split())\n",
        "w1000 = w * 1000\n",
        "max_ind = int(w1000 // a) \n",
        "min_ind = int(w1000 // b) \n",
        "lst = []\n",
        "for i in range(min_ind, max_ind + 1):\n",
        "  tmp = w1000 - i * a \n",
        "  if 0 <= tmp <= (b-a) * i:\n",
        "    lst.append(i)\n",
        "\n",
        "if not lst:\n",
        "  print(\"UNSATISFIABLE\")\n",
        "else:\n",
        "  print(min(lst) , max(lst))"
      ],
      "execution_count": null,
      "outputs": [
        {
          "output_type": "stream",
          "text": [
            "300 333 1\n",
            "UNSATISFIABLE\n"
          ],
          "name": "stdout"
        }
      ]
    },
    {
      "cell_type": "code",
      "metadata": {
        "id": "J8NI5qFObmNO",
        "colab": {
          "base_uri": "https://localhost:8080/"
        },
        "outputId": "8fa42ce9-a0c3-4627-8767-2a05edae6797"
      },
      "source": [
        "#AtCoderABC195 C問題\n",
        "n  = int(input())\n",
        "if n < 1000:\n",
        "  print(0)\n",
        "else:\n",
        "  nlen = len(str(n))\n",
        "  if 4 <= nlen <=6:\n",
        "    tmp = n - 999\n",
        "  elif 7 <= nlen <= 9:\n",
        "    tmp = n - 999 + n - 999999\n",
        "  elif 10 <= nlen <= 12:\n",
        "    tmp = n - 999 + n - 999999 + n - 999999999\n",
        "  elif 13 <= nlen <= 15:\n",
        "    tmp = n - 999 + n - 999999 + n - 999999999 + n -999999999999\n",
        "  else:\n",
        "    tmp = n - 999 + n - 999999 + n - 999999999 + n -999999999999 + n -999999999999999\n",
        "  print(tmp)"
      ],
      "execution_count": null,
      "outputs": [
        {
          "output_type": "stream",
          "text": [
            "11000\n",
            "10001\n"
          ],
          "name": "stdout"
        }
      ]
    },
    {
      "cell_type": "code",
      "metadata": {
        "colab": {
          "base_uri": "https://localhost:8080/"
        },
        "id": "6S8aaIgekuqT",
        "outputId": "356b4416-578f-480c-d443-ad78eec7354f"
      },
      "source": [
        "#AtCoderABC195 D問題\n",
        "n , m , q = map(int, input().split())\n",
        "lag = []\n",
        "for i in range(n):\n",
        "  tmp = list(map(int, input().split()))\n",
        "  lag.append(tmp)\n",
        "lag2 = sorted(lag)\n",
        "box = list(map(int, input().split()))\n",
        "query = []\n",
        "for i in range(q):\n",
        "  l, r = map(int , input().split())\n",
        "  lag3 = lag2.copy()\n",
        "  tmp = box[:l-1] + box[r:]\n",
        "  if not tmp:\n",
        "    print(0)\n",
        "  else:\n",
        "    tmp2 = sorted(tmp)\n",
        "    res = 0\n",
        "    for j in tmp2:\n",
        "      flag = 1\n",
        "      while flag:\n",
        "        tmp3 = lag3.pop(0)\n",
        "        if tmp3[0] <= j:\n",
        "          res = res + tmp3[1]\n",
        "          flag = 0\n",
        "        if not lag3:\n",
        "          flag = 0\n",
        "    print(res)\n",
        "\n",
        "\n",
        "\n",
        "\n",
        "\n",
        "\n",
        "    # if n < len(tmp2):\n",
        "    #   res = 0\n",
        "    #   for j in range(n):\n",
        "    #     hoge\n",
        "    # elif n == len(tmp2):\n",
        "    #   for j in range(n):\n",
        "    #     hoge\n",
        "    # else:\n",
        "    #   for j in tmp2:\n",
        "\n"
      ],
      "execution_count": null,
      "outputs": [
        {
          "output_type": "stream",
          "text": [
            "3 4 3\n",
            "1 9\n",
            "5 3\n",
            "7 8\n",
            "1 8 6 9\n",
            "4 4\n",
            "20\n",
            "1 4\n",
            "0\n",
            "20\n",
            "1 3\n",
            "9\n"
          ],
          "name": "stdout"
        }
      ]
    },
    {
      "cell_type": "code",
      "metadata": {
        "colab": {
          "base_uri": "https://localhost:8080/"
        },
        "id": "7iix6K1Wvt-8",
        "outputId": "957ef8bd-e98a-405f-d4d2-6a2c849f8c84"
      },
      "source": [
        "sorted(lag , reverse=True)"
      ],
      "execution_count": null,
      "outputs": [
        {
          "output_type": "execute_result",
          "data": {
            "text/plain": [
              "[[7, 8], [5, 3], [1, 9]]"
            ]
          },
          "metadata": {
            "tags": []
          },
          "execution_count": 55
        }
      ]
    },
    {
      "cell_type": "markdown",
      "metadata": {
        "id": "fsUI8MwhjXOW"
      },
      "source": [
        "#AtCoderABC197"
      ]
    },
    {
      "cell_type": "code",
      "metadata": {
        "colab": {
          "base_uri": "https://localhost:8080/"
        },
        "id": "zX2lSy8vjcHP",
        "outputId": "d0f4a93a-4746-45ff-e935-a757eba4df98"
      },
      "source": [
        "#AtCoderABC197 A問題\n",
        "s = input()\n",
        "sp = s[1] + s[2] + s[0]\n",
        "print(sp)"
      ],
      "execution_count": null,
      "outputs": [
        {
          "output_type": "stream",
          "text": [
            "abc\n",
            "bca\n"
          ],
          "name": "stdout"
        }
      ]
    },
    {
      "cell_type": "code",
      "metadata": {
        "colab": {
          "base_uri": "https://localhost:8080/"
        },
        "id": "Ig2bnO61jeKS",
        "outputId": "50b404d9-413d-403a-f22e-1bd91ab524f9"
      },
      "source": [
        "#AtCoderABC197 B問題\n",
        "h , w, x, y = map(int, input().split())\n",
        "col = \"\"\n",
        "row = \"\"\n",
        "for i in range(h):\n",
        "  s = input()\n",
        "  col = col + s[y-1]\n",
        "  if i == x-1:\n",
        "    row = s\n",
        "flag = 1\n",
        "res = 1\n",
        "for i in range(y-2,-1,-1):\n",
        "  if row[i] != \".\":\n",
        "    flag = 0\n",
        "  if flag != 0:\n",
        "    res += 1\n",
        "\n",
        "flag = 1\n",
        "for i in range(y,w):\n",
        "  if row[i] != \".\":\n",
        "    flag = 0\n",
        "  if flag != 0:\n",
        "    res += 1\n",
        "\n",
        "flag = 1\n",
        "for j in range(x-2, -1, -1):\n",
        "  if col[j] != \".\":\n",
        "    flag = 0\n",
        "  if flag != 0:\n",
        "    res += 1\n",
        "\n",
        "flag = 1\n",
        "for j in range(x,h):\n",
        "  if col[j] != \".\":\n",
        "    flag = 0\n",
        "  if flag != 0:\n",
        "    res += 1\n",
        "\n",
        "print(res)"
      ],
      "execution_count": null,
      "outputs": [
        {
          "output_type": "stream",
          "text": [
            "5 5 4 2\n",
            ".#..#\n",
            "#.###\n",
            "##...\n",
            "#..#.\n",
            "#.###\n",
            "0\n",
            "2\n",
            "3\n",
            "4\n",
            "2\n",
            "1\n",
            "0\n",
            "4\n",
            "3\n"
          ],
          "name": "stdout"
        }
      ]
    },
    {
      "cell_type": "code",
      "metadata": {
        "colab": {
          "base_uri": "https://localhost:8080/"
        },
        "id": "fQHL_lxVlFjk",
        "outputId": "84f21526-1b3f-4885-e5ca-a2dada7c2fa6"
      },
      "source": [
        "#AtCoderABC197 C問題\n",
        "n = int(input())\n",
        "lst = list(map(int, input().split()))\n",
        "\n",
        "res = 2 ** 30 + 1\n",
        "for i in range(2 ** (n-1)):\n",
        "    now = 0\n",
        "    ind = 0\n",
        "    for j in range(n-1):\n",
        "      if i >> j & 1:\n",
        "        tmp = 0\n",
        "        for l in range(ind,j+1):\n",
        "          tmp = tmp | lst[l]\n",
        "        now = now ^ tmp\n",
        "        ind = j \n",
        "    tmp = 0 \n",
        "    for j in range(ind,n):\n",
        "      tmp = tmp | lst[j]\n",
        "    now = now ^ tmp\n",
        "    if res > now:\n",
        "      res = now\n",
        "print(res)"
      ],
      "execution_count": null,
      "outputs": [
        {
          "output_type": "stream",
          "text": [
            "3\n",
            "1 5 7\n",
            "2\n"
          ],
          "name": "stdout"
        }
      ]
    },
    {
      "cell_type": "code",
      "metadata": {
        "colab": {
          "base_uri": "https://localhost:8080/"
        },
        "id": "5AOeMEt45lJL",
        "outputId": "fa9ca57c-461a-46c3-ce17-bfd494953b81"
      },
      "source": [
        "4 ^ 0"
      ],
      "execution_count": null,
      "outputs": [
        {
          "output_type": "execute_result",
          "data": {
            "text/plain": [
              "4"
            ]
          },
          "metadata": {
            "tags": []
          },
          "execution_count": 46
        }
      ]
    },
    {
      "cell_type": "markdown",
      "metadata": {
        "id": "SRMvzZO1y3jB"
      },
      "source": [
        "#AtCoderABC198"
      ]
    },
    {
      "cell_type": "code",
      "metadata": {
        "colab": {
          "base_uri": "https://localhost:8080/"
        },
        "id": "l1pwO8x8y6ou",
        "outputId": "c3520adf-22e2-409d-95d1-8d8f40daf49b"
      },
      "source": [
        "#AtCoderABC198 A問題\n",
        "n = int(input())\n",
        "if n == 1:\n",
        "  print(0)\n",
        "elif n == 2:\n",
        "  print(1)\n",
        "else:\n",
        "  print(n-1)"
      ],
      "execution_count": null,
      "outputs": [
        {
          "output_type": "stream",
          "text": [
            "4\n",
            "6\n"
          ],
          "name": "stdout"
        }
      ]
    },
    {
      "cell_type": "code",
      "metadata": {
        "colab": {
          "base_uri": "https://localhost:8080/"
        },
        "id": "d9TNlRsjy--a",
        "outputId": "27fb09b5-95dd-4e2f-9e13-23b21d1c67c3"
      },
      "source": [
        "#AtCoderABC198 B問題\n",
        "n = int(input())\n",
        "if len(str(n)) == 1:\n",
        "  print(\"Yes\")\n",
        "else:\n",
        "  flag = 1\n",
        "  while flag:\n",
        "    if n % 10 == 0:\n",
        "      n = n//10\n",
        "    else:\n",
        "      flag = 0\n",
        "  strn = str(n)\n",
        "  if len(strn) == 1:\n",
        "    print(\"Yes\")\n",
        "  else:\n",
        "    res = 0\n",
        "    strn2 = strn[::-1]\n",
        "    for i in range(len(strn)//2):\n",
        "      if strn[i] != strn2[i]:\n",
        "        res = 1\n",
        "    if res:\n",
        "      print(\"No\")\n",
        "    else:\n",
        "      print(\"Yes\")"
      ],
      "execution_count": null,
      "outputs": [
        {
          "output_type": "stream",
          "text": [
            "100000000001\n",
            "1 0 1\n",
            "0 1 0\n",
            "0 2 0\n",
            "0 3 0\n",
            "0 4 0\n",
            "0 5 0\n",
            "Yes\n"
          ],
          "name": "stdout"
        }
      ]
    },
    {
      "cell_type": "code",
      "metadata": {
        "colab": {
          "base_uri": "https://localhost:8080/"
        },
        "id": "iFpWkV7w1ikH",
        "outputId": "5a54bafa-3d2c-49d9-fda7-2330c3c0e591"
      },
      "source": [
        "#AtCoderABC198 C問題\n",
        "r,x,y = map(int,input().split())\n",
        "tmp = (x**2 + y**2)**0.5\n",
        "if tmp % r == 0:\n",
        "  print(int(tmp//r))\n",
        "elif tmp // r == 0:\n",
        "  print(int(tmp//r)+2)\n",
        "else:\n",
        "  print(int(tmp//r)+1)"
      ],
      "execution_count": null,
      "outputs": [
        {
          "output_type": "stream",
          "text": [
            "3 4 4\n",
            "2\n"
          ],
          "name": "stdout"
        }
      ]
    },
    {
      "cell_type": "code",
      "metadata": {
        "colab": {
          "base_uri": "https://localhost:8080/"
        },
        "id": "2EG2LPNP-Ngh",
        "outputId": "d86e2c7f-d650-43bd-c846-fc5304fc83c8"
      },
      "source": [
        "#AtCoderABC198 D問題\n",
        "s1 = input()\n",
        "s2 = input()\n",
        "s3 = input()\n",
        "s = s1 + s2 + s3\n",
        "if len(set(s)) > 10:\n",
        "  print(\"UNSOLVABLE\")\n",
        "for i in range(10**(len(s3)-1),10**len(s3)):\n",
        "  if len(set(str(i))) != len(set(s3)):\n",
        "    pass\n",
        "  "
      ],
      "execution_count": null,
      "outputs": [
        {
          "output_type": "stream",
          "text": [
            "s\n",
            "g\n",
            "s\n",
            "0\n",
            "2\n",
            "3\n",
            "4\n",
            "5\n",
            "6\n",
            "7\n",
            "8\n",
            "9\n"
          ],
          "name": "stdout"
        }
      ]
    },
    {
      "cell_type": "markdown",
      "metadata": {
        "id": "lirjnwVZvCT1"
      },
      "source": [
        "#AtCoderABC199 *"
      ]
    },
    {
      "cell_type": "code",
      "metadata": {
        "colab": {
          "base_uri": "https://localhost:8080/"
        },
        "id": "YMhgbZDOvGBX",
        "outputId": "dc8f91eb-4daf-46c6-ced2-bd60b4c798f2"
      },
      "source": [
        "#AtCoderABC199 A問題\n",
        "a,b,c = map(int, input().split())\n",
        "if a**2 + b**2 < c**2:\n",
        "  print(\"Yes\")\n",
        "else:\n",
        "  print(\"No\")"
      ],
      "execution_count": null,
      "outputs": [
        {
          "output_type": "stream",
          "text": [
            "3 4 5\n",
            "No\n"
          ],
          "name": "stdout"
        }
      ]
    },
    {
      "cell_type": "code",
      "metadata": {
        "colab": {
          "base_uri": "https://localhost:8080/"
        },
        "id": "pyC3f_S2vKud",
        "outputId": "e8d01146-0b79-4ddd-99e9-a3f9e26a284d"
      },
      "source": [
        "#AtCoderABC199 B問題\n",
        "n = int(input())\n",
        "lsta = list(map(int, input().split()))\n",
        "lstb = list(map(int, input().split()))\n",
        "a = 0\n",
        "b = 1001\n",
        "flag = 0\n",
        "for i in range(n):\n",
        "  if a < lsta[i]:\n",
        "    a = lsta[i]\n",
        "  if b > lstb[i]:\n",
        "    b = lstb[i]\n",
        "  if b - a < 0:\n",
        "    flag = 1\n",
        "    break\n",
        "if flag:\n",
        "  print(0)\n",
        "else:\n",
        "  print(b-a+1)"
      ],
      "execution_count": null,
      "outputs": [
        {
          "output_type": "stream",
          "text": [
            "3\n",
            "3 2 5\n",
            "6 9 8\n",
            "2\n"
          ],
          "name": "stdout"
        }
      ]
    },
    {
      "cell_type": "code",
      "metadata": {
        "colab": {
          "base_uri": "https://localhost:8080/"
        },
        "id": "MLyLG9a0vL7G",
        "outputId": "e6090c64-4c8b-44ca-f0d2-8b7ccc1450c7"
      },
      "source": [
        "#AtCoderABC199 C問題\n",
        "n = int(input())\n",
        "s = list(input())\n",
        "q = int(input())\n",
        "ind = 0\n",
        "n2 = 2*n\n",
        "for i in range(q):\n",
        "  t,a,b = map(int,input().split())\n",
        "  if t == 1:\n",
        "    if ind == 0:\n",
        "      s[a-1] , s[b-1] = s[b-1] , s[a-1]\n",
        "    elif n < a:\n",
        "      s[a-n-1] , s[b-n-1] = s[b-n-1], s[a-n-1]\n",
        "    elif b <= n:\n",
        "      s[a-1+n] ,s[b-1+n] = s[b-1+n], s[a-1+n]\n",
        "    else:\n",
        "      s[n+a-1] , s[b-n-1] = s[b-n-1], s[n+a-1]\n",
        "  else:\n",
        "    if ind == 0:\n",
        "      ind = 1\n",
        "    else:\n",
        "      ind =0\n",
        "if ind == 1:\n",
        "  s[0:n] ,s[n:2*n] =s[n:2*n] ,  s[0:n]  \n",
        "print(\"\".join(s))"
      ],
      "execution_count": null,
      "outputs": [
        {
          "output_type": "stream",
          "text": [
            "2\n",
            "FLIP\n",
            "6\n",
            "1 1 3\n",
            "2 0 0\n",
            "1 1 2\n",
            "1 2 3\n",
            "2 0 0\n",
            "1 1 4\n",
            "ILPF\n"
          ],
          "name": "stdout"
        }
      ]
    },
    {
      "cell_type": "code",
      "metadata": {
        "colab": {
          "base_uri": "https://localhost:8080/"
        },
        "id": "3XE-iOBqvNBG",
        "outputId": "97ed49e3-1853-4bfd-af8d-7ce8e6dcbbf7"
      },
      "source": [
        "# #AtCoderABC199 D問題\n",
        "# n , m = map(int,input().split())\n",
        "# lstn = [[3,[]] for i in range(n)]\n",
        "# flag = 0\n",
        "# lst = [list(map(int, input().split())) for i in range(m)]\n",
        "# for i in range(m):\n",
        "#   lstn[lst[i][0]-1][0] -= 1\n",
        "#   lstn[lst[i][1]-1][0] -= 1\n",
        "#   lstn[lst[i][0]-1][1].append(lst[i][1]-1)\n",
        "#   lstn[lst[i][1]-1][1].append(lst[i][0]-1)\n",
        "# res = 0\n",
        "# tmp = []\n",
        "# for i in range(n):\n",
        "#   print(i,res,tmp)\n",
        "#   if i in tmp:\n",
        "#     continue\n",
        "#   if lstn[i][0] <= 0:\n",
        "#     res = 0\n",
        "#     break\n",
        "#   elif lstn[i][0] == 1:\n",
        "#     tmp.append(i)\n",
        "#     for j in lstn[i][1]:\n",
        "#       tmp.append(j)\n",
        "#       if lstn[j][0] == 2:\n",
        "#         res *= 2\n",
        "#       elif lstn[j][0] == 1:\n",
        "#         res += 3\n",
        "#   elif lstn[i][0] == 2:\n",
        "#     tmp.append(i)\n",
        "#     for j in lstn[i][1]:\n",
        "#       tmp.append(j)\n",
        "#       if lstn[j][0] == 2:\n",
        "#         res *= 2\n",
        "#       elif lstn[j][0] == 1:\n",
        "#         res += 3\n",
        "#   else:\n",
        "#     if res == 0:\n",
        "#       res += 3\n",
        "#     else:\n",
        "#       res *= 3\n",
        "# print(res)"
      ],
      "execution_count": null,
      "outputs": [
        {
          "output_type": "stream",
          "text": [
            "20 0\n",
            "0 0 []\n",
            "1 3 []\n",
            "2 9 []\n",
            "3 27 []\n",
            "4 81 []\n",
            "5 243 []\n",
            "6 729 []\n",
            "7 2187 []\n",
            "8 6561 []\n",
            "9 19683 []\n",
            "10 59049 []\n",
            "11 177147 []\n",
            "12 531441 []\n",
            "13 1594323 []\n",
            "14 4782969 []\n",
            "15 14348907 []\n",
            "16 43046721 []\n",
            "17 129140163 []\n",
            "18 387420489 []\n",
            "19 1162261467 []\n",
            "3486784401\n"
          ],
          "name": "stdout"
        }
      ]
    },
    {
      "cell_type": "markdown",
      "metadata": {
        "id": "UBDXk_qxy9hA"
      },
      "source": [
        "#AtCoderABC Zone"
      ]
    },
    {
      "cell_type": "code",
      "metadata": {
        "colab": {
          "base_uri": "https://localhost:8080/"
        },
        "id": "kXEl0Q6yzBFL",
        "outputId": "0b439127-fe82-41b9-e882-7c151cf36366"
      },
      "source": [
        "#AtCoderABC A問題\n",
        "s = input()\n",
        "res = 0\n",
        "for i in range(len(s)-3):\n",
        "  if s[i] + s[i+1]+ s[i+2] + s[i+3] == \"ZONe\":\n",
        "    res += 1\n",
        "print(res)"
      ],
      "execution_count": null,
      "outputs": [
        {
          "output_type": "stream",
          "text": [
            "helloAtZoner\n",
            "0\n"
          ],
          "name": "stdout"
        }
      ]
    },
    {
      "cell_type": "code",
      "metadata": {
        "colab": {
          "base_uri": "https://localhost:8080/"
        },
        "id": "_JgGSFS_zHqf",
        "outputId": "9798bd87-ee3d-48f1-87c8-1f9c69a35d09"
      },
      "source": [
        "#AtCoderABC B問題\n",
        "n , d, h = map(int,input().split())\n",
        "res = 0\n",
        "for i in range(n):\n",
        "  dd , hh= map(int, input().split())\n",
        "  tmp = (d * hh - h * dd) / (d -dd)\n",
        "  if res < tmp:\n",
        "    res = tmp\n",
        "print(res)"
      ],
      "execution_count": null,
      "outputs": [
        {
          "output_type": "stream",
          "text": [
            "1 10 10\n",
            "5 5\n",
            "0\n"
          ],
          "name": "stdout"
        }
      ]
    },
    {
      "cell_type": "code",
      "metadata": {
        "colab": {
          "base_uri": "https://localhost:8080/"
        },
        "id": "6fvPB450-J_8",
        "outputId": "98cc36f8-e90f-44e7-ef89-8843d9105dc9"
      },
      "source": [
        "#AtCoderABC C問題\n",
        "n = int(input())\n",
        "lst = [list(map(int, input().split())) for i in range(n)]\n",
        "def minmax(lst1,lst2):\n",
        "  return min([max([lst1[i], lst2[i]]) for i in range(5)])\n",
        "res = 0\n",
        "for i in range(n-2):\n",
        "  for j in range(i+1,n-1):\n",
        "    tlst = [max(lst[i][k], lst[j][k]) for k in range(5)] \n",
        "    for l in range(j+1,n):\n",
        "      tmp = minmax(tlst,lst[l])\n",
        "      if res < tmp:\n",
        "        res = tmp\n",
        "print(res)"
      ],
      "execution_count": null,
      "outputs": [
        {
          "output_type": "stream",
          "text": [
            "5\n",
            "6 13 6 19 11\n",
            "4 4 12 11 18\n",
            "20 7 19 2 5\n",
            "15 5 12 20 7\n",
            "8 7 6 18 5\n",
            "13\n"
          ],
          "name": "stdout"
        }
      ]
    },
    {
      "cell_type": "code",
      "metadata": {
        "colab": {
          "base_uri": "https://localhost:8080/"
        },
        "id": "aTvVYjbGzJj6",
        "outputId": "fc47983f-9e7f-4e82-8c27-7e9f666fa317"
      },
      "source": [
        "#AtCoderABC D問題\n",
        "s = input()\n",
        "t = \"\"\n",
        "flag = 0\n",
        "ind = 0\n",
        "for i in range(len(s)):\n",
        "  if s[i] == \"R\":\n",
        "    flag += 1\n",
        "  else:\n",
        "    if flag % 2 == 1:\n",
        "      if ind >= 1:\n",
        "        if t[0] != s[i]:\n",
        "          t = s[i] + t\n",
        "          ind += 1\n",
        "        else:\n",
        "          t = t[1:len(t)]\n",
        "          ind -= 1\n",
        "      else:\n",
        "        t = s[i]\n",
        "        ind += 1\n",
        "    else:\n",
        "      if ind >= 1:\n",
        "        if s[i] != t[len(t)-1]:\n",
        "          t = t + s[i]\n",
        "          ind += 1\n",
        "        else:\n",
        "          t = t[0:len(t)-1]\n",
        "          ind -= 1\n",
        "      else:\n",
        "        t = s[i]\n",
        "        ind += 1\n",
        "if flag % 2 == 0:\n",
        "  print(t)\n",
        "else:\n",
        "  print(t[::-1])\n"
      ],
      "execution_count": null,
      "outputs": [
        {
          "output_type": "stream",
          "text": [
            "hellospaceRhellospace\n",
            "\n"
          ],
          "name": "stdout"
        }
      ]
    },
    {
      "cell_type": "markdown",
      "metadata": {
        "id": "2TQWMX6CiL0N"
      },
      "source": [
        "#AtCoderARC115"
      ]
    },
    {
      "cell_type": "code",
      "metadata": {
        "id": "V5jcAXBziPI3",
        "colab": {
          "base_uri": "https://localhost:8080/"
        },
        "outputId": "c6ec9277-3dbf-4859-faf9-393afb9b099e"
      },
      "source": [
        "#AtCoderARC115 A問題\n",
        "n , m = map(int , input().split())\n",
        "lst = []\n",
        "for i in range(n):\n",
        "  tmp = input()\n",
        "  res = 0\n",
        "  for j in range(m):\n",
        "    if int(tmp[j]) == 0:\n",
        "      res += 1\n",
        "  lst.append(res%2)\n",
        "\n",
        "res = sum(lst) * (n - sum(lst))\n",
        "print(res)"
      ],
      "execution_count": null,
      "outputs": [
        {
          "output_type": "stream",
          "text": [
            "7 5\n",
            "10101\n",
            "00001\n",
            "00110\n",
            "11110\n",
            "00100\n",
            "11111\n",
            "10000\n",
            "10\n"
          ],
          "name": "stdout"
        }
      ]
    },
    {
      "cell_type": "code",
      "metadata": {
        "colab": {
          "base_uri": "https://localhost:8080/"
        },
        "id": "UX0s97w3cRtO",
        "outputId": "dc8170a4-e35f-472f-80da-508325b99f22"
      },
      "source": [
        "#AtCoderARC115 B問題\n",
        "n = int(input())\n",
        "lst = []\n",
        "minind = 0\n",
        "minval = 10**9 + 1\n",
        "for i in range(n):\n",
        "  tmp = list(map(int, input().split()))\n",
        "  lst.append(tmp)\n",
        "  if minval > min(tmp):\n",
        "    minval = min(tmp)\n",
        "    minind = tmp.index(minval)\n",
        "flag = 0\n",
        "for i in range(minval):\n",
        "  resB = [l - i for l in lst[minind]]\n",
        "  resA = [0 for j in range(n)]\n",
        "  for l in range(n):\n",
        "    resA[l] = lst[l][l] - resB[l]\n",
        "  tmp = [-1 for j in range(n) for l in range(n) if resA[j] + resB[l] != lst[j][l]]\n",
        "  tmp2 = [-1 for i in range(n) if resA[i] < 0 or resB[i] < 0]\n",
        "  if -1 not in (tmp + tmp2):\n",
        "    flag = 1\n",
        "    break\n",
        "\n",
        "if flag:\n",
        "  print(\"Yes\")\n",
        "  print(' '.join(map(str, resA)))\n",
        "  print(' '.join(map(str, resB)))\n",
        "else:\n",
        "  print(\"No\")"
      ],
      "execution_count": null,
      "outputs": [
        {
          "output_type": "stream",
          "text": [
            "3\n",
            "4 3 5\n",
            "2 2 3\n",
            "3 2 4\n",
            "[0, -1, -1]\n",
            "[1, 0, 0]\n",
            "No\n"
          ],
          "name": "stdout"
        }
      ]
    },
    {
      "cell_type": "code",
      "metadata": {
        "colab": {
          "base_uri": "https://localhost:8080/"
        },
        "id": "MyWQiXf-n3XX",
        "outputId": "f0598bf4-02b0-406f-db0a-cba8e58ccc88"
      },
      "source": [
        "for i in range(1,10):\n",
        "  print(i)"
      ],
      "execution_count": null,
      "outputs": [
        {
          "output_type": "stream",
          "text": [
            "1\n",
            "2\n",
            "3\n",
            "4\n",
            "5\n",
            "6\n",
            "7\n",
            "8\n",
            "9\n"
          ],
          "name": "stdout"
        }
      ]
    },
    {
      "cell_type": "markdown",
      "metadata": {
        "id": "u9Z7M-SpsVyh"
      },
      "source": [
        "#AtCoderARC116"
      ]
    },
    {
      "cell_type": "code",
      "metadata": {
        "colab": {
          "base_uri": "https://localhost:8080/"
        },
        "id": "gc6z5WiAsaoB",
        "outputId": "124799c3-7312-42cb-edb2-093486c4c011"
      },
      "source": [
        "#AtCoderARC116 A問題\n",
        "t = int(input())\n",
        "for i in range(t):\n",
        "  n = int(input())\n",
        "  if n == 2:\n",
        "    print(\"Same\")\n",
        "  elif n % 2 == 0:\n",
        "    if n % 4 ==0:\n",
        "      print(\"Even\")\n",
        "    else:\n",
        "      print(\"Same\")\n",
        "  else:\n",
        "    print(\"Odd\")\n"
      ],
      "execution_count": null,
      "outputs": [
        {
          "output_type": "stream",
          "text": [
            "3\n",
            "2\n",
            "Same\n",
            "139\n",
            "Odd\n",
            "149912\n",
            "Even\n"
          ],
          "name": "stdout"
        }
      ]
    },
    {
      "cell_type": "code",
      "metadata": {
        "colab": {
          "base_uri": "https://localhost:8080/"
        },
        "id": "kVp5CEs_sd0n",
        "outputId": "1f92d725-9ea7-4b40-8d6f-31a8da3e9197"
      },
      "source": [
        "#AtCoderARC116 B問題(これでは間に合わない)\n",
        "n = int(input())\n",
        "lst = list(map(int, input().split()))\n",
        "lst.sort()\n",
        "res = 0\n",
        "for i in range(n):\n",
        "  res +=  lst[i] * lst[i]\n",
        "  res += sum([lst[i] * lst[i+j+1] * (2**j) for j in range(n-i-1)])\n",
        "res = res % 998244353\n",
        "print(res)"
      ],
      "execution_count": null,
      "outputs": [
        {
          "output_type": "stream",
          "text": [
            "7\n",
            "853983 14095 543053 143209 4324 524361 45154\n",
            "206521341\n"
          ],
          "name": "stdout"
        }
      ]
    },
    {
      "cell_type": "code",
      "metadata": {
        "colab": {
          "base_uri": "https://localhost:8080/"
        },
        "id": "qWjM5rUcw8Bm",
        "outputId": "d3730e16-657b-47ec-f548-03df29be8c34"
      },
      "source": [
        ""
      ],
      "execution_count": null,
      "outputs": [
        {
          "output_type": "execute_result",
          "data": {
            "text/plain": [
              "4015"
            ]
          },
          "metadata": {
            "tags": []
          },
          "execution_count": 10
        }
      ]
    },
    {
      "cell_type": "code",
      "metadata": {
        "id": "arnJatxOw8gL"
      },
      "source": [
        ""
      ],
      "execution_count": null,
      "outputs": []
    }
  ]
}