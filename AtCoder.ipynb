{
  "nbformat": 4,
  "nbformat_minor": 0,
  "metadata": {
    "colab": {
      "name": "AtCoder.ipynb",
      "provenance": [],
      "collapsed_sections": [
        "qsWErXmnzNs2",
        "qn6TBQ3lW_4p",
        "7nBXBPTzhquU",
        "rrvNGExEYumO",
        "fduwXcgxbcxq",
        "fsUI8MwhjXOW",
        "2TQWMX6CiL0N"
      ],
      "authorship_tag": "ABX9TyPuBjnAOoXf71UAsrSEEi6E",
      "include_colab_link": true
    },
    "kernelspec": {
      "name": "python3",
      "display_name": "Python 3"
    }
  },
  "cells": [
    {
      "cell_type": "markdown",
      "metadata": {
        "id": "view-in-github",
        "colab_type": "text"
      },
      "source": [
        "<a href=\"https://colab.research.google.com/github/sasaki-akaso270/AtCoder_practice/blob/main/AtCoder.ipynb\" target=\"_parent\"><img src=\"https://colab.research.google.com/assets/colab-badge.svg\" alt=\"Open In Colab\"/></a>"
      ]
    },
    {
      "cell_type": "markdown",
      "metadata": {
        "id": "qsWErXmnzNs2"
      },
      "source": [
        "#AtCoderABC130\n"
      ]
    },
    {
      "cell_type": "code",
      "metadata": {
        "colab": {
          "base_uri": "https://localhost:8080/"
        },
        "id": "5LmVeWfxzRos",
        "outputId": "64ef7ce4-4c06-42bc-d9a0-30d91cef7be7"
      },
      "source": [
        "#AtcoderABC130 A問題\n",
        "\n",
        "x , a = map(int, input().split())\n",
        "if x < a:\n",
        "  print(0)\n",
        "else:\n",
        "  print(10)\n"
      ],
      "execution_count": null,
      "outputs": [
        {
          "output_type": "stream",
          "text": [
            "6 6\n",
            "10\n"
          ],
          "name": "stdout"
        }
      ]
    },
    {
      "cell_type": "code",
      "metadata": {
        "colab": {
          "base_uri": "https://localhost:8080/"
        },
        "id": "HEfkifuMz44I",
        "outputId": "cd41317f-a60a-47e3-dbec-fdeb96636b82"
      },
      "source": [
        "#AtcoderABC130 B問題\n",
        "\n",
        "n , x = map(int, input().split())\n",
        "lst = list(map(int, input().split()))\n",
        "res = 1\n",
        "tmp = 0\n",
        "for i in range(n):\n",
        "  tmp = tmp + lst[i]\n",
        "  if tmp <= x:\n",
        "    res = res + 1\n",
        "print(res)"
      ],
      "execution_count": null,
      "outputs": [
        {
          "output_type": "stream",
          "text": [
            "4 9\n",
            "3 3 3 3\n",
            "3\n"
          ],
          "name": "stdout"
        }
      ]
    },
    {
      "cell_type": "code",
      "metadata": {
        "colab": {
          "base_uri": "https://localhost:8080/"
        },
        "id": "nWsPxtJ71mcD",
        "outputId": "1664da05-725d-49f3-cd45-1a73c8e1116e"
      },
      "source": [
        "#AtcoderABC130 C問題\n",
        "\n",
        "w , h,  x, y  = map(int, input().split())\n",
        "tmp = min(w - x , x -0) * h\n",
        "tmp2 = min(h-y , y-0) * w\n",
        "if tmp != 0 and tmp2 != 0:\n",
        "  if tmp == tmp2:\n",
        "    if \n",
        "    print(tmp, 1)\n",
        "  else:\n",
        "    print(max(tmp, tmp2) , 0)\n",
        "elif tmp == 0 and tmp2 == 0:\n",
        "  print(w * h * 0.5 , 0)\n",
        "elif tmp ==0:\n",
        "  print(tmp2, 0)\n",
        "else:\n",
        "  print(tmp , 0)\n"
      ],
      "execution_count": null,
      "outputs": [
        {
          "output_type": "stream",
          "text": [
            "2 2 1 1\n",
            "2 1\n"
          ],
          "name": "stdout"
        }
      ]
    },
    {
      "cell_type": "code",
      "metadata": {
        "colab": {
          "base_uri": "https://localhost:8080/",
          "height": 562
        },
        "id": "GnHqPW8Q6eXC",
        "outputId": "6989407b-a365-48fa-ae9c-4d9d823b364c"
      },
      "source": [
        "#AtcoderABC130 D問題\n",
        "n ,k  = map(int, input().split())\n",
        "alst = list(map(int, input().split()))\n",
        "res = 0\n",
        "tmp = 0\n",
        "for i in range(n):\n",
        "  tmp = alst[i]\n",
        "  for j in range(i+1,n):\n",
        "    tmp = tmp + alst[j]\n",
        "    if k <= tmp:\n",
        "      res += 1\n",
        "print(res)"
      ],
      "execution_count": null,
      "outputs": [
        {
          "output_type": "error",
          "ename": "KeyboardInterrupt",
          "evalue": "ignored",
          "traceback": [
            "\u001b[0;31m---------------------------------------------------------------------------\u001b[0m",
            "\u001b[0;31mKeyboardInterrupt\u001b[0m                         Traceback (most recent call last)",
            "\u001b[0;32m/usr/local/lib/python3.7/dist-packages/ipykernel/kernelbase.py\u001b[0m in \u001b[0;36m_input_request\u001b[0;34m(self, prompt, ident, parent, password)\u001b[0m\n\u001b[1;32m    728\u001b[0m             \u001b[0;32mtry\u001b[0m\u001b[0;34m:\u001b[0m\u001b[0;34m\u001b[0m\u001b[0;34m\u001b[0m\u001b[0m\n\u001b[0;32m--> 729\u001b[0;31m                 \u001b[0mident\u001b[0m\u001b[0;34m,\u001b[0m \u001b[0mreply\u001b[0m \u001b[0;34m=\u001b[0m \u001b[0mself\u001b[0m\u001b[0;34m.\u001b[0m\u001b[0msession\u001b[0m\u001b[0;34m.\u001b[0m\u001b[0mrecv\u001b[0m\u001b[0;34m(\u001b[0m\u001b[0mself\u001b[0m\u001b[0;34m.\u001b[0m\u001b[0mstdin_socket\u001b[0m\u001b[0;34m,\u001b[0m \u001b[0;36m0\u001b[0m\u001b[0;34m)\u001b[0m\u001b[0;34m\u001b[0m\u001b[0;34m\u001b[0m\u001b[0m\n\u001b[0m\u001b[1;32m    730\u001b[0m             \u001b[0;32mexcept\u001b[0m \u001b[0mException\u001b[0m\u001b[0;34m:\u001b[0m\u001b[0;34m\u001b[0m\u001b[0;34m\u001b[0m\u001b[0m\n",
            "\u001b[0;32m/usr/local/lib/python3.7/dist-packages/jupyter_client/session.py\u001b[0m in \u001b[0;36mrecv\u001b[0;34m(self, socket, mode, content, copy)\u001b[0m\n\u001b[1;32m    802\u001b[0m         \u001b[0;32mtry\u001b[0m\u001b[0;34m:\u001b[0m\u001b[0;34m\u001b[0m\u001b[0;34m\u001b[0m\u001b[0m\n\u001b[0;32m--> 803\u001b[0;31m             \u001b[0mmsg_list\u001b[0m \u001b[0;34m=\u001b[0m \u001b[0msocket\u001b[0m\u001b[0;34m.\u001b[0m\u001b[0mrecv_multipart\u001b[0m\u001b[0;34m(\u001b[0m\u001b[0mmode\u001b[0m\u001b[0;34m,\u001b[0m \u001b[0mcopy\u001b[0m\u001b[0;34m=\u001b[0m\u001b[0mcopy\u001b[0m\u001b[0;34m)\u001b[0m\u001b[0;34m\u001b[0m\u001b[0;34m\u001b[0m\u001b[0m\n\u001b[0m\u001b[1;32m    804\u001b[0m         \u001b[0;32mexcept\u001b[0m \u001b[0mzmq\u001b[0m\u001b[0;34m.\u001b[0m\u001b[0mZMQError\u001b[0m \u001b[0;32mas\u001b[0m \u001b[0me\u001b[0m\u001b[0;34m:\u001b[0m\u001b[0;34m\u001b[0m\u001b[0;34m\u001b[0m\u001b[0m\n",
            "\u001b[0;32m/usr/local/lib/python3.7/dist-packages/zmq/sugar/socket.py\u001b[0m in \u001b[0;36mrecv_multipart\u001b[0;34m(self, flags, copy, track)\u001b[0m\n\u001b[1;32m    582\u001b[0m         \"\"\"\n\u001b[0;32m--> 583\u001b[0;31m         \u001b[0mparts\u001b[0m \u001b[0;34m=\u001b[0m \u001b[0;34m[\u001b[0m\u001b[0mself\u001b[0m\u001b[0;34m.\u001b[0m\u001b[0mrecv\u001b[0m\u001b[0;34m(\u001b[0m\u001b[0mflags\u001b[0m\u001b[0;34m,\u001b[0m \u001b[0mcopy\u001b[0m\u001b[0;34m=\u001b[0m\u001b[0mcopy\u001b[0m\u001b[0;34m,\u001b[0m \u001b[0mtrack\u001b[0m\u001b[0;34m=\u001b[0m\u001b[0mtrack\u001b[0m\u001b[0;34m)\u001b[0m\u001b[0;34m]\u001b[0m\u001b[0;34m\u001b[0m\u001b[0;34m\u001b[0m\u001b[0m\n\u001b[0m\u001b[1;32m    584\u001b[0m         \u001b[0;31m# have first part already, only loop while more to receive\u001b[0m\u001b[0;34m\u001b[0m\u001b[0;34m\u001b[0m\u001b[0;34m\u001b[0m\u001b[0m\n",
            "\u001b[0;32mzmq/backend/cython/socket.pyx\u001b[0m in \u001b[0;36mzmq.backend.cython.socket.Socket.recv\u001b[0;34m()\u001b[0m\n",
            "\u001b[0;32mzmq/backend/cython/socket.pyx\u001b[0m in \u001b[0;36mzmq.backend.cython.socket.Socket.recv\u001b[0;34m()\u001b[0m\n",
            "\u001b[0;32mzmq/backend/cython/socket.pyx\u001b[0m in \u001b[0;36mzmq.backend.cython.socket._recv_copy\u001b[0;34m()\u001b[0m\n",
            "\u001b[0;32m/usr/local/lib/python3.7/dist-packages/zmq/backend/cython/checkrc.pxd\u001b[0m in \u001b[0;36mzmq.backend.cython.checkrc._check_rc\u001b[0;34m()\u001b[0m\n",
            "\u001b[0;31mKeyboardInterrupt\u001b[0m: ",
            "\nDuring handling of the above exception, another exception occurred:\n",
            "\u001b[0;31mKeyboardInterrupt\u001b[0m                         Traceback (most recent call last)",
            "\u001b[0;32m<ipython-input-8-6fefd85e9b50>\u001b[0m in \u001b[0;36m<module>\u001b[0;34m()\u001b[0m\n\u001b[1;32m      1\u001b[0m \u001b[0;31m#AtcoderABC130 D問題\u001b[0m\u001b[0;34m\u001b[0m\u001b[0;34m\u001b[0m\u001b[0;34m\u001b[0m\u001b[0m\n\u001b[0;32m----> 2\u001b[0;31m \u001b[0mn\u001b[0m \u001b[0;34m,\u001b[0m\u001b[0mk\u001b[0m  \u001b[0;34m=\u001b[0m \u001b[0mmap\u001b[0m\u001b[0;34m(\u001b[0m\u001b[0mint\u001b[0m\u001b[0;34m,\u001b[0m \u001b[0minput\u001b[0m\u001b[0;34m(\u001b[0m\u001b[0;34m)\u001b[0m\u001b[0;34m.\u001b[0m\u001b[0msplit\u001b[0m\u001b[0;34m(\u001b[0m\u001b[0;34m)\u001b[0m\u001b[0;34m)\u001b[0m\u001b[0;34m\u001b[0m\u001b[0;34m\u001b[0m\u001b[0m\n\u001b[0m\u001b[1;32m      3\u001b[0m \u001b[0malst\u001b[0m \u001b[0;34m=\u001b[0m \u001b[0mlist\u001b[0m\u001b[0;34m(\u001b[0m\u001b[0mmap\u001b[0m\u001b[0;34m(\u001b[0m\u001b[0mint\u001b[0m\u001b[0;34m,\u001b[0m \u001b[0minput\u001b[0m\u001b[0;34m(\u001b[0m\u001b[0;34m)\u001b[0m\u001b[0;34m.\u001b[0m\u001b[0msplit\u001b[0m\u001b[0;34m(\u001b[0m\u001b[0;34m)\u001b[0m\u001b[0;34m)\u001b[0m\u001b[0;34m)\u001b[0m\u001b[0;34m\u001b[0m\u001b[0;34m\u001b[0m\u001b[0m\n\u001b[1;32m      4\u001b[0m \u001b[0mres\u001b[0m \u001b[0;34m=\u001b[0m \u001b[0;36m0\u001b[0m\u001b[0;34m\u001b[0m\u001b[0;34m\u001b[0m\u001b[0m\n\u001b[1;32m      5\u001b[0m \u001b[0mtmp\u001b[0m \u001b[0;34m=\u001b[0m \u001b[0;36m0\u001b[0m\u001b[0;34m\u001b[0m\u001b[0;34m\u001b[0m\u001b[0m\n",
            "\u001b[0;32m/usr/local/lib/python3.7/dist-packages/ipykernel/kernelbase.py\u001b[0m in \u001b[0;36mraw_input\u001b[0;34m(self, prompt)\u001b[0m\n\u001b[1;32m    702\u001b[0m             \u001b[0mself\u001b[0m\u001b[0;34m.\u001b[0m\u001b[0m_parent_ident\u001b[0m\u001b[0;34m,\u001b[0m\u001b[0;34m\u001b[0m\u001b[0;34m\u001b[0m\u001b[0m\n\u001b[1;32m    703\u001b[0m             \u001b[0mself\u001b[0m\u001b[0;34m.\u001b[0m\u001b[0m_parent_header\u001b[0m\u001b[0;34m,\u001b[0m\u001b[0;34m\u001b[0m\u001b[0;34m\u001b[0m\u001b[0m\n\u001b[0;32m--> 704\u001b[0;31m             \u001b[0mpassword\u001b[0m\u001b[0;34m=\u001b[0m\u001b[0;32mFalse\u001b[0m\u001b[0;34m,\u001b[0m\u001b[0;34m\u001b[0m\u001b[0;34m\u001b[0m\u001b[0m\n\u001b[0m\u001b[1;32m    705\u001b[0m         )\n\u001b[1;32m    706\u001b[0m \u001b[0;34m\u001b[0m\u001b[0m\n",
            "\u001b[0;32m/usr/local/lib/python3.7/dist-packages/ipykernel/kernelbase.py\u001b[0m in \u001b[0;36m_input_request\u001b[0;34m(self, prompt, ident, parent, password)\u001b[0m\n\u001b[1;32m    732\u001b[0m             \u001b[0;32mexcept\u001b[0m \u001b[0mKeyboardInterrupt\u001b[0m\u001b[0;34m:\u001b[0m\u001b[0;34m\u001b[0m\u001b[0;34m\u001b[0m\u001b[0m\n\u001b[1;32m    733\u001b[0m                 \u001b[0;31m# re-raise KeyboardInterrupt, to truncate traceback\u001b[0m\u001b[0;34m\u001b[0m\u001b[0;34m\u001b[0m\u001b[0;34m\u001b[0m\u001b[0m\n\u001b[0;32m--> 734\u001b[0;31m                 \u001b[0;32mraise\u001b[0m \u001b[0mKeyboardInterrupt\u001b[0m\u001b[0;34m\u001b[0m\u001b[0;34m\u001b[0m\u001b[0m\n\u001b[0m\u001b[1;32m    735\u001b[0m             \u001b[0;32melse\u001b[0m\u001b[0;34m:\u001b[0m\u001b[0;34m\u001b[0m\u001b[0;34m\u001b[0m\u001b[0m\n\u001b[1;32m    736\u001b[0m                 \u001b[0;32mbreak\u001b[0m\u001b[0;34m\u001b[0m\u001b[0;34m\u001b[0m\u001b[0m\n",
            "\u001b[0;31mKeyboardInterrupt\u001b[0m: "
          ]
        }
      ]
    },
    {
      "cell_type": "markdown",
      "metadata": {
        "id": "qn6TBQ3lW_4p"
      },
      "source": [
        "#AtCoderABC131"
      ]
    },
    {
      "cell_type": "code",
      "metadata": {
        "colab": {
          "base_uri": "https://localhost:8080/"
        },
        "id": "DdWPyFbUXC66",
        "outputId": "65cb4348-2230-4486-ed05-86be2ac18658"
      },
      "source": [
        "#AtCoderABC131 A問題\n",
        "s = input()\n",
        "flag = 0\n",
        "\n",
        "for i in range(3):\n",
        "  if s[i] == s[i+1]:\n",
        "    flag = 1\n",
        "if flag:\n",
        "  print(\"Bad\")\n",
        "else:\n",
        "  print(\"Good\")"
      ],
      "execution_count": null,
      "outputs": [
        {
          "output_type": "stream",
          "text": [
            "8080\n",
            "Good\n"
          ],
          "name": "stdout"
        }
      ]
    },
    {
      "cell_type": "code",
      "metadata": {
        "colab": {
          "base_uri": "https://localhost:8080/"
        },
        "id": "LWo0d1AcXGZl",
        "outputId": "78fce9e7-4d8f-4517-a0d5-2f236264ceb7"
      },
      "source": [
        "#AtCoderABC131 B問題\n",
        "n , l = map(int, input().split())\n",
        "lst = [l + i for i in range(n)]\n",
        "if 0 in lst:\n",
        "  print(sum(lst))\n",
        "elif l < 0:\n",
        "  print(sum(lst) - max(lst))\n",
        "else:\n",
        "  print(sum(lst) - min(lst))\n"
      ],
      "execution_count": null,
      "outputs": [
        {
          "output_type": "stream",
          "text": [
            "30 -50\n",
            "-1044\n"
          ],
          "name": "stdout"
        }
      ]
    },
    {
      "cell_type": "code",
      "metadata": {
        "colab": {
          "base_uri": "https://localhost:8080/"
        },
        "id": "_aIHSRytXG0D",
        "outputId": "884aea1c-9092-4b06-ae89-3d56a15212ef"
      },
      "source": [
        "#AtCoderABC131 C問題\n",
        "import math\n",
        "a,b,c,d = map(int, input().split())\n",
        "tmp =  (b//c) - ((a-1)//c)\n",
        "tmp2 =  (b//d) - ((a-1)//d)\n",
        "tmp3 =  (b//((c*d)//math.gcd(c,d))) - ((a-1)//((c*d)//math.gcd(c,d)))\n",
        "res = b - a + 1 - tmp - tmp2 + tmp3\n",
        "print(res)"
      ],
      "execution_count": null,
      "outputs": [
        {
          "output_type": "stream",
          "text": [
            "314159265358979323 846264338327950288 419716939 937510582\n",
            "532105071133627368\n"
          ],
          "name": "stdout"
        }
      ]
    },
    {
      "cell_type": "code",
      "metadata": {
        "colab": {
          "base_uri": "https://localhost:8080/"
        },
        "id": "uROEwtNoXHCY",
        "outputId": "44a78047-35a3-4530-d262-015339b2bdd4"
      },
      "source": [
        "#AtCoderABC131 D問題\n",
        "import numpy as np\n",
        "n = int(input())\n",
        "lst = [list(map(int,input().split())) for i in range(n)]\n",
        "arr = np.array(lst)\n",
        "# arr = np.sort(arr, axis = 0)\n",
        "ind = np.argsort(arr[:, 1])\n",
        "now = 0\n",
        "flag = 0\n",
        "for i in ind:\n",
        "  tmp = arr[i,:]\n",
        "  now += tmp[0]\n",
        "  if now > tmp[1]:\n",
        "    flag = 1\n",
        "    break\n",
        "if flag:\n",
        "  print(\"No\") \n",
        "else:\n",
        "  print(\"Yes\")\n"
      ],
      "execution_count": null,
      "outputs": [
        {
          "output_type": "stream",
          "text": [
            "5\n",
            "1 8\n",
            "1 9\n",
            "4 9\n",
            "2 4\n",
            "3 12\n",
            "Yes\n"
          ],
          "name": "stdout"
        }
      ]
    },
    {
      "cell_type": "code",
      "metadata": {
        "colab": {
          "base_uri": "https://localhost:8080/"
        },
        "id": "qVmcvIhkn_Ds",
        "outputId": "d7dee27b-7113-47a0-f916-8923b4e8bdd2"
      },
      "source": [
        "lst"
      ],
      "execution_count": null,
      "outputs": [
        {
          "output_type": "execute_result",
          "data": {
            "text/plain": [
              "array([ 1.,  1.,  2.,  3.,  4.,  4.,  8.,  9.,  9., 12.])"
            ]
          },
          "metadata": {
            "tags": []
          },
          "execution_count": 53
        }
      ]
    },
    {
      "cell_type": "markdown",
      "metadata": {
        "id": "7nBXBPTzhquU"
      },
      "source": [
        "#AtCoderABC132"
      ]
    },
    {
      "cell_type": "code",
      "metadata": {
        "colab": {
          "base_uri": "https://localhost:8080/"
        },
        "id": "T-HCwKSGhtcD",
        "outputId": "317ebfb4-b8fd-4a3a-9560-dc7013bed80d"
      },
      "source": [
        "#AtCoderABC132 A問題\n",
        "s = input()\n",
        "sets = set(s)\n",
        "if len(sets) != 2:\n",
        "  print(\"No\")\n",
        "else:\n",
        "  if s.count(list(sets)[0]) == s.count(list(sets)[1]):\n",
        "    print(\"Yes\")\n",
        "  else:\n",
        "    print(\"No\")"
      ],
      "execution_count": null,
      "outputs": [
        {
          "output_type": "stream",
          "text": [
            "stop\n",
            "No\n"
          ],
          "name": "stdout"
        }
      ]
    },
    {
      "cell_type": "code",
      "metadata": {
        "colab": {
          "base_uri": "https://localhost:8080/"
        },
        "id": "H9By905LqxL3",
        "outputId": "9c24f194-1f51-484b-b3dd-f4b11e252b1f"
      },
      "source": [
        "#AtCoderABC132 B問題\n",
        "n = int(input())\n",
        "lst = list(map(int, input().split()))\n",
        "res = 0\n",
        "for i in range(n-2):\n",
        "  tmp1 = lst[i]\n",
        "  tmp2 = lst[i+1]\n",
        "  tmp3 = lst[i+2]\n",
        "  if tmp2 <= tmp3:\n",
        "    if tmp1 <= tmp2:\n",
        "      res += 1\n",
        "  else:\n",
        "    if tmp2 <= tmp1:\n",
        "      res += 1\n",
        "print(res)\n"
      ],
      "execution_count": null,
      "outputs": [
        {
          "output_type": "stream",
          "text": [
            "9\n",
            "9 6 3 2 5 8 7 4 1\n",
            "5\n"
          ],
          "name": "stdout"
        }
      ]
    },
    {
      "cell_type": "code",
      "metadata": {
        "colab": {
          "base_uri": "https://localhost:8080/"
        },
        "id": "eO4W0Rx0taRD",
        "outputId": "59cc10b5-e897-49d5-e45e-d02ecf01e59b"
      },
      "source": [
        "#AtCoderABC132 C問題\n",
        "n = int(input())\n",
        "halfn = int(n * 0.5)\n",
        "lst = list(map(int, input().split()))\n",
        "lst.sort()\n",
        "print(lst[halfn] - lst[halfn-1])"
      ],
      "execution_count": null,
      "outputs": [
        {
          "output_type": "stream",
          "text": [
            "14\n",
            "99592 10342 29105 78532 83018 11639 92015 77204 30914 21912 34519 80835 100000 1\n",
            "42685\n"
          ],
          "name": "stdout"
        }
      ]
    },
    {
      "cell_type": "markdown",
      "metadata": {
        "id": "Btbc3KTgMIak"
      },
      "source": [
        "#AtCoderABC133"
      ]
    },
    {
      "cell_type": "code",
      "metadata": {
        "colab": {
          "base_uri": "https://localhost:8080/"
        },
        "id": "ns2KZRzNMLg_",
        "outputId": "77928257-23ad-44d7-d0ea-de3be9851304"
      },
      "source": [
        "#AtCoderABC133 A問題\n",
        "n , a, b = map(int , input().split())\n",
        "print(min(n * a , b))"
      ],
      "execution_count": 2,
      "outputs": [
        {
          "output_type": "stream",
          "text": [
            "4 2 9\n",
            "8\n"
          ],
          "name": "stdout"
        }
      ]
    },
    {
      "cell_type": "code",
      "metadata": {
        "colab": {
          "base_uri": "https://localhost:8080/"
        },
        "id": "Fin8FvkrNEYQ",
        "outputId": "2ef58ba8-2c5c-414c-decf-7eb8d3213983"
      },
      "source": [
        "#AtCodeerABC133 B問題\n",
        "n , d = map(int, input().split())\n",
        "lst = [list(map(int,input().split())) for i in range(n)]\n",
        "res = 0\n",
        "for i in range(n):\n",
        "  for j in range(i+1,n):\n",
        "    tmp = sum([ (lst[i][l] - lst[j][l]) ** 2 for l in range(d)])\n",
        "    tmp_root = tmp ** 0.5\n",
        "    if tmp_root.is_integer():\n",
        "      res += 1\n",
        "print(res)"
      ],
      "execution_count": 10,
      "outputs": [
        {
          "output_type": "stream",
          "text": [
            "5 1\n",
            "1\n",
            "2\n",
            "3\n",
            "4\n",
            "5\n",
            "10\n"
          ],
          "name": "stdout"
        }
      ]
    },
    {
      "cell_type": "code",
      "metadata": {
        "colab": {
          "base_uri": "https://localhost:8080/"
        },
        "id": "TiPAsV8cPDXh",
        "outputId": "bbb5cd8c-d9dd-4e99-e84d-f2ba7ea2488b"
      },
      "source": [
        "#AtCoderABC133 C問題\n",
        "l, r = map(int, input().split())\n",
        "\n",
        "res = 2019\n",
        "if r-l+1 > 2018:\n",
        "  res = 0\n",
        "else:\n",
        "  for i in range(l,r):\n",
        "    tmpi = i % 2019\n",
        "    for j in range(i+1,r+1):\n",
        "      tmp = (tmpi*(j%2019)) % 2019\n",
        "      if res > tmp:\n",
        "        res = tmp\n",
        "print(res)\n",
        "# print(pow(res, 1 , 2019))\n",
        "\n",
        "\n",
        "\n",
        "  # lst = [pow(i,1,2019) for i in range(l,r+1)]\n",
        "  # lst3 = list(map(lambda x: x%3,lst))\n",
        "  # lst673 = list(map(lambda x: x%673,lst))\n",
        "  # if 0 in lst3 and 0 in lst673:\n",
        "  #   res = 0\n",
        "  # else:\n",
        "  #   lst.sort()\n",
        "  #   res = lst[1] * lst[0]"
      ],
      "execution_count": 36,
      "outputs": [
        {
          "output_type": "stream",
          "text": [
            "2020 2040\n",
            "2\n"
          ],
          "name": "stdout"
        }
      ]
    },
    {
      "cell_type": "code",
      "metadata": {
        "colab": {
          "base_uri": "https://localhost:8080/"
        },
        "id": "ISboQbOoboG7",
        "outputId": "c058b60f-944b-43cf-b32f-53a291ef297c"
      },
      "source": [
        "pow(2,10,3)"
      ],
      "execution_count": 38,
      "outputs": [
        {
          "output_type": "execute_result",
          "data": {
            "text/plain": [
              "1"
            ]
          },
          "metadata": {
            "tags": []
          },
          "execution_count": 38
        }
      ]
    },
    {
      "cell_type": "markdown",
      "metadata": {
        "id": "rrvNGExEYumO"
      },
      "source": [
        "#AtCoderABC194\n"
      ]
    },
    {
      "cell_type": "code",
      "metadata": {
        "colab": {
          "base_uri": "https://localhost:8080/"
        },
        "id": "l2rxDuZxYGi1",
        "outputId": "819c474b-bc8f-4d8d-dd3c-cd0aa2288ee2"
      },
      "source": [
        "#AtCoderABC194 A問題\n",
        "a,b = map(int, input().split())\n",
        "if a+b >= 15 and b >= 8:\n",
        "  print(1)\n",
        "elif a+b >= 10 and b >= 3:\n",
        "  print(2)\n",
        "elif a + b >= 3:\n",
        "  print(3)\n",
        "else:\n",
        "  print(4)"
      ],
      "execution_count": null,
      "outputs": [
        {
          "output_type": "stream",
          "text": [
            "0 0 \n",
            "4\n"
          ],
          "name": "stdout"
        }
      ]
    },
    {
      "cell_type": "code",
      "metadata": {
        "colab": {
          "base_uri": "https://localhost:8080/"
        },
        "id": "5pFhNqf2Y0LD",
        "outputId": "58d85104-5b36-482c-a0b8-381c30158434"
      },
      "source": [
        "#AtCoderABC194 B問題\n",
        "n = int(input())\n",
        "a = []\n",
        "b = []\n",
        "res = []\n",
        "for i in range(n):\n",
        "  tmp = list(map(int, input().split()))\n",
        "  a.append(tmp[0])\n",
        "  b.append(tmp[1])\n",
        "\n",
        "for i in range(n):\n",
        "  for j in range(n):\n",
        "    if i == j:\n",
        "      tmp2 = a[i] + b[j]\n",
        "      res.append(tmp2)\n",
        "    else:\n",
        "      tmp2 = max(a[i], b[j])\n",
        "      res.append(tmp2)\n",
        "print(min(res))\n"
      ],
      "execution_count": null,
      "outputs": [
        {
          "output_type": "stream",
          "text": [
            "3\n",
            "11 7\n",
            "3 2\n",
            "6 7\n",
            "5\n"
          ],
          "name": "stdout"
        }
      ]
    },
    {
      "cell_type": "code",
      "metadata": {
        "colab": {
          "base_uri": "https://localhost:8080/"
        },
        "id": "jdB10IjvcN6n",
        "outputId": "a590cf9b-09e6-4799-a340-7ac6ae357572"
      },
      "source": [
        "#AtCoderABC194 C問題\n",
        "#なぜか実行時エラーが起こる\n",
        "# import numpy as np\n",
        "\n",
        "# n = int(input())\n",
        "# a = list(map(int,input().split()))\n",
        "# an=np.array(a)\n",
        "# c = an.reshape([n,1]) @ an.reshape([1,n])\n",
        "# res = (n+1) * sum(np.diag(c)) - 2 *  sum(sum(np.tril(c)))\n",
        "# print(res)\n",
        "\n",
        "\n",
        "##パターン2\n",
        "# import itertools\n",
        "# n = int(input())\n",
        "# a = list(map(int,input().split()))\n",
        "# tmp = - 2 *sum(list(map(lambda x:x[0]*x[1] , list(itertools.combinations(a, 2))))) \n",
        "# res = sum(list(map(lambda x: x**2 , a))) * (n-1) + tmp\n",
        "# print(res)\n",
        "\n",
        "n = int(input())\n",
        "a = list(map(int , input().split()))\n",
        "res = sum([a[i] * ((n-1) * a[i] - 2 * sum(a[i+1:])) for i in range(n)])\n",
        "\n",
        "print(res)"
      ],
      "execution_count": null,
      "outputs": [
        {
          "output_type": "stream",
          "text": [
            "3\n",
            "2 8 4\n",
            "56\n"
          ],
          "name": "stdout"
        }
      ]
    },
    {
      "cell_type": "code",
      "metadata": {
        "colab": {
          "base_uri": "https://localhost:8080/"
        },
        "id": "ydnLkMLCcOZR",
        "outputId": "1153a81a-5fc5-4349-b06a-0421a26ba541"
      },
      "source": [
        "#AtCoderABC194 D問題\n",
        "sum([]) * 3"
      ],
      "execution_count": null,
      "outputs": [
        {
          "output_type": "execute_result",
          "data": {
            "text/plain": [
              "0"
            ]
          },
          "metadata": {
            "tags": []
          },
          "execution_count": 73
        }
      ]
    },
    {
      "cell_type": "code",
      "metadata": {
        "colab": {
          "base_uri": "https://localhost:8080/"
        },
        "id": "QO3HMasMo4Hb",
        "outputId": "2d0a462c-c637-4a93-a74f-2194b8c2bcc8"
      },
      "source": [
        "list(itertools.combinations(a, 2))"
      ],
      "execution_count": null,
      "outputs": [
        {
          "output_type": "execute_result",
          "data": {
            "text/plain": [
              "[(2, 8), (2, 4), (8, 4)]"
            ]
          },
          "metadata": {
            "tags": []
          },
          "execution_count": 69
        }
      ]
    },
    {
      "cell_type": "markdown",
      "metadata": {
        "id": "fduwXcgxbcxq"
      },
      "source": [
        "#AtCoderABC195"
      ]
    },
    {
      "cell_type": "code",
      "metadata": {
        "id": "M1it4YElbf93",
        "colab": {
          "base_uri": "https://localhost:8080/"
        },
        "outputId": "411c8e9c-8b96-43b7-ee04-5a8fba0d950e"
      },
      "source": [
        "#AtCoderABC195 A問題\n",
        "m,h = map(int, input().split())\n",
        "if h % m ==0:\n",
        "  print(\"Yes\")\n",
        "else:\n",
        "  print(\"No\")"
      ],
      "execution_count": null,
      "outputs": [
        {
          "output_type": "stream",
          "text": [
            "10 125\n",
            "No\n"
          ],
          "name": "stdout"
        }
      ]
    },
    {
      "cell_type": "code",
      "metadata": {
        "id": "60J8QAkQbk-I",
        "colab": {
          "base_uri": "https://localhost:8080/"
        },
        "outputId": "c82f6548-e80e-4606-d9e7-bc4fe796cb22"
      },
      "source": [
        "#AtCoderABC195 B問題\n",
        "a ,b , w = map(int, input().split())\n",
        "w1000 = w * 1000\n",
        "max_ind = int(w1000 // a) \n",
        "min_ind = int(w1000 // b) \n",
        "lst = []\n",
        "for i in range(min_ind, max_ind + 1):\n",
        "  tmp = w1000 - i * a \n",
        "  if 0 <= tmp <= (b-a) * i:\n",
        "    lst.append(i)\n",
        "\n",
        "if not lst:\n",
        "  print(\"UNSATISFIABLE\")\n",
        "else:\n",
        "  print(min(lst) , max(lst))"
      ],
      "execution_count": null,
      "outputs": [
        {
          "output_type": "stream",
          "text": [
            "300 333 1\n",
            "UNSATISFIABLE\n"
          ],
          "name": "stdout"
        }
      ]
    },
    {
      "cell_type": "code",
      "metadata": {
        "id": "J8NI5qFObmNO",
        "colab": {
          "base_uri": "https://localhost:8080/"
        },
        "outputId": "8fa42ce9-a0c3-4627-8767-2a05edae6797"
      },
      "source": [
        "#AtCoderABC195 C問題\n",
        "n  = int(input())\n",
        "if n < 1000:\n",
        "  print(0)\n",
        "else:\n",
        "  nlen = len(str(n))\n",
        "  if 4 <= nlen <=6:\n",
        "    tmp = n - 999\n",
        "  elif 7 <= nlen <= 9:\n",
        "    tmp = n - 999 + n - 999999\n",
        "  elif 10 <= nlen <= 12:\n",
        "    tmp = n - 999 + n - 999999 + n - 999999999\n",
        "  elif 13 <= nlen <= 15:\n",
        "    tmp = n - 999 + n - 999999 + n - 999999999 + n -999999999999\n",
        "  else:\n",
        "    tmp = n - 999 + n - 999999 + n - 999999999 + n -999999999999 + n -999999999999999\n",
        "  print(tmp)"
      ],
      "execution_count": null,
      "outputs": [
        {
          "output_type": "stream",
          "text": [
            "11000\n",
            "10001\n"
          ],
          "name": "stdout"
        }
      ]
    },
    {
      "cell_type": "code",
      "metadata": {
        "colab": {
          "base_uri": "https://localhost:8080/"
        },
        "id": "6S8aaIgekuqT",
        "outputId": "356b4416-578f-480c-d443-ad78eec7354f"
      },
      "source": [
        "#AtCoderABC195 D問題\n",
        "n , m , q = map(int, input().split())\n",
        "lag = []\n",
        "for i in range(n):\n",
        "  tmp = list(map(int, input().split()))\n",
        "  lag.append(tmp)\n",
        "lag2 = sorted(lag)\n",
        "box = list(map(int, input().split()))\n",
        "query = []\n",
        "for i in range(q):\n",
        "  l, r = map(int , input().split())\n",
        "  lag3 = lag2.copy()\n",
        "  tmp = box[:l-1] + box[r:]\n",
        "  if not tmp:\n",
        "    print(0)\n",
        "  else:\n",
        "    tmp2 = sorted(tmp)\n",
        "    res = 0\n",
        "    for j in tmp2:\n",
        "      flag = 1\n",
        "      while flag:\n",
        "        tmp3 = lag3.pop(0)\n",
        "        if tmp3[0] <= j:\n",
        "          res = res + tmp3[1]\n",
        "          flag = 0\n",
        "        if not lag3:\n",
        "          flag = 0\n",
        "    print(res)\n",
        "\n",
        "\n",
        "\n",
        "\n",
        "\n",
        "\n",
        "    # if n < len(tmp2):\n",
        "    #   res = 0\n",
        "    #   for j in range(n):\n",
        "    #     hoge\n",
        "    # elif n == len(tmp2):\n",
        "    #   for j in range(n):\n",
        "    #     hoge\n",
        "    # else:\n",
        "    #   for j in tmp2:\n",
        "\n"
      ],
      "execution_count": null,
      "outputs": [
        {
          "output_type": "stream",
          "text": [
            "3 4 3\n",
            "1 9\n",
            "5 3\n",
            "7 8\n",
            "1 8 6 9\n",
            "4 4\n",
            "20\n",
            "1 4\n",
            "0\n",
            "20\n",
            "1 3\n",
            "9\n"
          ],
          "name": "stdout"
        }
      ]
    },
    {
      "cell_type": "code",
      "metadata": {
        "colab": {
          "base_uri": "https://localhost:8080/"
        },
        "id": "7iix6K1Wvt-8",
        "outputId": "957ef8bd-e98a-405f-d4d2-6a2c849f8c84"
      },
      "source": [
        "sorted(lag , reverse=True)"
      ],
      "execution_count": null,
      "outputs": [
        {
          "output_type": "execute_result",
          "data": {
            "text/plain": [
              "[[7, 8], [5, 3], [1, 9]]"
            ]
          },
          "metadata": {
            "tags": []
          },
          "execution_count": 55
        }
      ]
    },
    {
      "cell_type": "markdown",
      "metadata": {
        "id": "fsUI8MwhjXOW"
      },
      "source": [
        "#AtCoderABC197"
      ]
    },
    {
      "cell_type": "code",
      "metadata": {
        "colab": {
          "base_uri": "https://localhost:8080/"
        },
        "id": "zX2lSy8vjcHP",
        "outputId": "d0f4a93a-4746-45ff-e935-a757eba4df98"
      },
      "source": [
        "#AtCoderABC197 A問題\n",
        "s = input()\n",
        "sp = s[1] + s[2] + s[0]\n",
        "print(sp)"
      ],
      "execution_count": null,
      "outputs": [
        {
          "output_type": "stream",
          "text": [
            "abc\n",
            "bca\n"
          ],
          "name": "stdout"
        }
      ]
    },
    {
      "cell_type": "code",
      "metadata": {
        "colab": {
          "base_uri": "https://localhost:8080/"
        },
        "id": "Ig2bnO61jeKS",
        "outputId": "50b404d9-413d-403a-f22e-1bd91ab524f9"
      },
      "source": [
        "#AtCoderABC197 B問題\n",
        "h , w, x, y = map(int, input().split())\n",
        "col = \"\"\n",
        "row = \"\"\n",
        "for i in range(h):\n",
        "  s = input()\n",
        "  col = col + s[y-1]\n",
        "  if i == x-1:\n",
        "    row = s\n",
        "flag = 1\n",
        "res = 1\n",
        "for i in range(y-2,-1,-1):\n",
        "  if row[i] != \".\":\n",
        "    flag = 0\n",
        "  if flag != 0:\n",
        "    res += 1\n",
        "\n",
        "flag = 1\n",
        "for i in range(y,w):\n",
        "  if row[i] != \".\":\n",
        "    flag = 0\n",
        "  if flag != 0:\n",
        "    res += 1\n",
        "\n",
        "flag = 1\n",
        "for j in range(x-2, -1, -1):\n",
        "  if col[j] != \".\":\n",
        "    flag = 0\n",
        "  if flag != 0:\n",
        "    res += 1\n",
        "\n",
        "flag = 1\n",
        "for j in range(x,h):\n",
        "  if col[j] != \".\":\n",
        "    flag = 0\n",
        "  if flag != 0:\n",
        "    res += 1\n",
        "\n",
        "print(res)"
      ],
      "execution_count": null,
      "outputs": [
        {
          "output_type": "stream",
          "text": [
            "5 5 4 2\n",
            ".#..#\n",
            "#.###\n",
            "##...\n",
            "#..#.\n",
            "#.###\n",
            "0\n",
            "2\n",
            "3\n",
            "4\n",
            "2\n",
            "1\n",
            "0\n",
            "4\n",
            "3\n"
          ],
          "name": "stdout"
        }
      ]
    },
    {
      "cell_type": "code",
      "metadata": {
        "colab": {
          "base_uri": "https://localhost:8080/"
        },
        "id": "fQHL_lxVlFjk",
        "outputId": "84f21526-1b3f-4885-e5ca-a2dada7c2fa6"
      },
      "source": [
        "#AtCoderABC197 C問題\n",
        "n = int(input())\n",
        "lst = list(map(int, input().split()))\n",
        "\n",
        "res = 2 ** 30 + 1\n",
        "for i in range(2 ** (n-1)):\n",
        "    now = 0\n",
        "    ind = 0\n",
        "    for j in range(n-1):\n",
        "      if i >> j & 1:\n",
        "        tmp = 0\n",
        "        for l in range(ind,j+1):\n",
        "          tmp = tmp | lst[l]\n",
        "        now = now ^ tmp\n",
        "        ind = j \n",
        "    tmp = 0 \n",
        "    for j in range(ind,n):\n",
        "      tmp = tmp | lst[j]\n",
        "    now = now ^ tmp\n",
        "    if res > now:\n",
        "      res = now\n",
        "print(res)"
      ],
      "execution_count": null,
      "outputs": [
        {
          "output_type": "stream",
          "text": [
            "3\n",
            "1 5 7\n",
            "2\n"
          ],
          "name": "stdout"
        }
      ]
    },
    {
      "cell_type": "code",
      "metadata": {
        "colab": {
          "base_uri": "https://localhost:8080/"
        },
        "id": "5AOeMEt45lJL",
        "outputId": "fa9ca57c-461a-46c3-ce17-bfd494953b81"
      },
      "source": [
        "4 ^ 0"
      ],
      "execution_count": null,
      "outputs": [
        {
          "output_type": "execute_result",
          "data": {
            "text/plain": [
              "4"
            ]
          },
          "metadata": {
            "tags": []
          },
          "execution_count": 46
        }
      ]
    },
    {
      "cell_type": "markdown",
      "metadata": {
        "id": "2TQWMX6CiL0N"
      },
      "source": [
        "#AtCoderARC115"
      ]
    },
    {
      "cell_type": "code",
      "metadata": {
        "id": "V5jcAXBziPI3",
        "colab": {
          "base_uri": "https://localhost:8080/"
        },
        "outputId": "c6ec9277-3dbf-4859-faf9-393afb9b099e"
      },
      "source": [
        "#AtCoderARC115 A問題\n",
        "n , m = map(int , input().split())\n",
        "lst = []\n",
        "for i in range(n):\n",
        "  tmp = input()\n",
        "  res = 0\n",
        "  for j in range(m):\n",
        "    if int(tmp[j]) == 0:\n",
        "      res += 1\n",
        "  lst.append(res%2)\n",
        "\n",
        "res = sum(lst) * (n - sum(lst))\n",
        "print(res)"
      ],
      "execution_count": null,
      "outputs": [
        {
          "output_type": "stream",
          "text": [
            "7 5\n",
            "10101\n",
            "00001\n",
            "00110\n",
            "11110\n",
            "00100\n",
            "11111\n",
            "10000\n",
            "10\n"
          ],
          "name": "stdout"
        }
      ]
    },
    {
      "cell_type": "code",
      "metadata": {
        "colab": {
          "base_uri": "https://localhost:8080/"
        },
        "id": "UX0s97w3cRtO",
        "outputId": "dc8170a4-e35f-472f-80da-508325b99f22"
      },
      "source": [
        "#AtCoderARC115 B問題\n",
        "n = int(input())\n",
        "lst = []\n",
        "minind = 0\n",
        "minval = 10**9 + 1\n",
        "for i in range(n):\n",
        "  tmp = list(map(int, input().split()))\n",
        "  lst.append(tmp)\n",
        "  if minval > min(tmp):\n",
        "    minval = min(tmp)\n",
        "    minind = tmp.index(minval)\n",
        "flag = 0\n",
        "for i in range(minval):\n",
        "  resB = [l - i for l in lst[minind]]\n",
        "  resA = [0 for j in range(n)]\n",
        "  for l in range(n):\n",
        "    resA[l] = lst[l][l] - resB[l]\n",
        "  tmp = [-1 for j in range(n) for l in range(n) if resA[j] + resB[l] != lst[j][l]]\n",
        "  tmp2 = [-1 for i in range(n) if resA[i] < 0 or resB[i] < 0]\n",
        "  if -1 not in (tmp + tmp2):\n",
        "    flag = 1\n",
        "    break\n",
        "\n",
        "if flag:\n",
        "  print(\"Yes\")\n",
        "  print(' '.join(map(str, resA)))\n",
        "  print(' '.join(map(str, resB)))\n",
        "else:\n",
        "  print(\"No\")"
      ],
      "execution_count": null,
      "outputs": [
        {
          "output_type": "stream",
          "text": [
            "3\n",
            "4 3 5\n",
            "2 2 3\n",
            "3 2 4\n",
            "[0, -1, -1]\n",
            "[1, 0, 0]\n",
            "No\n"
          ],
          "name": "stdout"
        }
      ]
    },
    {
      "cell_type": "code",
      "metadata": {
        "colab": {
          "base_uri": "https://localhost:8080/"
        },
        "id": "MyWQiXf-n3XX",
        "outputId": "f0598bf4-02b0-406f-db0a-cba8e58ccc88"
      },
      "source": [
        "for i in range(1,10):\n",
        "  print(i)"
      ],
      "execution_count": null,
      "outputs": [
        {
          "output_type": "stream",
          "text": [
            "1\n",
            "2\n",
            "3\n",
            "4\n",
            "5\n",
            "6\n",
            "7\n",
            "8\n",
            "9\n"
          ],
          "name": "stdout"
        }
      ]
    },
    {
      "cell_type": "markdown",
      "metadata": {
        "id": "u9Z7M-SpsVyh"
      },
      "source": [
        "#AtCoderARC116"
      ]
    },
    {
      "cell_type": "code",
      "metadata": {
        "colab": {
          "base_uri": "https://localhost:8080/"
        },
        "id": "gc6z5WiAsaoB",
        "outputId": "124799c3-7312-42cb-edb2-093486c4c011"
      },
      "source": [
        "#AtCoderARC116 A問題\n",
        "t = int(input())\n",
        "for i in range(t):\n",
        "  n = int(input())\n",
        "  if n == 2:\n",
        "    print(\"Same\")\n",
        "  elif n % 2 == 0:\n",
        "    if n % 4 ==0:\n",
        "      print(\"Even\")\n",
        "    else:\n",
        "      print(\"Same\")\n",
        "  else:\n",
        "    print(\"Odd\")\n"
      ],
      "execution_count": null,
      "outputs": [
        {
          "output_type": "stream",
          "text": [
            "3\n",
            "2\n",
            "Same\n",
            "139\n",
            "Odd\n",
            "149912\n",
            "Even\n"
          ],
          "name": "stdout"
        }
      ]
    },
    {
      "cell_type": "code",
      "metadata": {
        "colab": {
          "base_uri": "https://localhost:8080/"
        },
        "id": "kVp5CEs_sd0n",
        "outputId": "1f92d725-9ea7-4b40-8d6f-31a8da3e9197"
      },
      "source": [
        "#AtCoderARC116 B問題(これでは間に合わない)\n",
        "n = int(input())\n",
        "lst = list(map(int, input().split()))\n",
        "lst.sort()\n",
        "res = 0\n",
        "for i in range(n):\n",
        "  res +=  lst[i] * lst[i]\n",
        "  res += sum([lst[i] * lst[i+j+1] * (2**j) for j in range(n-i-1)])\n",
        "res = res % 998244353\n",
        "print(res)"
      ],
      "execution_count": null,
      "outputs": [
        {
          "output_type": "stream",
          "text": [
            "7\n",
            "853983 14095 543053 143209 4324 524361 45154\n",
            "206521341\n"
          ],
          "name": "stdout"
        }
      ]
    },
    {
      "cell_type": "code",
      "metadata": {
        "colab": {
          "base_uri": "https://localhost:8080/"
        },
        "id": "qWjM5rUcw8Bm",
        "outputId": "d3730e16-657b-47ec-f548-03df29be8c34"
      },
      "source": [
        ""
      ],
      "execution_count": null,
      "outputs": [
        {
          "output_type": "execute_result",
          "data": {
            "text/plain": [
              "4015"
            ]
          },
          "metadata": {
            "tags": []
          },
          "execution_count": 10
        }
      ]
    },
    {
      "cell_type": "code",
      "metadata": {
        "id": "arnJatxOw8gL"
      },
      "source": [
        ""
      ],
      "execution_count": null,
      "outputs": []
    }
  ]
}