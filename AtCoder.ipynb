{
  "nbformat": 4,
  "nbformat_minor": 0,
  "metadata": {
    "colab": {
      "name": "AtCoder.ipynb",
      "provenance": [],
      "collapsed_sections": [
        "qsWErXmnzNs2",
        "qn6TBQ3lW_4p",
        "7nBXBPTzhquU",
        "Btbc3KTgMIak",
        "YkJ8nF6Ju5A3",
        "SpwcG0Xswzfe",
        "A-VWNbiji2ed",
        "jSj4N1ts201q",
        "bQIPKfFcvyA9",
        "lxPuf48KBhVc",
        "rXMqRdGD2Dxi",
        "aQQxGO11ioBy",
        "8qpj2l7mYDMU",
        "6jwfKX8m8c7y",
        "9uo69KyIJNIK",
        "4TM4NaHMMmzw",
        "mPZ-I_-uCWTA",
        "B2fo8BKMqljk",
        "C2NnAy---cJC",
        "oevUIp_jyYDV",
        "dJwOZR82dLSf",
        "lqZ08Q-zlhTC",
        "KMZrX7RQuItA",
        "e46QLbRs2U9R",
        "QT6eDOoMiTFC",
        "KrSsnnul5dhP",
        "CJ4gJPC-gHQA",
        "3X7k8ZHilrZM",
        "bzMHxRXUoRnH",
        "z60jtZ3XGDW9",
        "bIxUTa59ox_K",
        "LM0zXsJ9y0Fc",
        "aQqD-gbILMoh",
        "yh7GKXZeTtcf",
        "LB3gQ2J4WUnY",
        "DUt8tyMsO6AC",
        "gA2khmw8fCoR",
        "kMt89z0mB4Qq",
        "7Piwvrl7p7Sr",
        "HfAoG2PJNurd",
        "O7YUOQLYK1T_",
        "W-6yjpS5Zx2A",
        "qXRIMwoGbN5S",
        "q4PHvysLDBGR",
        "iZ_wcPeAAsYQ",
        "HYNa218OJ1aw",
        "anA9W8eqzFy_",
        "xbPyRi4UqfL7",
        "CXyEP_SfBjCk",
        "W8IMvj5Cn7BR",
        "rrvNGExEYumO",
        "fduwXcgxbcxq",
        "fsUI8MwhjXOW",
        "SRMvzZO1y3jB",
        "lirjnwVZvCT1",
        "RNq7kwKT1_AJ",
        "UBDXk_qxy9hA",
        "dVBsKl7v4h_l",
        "2TQWMX6CiL0N",
        "u9Z7M-SpsVyh",
        "yZo6YxKVOtQr"
      ],
      "authorship_tag": "ABX9TyMDPT3hP+8f9f/M5eH910fR",
      "include_colab_link": true
    },
    "kernelspec": {
      "name": "python3",
      "display_name": "Python 3"
    }
  },
  "cells": [
    {
      "cell_type": "markdown",
      "metadata": {
        "id": "view-in-github",
        "colab_type": "text"
      },
      "source": [
        "<a href=\"https://colab.research.google.com/github/sasaki-akaso270/AtCoder_practice/blob/main/AtCoder.ipynb\" target=\"_parent\"><img src=\"https://colab.research.google.com/assets/colab-badge.svg\" alt=\"Open In Colab\"/></a>"
      ]
    },
    {
      "cell_type": "markdown",
      "metadata": {
        "id": "qsWErXmnzNs2"
      },
      "source": [
        "#AtCoderABC130\n"
      ]
    },
    {
      "cell_type": "code",
      "metadata": {
        "colab": {
          "base_uri": "https://localhost:8080/"
        },
        "id": "5LmVeWfxzRos",
        "outputId": "64ef7ce4-4c06-42bc-d9a0-30d91cef7be7"
      },
      "source": [
        "#AtcoderABC130 A問題\n",
        "\n",
        "x , a = map(int, input().split())\n",
        "if x < a:\n",
        "  print(0)\n",
        "else:\n",
        "  print(10)\n"
      ],
      "execution_count": null,
      "outputs": [
        {
          "output_type": "stream",
          "text": [
            "6 6\n",
            "10\n"
          ],
          "name": "stdout"
        }
      ]
    },
    {
      "cell_type": "code",
      "metadata": {
        "colab": {
          "base_uri": "https://localhost:8080/"
        },
        "id": "HEfkifuMz44I",
        "outputId": "cd41317f-a60a-47e3-dbec-fdeb96636b82"
      },
      "source": [
        "#AtcoderABC130 B問題\n",
        "\n",
        "n , x = map(int, input().split())\n",
        "lst = list(map(int, input().split()))\n",
        "res = 1\n",
        "tmp = 0\n",
        "for i in range(n):\n",
        "  tmp = tmp + lst[i]\n",
        "  if tmp <= x:\n",
        "    res = res + 1\n",
        "print(res)"
      ],
      "execution_count": null,
      "outputs": [
        {
          "output_type": "stream",
          "text": [
            "4 9\n",
            "3 3 3 3\n",
            "3\n"
          ],
          "name": "stdout"
        }
      ]
    },
    {
      "cell_type": "code",
      "metadata": {
        "colab": {
          "base_uri": "https://localhost:8080/"
        },
        "id": "nWsPxtJ71mcD",
        "outputId": "1664da05-725d-49f3-cd45-1a73c8e1116e"
      },
      "source": [
        "#AtcoderABC130 C問題\n",
        "\n",
        "w , h,  x, y  = map(int, input().split())\n",
        "tmp = min(w - x , x -0) * h\n",
        "tmp2 = min(h-y , y-0) * w\n",
        "if tmp != 0 and tmp2 != 0:\n",
        "  if tmp == tmp2:\n",
        "    if \n",
        "    print(tmp, 1)\n",
        "  else:\n",
        "    print(max(tmp, tmp2) , 0)\n",
        "elif tmp == 0 and tmp2 == 0:\n",
        "  print(w * h * 0.5 , 0)\n",
        "elif tmp ==0:\n",
        "  print(tmp2, 0)\n",
        "else:\n",
        "  print(tmp , 0)\n"
      ],
      "execution_count": null,
      "outputs": [
        {
          "output_type": "stream",
          "text": [
            "2 2 1 1\n",
            "2 1\n"
          ],
          "name": "stdout"
        }
      ]
    },
    {
      "cell_type": "code",
      "metadata": {
        "colab": {
          "base_uri": "https://localhost:8080/",
          "height": 562
        },
        "id": "GnHqPW8Q6eXC",
        "outputId": "6989407b-a365-48fa-ae9c-4d9d823b364c"
      },
      "source": [
        "#AtcoderABC130 D問題\n",
        "n ,k  = map(int, input().split())\n",
        "alst = list(map(int, input().split()))\n",
        "res = 0\n",
        "tmp = 0\n",
        "for i in range(n):\n",
        "  tmp = alst[i]\n",
        "  for j in range(i+1,n):\n",
        "    tmp = tmp + alst[j]\n",
        "    if k <= tmp:\n",
        "      res += 1\n",
        "print(res)"
      ],
      "execution_count": null,
      "outputs": [
        {
          "output_type": "error",
          "ename": "KeyboardInterrupt",
          "evalue": "ignored",
          "traceback": [
            "\u001b[0;31m---------------------------------------------------------------------------\u001b[0m",
            "\u001b[0;31mKeyboardInterrupt\u001b[0m                         Traceback (most recent call last)",
            "\u001b[0;32m/usr/local/lib/python3.7/dist-packages/ipykernel/kernelbase.py\u001b[0m in \u001b[0;36m_input_request\u001b[0;34m(self, prompt, ident, parent, password)\u001b[0m\n\u001b[1;32m    728\u001b[0m             \u001b[0;32mtry\u001b[0m\u001b[0;34m:\u001b[0m\u001b[0;34m\u001b[0m\u001b[0;34m\u001b[0m\u001b[0m\n\u001b[0;32m--> 729\u001b[0;31m                 \u001b[0mident\u001b[0m\u001b[0;34m,\u001b[0m \u001b[0mreply\u001b[0m \u001b[0;34m=\u001b[0m \u001b[0mself\u001b[0m\u001b[0;34m.\u001b[0m\u001b[0msession\u001b[0m\u001b[0;34m.\u001b[0m\u001b[0mrecv\u001b[0m\u001b[0;34m(\u001b[0m\u001b[0mself\u001b[0m\u001b[0;34m.\u001b[0m\u001b[0mstdin_socket\u001b[0m\u001b[0;34m,\u001b[0m \u001b[0;36m0\u001b[0m\u001b[0;34m)\u001b[0m\u001b[0;34m\u001b[0m\u001b[0;34m\u001b[0m\u001b[0m\n\u001b[0m\u001b[1;32m    730\u001b[0m             \u001b[0;32mexcept\u001b[0m \u001b[0mException\u001b[0m\u001b[0;34m:\u001b[0m\u001b[0;34m\u001b[0m\u001b[0;34m\u001b[0m\u001b[0m\n",
            "\u001b[0;32m/usr/local/lib/python3.7/dist-packages/jupyter_client/session.py\u001b[0m in \u001b[0;36mrecv\u001b[0;34m(self, socket, mode, content, copy)\u001b[0m\n\u001b[1;32m    802\u001b[0m         \u001b[0;32mtry\u001b[0m\u001b[0;34m:\u001b[0m\u001b[0;34m\u001b[0m\u001b[0;34m\u001b[0m\u001b[0m\n\u001b[0;32m--> 803\u001b[0;31m             \u001b[0mmsg_list\u001b[0m \u001b[0;34m=\u001b[0m \u001b[0msocket\u001b[0m\u001b[0;34m.\u001b[0m\u001b[0mrecv_multipart\u001b[0m\u001b[0;34m(\u001b[0m\u001b[0mmode\u001b[0m\u001b[0;34m,\u001b[0m \u001b[0mcopy\u001b[0m\u001b[0;34m=\u001b[0m\u001b[0mcopy\u001b[0m\u001b[0;34m)\u001b[0m\u001b[0;34m\u001b[0m\u001b[0;34m\u001b[0m\u001b[0m\n\u001b[0m\u001b[1;32m    804\u001b[0m         \u001b[0;32mexcept\u001b[0m \u001b[0mzmq\u001b[0m\u001b[0;34m.\u001b[0m\u001b[0mZMQError\u001b[0m \u001b[0;32mas\u001b[0m \u001b[0me\u001b[0m\u001b[0;34m:\u001b[0m\u001b[0;34m\u001b[0m\u001b[0;34m\u001b[0m\u001b[0m\n",
            "\u001b[0;32m/usr/local/lib/python3.7/dist-packages/zmq/sugar/socket.py\u001b[0m in \u001b[0;36mrecv_multipart\u001b[0;34m(self, flags, copy, track)\u001b[0m\n\u001b[1;32m    582\u001b[0m         \"\"\"\n\u001b[0;32m--> 583\u001b[0;31m         \u001b[0mparts\u001b[0m \u001b[0;34m=\u001b[0m \u001b[0;34m[\u001b[0m\u001b[0mself\u001b[0m\u001b[0;34m.\u001b[0m\u001b[0mrecv\u001b[0m\u001b[0;34m(\u001b[0m\u001b[0mflags\u001b[0m\u001b[0;34m,\u001b[0m \u001b[0mcopy\u001b[0m\u001b[0;34m=\u001b[0m\u001b[0mcopy\u001b[0m\u001b[0;34m,\u001b[0m \u001b[0mtrack\u001b[0m\u001b[0;34m=\u001b[0m\u001b[0mtrack\u001b[0m\u001b[0;34m)\u001b[0m\u001b[0;34m]\u001b[0m\u001b[0;34m\u001b[0m\u001b[0;34m\u001b[0m\u001b[0m\n\u001b[0m\u001b[1;32m    584\u001b[0m         \u001b[0;31m# have first part already, only loop while more to receive\u001b[0m\u001b[0;34m\u001b[0m\u001b[0;34m\u001b[0m\u001b[0;34m\u001b[0m\u001b[0m\n",
            "\u001b[0;32mzmq/backend/cython/socket.pyx\u001b[0m in \u001b[0;36mzmq.backend.cython.socket.Socket.recv\u001b[0;34m()\u001b[0m\n",
            "\u001b[0;32mzmq/backend/cython/socket.pyx\u001b[0m in \u001b[0;36mzmq.backend.cython.socket.Socket.recv\u001b[0;34m()\u001b[0m\n",
            "\u001b[0;32mzmq/backend/cython/socket.pyx\u001b[0m in \u001b[0;36mzmq.backend.cython.socket._recv_copy\u001b[0;34m()\u001b[0m\n",
            "\u001b[0;32m/usr/local/lib/python3.7/dist-packages/zmq/backend/cython/checkrc.pxd\u001b[0m in \u001b[0;36mzmq.backend.cython.checkrc._check_rc\u001b[0;34m()\u001b[0m\n",
            "\u001b[0;31mKeyboardInterrupt\u001b[0m: ",
            "\nDuring handling of the above exception, another exception occurred:\n",
            "\u001b[0;31mKeyboardInterrupt\u001b[0m                         Traceback (most recent call last)",
            "\u001b[0;32m<ipython-input-8-6fefd85e9b50>\u001b[0m in \u001b[0;36m<module>\u001b[0;34m()\u001b[0m\n\u001b[1;32m      1\u001b[0m \u001b[0;31m#AtcoderABC130 D問題\u001b[0m\u001b[0;34m\u001b[0m\u001b[0;34m\u001b[0m\u001b[0;34m\u001b[0m\u001b[0m\n\u001b[0;32m----> 2\u001b[0;31m \u001b[0mn\u001b[0m \u001b[0;34m,\u001b[0m\u001b[0mk\u001b[0m  \u001b[0;34m=\u001b[0m \u001b[0mmap\u001b[0m\u001b[0;34m(\u001b[0m\u001b[0mint\u001b[0m\u001b[0;34m,\u001b[0m \u001b[0minput\u001b[0m\u001b[0;34m(\u001b[0m\u001b[0;34m)\u001b[0m\u001b[0;34m.\u001b[0m\u001b[0msplit\u001b[0m\u001b[0;34m(\u001b[0m\u001b[0;34m)\u001b[0m\u001b[0;34m)\u001b[0m\u001b[0;34m\u001b[0m\u001b[0;34m\u001b[0m\u001b[0m\n\u001b[0m\u001b[1;32m      3\u001b[0m \u001b[0malst\u001b[0m \u001b[0;34m=\u001b[0m \u001b[0mlist\u001b[0m\u001b[0;34m(\u001b[0m\u001b[0mmap\u001b[0m\u001b[0;34m(\u001b[0m\u001b[0mint\u001b[0m\u001b[0;34m,\u001b[0m \u001b[0minput\u001b[0m\u001b[0;34m(\u001b[0m\u001b[0;34m)\u001b[0m\u001b[0;34m.\u001b[0m\u001b[0msplit\u001b[0m\u001b[0;34m(\u001b[0m\u001b[0;34m)\u001b[0m\u001b[0;34m)\u001b[0m\u001b[0;34m)\u001b[0m\u001b[0;34m\u001b[0m\u001b[0;34m\u001b[0m\u001b[0m\n\u001b[1;32m      4\u001b[0m \u001b[0mres\u001b[0m \u001b[0;34m=\u001b[0m \u001b[0;36m0\u001b[0m\u001b[0;34m\u001b[0m\u001b[0;34m\u001b[0m\u001b[0m\n\u001b[1;32m      5\u001b[0m \u001b[0mtmp\u001b[0m \u001b[0;34m=\u001b[0m \u001b[0;36m0\u001b[0m\u001b[0;34m\u001b[0m\u001b[0;34m\u001b[0m\u001b[0m\n",
            "\u001b[0;32m/usr/local/lib/python3.7/dist-packages/ipykernel/kernelbase.py\u001b[0m in \u001b[0;36mraw_input\u001b[0;34m(self, prompt)\u001b[0m\n\u001b[1;32m    702\u001b[0m             \u001b[0mself\u001b[0m\u001b[0;34m.\u001b[0m\u001b[0m_parent_ident\u001b[0m\u001b[0;34m,\u001b[0m\u001b[0;34m\u001b[0m\u001b[0;34m\u001b[0m\u001b[0m\n\u001b[1;32m    703\u001b[0m             \u001b[0mself\u001b[0m\u001b[0;34m.\u001b[0m\u001b[0m_parent_header\u001b[0m\u001b[0;34m,\u001b[0m\u001b[0;34m\u001b[0m\u001b[0;34m\u001b[0m\u001b[0m\n\u001b[0;32m--> 704\u001b[0;31m             \u001b[0mpassword\u001b[0m\u001b[0;34m=\u001b[0m\u001b[0;32mFalse\u001b[0m\u001b[0;34m,\u001b[0m\u001b[0;34m\u001b[0m\u001b[0;34m\u001b[0m\u001b[0m\n\u001b[0m\u001b[1;32m    705\u001b[0m         )\n\u001b[1;32m    706\u001b[0m \u001b[0;34m\u001b[0m\u001b[0m\n",
            "\u001b[0;32m/usr/local/lib/python3.7/dist-packages/ipykernel/kernelbase.py\u001b[0m in \u001b[0;36m_input_request\u001b[0;34m(self, prompt, ident, parent, password)\u001b[0m\n\u001b[1;32m    732\u001b[0m             \u001b[0;32mexcept\u001b[0m \u001b[0mKeyboardInterrupt\u001b[0m\u001b[0;34m:\u001b[0m\u001b[0;34m\u001b[0m\u001b[0;34m\u001b[0m\u001b[0m\n\u001b[1;32m    733\u001b[0m                 \u001b[0;31m# re-raise KeyboardInterrupt, to truncate traceback\u001b[0m\u001b[0;34m\u001b[0m\u001b[0;34m\u001b[0m\u001b[0;34m\u001b[0m\u001b[0m\n\u001b[0;32m--> 734\u001b[0;31m                 \u001b[0;32mraise\u001b[0m \u001b[0mKeyboardInterrupt\u001b[0m\u001b[0;34m\u001b[0m\u001b[0;34m\u001b[0m\u001b[0m\n\u001b[0m\u001b[1;32m    735\u001b[0m             \u001b[0;32melse\u001b[0m\u001b[0;34m:\u001b[0m\u001b[0;34m\u001b[0m\u001b[0;34m\u001b[0m\u001b[0m\n\u001b[1;32m    736\u001b[0m                 \u001b[0;32mbreak\u001b[0m\u001b[0;34m\u001b[0m\u001b[0;34m\u001b[0m\u001b[0m\n",
            "\u001b[0;31mKeyboardInterrupt\u001b[0m: "
          ]
        }
      ]
    },
    {
      "cell_type": "markdown",
      "metadata": {
        "id": "qn6TBQ3lW_4p"
      },
      "source": [
        "#AtCoderABC131"
      ]
    },
    {
      "cell_type": "code",
      "metadata": {
        "colab": {
          "base_uri": "https://localhost:8080/"
        },
        "id": "DdWPyFbUXC66",
        "outputId": "65cb4348-2230-4486-ed05-86be2ac18658"
      },
      "source": [
        "#AtCoderABC131 A問題\n",
        "s = input()\n",
        "flag = 0\n",
        "\n",
        "for i in range(3):\n",
        "  if s[i] == s[i+1]:\n",
        "    flag = 1\n",
        "if flag:\n",
        "  print(\"Bad\")\n",
        "else:\n",
        "  print(\"Good\")"
      ],
      "execution_count": null,
      "outputs": [
        {
          "output_type": "stream",
          "text": [
            "8080\n",
            "Good\n"
          ],
          "name": "stdout"
        }
      ]
    },
    {
      "cell_type": "code",
      "metadata": {
        "colab": {
          "base_uri": "https://localhost:8080/"
        },
        "id": "LWo0d1AcXGZl",
        "outputId": "78fce9e7-4d8f-4517-a0d5-2f236264ceb7"
      },
      "source": [
        "#AtCoderABC131 B問題\n",
        "n , l = map(int, input().split())\n",
        "lst = [l + i for i in range(n)]\n",
        "if 0 in lst:\n",
        "  print(sum(lst))\n",
        "elif l < 0:\n",
        "  print(sum(lst) - max(lst))\n",
        "else:\n",
        "  print(sum(lst) - min(lst))\n"
      ],
      "execution_count": null,
      "outputs": [
        {
          "output_type": "stream",
          "text": [
            "30 -50\n",
            "-1044\n"
          ],
          "name": "stdout"
        }
      ]
    },
    {
      "cell_type": "code",
      "metadata": {
        "colab": {
          "base_uri": "https://localhost:8080/"
        },
        "id": "_aIHSRytXG0D",
        "outputId": "884aea1c-9092-4b06-ae89-3d56a15212ef"
      },
      "source": [
        "#AtCoderABC131 C問題\n",
        "import math\n",
        "a,b,c,d = map(int, input().split())\n",
        "tmp =  (b//c) - ((a-1)//c)\n",
        "tmp2 =  (b//d) - ((a-1)//d)\n",
        "tmp3 =  (b//((c*d)//math.gcd(c,d))) - ((a-1)//((c*d)//math.gcd(c,d)))\n",
        "res = b - a + 1 - tmp - tmp2 + tmp3\n",
        "print(res)"
      ],
      "execution_count": null,
      "outputs": [
        {
          "output_type": "stream",
          "text": [
            "314159265358979323 846264338327950288 419716939 937510582\n",
            "532105071133627368\n"
          ],
          "name": "stdout"
        }
      ]
    },
    {
      "cell_type": "code",
      "metadata": {
        "colab": {
          "base_uri": "https://localhost:8080/"
        },
        "id": "uROEwtNoXHCY",
        "outputId": "44a78047-35a3-4530-d262-015339b2bdd4"
      },
      "source": [
        "#AtCoderABC131 D問題\n",
        "import numpy as np\n",
        "n = int(input())\n",
        "lst = [list(map(int,input().split())) for i in range(n)]\n",
        "arr = np.array(lst)\n",
        "# arr = np.sort(arr, axis = 0)\n",
        "ind = np.argsort(arr[:, 1])\n",
        "now = 0\n",
        "flag = 0\n",
        "for i in ind:\n",
        "  tmp = arr[i,:]\n",
        "  now += tmp[0]\n",
        "  if now > tmp[1]:\n",
        "    flag = 1\n",
        "    break\n",
        "if flag:\n",
        "  print(\"No\") \n",
        "else:\n",
        "  print(\"Yes\")\n"
      ],
      "execution_count": null,
      "outputs": [
        {
          "output_type": "stream",
          "text": [
            "5\n",
            "1 8\n",
            "1 9\n",
            "4 9\n",
            "2 4\n",
            "3 12\n",
            "Yes\n"
          ],
          "name": "stdout"
        }
      ]
    },
    {
      "cell_type": "code",
      "metadata": {
        "colab": {
          "base_uri": "https://localhost:8080/"
        },
        "id": "qVmcvIhkn_Ds",
        "outputId": "d7dee27b-7113-47a0-f916-8923b4e8bdd2"
      },
      "source": [
        "lst"
      ],
      "execution_count": null,
      "outputs": [
        {
          "output_type": "execute_result",
          "data": {
            "text/plain": [
              "array([ 1.,  1.,  2.,  3.,  4.,  4.,  8.,  9.,  9., 12.])"
            ]
          },
          "metadata": {
            "tags": []
          },
          "execution_count": 53
        }
      ]
    },
    {
      "cell_type": "markdown",
      "metadata": {
        "id": "7nBXBPTzhquU"
      },
      "source": [
        "#AtCoderABC132"
      ]
    },
    {
      "cell_type": "code",
      "metadata": {
        "colab": {
          "base_uri": "https://localhost:8080/"
        },
        "id": "T-HCwKSGhtcD",
        "outputId": "317ebfb4-b8fd-4a3a-9560-dc7013bed80d"
      },
      "source": [
        "#AtCoderABC132 A問題\n",
        "s = input()\n",
        "sets = set(s)\n",
        "if len(sets) != 2:\n",
        "  print(\"No\")\n",
        "else:\n",
        "  if s.count(list(sets)[0]) == s.count(list(sets)[1]):\n",
        "    print(\"Yes\")\n",
        "  else:\n",
        "    print(\"No\")"
      ],
      "execution_count": null,
      "outputs": [
        {
          "output_type": "stream",
          "text": [
            "stop\n",
            "No\n"
          ],
          "name": "stdout"
        }
      ]
    },
    {
      "cell_type": "code",
      "metadata": {
        "colab": {
          "base_uri": "https://localhost:8080/"
        },
        "id": "H9By905LqxL3",
        "outputId": "9c24f194-1f51-484b-b3dd-f4b11e252b1f"
      },
      "source": [
        "#AtCoderABC132 B問題\n",
        "n = int(input())\n",
        "lst = list(map(int, input().split()))\n",
        "res = 0\n",
        "for i in range(n-2):\n",
        "  tmp1 = lst[i]\n",
        "  tmp2 = lst[i+1]\n",
        "  tmp3 = lst[i+2]\n",
        "  if tmp2 <= tmp3:\n",
        "    if tmp1 <= tmp2:\n",
        "      res += 1\n",
        "  else:\n",
        "    if tmp2 <= tmp1:\n",
        "      res += 1\n",
        "print(res)\n"
      ],
      "execution_count": null,
      "outputs": [
        {
          "output_type": "stream",
          "text": [
            "9\n",
            "9 6 3 2 5 8 7 4 1\n",
            "5\n"
          ],
          "name": "stdout"
        }
      ]
    },
    {
      "cell_type": "code",
      "metadata": {
        "colab": {
          "base_uri": "https://localhost:8080/"
        },
        "id": "eO4W0Rx0taRD",
        "outputId": "59cc10b5-e897-49d5-e45e-d02ecf01e59b"
      },
      "source": [
        "#AtCoderABC132 C問題\n",
        "n = int(input())\n",
        "halfn = int(n * 0.5)\n",
        "lst = list(map(int, input().split()))\n",
        "lst.sort()\n",
        "print(lst[halfn] - lst[halfn-1])"
      ],
      "execution_count": null,
      "outputs": [
        {
          "output_type": "stream",
          "text": [
            "14\n",
            "99592 10342 29105 78532 83018 11639 92015 77204 30914 21912 34519 80835 100000 1\n",
            "42685\n"
          ],
          "name": "stdout"
        }
      ]
    },
    {
      "cell_type": "markdown",
      "metadata": {
        "id": "Btbc3KTgMIak"
      },
      "source": [
        "#AtCoderABC133"
      ]
    },
    {
      "cell_type": "code",
      "metadata": {
        "colab": {
          "base_uri": "https://localhost:8080/"
        },
        "id": "ns2KZRzNMLg_",
        "outputId": "77928257-23ad-44d7-d0ea-de3be9851304"
      },
      "source": [
        "#AtCoderABC133 A問題\n",
        "n , a, b = map(int , input().split())\n",
        "print(min(n * a , b))"
      ],
      "execution_count": null,
      "outputs": [
        {
          "output_type": "stream",
          "text": [
            "4 2 9\n",
            "8\n"
          ],
          "name": "stdout"
        }
      ]
    },
    {
      "cell_type": "code",
      "metadata": {
        "colab": {
          "base_uri": "https://localhost:8080/"
        },
        "id": "Fin8FvkrNEYQ",
        "outputId": "2ef58ba8-2c5c-414c-decf-7eb8d3213983"
      },
      "source": [
        "#AtCodeerABC133 B問題\n",
        "n , d = map(int, input().split())\n",
        "lst = [list(map(int,input().split())) for i in range(n)]\n",
        "res = 0\n",
        "for i in range(n):\n",
        "  for j in range(i+1,n):\n",
        "    tmp = sum([ (lst[i][l] - lst[j][l]) ** 2 for l in range(d)])\n",
        "    tmp_root = tmp ** 0.5\n",
        "    if tmp_root.is_integer():\n",
        "      res += 1\n",
        "print(res)"
      ],
      "execution_count": null,
      "outputs": [
        {
          "output_type": "stream",
          "text": [
            "5 1\n",
            "1\n",
            "2\n",
            "3\n",
            "4\n",
            "5\n",
            "10\n"
          ],
          "name": "stdout"
        }
      ]
    },
    {
      "cell_type": "code",
      "metadata": {
        "colab": {
          "base_uri": "https://localhost:8080/"
        },
        "id": "TiPAsV8cPDXh",
        "outputId": "bbb5cd8c-d9dd-4e99-e84d-f2ba7ea2488b"
      },
      "source": [
        "#AtCoderABC133 C問題\n",
        "l, r = map(int, input().split())\n",
        "\n",
        "res = 2019\n",
        "if r-l+1 > 2018:\n",
        "  res = 0\n",
        "else:\n",
        "  for i in range(l,r):\n",
        "    tmpi = i % 2019\n",
        "    for j in range(i+1,r+1):\n",
        "      tmp = (tmpi*(j%2019)) % 2019\n",
        "      if res > tmp:\n",
        "        res = tmp\n",
        "print(res)\n",
        "# print(pow(res, 1 , 2019))\n",
        "\n",
        "\n",
        "\n",
        "  # lst = [pow(i,1,2019) for i in range(l,r+1)]\n",
        "  # lst3 = list(map(lambda x: x%3,lst))\n",
        "  # lst673 = list(map(lambda x: x%673,lst))\n",
        "  # if 0 in lst3 and 0 in lst673:\n",
        "  #   res = 0\n",
        "  # else:\n",
        "  #   lst.sort()\n",
        "  #   res = lst[1] * lst[0]"
      ],
      "execution_count": null,
      "outputs": [
        {
          "output_type": "stream",
          "text": [
            "2020 2040\n",
            "2\n"
          ],
          "name": "stdout"
        }
      ]
    },
    {
      "cell_type": "code",
      "metadata": {
        "colab": {
          "base_uri": "https://localhost:8080/"
        },
        "id": "ISboQbOoboG7",
        "outputId": "c058b60f-944b-43cf-b32f-53a291ef297c"
      },
      "source": [
        "pow(2,10,3)"
      ],
      "execution_count": null,
      "outputs": [
        {
          "output_type": "execute_result",
          "data": {
            "text/plain": [
              "1"
            ]
          },
          "metadata": {
            "tags": []
          },
          "execution_count": 38
        }
      ]
    },
    {
      "cell_type": "markdown",
      "metadata": {
        "id": "YkJ8nF6Ju5A3"
      },
      "source": [
        "#AtCoderABC134"
      ]
    },
    {
      "cell_type": "code",
      "metadata": {
        "colab": {
          "base_uri": "https://localhost:8080/"
        },
        "id": "ZDJ5ugiNwa7W",
        "outputId": "04a8a77c-e813-45da-f7e1-15fba745c7bc"
      },
      "source": [
        "#AtCoderABC134 A問題\n",
        "r = int(input())\n",
        "print(3* r * r)"
      ],
      "execution_count": null,
      "outputs": [
        {
          "output_type": "stream",
          "text": [
            "15\n",
            "675\n"
          ],
          "name": "stdout"
        }
      ]
    },
    {
      "cell_type": "code",
      "metadata": {
        "colab": {
          "base_uri": "https://localhost:8080/"
        },
        "id": "ffD4riFCw6IK",
        "outputId": "0be9dd00-e3ff-49ab-c194-767a3e11b5d5"
      },
      "source": [
        "#AtCoderABC134 B問題\n",
        "n,d = map(int, input().split())\n",
        "tmp = 2 * d + 1\n",
        "if n % tmp ==0:\n",
        "  print(n//tmp)\n",
        "else:\n",
        "  print(n// tmp + 1)"
      ],
      "execution_count": null,
      "outputs": [
        {
          "output_type": "stream",
          "text": [
            "20 4\n",
            "3\n"
          ],
          "name": "stdout"
        }
      ]
    },
    {
      "cell_type": "code",
      "metadata": {
        "colab": {
          "base_uri": "https://localhost:8080/"
        },
        "id": "sEZ4lVNHx5nS",
        "outputId": "d4342d14-5be9-4446-fa98-dd80a33f418a"
      },
      "source": [
        "#AtCoderABC134 C問題\n",
        "n = int(input())\n",
        "lst = [int(input()) for i in range(n)]\n",
        "maxval = max(lst)\n",
        "maxind = lst.index(maxval)\n",
        "for i in range(n):\n",
        "  if i != maxind:\n",
        "    print(maxval)\n",
        "  else:\n",
        "    a = lst.pop(maxind)\n",
        "    print(max(lst))"
      ],
      "execution_count": null,
      "outputs": [
        {
          "output_type": "stream",
          "text": [
            "2\n",
            "5\n",
            "5\n",
            "5\n",
            "5\n"
          ],
          "name": "stdout"
        }
      ]
    },
    {
      "cell_type": "markdown",
      "metadata": {
        "id": "SpwcG0Xswzfe"
      },
      "source": [
        "#AtCoderABC135\n"
      ]
    },
    {
      "cell_type": "code",
      "metadata": {
        "colab": {
          "base_uri": "https://localhost:8080/"
        },
        "id": "oELOzcdSw3Zb",
        "outputId": "e8ebe4b3-74ea-488d-d1a8-8dfc36fbc2ed"
      },
      "source": [
        "#AtCoderABC135 A問題\n",
        "a,b = map(int, input().split())\n",
        "tmp  = abs(b-a)\n",
        "if tmp % 2 == 0:\n",
        "  print(int(min(a,b)+tmp/2))\n",
        "else:\n",
        "  print(\"IMPOSSIBLE\")\n"
      ],
      "execution_count": null,
      "outputs": [
        {
          "output_type": "stream",
          "text": [
            "4 1\n",
            "IMPOSSIBLE\n"
          ],
          "name": "stdout"
        }
      ]
    },
    {
      "cell_type": "code",
      "metadata": {
        "id": "dMAXfaflJucn",
        "colab": {
          "base_uri": "https://localhost:8080/"
        },
        "outputId": "933d8b79-204d-4018-85e6-2a9b35aefc9a"
      },
      "source": [
        "#AtCoderABC135 B問題\n",
        "n = int(input())\n",
        "lst = list(map(int, input().split()))\n",
        "flag = 0\n",
        "for i in range(n):\n",
        "  if lst[i] != i+1:\n",
        "    flag += 1\n",
        "\n",
        "if flag <= 2:\n",
        "  print(\"YES\")\n",
        "else:\n",
        "  print(\"NO\")"
      ],
      "execution_count": null,
      "outputs": [
        {
          "output_type": "stream",
          "text": [
            "7\n",
            "1 2 3 4 5 6 7\n",
            "YES\n"
          ],
          "name": "stdout"
        }
      ]
    },
    {
      "cell_type": "code",
      "metadata": {
        "colab": {
          "base_uri": "https://localhost:8080/"
        },
        "id": "4PB0HnFEQ9VU",
        "outputId": "4fa2f5d4-a116-4401-ad7a-94cce47264f9"
      },
      "source": [
        "#AtCoderABC135 C問題\n",
        "n = int(input())\n",
        "lstA = list(map(int, input().split()))\n",
        "lstB = list(map(int, input().split()))\n",
        "\n",
        "res = 0\n",
        "tmp = 0\n",
        "for i in range(n):\n",
        "  if lstA[i] > tmp:\n",
        "    lstA[i] = lstA[i] - tmp\n",
        "    res += tmp\n",
        "    if lstA[i] < lstB[i]:\n",
        "      res += lstA[i]\n",
        "      tmp = lstB[i] -lstA[i]\n",
        "    else:\n",
        "      res += lstB[i]\n",
        "      tmp = 0\n",
        "  else:\n",
        "    res += lstA[i]\n",
        "    lstA[i] = 0\n",
        "    tmp = lstB[i]\n",
        "\n",
        "print(res + min(tmp, lstA[n]))  "
      ],
      "execution_count": null,
      "outputs": [
        {
          "output_type": "stream",
          "text": [
            "2\n",
            "3 5 2\n",
            "4 5\n",
            "9\n"
          ],
          "name": "stdout"
        }
      ]
    },
    {
      "cell_type": "markdown",
      "metadata": {
        "id": "A-VWNbiji2ed"
      },
      "source": [
        "#AtCoderABC136"
      ]
    },
    {
      "cell_type": "code",
      "metadata": {
        "colab": {
          "base_uri": "https://localhost:8080/"
        },
        "id": "n4suPy1VlEfa",
        "outputId": "73b1b030-e33d-4a0e-a66a-a89917e3a65c"
      },
      "source": [
        "#AtCoderABC136　A問題\n",
        "a,b,c = map(int, input().split())\n",
        "if a-b >c:\n",
        "  print(0)\n",
        "else:\n",
        "  print(c-a+b)"
      ],
      "execution_count": null,
      "outputs": [
        {
          "output_type": "stream",
          "text": [
            "12 3 7\n",
            "0\n"
          ],
          "name": "stdout"
        }
      ]
    },
    {
      "cell_type": "code",
      "metadata": {
        "colab": {
          "base_uri": "https://localhost:8080/"
        },
        "id": "Hnaco7LPqbga",
        "outputId": "0f1507ab-3e8b-46cf-e8fd-29c9da8dae41"
      },
      "source": [
        "#AtCoderABC136 B問題\n",
        "n = int(input())\n",
        "res = 0\n",
        "for i in range(1,n+1):\n",
        "  if len(str(i)) % 2 != 0:\n",
        "    res += 1\n",
        "print(res)"
      ],
      "execution_count": null,
      "outputs": [
        {
          "output_type": "stream",
          "text": [
            "100000\n",
            "90909\n"
          ],
          "name": "stdout"
        }
      ]
    },
    {
      "cell_type": "code",
      "metadata": {
        "colab": {
          "base_uri": "https://localhost:8080/"
        },
        "id": "URth-nKxq_TR",
        "outputId": "386e2659-d22a-4a97-80fb-8f3501dc4ec5"
      },
      "source": [
        "#AtCoderABC136 C問題\n",
        "n = int(input())\n",
        "lst = list(map(int, input().split()))\n",
        "if n == 1:\n",
        "  print(\"Yes\")\n",
        "else:\n",
        "  flag = 0\n",
        "  for i in range(n-1):\n",
        "    tmp = lst[i]\n",
        "    if tmp > lst[i+1]:\n",
        "      flag = 1\n",
        "      break\n",
        "    elif tmp < lst[i+1]:\n",
        "      lst[i+1] = lst[i+1] - 1\n",
        "\n",
        "  if flag:\n",
        "    print(\"No\")\n",
        "  else:\n",
        "    print(\"Yes\")\n"
      ],
      "execution_count": null,
      "outputs": [
        {
          "output_type": "stream",
          "text": [
            "5\n",
            "1 2 1 1 3\n",
            "[1, 2, 1, 1, 3]\n",
            "[1, 1, 1, 1, 3]\n",
            "[1, 1, 1, 1, 3]\n",
            "[1, 1, 1, 1, 3]\n",
            "Yes\n"
          ],
          "name": "stdout"
        }
      ]
    },
    {
      "cell_type": "markdown",
      "metadata": {
        "id": "jSj4N1ts201q"
      },
      "source": [
        "#AtCoderABC137"
      ]
    },
    {
      "cell_type": "code",
      "metadata": {
        "colab": {
          "base_uri": "https://localhost:8080/"
        },
        "id": "T-QczgvJ24nq",
        "outputId": "360b4c46-4ce5-42e4-cd38-0e2a2cd74a73"
      },
      "source": [
        "#AtCoderABC137 A問題\n",
        "a,b= map(int, input().split())\n",
        "tmp = [a+b , a-b , a*b]\n",
        "print(max(tmp))"
      ],
      "execution_count": null,
      "outputs": [
        {
          "output_type": "stream",
          "text": [
            "13 3\n",
            "39\n"
          ],
          "name": "stdout"
        }
      ]
    },
    {
      "cell_type": "code",
      "metadata": {
        "colab": {
          "base_uri": "https://localhost:8080/"
        },
        "id": "KjMhF7JQ7HXm",
        "outputId": "604dc94a-fc11-4a13-e63b-427b668d865c"
      },
      "source": [
        "#AtCoderABC137 B問題\n",
        "k , x = map(int , input().split())\n",
        "lst = [str(x-k+1+i) for i in range(2*k-1)]\n",
        "print(\" \".join(lst))"
      ],
      "execution_count": null,
      "outputs": [
        {
          "output_type": "stream",
          "text": [
            "3 7\n",
            "5 6 7 8 9\n"
          ],
          "name": "stdout"
        }
      ]
    },
    {
      "cell_type": "code",
      "metadata": {
        "colab": {
          "base_uri": "https://localhost:8080/"
        },
        "id": "H-VG0i3V81IC",
        "outputId": "33ed520b-6413-44df-903a-341393c176db"
      },
      "source": [
        "#AtCoderABC137 C問題(間に合わなかった)\n",
        "n = int(input())\n",
        "lst = [sorted(input()) for i in range(n)]\n",
        "res = 0\n",
        "for i in range(n-1):\n",
        "  for j in range(i+1,n):\n",
        "    if lst[i]==lst[j]:\n",
        "      res += 1\n",
        "print(res)"
      ],
      "execution_count": null,
      "outputs": [
        {
          "output_type": "stream",
          "text": [
            "5\n",
            "abaaaaaaaa\n",
            "oneplustwo\n",
            "aaaaaaaaba\n",
            "twoplusone\n",
            "aaaabaaaaa\n",
            "4\n"
          ],
          "name": "stdout"
        }
      ]
    },
    {
      "cell_type": "code",
      "metadata": {
        "colab": {
          "base_uri": "https://localhost:8080/"
        },
        "id": "jq92n5WO-bMS",
        "outputId": "6e39816b-2e9e-44e2-a5b3-e977ab981334"
      },
      "source": [
        ""
      ],
      "execution_count": null,
      "outputs": [
        {
          "output_type": "execute_result",
          "data": {
            "text/plain": [
              "True"
            ]
          },
          "metadata": {
            "tags": []
          },
          "execution_count": 15
        }
      ]
    },
    {
      "cell_type": "markdown",
      "metadata": {
        "id": "bQIPKfFcvyA9"
      },
      "source": [
        "#AtCoderABC138"
      ]
    },
    {
      "cell_type": "code",
      "metadata": {
        "colab": {
          "base_uri": "https://localhost:8080/"
        },
        "id": "koPuOpzZv2Fe",
        "outputId": "55293c41-ae24-469e-d7b4-6416d05d6108"
      },
      "source": [
        "#AtCoderABC138 A問題\n",
        "a = int(input())\n",
        "s = input()\n",
        "if a < 3200:\n",
        "  print(\"red\")\n",
        "else:\n",
        "  print(s)"
      ],
      "execution_count": null,
      "outputs": [
        {
          "output_type": "stream",
          "text": [
            "3200\n",
            "pinl\n",
            "pinl\n"
          ],
          "name": "stdout"
        }
      ]
    },
    {
      "cell_type": "code",
      "metadata": {
        "colab": {
          "base_uri": "https://localhost:8080/"
        },
        "id": "2cdHL9L6wX1b",
        "outputId": "06f26663-a3a9-4d72-a72d-904afebef1d5"
      },
      "source": [
        "#AtCoderABC138 B問題\n",
        "n = int(input())\n",
        "lst = list(map(lambda x: 1/x , list(map(int,input().split()))))\n",
        "print(1/sum(lst))"
      ],
      "execution_count": null,
      "outputs": [
        {
          "output_type": "stream",
          "text": [
            "1\n",
            "1000\n",
            "1000.0\n"
          ],
          "name": "stdout"
        }
      ]
    },
    {
      "cell_type": "code",
      "metadata": {
        "colab": {
          "base_uri": "https://localhost:8080/"
        },
        "id": "Mzk2X9-nxGNA",
        "outputId": "3f555f44-6f25-45cc-8e59-bdbad318f00e"
      },
      "source": [
        "#ArCoderABC138 C問題\n",
        "n = int(input())\n",
        "lst = list(map(int, input().split()))\n",
        "res = lst.pop(lst.index(min(lst))) / (2**(n-1))\n",
        "for i in range(n-1,0,-1):\n",
        "  res += lst.pop(lst.index(min(lst))) / (2**(i))\n",
        "print(res)"
      ],
      "execution_count": null,
      "outputs": [
        {
          "output_type": "stream",
          "text": [
            "5\n",
            "138 138 138 138 138\n",
            "138.0\n"
          ],
          "name": "stdout"
        }
      ]
    },
    {
      "cell_type": "markdown",
      "metadata": {
        "id": "lxPuf48KBhVc"
      },
      "source": [
        "#AtCoderABC139"
      ]
    },
    {
      "cell_type": "code",
      "metadata": {
        "colab": {
          "base_uri": "https://localhost:8080/"
        },
        "id": "q5GmThVVBkYm",
        "outputId": "18d632f2-ff9a-4f76-bea8-ca0f6b795a0f"
      },
      "source": [
        "#AtCoderABC139 A問題\n",
        "s = input()\n",
        "t = input()\n",
        "res = 0\n",
        "for i in range(3):\n",
        "  if s[i] == t[i]:\n",
        "    res += 1\n",
        "print(res)"
      ],
      "execution_count": null,
      "outputs": [
        {
          "output_type": "stream",
          "text": [
            "RRR\n",
            "SSS\n",
            "0\n"
          ],
          "name": "stdout"
        }
      ]
    },
    {
      "cell_type": "code",
      "metadata": {
        "colab": {
          "base_uri": "https://localhost:8080/"
        },
        "id": "o3vhHlwwB6W6",
        "outputId": "2ed1f99b-c04a-465f-9335-2419f9df8b0c"
      },
      "source": [
        "#AtCoderABC139 B問題\n",
        "import math\n",
        "a,b = map(int, input().split())\n",
        "print(math.ceil((b-a)/(a-1))+1)"
      ],
      "execution_count": null,
      "outputs": [
        {
          "output_type": "stream",
          "text": [
            "8 8 \n",
            "1\n"
          ],
          "name": "stdout"
        }
      ]
    },
    {
      "cell_type": "code",
      "metadata": {
        "colab": {
          "base_uri": "https://localhost:8080/"
        },
        "id": "RQcpap9YIohH",
        "outputId": "ce69c237-80a7-416a-8416-cff437d36a42"
      },
      "source": [
        "#AtCoderABC139 C問題\n",
        "n = int(input())\n",
        "lst = list(map(int, input().split()))\n",
        "tmp = lst[0]\n",
        "res = 0\n",
        "tmp2 = 0\n",
        "for i in range(1,n):\n",
        "  if lst[i] <= tmp:\n",
        "    tmp2 += 1\n",
        "  else:\n",
        "    tmp2 = 0\n",
        "  if tmp2 > res:\n",
        "    res = tmp2\n",
        "  tmp = lst[i]\n",
        "print(res)"
      ],
      "execution_count": null,
      "outputs": [
        {
          "output_type": "stream",
          "text": [
            "4\n",
            "1 2 3 4\n",
            "0\n"
          ],
          "name": "stdout"
        }
      ]
    },
    {
      "cell_type": "markdown",
      "metadata": {
        "id": "rXMqRdGD2Dxi"
      },
      "source": [
        "#AtCoderABC140"
      ]
    },
    {
      "cell_type": "code",
      "metadata": {
        "colab": {
          "base_uri": "https://localhost:8080/"
        },
        "id": "zBquVelC2HH4",
        "outputId": "e029e076-17fc-4566-d931-26279b193866"
      },
      "source": [
        "#AtCoderABC140 A問題\n",
        "print(int(input())**3)"
      ],
      "execution_count": null,
      "outputs": [
        {
          "output_type": "stream",
          "text": [
            "1\n",
            "1\n"
          ],
          "name": "stdout"
        }
      ]
    },
    {
      "cell_type": "code",
      "metadata": {
        "colab": {
          "base_uri": "https://localhost:8080/"
        },
        "id": "gLlY2MjQ2a9F",
        "outputId": "2676b128-48da-45f4-8425-7fec46dccf5d"
      },
      "source": [
        "#AtCoderABC140 B問題\n",
        "n = int(input())\n",
        "lsta = list(map(int, input().split()))\n",
        "res = sum(list(map(int, input().split())))\n",
        "lstc = list(map(int, input().split()))\n",
        "\n",
        "for i in range(n-1):\n",
        "  tmp = lsta[i]\n",
        "  if lsta[i+1] == tmp + 1:\n",
        "    res += lstc[tmp-1]\n",
        "print(res)"
      ],
      "execution_count": null,
      "outputs": [
        {
          "output_type": "stream",
          "text": [
            "2\n",
            "1 2\n",
            "50 50\n",
            "50\n",
            "150\n"
          ],
          "name": "stdout"
        }
      ]
    },
    {
      "cell_type": "code",
      "metadata": {
        "colab": {
          "base_uri": "https://localhost:8080/"
        },
        "id": "PSEKG1OD4i-H",
        "outputId": "eeb7c0ab-f199-47ed-979d-3aca8637e15c"
      },
      "source": [
        "#AtCoderABC140 C問題\n",
        "n = int(input())\n",
        "lstb = list(map(int, input().split()))\n",
        "if n == 2:\n",
        "  print(lstb[0]*2)\n",
        "else:\n",
        "  res = lstb[0] \n",
        "  for i in range(n-2):\n",
        "    tmp = lstb[i]\n",
        "    if tmp > lstb[i+1]:\n",
        "      res += lstb[i+1]\n",
        "    else:\n",
        "      res += tmp\n",
        "  res += lstb[n-2]\n",
        "  print(res)\n",
        "\n"
      ],
      "execution_count": null,
      "outputs": [
        {
          "output_type": "stream",
          "text": [
            "3\n",
            "5 0\n",
            "5\n"
          ],
          "name": "stdout"
        }
      ]
    },
    {
      "cell_type": "markdown",
      "metadata": {
        "id": "aQQxGO11ioBy"
      },
      "source": [
        "#AtCoderABC141"
      ]
    },
    {
      "cell_type": "code",
      "metadata": {
        "colab": {
          "base_uri": "https://localhost:8080/"
        },
        "id": "RcVqjhkqip8C",
        "outputId": "1b374441-14da-4e6e-8a64-dc1b8cf81788"
      },
      "source": [
        "#AtCoderABC141 A問題\n",
        "s = input()\n",
        "if s[0] == \"S\":\n",
        "  print(\"Cloudy\")\n",
        "elif s[0] == \"C\":\n",
        "  print(\"Rainy\")\n",
        "else:\n",
        "  print(\"Sunny\")"
      ],
      "execution_count": null,
      "outputs": [
        {
          "output_type": "stream",
          "text": [
            "Rainy\n",
            "Sunny\n"
          ],
          "name": "stdout"
        }
      ]
    },
    {
      "cell_type": "code",
      "metadata": {
        "colab": {
          "base_uri": "https://localhost:8080/"
        },
        "id": "2XKfXcn9jIG5",
        "outputId": "7bcdb981-9690-4b7a-cb6d-5f6ee44e10ff"
      },
      "source": [
        "#AtCoderABC141 B問題\n",
        "s = input()\n",
        "flag_odd = 1\n",
        "flag_even = 1\n",
        "for i in range(len(s)):\n",
        "  if i % 2 == 0 and s[i] ==\"L\" :\n",
        "    flag_odd = 0\n",
        "  if i % 2 == 1 and s[i] == \"R\":\n",
        "    flag_even = 0\n",
        "if flag_even * flag_odd == 1:\n",
        "  print(\"Yes\")\n",
        "else:\n",
        "  print(\"No\")\n"
      ],
      "execution_count": null,
      "outputs": [
        {
          "output_type": "stream",
          "text": [
            "RDULULDURURLRDULRLR\n",
            "Yes\n"
          ],
          "name": "stdout"
        }
      ]
    },
    {
      "cell_type": "code",
      "metadata": {
        "colab": {
          "base_uri": "https://localhost:8080/"
        },
        "id": "tcBAliqtkxVI",
        "outputId": "76db23ff-9876-4142-fc9f-5a786f46bdec"
      },
      "source": [
        "#AtCoderABC141 C問題\n",
        "n, k , q = map(int, input().split())\n",
        "lst = [k-q for i in range(n)]\n",
        "for i in range(q):\n",
        "  lst[int(input())-1] += 1\n",
        "for i in range(n):\n",
        "  if lst[i] <= 0:\n",
        "    print(\"No\") \n",
        "  else:\n",
        "    print(\"Yes\")"
      ],
      "execution_count": null,
      "outputs": [
        {
          "output_type": "stream",
          "text": [
            "10 13 15\n",
            "3\n",
            "1\n",
            "4\n",
            "1\n",
            "5\n",
            "9\n",
            "2\n",
            "6\n",
            "5\n",
            "3\n",
            "5\n",
            "8\n",
            "9\n",
            "7\n",
            "9\n",
            "No\n",
            "No\n",
            "No\n",
            "No\n",
            "Yes\n",
            "No\n",
            "No\n",
            "No\n",
            "Yes\n",
            "No\n"
          ],
          "name": "stdout"
        }
      ]
    },
    {
      "cell_type": "markdown",
      "metadata": {
        "id": "8qpj2l7mYDMU"
      },
      "source": [
        "#AtCoderABC142"
      ]
    },
    {
      "cell_type": "code",
      "metadata": {
        "colab": {
          "base_uri": "https://localhost:8080/"
        },
        "id": "DaCl7_eSYFXt",
        "outputId": "7c2ce06d-2cdf-4875-933a-fb1b010fdcf8"
      },
      "source": [
        "#AtCoderABC142 A問題\n",
        "import math\n",
        "n = int(input())\n",
        "print(math.ceil(n/2) /n)"
      ],
      "execution_count": null,
      "outputs": [
        {
          "output_type": "stream",
          "text": [
            "1\n",
            "1.0\n"
          ],
          "name": "stdout"
        }
      ]
    },
    {
      "cell_type": "code",
      "metadata": {
        "colab": {
          "base_uri": "https://localhost:8080/"
        },
        "id": "Y5oRcbyrYIQY",
        "outputId": "51e680d4-e37c-45ba-eb69-ae6f23291720"
      },
      "source": [
        "#AtCoderABC142 B問題\n",
        "n , k = map(int, input().split())\n",
        "lst = list(map(int, input().split()))\n",
        "res = 0\n",
        "for i in range(n):\n",
        "  if k <= lst[i]:\n",
        "    res += 1\n",
        "print(res)"
      ],
      "execution_count": null,
      "outputs": [
        {
          "output_type": "stream",
          "text": [
            "1 500\n",
            "499\n",
            "0\n"
          ],
          "name": "stdout"
        }
      ]
    },
    {
      "cell_type": "code",
      "metadata": {
        "colab": {
          "base_uri": "https://localhost:8080/"
        },
        "id": "kg2LXNnoYIHA",
        "outputId": "573a869a-2730-4c30-f3cb-654046c0d478"
      },
      "source": [
        "#AtCoderABC142 C問題\n",
        "n = int(input())\n",
        "lst = list(map(int, input().split()))\n",
        "res = [0 for i in range(n)]\n",
        "for i in range(n):\n",
        "  res[lst[i]-1] = str(i+1)\n",
        "print(\" \".join(res))"
      ],
      "execution_count": null,
      "outputs": [
        {
          "output_type": "stream",
          "text": [
            "3\n",
            "2 3 1\n",
            "3 1 2\n"
          ],
          "name": "stdout"
        }
      ]
    },
    {
      "cell_type": "markdown",
      "metadata": {
        "id": "6jwfKX8m8c7y"
      },
      "source": [
        "#AtCoderABC143"
      ]
    },
    {
      "cell_type": "code",
      "metadata": {
        "colab": {
          "base_uri": "https://localhost:8080/"
        },
        "id": "U2YVQFF_8hAb",
        "outputId": "c55dc404-0da8-45e9-c07b-9935f18a9915"
      },
      "source": [
        "#AtCoderABC143 A問題\n",
        "a,b = map(int, input().split())\n",
        "if b*2 - a >= 0:\n",
        "  print(0)\n",
        "else:\n",
        "  print(a - b*2)"
      ],
      "execution_count": null,
      "outputs": [
        {
          "output_type": "stream",
          "text": [
            "12 4\n",
            "4\n"
          ],
          "name": "stdout"
        }
      ]
    },
    {
      "cell_type": "code",
      "metadata": {
        "colab": {
          "base_uri": "https://localhost:8080/"
        },
        "id": "mLM0K_C0BDHo",
        "outputId": "fb7e9884-dd42-435d-fd40-e6b18e1fe3e1"
      },
      "source": [
        "#AtCoderABC143 B問題\n",
        "n = int(input())\n",
        "lst = list(map(int, input().split()))\n",
        "res = 0\n",
        "for i in range(n-1):\n",
        "  for j in  range(i+1,n):\n",
        "    res += lst[i] * lst[j]\n",
        "print(res)"
      ],
      "execution_count": null,
      "outputs": [
        {
          "output_type": "stream",
          "text": [
            "7\n",
            "5 0 7 8 3 3 2\n",
            "312\n"
          ],
          "name": "stdout"
        }
      ]
    },
    {
      "cell_type": "code",
      "metadata": {
        "colab": {
          "base_uri": "https://localhost:8080/"
        },
        "id": "WRjq3zz2DwJL",
        "outputId": "8b90a610-3fa8-4719-b420-b0eaeea7c526"
      },
      "source": [
        "#AtCoderABC143 C問題\n",
        "n = int(input())\n",
        "s = input()\n",
        "cnt = 0\n",
        "for i in range(n-1):\n",
        "  if s[i] == s[i+1]:\n",
        "    cnt += 1\n",
        "print(n-cnt)"
      ],
      "execution_count": null,
      "outputs": [
        {
          "output_type": "stream",
          "text": [
            "20\n",
            "xxzaffeeeeddfkkkkllq\n",
            "10\n"
          ],
          "name": "stdout"
        }
      ]
    },
    {
      "cell_type": "code",
      "metadata": {
        "colab": {
          "base_uri": "https://localhost:8080/"
        },
        "id": "dJYBlAHWFeY5",
        "outputId": "70cc3d0b-6694-4d4c-9629-153997fb529d"
      },
      "source": [
        "#AtCoderABC143 D問題\n",
        "n = int(input())\n",
        "lst = list(map(int, input().split()))\n",
        "lst.sort()\n",
        "res = 0\n",
        "for i in range(n-2):\n",
        "  for j in range(i+1,n-1):\n",
        "    for l in range(j+1,n):\n",
        "      if lst[i] + lst[j] > lst[l]:\n",
        "        res += 1\n",
        "print(res)"
      ],
      "execution_count": null,
      "outputs": [
        {
          "output_type": "stream",
          "text": [
            "7\n",
            "218 786 704 233 645 728 389\n",
            "23\n"
          ],
          "name": "stdout"
        }
      ]
    },
    {
      "cell_type": "markdown",
      "metadata": {
        "id": "9uo69KyIJNIK"
      },
      "source": [
        "#AtCoderABC144"
      ]
    },
    {
      "cell_type": "code",
      "metadata": {
        "colab": {
          "base_uri": "https://localhost:8080/"
        },
        "id": "GJdn1VM3Jikb",
        "outputId": "8eb258f6-5071-4ae8-893d-ae7db4d4e505"
      },
      "source": [
        "#AtCoder144ABC A問題\n",
        "a,b = map(int, input().split())\n",
        "if 1 <= a <= 9 and 1 <= b <= 9:\n",
        "  print(a * b)\n",
        "else:\n",
        "  print(-1)"
      ],
      "execution_count": null,
      "outputs": [
        {
          "output_type": "stream",
          "text": [
            "9 9 \n",
            "81\n"
          ],
          "name": "stdout"
        }
      ]
    },
    {
      "cell_type": "code",
      "metadata": {
        "colab": {
          "base_uri": "https://localhost:8080/"
        },
        "id": "V-Ex7NqGJlfF",
        "outputId": "66c6499b-3877-4a3d-805e-0896b7b7b5a5"
      },
      "source": [
        "#AtCoder144ABC B問題\n",
        "n = int(input())\n",
        "lst = [i * j for i in range(1,10) for j in range(1,10)]\n",
        "if n in lst:\n",
        "  print(\"Yes\")\n",
        "else:\n",
        "  print(\"No\")"
      ],
      "execution_count": null,
      "outputs": [
        {
          "output_type": "stream",
          "text": [
            "100\n",
            "No\n"
          ],
          "name": "stdout"
        }
      ]
    },
    {
      "cell_type": "code",
      "metadata": {
        "colab": {
          "base_uri": "https://localhost:8080/"
        },
        "id": "7Sc95ooyJnzN",
        "outputId": "e52835d7-1b97-43a8-8911-022b654098a5"
      },
      "source": [
        "#AtCoder144ABC C問題\n",
        "n = int(input())\n",
        "res = n-1\n",
        "i = 1\n",
        "while i * i <= n:\n",
        "  if n % i == 0:\n",
        "    tmp = n // i + i\n",
        "    if tmp < res:\n",
        "      res = tmp\n",
        "  i += 1\n",
        "if res  == n-1:\n",
        "  print(res)\n",
        "else:\n",
        "  print(res - 2)"
      ],
      "execution_count": null,
      "outputs": [
        {
          "output_type": "stream",
          "text": [
            "10000000019\n",
            "10000000018\n"
          ],
          "name": "stdout"
        }
      ]
    },
    {
      "cell_type": "code",
      "metadata": {
        "colab": {
          "base_uri": "https://localhost:8080/"
        },
        "id": "tZNt3aIKN4Kw",
        "outputId": "fca6efcb-439c-4e45-822e-c423d82824c7"
      },
      "source": [
        "#AtCoderABC144 D問題\n",
        "import math\n",
        "a,b,x = map(int, input().split())\n",
        "if a*a*b <= 2*x:\n",
        "  res = math.atan(2*(a*a*b - x) / (a*a*a))\n",
        "  print(math.degrees(res))\n",
        "else:\n",
        "  res = math.atan((b*b*a) / (2*x))\n",
        "  print(math.degrees(res))"
      ],
      "execution_count": null,
      "outputs": [
        {
          "output_type": "stream",
          "text": [
            "3 1 8\n",
            "4.23639479905884\n"
          ],
          "name": "stdout"
        }
      ]
    },
    {
      "cell_type": "markdown",
      "metadata": {
        "id": "4TM4NaHMMmzw"
      },
      "source": [
        "#AtCoderABC145"
      ]
    },
    {
      "cell_type": "code",
      "metadata": {
        "colab": {
          "base_uri": "https://localhost:8080/"
        },
        "id": "fuhlHw8sMq94",
        "outputId": "c7a80db4-f7f1-4f15-9b61-bc671f59344c"
      },
      "source": [
        "#AtCoderABC145 A問題\n",
        "r = int(input())\n",
        "print(r**2)"
      ],
      "execution_count": null,
      "outputs": [
        {
          "output_type": "stream",
          "text": [
            "100\n",
            "10000\n"
          ],
          "name": "stdout"
        }
      ]
    },
    {
      "cell_type": "code",
      "metadata": {
        "colab": {
          "base_uri": "https://localhost:8080/"
        },
        "id": "XdEM2ILIf4X7",
        "outputId": "eff68228-184f-46ed-c159-bee5daf167dd"
      },
      "source": [
        "#AtCoderABC145 B問題\n",
        "n = int(input())\n",
        "s = input()\n",
        "if s[0:n//2] == s[n//2:n]:\n",
        "  print(\"Yes\")\n",
        "else:\n",
        "  print(\"No\")"
      ],
      "execution_count": null,
      "outputs": [
        {
          "output_type": "stream",
          "text": [
            "1\n",
            "z\n",
            "No\n"
          ],
          "name": "stdout"
        }
      ]
    },
    {
      "cell_type": "code",
      "metadata": {
        "colab": {
          "base_uri": "https://localhost:8080/"
        },
        "id": "wHmvrz5df50A",
        "outputId": "23395d5e-94dc-4ece-91d8-18d4db1432b0"
      },
      "source": [
        "#AtCoderABC145 C問題\n",
        "n = int(input())\n",
        "lst = [list(map(int, input().split())) for i in range(n)]\n",
        "res = 0\n",
        "for i in range(n-1):\n",
        "  for j in range(i+1,n):\n",
        "    res += 2 *(((lst[i][0] - lst[j][0])**2 + (lst[i][1] - lst[j][1])**2) ** 0.5)\n",
        "print(res/n)"
      ],
      "execution_count": null,
      "outputs": [
        {
          "output_type": "stream",
          "text": [
            "8\n",
            "-406 10\n",
            "512 859\n",
            "494 362\n",
            "-955 -475\n",
            "128 553\n",
            "-986 -885\n",
            "763 77\n",
            "449 310\n",
            "7641.981782438674\n"
          ],
          "name": "stdout"
        }
      ]
    },
    {
      "cell_type": "code",
      "metadata": {
        "colab": {
          "base_uri": "https://localhost:8080/"
        },
        "id": "bk0WfVrQtllc",
        "outputId": "1c06a55b-4d0d-49fa-9861-e211fda4eb12"
      },
      "source": [
        "#AtCoderABC145 D問題\n",
        "x,y = map(int,input().split())\n",
        "\n",
        "if (x+y)%3 != 0:\n",
        "  print(0)\n",
        "else:\n",
        "  n = (2*y - x)//3\n",
        "  m = (2*x - y)//3\n",
        "  if n < 0 or m < 0:\n",
        "    print(0)\n",
        "  else:\n",
        "    a = 1\n",
        "    b = 1\n",
        "    mod = 10**9 + 7\n",
        "    for i in range(n):\n",
        "      a = a*(n+m-i) % mod\n",
        "      b = b * (i+1) % mod\n",
        "    res =( a*pow(b,mod-2,mod) )% mod\n",
        "    print(res)"
      ],
      "execution_count": null,
      "outputs": [
        {
          "output_type": "stream",
          "text": [
            "999999 999999\n",
            "151840682\n"
          ],
          "name": "stdout"
        }
      ]
    },
    {
      "cell_type": "markdown",
      "metadata": {
        "id": "mPZ-I_-uCWTA"
      },
      "source": [
        "#AtCoderABC146"
      ]
    },
    {
      "cell_type": "code",
      "metadata": {
        "colab": {
          "base_uri": "https://localhost:8080/"
        },
        "id": "HC8zbKL7CZ5V",
        "outputId": "fbb64ef4-0f19-48a8-98c7-08a397903707"
      },
      "source": [
        "#AtCoderABC146 A問題\n",
        "s = input()\n",
        "if s == \"SUN\":\n",
        "  print(7)\n",
        "elif s == \"MON\":\n",
        "  print(6)\n",
        "elif s == \"TUE\":\n",
        "  print(5)\n",
        "elif s == \"WED\":\n",
        "  print(4)\n",
        "elif s == \"THU\":\n",
        "  print(3)\n",
        "elif s == \"FRI\":\n",
        "  print(2)\n",
        "else:\n",
        "  print(1)"
      ],
      "execution_count": null,
      "outputs": [
        {
          "output_type": "stream",
          "text": [
            "SUN\n",
            "7\n"
          ],
          "name": "stdout"
        }
      ]
    },
    {
      "cell_type": "code",
      "metadata": {
        "colab": {
          "base_uri": "https://localhost:8080/"
        },
        "id": "kl_2hnV6CbHj",
        "outputId": "71ad937e-d3eb-43ed-ee5d-35e6a1b2e611"
      },
      "source": [
        "#AtCoderABC146 B問題\n",
        "n = int(input())\n",
        "s = input()\n",
        "ans = \"\"\n",
        "for i in s:\n",
        "  ans += chr(ord('A') + (ord(i)-ord('A')+n) % 26)\n",
        "print(ans)"
      ],
      "execution_count": null,
      "outputs": [
        {
          "output_type": "stream",
          "text": [
            "13\n",
            "ABCDEFGHIJKLMNOPQRSTUVWXYZ\n",
            "NOPQRSTUVWXYZABCDEFGHIJKLM\n"
          ],
          "name": "stdout"
        }
      ]
    },
    {
      "cell_type": "code",
      "metadata": {
        "colab": {
          "base_uri": "https://localhost:8080/"
        },
        "id": "truQdatnCdE8",
        "outputId": "411f9f9b-e8ba-4a50-87ea-8bc8adc40132"
      },
      "source": [
        "#AtCoderABC146 C問題\n",
        "a,b,x=map(int , input().split())\n",
        "MAX = 10**9\n",
        "if a + b > x:\n",
        "  print(0)\n",
        "else:\n",
        "  right = min(10**9,x//a+1)\n",
        "  left = 0\n",
        "  while (right -left) > 1:\n",
        "    if (right + left) % 2 == 0:\n",
        "      mid = (right + left)//2\n",
        "    else:\n",
        "      mid = (right + left)//2+1\n",
        "    if mid * a + len(str(mid))*b <= x:\n",
        "      left = mid\n",
        "    else:\n",
        "      right = mid\n",
        "  if right * a + len(str(right)) * b <= x:\n",
        "    print(right)\n",
        "  else:\n",
        "    print(left)"
      ],
      "execution_count": null,
      "outputs": [
        {
          "output_type": "stream",
          "text": [
            "1234 56789 314159265\n",
            "254309\n"
          ],
          "name": "stdout"
        }
      ]
    },
    {
      "cell_type": "code",
      "metadata": {
        "colab": {
          "base_uri": "https://localhost:8080/"
        },
        "id": "4mytf1pnK0Ej",
        "outputId": "d0cd47df-0ffb-4082-e0ed-765b8cae3193"
      },
      "source": [
        " #AtCoderABC146 D問題\n",
        " "
      ],
      "execution_count": null,
      "outputs": [
        {
          "output_type": "execute_result",
          "data": {
            "text/plain": [
              "9"
            ]
          },
          "metadata": {
            "tags": []
          },
          "execution_count": 11
        }
      ]
    },
    {
      "cell_type": "markdown",
      "metadata": {
        "id": "B2fo8BKMqljk"
      },
      "source": [
        "#AtCOderABC147"
      ]
    },
    {
      "cell_type": "code",
      "metadata": {
        "colab": {
          "base_uri": "https://localhost:8080/"
        },
        "id": "BgWh2folqoA7",
        "outputId": "1ff50445-e2ae-489a-828a-bf2d49fb0567"
      },
      "source": [
        "#AtCOderABC147 A問題\n",
        "a1,a2,a3 = map(int, input().split())\n",
        "res = a1 + a2 + a3\n",
        "if res >21:\n",
        "  print(\"bust\")\n",
        "else:\n",
        "  print(\"win\")"
      ],
      "execution_count": null,
      "outputs": [
        {
          "output_type": "stream",
          "text": [
            "13 7 2\n",
            "bust\n"
          ],
          "name": "stdout"
        }
      ]
    },
    {
      "cell_type": "code",
      "metadata": {
        "colab": {
          "base_uri": "https://localhost:8080/"
        },
        "id": "2HcP6BxYqpPu",
        "outputId": "c2a023b3-f726-41c0-9f34-b861f52f4d5c"
      },
      "source": [
        "#AtCOderABC147 B問題\n",
        "s = input()\n",
        "sl = len(s)\n",
        "res = 0\n",
        "for i in range(sl//2):\n",
        "  if s[i] != s[sl-i-1]:\n",
        "    res += 1\n",
        "print(res)"
      ],
      "execution_count": null,
      "outputs": [
        {
          "output_type": "stream",
          "text": [
            "abcdabc\n",
            "2\n"
          ],
          "name": "stdout"
        }
      ]
    },
    {
      "cell_type": "code",
      "metadata": {
        "colab": {
          "base_uri": "https://localhost:8080/"
        },
        "id": "2q_cmXweskqh",
        "outputId": "7483b0c4-8627-4c65-e35f-3d4cc57ee539"
      },
      "source": [
        "#AtCOderABC147 C問題\n",
        "n = int(input())\n",
        "lst = [0] * n\n",
        "for i in range(n):\n",
        "  a = int(input())\n",
        "  tmp = [0] * a\n",
        "  for j in range(a):\n",
        "    tmp[j] = list(map(int, input().split()))\n",
        "  lst[i] = [a,tmp]\n",
        "res = 0\n",
        "\n",
        "\n",
        "for i in range(2**n):\n",
        "  tmp = 0\n",
        "  flag = 0\n",
        "  for j in range(n):\n",
        "    if ((i >> j) & 1):\n",
        "      tmp += 1\n",
        "      for l in range(lst[j][0]):\n",
        "        if ((i >> (lst[j][1][l][0]-1) & 1) != lst[j][1][l][1]):\n",
        "          flag = 1\n",
        "          break\n",
        "  if flag == 1:\n",
        "    pass\n",
        "  else:\n",
        "    res = max(res,tmp)\n",
        "print(res)"
      ],
      "execution_count": null,
      "outputs": [
        {
          "output_type": "stream",
          "text": [
            "2\n",
            "1\n",
            "2 0\n",
            "1\n",
            "1 0\n",
            "1\n"
          ],
          "name": "stdout"
        }
      ]
    },
    {
      "cell_type": "markdown",
      "metadata": {
        "id": "C2NnAy---cJC"
      },
      "source": [
        "#AtCoderABC148"
      ]
    },
    {
      "cell_type": "code",
      "metadata": {
        "colab": {
          "base_uri": "https://localhost:8080/"
        },
        "id": "XfUiKb8a-lKF",
        "outputId": "0455ad53-fde5-44d7-ed4c-e8d572adb623"
      },
      "source": [
        "#AtCoderABC148 A問題\n",
        "lst = []\n",
        "a = lst.append(int(input()))\n",
        "b = lst.append(int(input()))\n",
        "for i in range(1,4):\n",
        "  if i not in lst:\n",
        "    print(i)"
      ],
      "execution_count": null,
      "outputs": [
        {
          "output_type": "stream",
          "text": [
            "3\n",
            "1\n",
            "2\n"
          ],
          "name": "stdout"
        }
      ]
    },
    {
      "cell_type": "code",
      "metadata": {
        "colab": {
          "base_uri": "https://localhost:8080/"
        },
        "id": "rDSRmwS3JXnb",
        "outputId": "1d16a13d-b59c-4754-dbe5-ac324dd46189"
      },
      "source": [
        "#AtCoderABC148 B問題\n",
        "n = int(input())\n",
        "res =\"\"\n",
        "s , t = input().split()\n",
        "for i in range(n):\n",
        "  res = res + s[i] + t[i]\n",
        "print(res)"
      ],
      "execution_count": null,
      "outputs": [
        {
          "output_type": "stream",
          "text": [
            "8\n",
            "hmhmnknk uuuuuuuu\n",
            "humuhumunukunuku\n"
          ],
          "name": "stdout"
        }
      ]
    },
    {
      "cell_type": "code",
      "metadata": {
        "colab": {
          "base_uri": "https://localhost:8080/"
        },
        "id": "zcKjPhNsJ-8J",
        "outputId": "bab88fbc-2c78-409d-b9ff-58ef0419ad6b"
      },
      "source": [
        "#AtCoderABC148 C問題\n",
        "import math\n",
        "a, b = map(int, input().split())\n",
        "print(a*b // math.gcd(a,b))"
      ],
      "execution_count": null,
      "outputs": [
        {
          "output_type": "stream",
          "text": [
            "100000 99999\n",
            "9999900000\n"
          ],
          "name": "stdout"
        }
      ]
    },
    {
      "cell_type": "code",
      "metadata": {
        "colab": {
          "base_uri": "https://localhost:8080/"
        },
        "id": "C4lwa6nRKZQe",
        "outputId": "c0680b08-25d7-43c7-95df-093e85db1091"
      },
      "source": [
        "#AtCoderABC148 D問題\n",
        "n = int(input())\n",
        "lst = list(map(int, input().split()))\n",
        "res  = 0\n",
        "tmp = 1\n",
        "for i in range(n):\n",
        "  if tmp == lst[i]:\n",
        "    tmp += 1\n",
        "  else:\n",
        "    res += 1\n",
        "if res == n:\n",
        "  print(-1)\n",
        "else:\n",
        "  print(res)"
      ],
      "execution_count": null,
      "outputs": [
        {
          "output_type": "stream",
          "text": [
            "1\n",
            "1\n",
            "0\n"
          ],
          "name": "stdout"
        }
      ]
    },
    {
      "cell_type": "code",
      "metadata": {
        "colab": {
          "base_uri": "https://localhost:8080/"
        },
        "id": "8v5kL6xMNaNE",
        "outputId": "3700dd29-b468-4085-8cff-08e1ac3576f4"
      },
      "source": [
        "#AtCoderABC148  E問題\n",
        "n = int(input())\n",
        "\n",
        "if n%2 !=0:\n",
        "  print(0)\n",
        "else:\n",
        "  res = 0\n",
        "  while n > 2:\n",
        "    if n % 10 == 0:\n",
        "      ind = 1\n",
        "      while n >= 5**ind * 2:\n",
        "        res += n // (5**ind * 2)\n",
        "        ind += 1\n",
        "      n = 1\n",
        "    else:\n",
        "      n = n-2\n",
        "  print(res)"
      ],
      "execution_count": null,
      "outputs": [
        {
          "output_type": "stream",
          "text": [
            "1000000000000000000\n",
            "124999999999999995\n"
          ],
          "name": "stdout"
        }
      ]
    },
    {
      "cell_type": "markdown",
      "metadata": {
        "id": "oevUIp_jyYDV"
      },
      "source": [
        "#AtCoderABC149"
      ]
    },
    {
      "cell_type": "code",
      "metadata": {
        "colab": {
          "base_uri": "https://localhost:8080/"
        },
        "id": "D7XpKdgxzNJP",
        "outputId": "1341321d-86c4-4e08-b51d-8bfd4008cee0"
      },
      "source": [
        "#AtCoderABC149 A問題\n",
        "s, t = input().split()\n",
        "print(t+s)"
      ],
      "execution_count": null,
      "outputs": [
        {
          "output_type": "stream",
          "text": [
            "humu humu\n",
            "humuhumu\n"
          ],
          "name": "stdout"
        }
      ]
    },
    {
      "cell_type": "code",
      "metadata": {
        "colab": {
          "base_uri": "https://localhost:8080/"
        },
        "id": "Eu4dvzQz2Tyx",
        "outputId": "58e7a789-51a3-42ea-8bc8-05b088ca398d"
      },
      "source": [
        "#AtCoderABC149 B問題\n",
        "a,b,k = map(int, input().split())\n",
        "if a > k:\n",
        "  print(a-k,b)\n",
        "else:\n",
        "  if b > k-a:\n",
        "    print(0, b-k+a)\n",
        "  else:\n",
        "    print(0,0)"
      ],
      "execution_count": null,
      "outputs": [
        {
          "output_type": "stream",
          "text": [
            "500000000000 500000000000 1000000000000\n",
            "0 0\n"
          ],
          "name": "stdout"
        }
      ]
    },
    {
      "cell_type": "code",
      "metadata": {
        "colab": {
          "base_uri": "https://localhost:8080/"
        },
        "id": "i-fmtSz97qOC",
        "outputId": "f1d2a775-10be-4fe9-d78e-47699ca267e4"
      },
      "source": [
        "#AtCoderABC149 C問題\n",
        "x = int(input())\n",
        "def is_prime(n):\n",
        "    if n == 1: return False\n",
        "    for k in range(2, int(n**0.5) + 1):\n",
        "        if n % k == 0:\n",
        "            return False\n",
        "    return True\n",
        "if x==2:\n",
        "  print(2)\n",
        "else:\n",
        "  flag = 1\n",
        "  while flag == 1:\n",
        "    if x % 2 == 0:\n",
        "      x += 1\n",
        "    else:\n",
        "      if is_prime(x):\n",
        "        flag = 0\n",
        "      else:\n",
        "        x += 1\n",
        "  print(x)"
      ],
      "execution_count": null,
      "outputs": [
        {
          "output_type": "stream",
          "text": [
            "99992\n",
            "100003\n"
          ],
          "name": "stdout"
        }
      ]
    },
    {
      "cell_type": "code",
      "metadata": {
        "colab": {
          "base_uri": "https://localhost:8080/"
        },
        "id": "zug3-PMPAO1P",
        "outputId": "8b51f2bf-cdbe-4eb2-9932-431a400273d9"
      },
      "source": [
        "#AtCoderABC149 D問題\n",
        "n , k = map(int,input().split())\n",
        "r,s,p = map(int,input().split())\n",
        "dic={'s':r,'p':s,'r':p}\n",
        "T=list(input())\n",
        "res=0\n",
        "for i in range(k,n):\n",
        "    if T[i]==T[i-k]:T[i]=\"-\"\n",
        "for t in T:\n",
        "    if t==\"-\":continue\n",
        "    res+=dic[t]\n",
        " \n",
        "print(res)"
      ],
      "execution_count": null,
      "outputs": [
        {
          "output_type": "stream",
          "text": [
            "5 2\n",
            "8 7 6\n",
            "rsrpr\n",
            "27\n"
          ],
          "name": "stdout"
        }
      ]
    },
    {
      "cell_type": "markdown",
      "metadata": {
        "id": "dJwOZR82dLSf"
      },
      "source": [
        "#AtCoderABC150\n"
      ]
    },
    {
      "cell_type": "code",
      "metadata": {
        "colab": {
          "base_uri": "https://localhost:8080/"
        },
        "id": "LSowGIhfdOva",
        "outputId": "1156d9ed-e3ec-4f16-e75c-7eaab523228f"
      },
      "source": [
        "#AtCoderABC150 A問題\n",
        "k, x = map(int,input().split())\n",
        "if k *500 >= x:\n",
        "  print(\"Yes\")\n",
        "else:\n",
        "  print(\"No\")"
      ],
      "execution_count": null,
      "outputs": [
        {
          "output_type": "stream",
          "text": [
            "1 501\n",
            "No\n"
          ],
          "name": "stdout"
        }
      ]
    },
    {
      "cell_type": "code",
      "metadata": {
        "colab": {
          "base_uri": "https://localhost:8080/"
        },
        "id": "pbT7PwxTdQao",
        "outputId": "5f9f9e7d-6f2a-4041-8197-38b3eae587d2"
      },
      "source": [
        "#AtCoderABC150 \n",
        "n = int(input())\n",
        "s = input()\n",
        "res = 0\n",
        "\n",
        "for i in range(n-2):\n",
        "  if s[i]+s[i+1]+s[i+2] == \"ABC\":\n",
        "    res += 1\n",
        "print(res)"
      ],
      "execution_count": null,
      "outputs": [
        {
          "output_type": "stream",
          "text": [
            "33\n",
            "ABCCABCBABCCABACBCBBABCBCBCBCABCB\n",
            "5\n"
          ],
          "name": "stdout"
        }
      ]
    },
    {
      "cell_type": "code",
      "metadata": {
        "id": "KERYUxuMdRT0"
      },
      "source": [
        "#AtCoderABC150 C問題\n",
        "#参考：https://atcoder.jp/contests/abc150/submissions/22155793\n",
        "from itertools import permutations\n",
        " \n",
        "n=int(input())\n",
        "r=range(1,n+1)\n",
        "P=list(permutations(r,n))\n",
        "a=tuple(map(int,input().split()))\n",
        "b=tuple(map(int,input().split()))\n",
        " \n",
        "print(abs((P.index(a)+1)-(P.index(b)+1)))\n",
        "# n = int(input())\n",
        "# lst1 = list(map(int, input().split()))\n",
        "# lst2 = list(map(int, input().split()))\n",
        "# a = 0\n",
        "# b = 0\n",
        "# for i in range(n):\n",
        "#   if lst1[i] != i+1:\n",
        "#     a += "
      ],
      "execution_count": null,
      "outputs": []
    },
    {
      "cell_type": "markdown",
      "metadata": {
        "id": "5Csovn2csc7n"
      },
      "source": [
        "C問題の感想：基本的に"
      ]
    },
    {
      "cell_type": "markdown",
      "metadata": {
        "id": "lqZ08Q-zlhTC"
      },
      "source": [
        "#AtCoderABC151"
      ]
    },
    {
      "cell_type": "code",
      "metadata": {
        "colab": {
          "base_uri": "https://localhost:8080/"
        },
        "id": "owyRxMilllKD",
        "outputId": "d7778a4b-5e22-4783-9c67-9139567de5a6"
      },
      "source": [
        "#AtCoderABC151 \n",
        "c = input()\n",
        "print(chr(ord(c) + 1))"
      ],
      "execution_count": null,
      "outputs": [
        {
          "output_type": "stream",
          "text": [
            "y\n",
            "z\n"
          ],
          "name": "stdout"
        }
      ]
    },
    {
      "cell_type": "code",
      "metadata": {
        "colab": {
          "base_uri": "https://localhost:8080/"
        },
        "id": "eTtckvQdln38",
        "outputId": "a8cd44ad-f74f-4382-a687-b7e8723b6fc2"
      },
      "source": [
        "#AtCoderABC151 B問題\n",
        "n,k,m = map(int, input().split())\n",
        "lst = list(map(int, input().split()))\n",
        "x = n*m - sum(lst)\n",
        "if x <= k:\n",
        "  print(max(0,x))\n",
        "else:\n",
        "  print(-1)"
      ],
      "execution_count": null,
      "outputs": [
        {
          "output_type": "stream",
          "text": [
            "4 100 60\n",
            "0 0 0\n",
            "-1\n"
          ],
          "name": "stdout"
        }
      ]
    },
    {
      "cell_type": "code",
      "metadata": {
        "colab": {
          "base_uri": "https://localhost:8080/"
        },
        "id": "Rx4VrRfen8Fw",
        "outputId": "bd009dd8-1122-4fa6-c31f-8d4241311cdb"
      },
      "source": [
        "#AtCoderABC151 C問題\n",
        "n ,m = map(int , input().split())\n",
        "acrec = dict([[i+1 , 0] for i in range(n)])\n",
        "warec = dict([[i+1 , 0] for i in range(n)])\n",
        "for i in range(m):\n",
        "  p , s = input().split()\n",
        "  if s == \"AC\":\n",
        "    if acrec[int(p)] == 0:\n",
        "      acrec[int(p)] += 1\n",
        "  else:\n",
        "    if acrec[int(p)] == 0:\n",
        "      warec[int(p)] += 1\n",
        "warec = [warec[k] for k,v in acrec.items() if v == 1]\n",
        "print(sum(list(acrec.values())) , sum(warec))"
      ],
      "execution_count": null,
      "outputs": [
        {
          "output_type": "stream",
          "text": [
            "3 5\n",
            "1 WA\n",
            "2 AC\n",
            "1 AC\n",
            "1 AC\n",
            "3 WA\n",
            "2 1\n"
          ],
          "name": "stdout"
        }
      ]
    },
    {
      "cell_type": "markdown",
      "metadata": {
        "id": "KMZrX7RQuItA"
      },
      "source": [
        "#AtCoderABC152"
      ]
    },
    {
      "cell_type": "code",
      "metadata": {
        "colab": {
          "base_uri": "https://localhost:8080/"
        },
        "id": "4G98KQpkuLrI",
        "outputId": "e537fe96-938e-489e-9d87-98acdf7afbd6"
      },
      "source": [
        "#AtCoderABC152 A問題\n",
        "n ,m = map(int,input().split())\n",
        "if n==m:\n",
        "  print(\"Yes\")\n",
        "else:\n",
        "  print(\"No\")"
      ],
      "execution_count": null,
      "outputs": [
        {
          "output_type": "stream",
          "text": [
            "3 2\n",
            "No\n"
          ],
          "name": "stdout"
        }
      ]
    },
    {
      "cell_type": "code",
      "metadata": {
        "colab": {
          "base_uri": "https://localhost:8080/"
        },
        "id": "IY03jrbauegc",
        "outputId": "9626d6ed-b8a5-472d-f874-f3e64789c140"
      },
      "source": [
        "#AtCoderABC152 B問題\n",
        "a,b = map(int , input().split())\n",
        "if a < b:\n",
        "  t = str(a) * b\n",
        "  print(t)\n",
        "else:\n",
        "  t = str(b) * a\n",
        "  print(t)"
      ],
      "execution_count": null,
      "outputs": [
        {
          "output_type": "stream",
          "text": [
            "7 7 \n",
            "7777777\n"
          ],
          "name": "stdout"
        }
      ]
    },
    {
      "cell_type": "code",
      "metadata": {
        "colab": {
          "base_uri": "https://localhost:8080/"
        },
        "id": "A9IdQxlFu_PL",
        "outputId": "c2d9f102-41d3-4f15-e4b6-a31181b36ff2"
      },
      "source": [
        "#AtCoderABC152 C問題\n",
        "n = int(input())\n",
        "lst = list(map(int, input().split()))\n",
        "res = 1\n",
        "tmp = lst[0]\n",
        "for i in range(1,n):\n",
        "  if lst[i] < tmp:\n",
        "    tmp = lst[i]\n",
        "    res += 1\n",
        "print(res)"
      ],
      "execution_count": null,
      "outputs": [
        {
          "output_type": "stream",
          "text": [
            "8\n",
            "5 7 4 2 6 8 1 3\n",
            "4\n"
          ],
          "name": "stdout"
        }
      ]
    },
    {
      "cell_type": "code",
      "metadata": {
        "colab": {
          "base_uri": "https://localhost:8080/"
        },
        "id": "WOvPZhfxyack",
        "outputId": "6d43bc12-3e4d-41e9-cd2e-ec76586e0590"
      },
      "source": [
        "#AtCoderABC152 D問題\n",
        "n = int(input())\n",
        "li = [[0 for _ in range(9)] for _ in range(9)]\n",
        "for i in range(1,n+1):\n",
        "    ju = str(i)\n",
        "    if ju[0] != \"0\" and ju[-1] != \"0\":\n",
        "        li[int(ju[0])-1][int(ju[-1])-1] += 1\n",
        "ans = 0\n",
        "for i in range(9):\n",
        "    for j in range(9):\n",
        "        ans += li[i][j] * li[j][i]\n",
        "print(ans)"
      ],
      "execution_count": null,
      "outputs": [
        {
          "output_type": "stream",
          "text": [
            "100\n",
            "108\n"
          ],
          "name": "stdout"
        }
      ]
    },
    {
      "cell_type": "markdown",
      "metadata": {
        "id": "e46QLbRs2U9R"
      },
      "source": [
        "#AtCoderABC153\n"
      ]
    },
    {
      "cell_type": "code",
      "metadata": {
        "colab": {
          "base_uri": "https://localhost:8080/"
        },
        "id": "ZvJvLKAV2W1R",
        "outputId": "78aeaf30-5e23-4bbb-9e07-d5498afcbdaf"
      },
      "source": [
        "#AtCoderABC153 A問題\n",
        "import math\n",
        "h, a = map(int, input().split())\n",
        "print(math.ceil(h/a))"
      ],
      "execution_count": null,
      "outputs": [
        {
          "output_type": "stream",
          "text": [
            "10000 1\n",
            "10000\n"
          ],
          "name": "stdout"
        }
      ]
    },
    {
      "cell_type": "code",
      "metadata": {
        "colab": {
          "base_uri": "https://localhost:8080/"
        },
        "id": "RbZisc2i27-4",
        "outputId": "cc0a2d51-5928-4f0d-d7db-824e31e485be"
      },
      "source": [
        "#AtCoderABC153 B問題\n",
        "h , n = map(int, input().split())\n",
        "lst = list(map(int, input().split()))\n",
        "if sum(lst) < h:\n",
        "  print(\"No\")\n",
        "else:\n",
        "  print(\"Yes\")"
      ],
      "execution_count": null,
      "outputs": [
        {
          "output_type": "stream",
          "text": [
            "211 5\n",
            "31 41 59 26 53\n",
            "No\n"
          ],
          "name": "stdout"
        }
      ]
    },
    {
      "cell_type": "code",
      "metadata": {
        "colab": {
          "base_uri": "https://localhost:8080/"
        },
        "id": "9Iuy3FUl3pK6",
        "outputId": "0943ead6-0790-4bbc-f0b1-734e963bdb86"
      },
      "source": [
        "#AtCoderABC153 C問題\n",
        "n , k = map(int, input().split())\n",
        "lst = list(map(int,input().split()))\n",
        "res = 0\n",
        "lst_sorted = sorted(lst,reverse=True)\n",
        "res += sum(lst_sorted[k:n])\n",
        "print(res)"
      ],
      "execution_count": null,
      "outputs": [
        {
          "output_type": "stream",
          "text": [
            "3 1\n",
            "1000000000 1000000000 1000000000\n",
            "2000000000\n"
          ],
          "name": "stdout"
        }
      ]
    },
    {
      "cell_type": "code",
      "metadata": {
        "colab": {
          "base_uri": "https://localhost:8080/"
        },
        "id": "s-wb54sz5jZL",
        "outputId": "68d8ec48-0ece-4954-c807-93d05811b053"
      },
      "source": [
        "#AtCoderABC153 D問題\n",
        "h = int(input())\n",
        "if h == 1:\n",
        "  print(1)\n",
        "else:\n",
        "  res = 2\n",
        "  while h > 1:\n",
        "    res *= 2\n",
        "    h = h // 2\n",
        "  print(res - 1)\n"
      ],
      "execution_count": null,
      "outputs": [
        {
          "output_type": "stream",
          "text": [
            "1000000000000\n",
            "1099511627775\n"
          ],
          "name": "stdout"
        }
      ]
    },
    {
      "cell_type": "code",
      "metadata": {
        "colab": {
          "base_uri": "https://localhost:8080/"
        },
        "id": "akA6SYQr4vun",
        "outputId": "56a0a13b-eb47-44ca-f75c-0a81a257566d"
      },
      "source": [
        "# sum([42,6,2,45,2][3:5])"
      ],
      "execution_count": null,
      "outputs": [
        {
          "output_type": "execute_result",
          "data": {
            "text/plain": [
              "47"
            ]
          },
          "metadata": {
            "tags": []
          },
          "execution_count": 11
        }
      ]
    },
    {
      "cell_type": "markdown",
      "metadata": {
        "id": "QT6eDOoMiTFC"
      },
      "source": [
        "#AtCoderABC154"
      ]
    },
    {
      "cell_type": "code",
      "metadata": {
        "colab": {
          "base_uri": "https://localhost:8080/"
        },
        "id": "q-ZNW3OaiWJF",
        "outputId": "315b6d5e-4ec9-4ea6-d16a-296b6ea8efd5"
      },
      "source": [
        "#AtCoderABC154 A問題\n",
        "s,t = input().split()\n",
        "a,b = map(int, input().split())\n",
        "u = input()\n",
        "if s == u:\n",
        "  print(a-1,b)\n",
        "else:\n",
        "  print(a,b-1)"
      ],
      "execution_count": null,
      "outputs": [
        {
          "output_type": "stream",
          "text": [
            "red blue\n",
            "5 5\n",
            "blue\n",
            "5 4\n"
          ],
          "name": "stdout"
        }
      ]
    },
    {
      "cell_type": "code",
      "metadata": {
        "colab": {
          "base_uri": "https://localhost:8080/"
        },
        "id": "I9LOg8-PiXTI",
        "outputId": "5fc7e2cb-3357-4df8-94c0-5694de21021f"
      },
      "source": [
        "#AtCoderABC154 B問題\n",
        "s = input()\n",
        "res = \"\"\n",
        "for i in range(len(s)):\n",
        "  res = res +  \"x\"\n",
        "print(res)"
      ],
      "execution_count": null,
      "outputs": [
        {
          "output_type": "stream",
          "text": [
            "sardine\n",
            "xxxxxxx\n"
          ],
          "name": "stdout"
        }
      ]
    },
    {
      "cell_type": "code",
      "metadata": {
        "colab": {
          "base_uri": "https://localhost:8080/"
        },
        "id": "12z0DuTMiYhE",
        "outputId": "c9ab56c1-87ca-4279-88a0-b17e9d0860a6"
      },
      "source": [
        "#AtCoderABC154 C問題\n",
        "n = int(input())\n",
        "lst = list(map(int, input().split()))\n",
        "if len(lst) == len(set(lst)):\n",
        "  print(\"YES\")\n",
        "else:\n",
        "  print(\"NO\")"
      ],
      "execution_count": null,
      "outputs": [
        {
          "output_type": "stream",
          "text": [
            "6\n",
            "4 1 3 1 6 2\n",
            "No\n"
          ],
          "name": "stdout"
        }
      ]
    },
    {
      "cell_type": "code",
      "metadata": {
        "colab": {
          "base_uri": "https://localhost:8080/"
        },
        "id": "GhvSe_Yqvk9Q",
        "outputId": "7b6de6f9-e9da-430c-c991-5bb05e7fcf74"
      },
      "source": [
        "#AtCoderABC154 D問題\n",
        "n,k = map(int, input().split())\n",
        "lst = list(map(int, input().split()))\n",
        "ex = list(map(lambda x : x / 2 + 0.5 , lst))\n",
        "res = sum(ex[:k])\n",
        "tmp = res\n",
        "for j in range(k,n):\n",
        "  tmp += (ex[j] - ex[j-k])\n",
        "  if res < tmp:\n",
        "    res = tmp\n",
        "print(res)"
      ],
      "execution_count": null,
      "outputs": [
        {
          "output_type": "stream",
          "text": [
            "5 3\n",
            "1 2 2 4 5\n",
            "7.0\n"
          ],
          "name": "stdout"
        }
      ]
    },
    {
      "cell_type": "markdown",
      "metadata": {
        "id": "KrSsnnul5dhP"
      },
      "source": [
        "#AtCoderABC155"
      ]
    },
    {
      "cell_type": "code",
      "metadata": {
        "colab": {
          "base_uri": "https://localhost:8080/"
        },
        "id": "l-AUFIL-5gTH",
        "outputId": "709813e9-55e5-4d4b-cf14-d7269f02d9a9"
      },
      "source": [
        "#AtCoderABC155 A問題\n",
        "a,b,c = map(int, input().split())\n",
        "flag = 0\n",
        "if a == b or b == c or c == a:\n",
        "  if a == b and b == c:\n",
        "    pass\n",
        "  else:\n",
        "    flag = 1\n",
        "if flag:\n",
        "  print(\"Yes\")\n",
        "else:\n",
        "  print(\"No\")"
      ],
      "execution_count": null,
      "outputs": [
        {
          "output_type": "stream",
          "text": [
            "3 4 3\n",
            "Yes\n"
          ],
          "name": "stdout"
        }
      ]
    },
    {
      "cell_type": "code",
      "metadata": {
        "colab": {
          "base_uri": "https://localhost:8080/"
        },
        "id": "0X6nk8IL6eGW",
        "outputId": "6bb2a3f2-b2ee-4207-eb0c-68500b108258"
      },
      "source": [
        "#AtCoderABC155 B問題\n",
        "n = int(input())\n",
        "lst = list(map(int,input().split()))\n",
        "flag = 0\n",
        "for i in range(n):\n",
        "  tmp = lst[i]\n",
        "  if tmp % 2 == 0:\n",
        "    if tmp % 3 != 0 and tmp % 5 != 0:\n",
        "      flag = 1\n",
        "      break\n",
        "if flag:\n",
        "  print(\"DENIED\")\n",
        "else:\n",
        "  print(\"APPROVED\")"
      ],
      "execution_count": null,
      "outputs": [
        {
          "output_type": "stream",
          "text": [
            "3\n",
            "28 27 24\n",
            "DENIED\n"
          ],
          "name": "stdout"
        }
      ]
    },
    {
      "cell_type": "code",
      "metadata": {
        "colab": {
          "base_uri": "https://localhost:8080/"
        },
        "id": "DzTYgx5N783i",
        "outputId": "a4dcf0ff-1acb-46b4-b9fa-435a4d99e3a8"
      },
      "source": [
        "#AtCoderABC155 C問題\n",
        "import collections\n",
        "n = int(input())\n",
        "d = {}\n",
        "mx = 1\n",
        "for _ in range(n):\n",
        "  s = input()\n",
        "  if s in d:\n",
        "    d[s] += 1\n",
        "    if d[s] > mx:\n",
        "      mx = d[s]\n",
        "  else:\n",
        "    d[s] = 1\n",
        "strs = []\n",
        "for k,v in d.items():\n",
        "  if v == mx:\n",
        "    strs.append(k)\n",
        "strs.sort()\n",
        "for s in strs:\n",
        "  print(s)\n",
        "\n"
      ],
      "execution_count": null,
      "outputs": [
        {
          "output_type": "stream",
          "text": [
            "4\n",
            "sarga\n",
            "v,maorv\n",
            "ar\n",
            "tba\n",
            "ar\n",
            "sarga\n",
            "tba\n",
            "v,maorv\n"
          ],
          "name": "stdout"
        }
      ]
    },
    {
      "cell_type": "code",
      "metadata": {
        "colab": {
          "base_uri": "https://localhost:8080/"
        },
        "id": "wQCtrdKEBDDX",
        "outputId": "70747087-9b8a-462e-ccee-c4c24d61f0bb"
      },
      "source": [
        "lst2"
      ],
      "execution_count": null,
      "outputs": [
        {
          "output_type": "execute_result",
          "data": {
            "text/plain": [
              "[('gair', 1), ('ergmoe', 1), ('cmm', 1), ('tgae', 1)]"
            ]
          },
          "metadata": {
            "tags": []
          },
          "execution_count": 25
        }
      ]
    },
    {
      "cell_type": "code",
      "metadata": {
        "colab": {
          "base_uri": "https://localhost:8080/"
        },
        "id": "gTnfBU71_I29",
        "outputId": "164e862a-c1a4-44b4-a426-d70d6a2d4df9"
      },
      "source": [
        "aga"
      ],
      "execution_count": null,
      "outputs": [
        {
          "output_type": "stream",
          "text": [
            "d\n",
            "g\n",
            "g\n"
          ],
          "name": "stdout"
        }
      ]
    },
    {
      "cell_type": "markdown",
      "metadata": {
        "id": "CJ4gJPC-gHQA"
      },
      "source": [
        "#AtCoderABC156"
      ]
    },
    {
      "cell_type": "code",
      "metadata": {
        "colab": {
          "base_uri": "https://localhost:8080/"
        },
        "id": "FIhgA9SggKuQ",
        "outputId": "b387aa0d-966e-43df-b578-669a584c3466"
      },
      "source": [
        "#AtCoderABC156 A問題\n",
        "n , r = map(int, input().split())\n",
        "if n >= 10:\n",
        "  print(r)\n",
        "else:\n",
        "  print(r + 100 * (10 - n))"
      ],
      "execution_count": null,
      "outputs": [
        {
          "output_type": "stream",
          "text": [
            "22 3051\n",
            "3051\n"
          ],
          "name": "stdout"
        }
      ]
    },
    {
      "cell_type": "code",
      "metadata": {
        "colab": {
          "base_uri": "https://localhost:8080/"
        },
        "id": "574pjhHehYG4",
        "outputId": "0df2c80e-e652-4629-dbcd-6a5d03aa1488"
      },
      "source": [
        "#AtCoderABC156 B問題\n",
        "n , k = map(int, input().split())\n",
        "def Base_10_to_n(X, n):\n",
        "  if (int(X/n)):\n",
        "    return Base_10_to_n(int(X/n), n)+str(X%n)\n",
        "  return str(X%n)\n",
        "res = Base_10_to_n(n , k)\n",
        "print(len(res))"
      ],
      "execution_count": null,
      "outputs": [
        {
          "output_type": "stream",
          "text": [
            "314159265 3\n",
            "18\n"
          ],
          "name": "stdout"
        }
      ]
    },
    {
      "cell_type": "code",
      "metadata": {
        "colab": {
          "base_uri": "https://localhost:8080/"
        },
        "id": "iHe8sfp4jxPL",
        "outputId": "57568b0b-598c-448c-b129-caba8246664e"
      },
      "source": [
        "#AtCoderABC156 C問題\n",
        "n = int(input())\n",
        "lst = list(map(int, input().split()))\n",
        "m1 =  sum(lst) // len(lst) \n",
        "m2 = - ( - sum(lst) // len(lst))\n",
        "res1 = sum(list(map(lambda x: (x -m1)**2 , lst)))\n",
        "res2 = sum(list(map(lambda x: (x -m2)**2 , lst)))\n",
        "if res1 < res2:\n",
        "  print(res1)\n",
        "else:\n",
        "  print(res2)"
      ],
      "execution_count": null,
      "outputs": [
        {
          "output_type": "stream",
          "text": [
            "7\n",
            "14 14 2 13 56 2 37\n",
            "2354\n",
            "2357 2354\n"
          ],
          "name": "stdout"
        }
      ]
    },
    {
      "cell_type": "code",
      "metadata": {
        "colab": {
          "base_uri": "https://localhost:8080/"
        },
        "id": "W9iA5chilxQb",
        "outputId": "8bb042ca-28b4-4de7-a6f7-0833da003bb3"
      },
      "source": [
        "#AtCoderABC156 D問題\n",
        "MOD = 10**9 + 7\n",
        "n ,a ,b = map(int, input().split())\n",
        "all = pow(2,n,MOD) - 1\n",
        "a1 = 1\n",
        "a2 = 1\n",
        "b1 = 1\n",
        "b2 = 1\n",
        "for i in range(a):\n",
        "  a1 = a1 * (n-i) %MOD\n",
        "  a2 = a2 * (i+1) %MOD\n",
        "for i in range(b):\n",
        "  b1 = b1 * (n-i) %MOD\n",
        "  b2 = b2 * (i+1) %MOD\n",
        "res = (all - a1 * pow(a2, MOD-2, MOD)  - b1 *pow(b2,MOD-2,MOD)) %MOD\n",
        "print(res)"
      ],
      "execution_count": null,
      "outputs": [
        {
          "output_type": "stream",
          "text": [
            "1000000000 141421 173205\n",
            "34076506\n"
          ],
          "name": "stdout"
        }
      ]
    },
    {
      "cell_type": "markdown",
      "metadata": {
        "id": "3X7k8ZHilrZM"
      },
      "source": [
        "#AtCoderABC157"
      ]
    },
    {
      "cell_type": "code",
      "metadata": {
        "colab": {
          "base_uri": "https://localhost:8080/"
        },
        "id": "MGIzDcWjlthU",
        "outputId": "e2281263-21ee-4033-c22a-ef46e40d7cdd"
      },
      "source": [
        "#AtCoderABC157 A問題\n",
        "n = int(input())\n",
        "print(-(-n//2))"
      ],
      "execution_count": null,
      "outputs": [
        {
          "output_type": "stream",
          "text": [
            "100\n",
            "50\n"
          ],
          "name": "stdout"
        }
      ]
    },
    {
      "cell_type": "code",
      "metadata": {
        "colab": {
          "base_uri": "https://localhost:8080/"
        },
        "id": "4eagXyivlyJw",
        "outputId": "45dc11e8-5693-41f7-d09a-16d1355991d7"
      },
      "source": [
        "#AtCoderABC157 B問題\n",
        "lst = []\n",
        "for i in range(3):\n",
        "  tmp = list(map(int, input().split()))\n",
        "  lst.append(tmp)\n",
        "n = int(input())\n",
        "lstmat = [[False,False,False] for i in range(3)]\n",
        "for i in range(n):\n",
        "  b = int(input())\n",
        "  for j in range(3):\n",
        "    for l in range(3):\n",
        "      if lst[j][l] == b:\n",
        "        lstmat[j][l] = True\n",
        "\n",
        "res = False\n",
        "for i in range(3):\n",
        "  if lstmat[i][0] and lstmat[i][1] and lstmat[i][2]:\n",
        "    res = True\n",
        "  if lstmat[0][i] and lstmat[1][i] and lstmat[2][i]:\n",
        "    res = True\n",
        "if lstmat[0][0] and lstmat[1][1] and lstmat[2][2]:\n",
        "  res = True\n",
        "if lstmat[0][2] and lstmat[1][1] and lstmat[2][0]:\n",
        "  res = True\n",
        "if res:\n",
        "  print(\"Yes\")\n",
        "else:\n",
        "  print(\"No\")"
      ],
      "execution_count": null,
      "outputs": [
        {
          "output_type": "stream",
          "text": [
            "60 88 34\n",
            "92 41 43\n",
            "65 73 48\n",
            "10\n",
            "60\n",
            "43\n",
            "88\n",
            "11\n",
            "48\n",
            "73\n",
            "65\n",
            "41\n",
            "92\n",
            "34\n",
            "Yes\n"
          ],
          "name": "stdout"
        }
      ]
    },
    {
      "cell_type": "code",
      "metadata": {
        "colab": {
          "base_uri": "https://localhost:8080/"
        },
        "id": "803sd2a5l0g8",
        "outputId": "781bc67c-14e1-46bd-f75d-a513c95c7654"
      },
      "source": [
        "#AtCoderABC157 C問題\n",
        "# n , k = map(int, input().split())\n",
        "# lst = [list(map(int,input().split())) for _ in range(k)]\n",
        "# res = -1\n",
        "# for i in range(10**(n-1),10**(n)):\n",
        "#   score = 0\n",
        "#   tmp = str(i)\n",
        "#   for j in range(k):\n",
        "#     if int(tmp[lst[j][0] - 1]) == lst[j][1]:\n",
        "#       score += 1\n",
        "#   if score == k:\n",
        "#     res = i\n",
        "#     break\n",
        "# print(res)\n",
        "\n",
        "N, M = map(int, input().split())\n",
        "lsc = [list(map(int, input().split())) for _ in range(M)]\n",
        " \n",
        "d = [\"\"]*N\n",
        "for s, c in lsc:\n",
        "    if s == 1 and c == 0 and N > 1:\n",
        "        d = [\"-1\"]\n",
        "        break\n",
        "    if d[s-1] != str(c) and d[s-1] != \"\":\n",
        "        d = [\"-1\"]\n",
        "        break\n",
        "    d[s-1] = str(c)\n",
        " \n",
        "if d[0] != \"-1\":\n",
        "    for i in range(N):\n",
        "        if d[i] == '':\n",
        "            if i == 0 and N > 1:\n",
        "                d[i] = \"1\"\n",
        "            else:\n",
        "                d[i] = \"0\"\n",
        " \n",
        "print(\"\".join(d))"
      ],
      "execution_count": null,
      "outputs": [
        {
          "output_type": "stream",
          "text": [
            "1 0\n",
            "0\n"
          ],
          "name": "stdout"
        }
      ]
    },
    {
      "cell_type": "markdown",
      "metadata": {
        "id": "bzMHxRXUoRnH"
      },
      "source": [
        "#AtCoderABC158\n"
      ]
    },
    {
      "cell_type": "code",
      "metadata": {
        "colab": {
          "base_uri": "https://localhost:8080/"
        },
        "id": "N98TKj-uoUSx",
        "outputId": "e40bd021-fe57-4a7c-d7c6-8f8c2b591f24"
      },
      "source": [
        "#AtCoderABC158  A問題\n",
        "s = input()\n",
        "if s[0] == s[1] and s[1] == s[2]:\n",
        "  print(\"No\")\n",
        "else:\n",
        "  print(\"Yes\")"
      ],
      "execution_count": null,
      "outputs": [
        {
          "output_type": "stream",
          "text": [
            "BBB\n",
            "No\n"
          ],
          "name": "stdout"
        }
      ]
    },
    {
      "cell_type": "code",
      "metadata": {
        "colab": {
          "base_uri": "https://localhost:8080/"
        },
        "id": "OM9SeaBNoWP0",
        "outputId": "a6e86cfe-8dc7-4e0c-8cf6-435ccc4499cc"
      },
      "source": [
        "#AtCoderABC158 B問題\n",
        "n , a, b = map(int, input().split())\n",
        "res = n // (a + b) * b + max(0,n%(a + b) - a)\n",
        "print(n - res)"
      ],
      "execution_count": null,
      "outputs": [
        {
          "output_type": "stream",
          "text": [
            "6 2 4\n",
            "2\n"
          ],
          "name": "stdout"
        }
      ]
    },
    {
      "cell_type": "code",
      "metadata": {
        "colab": {
          "base_uri": "https://localhost:8080/"
        },
        "id": "qjqHx-uEoX8O",
        "outputId": "d7872ed9-616b-4844-d232-e3ec2509deda"
      },
      "source": [
        "#AtCoderABC158 C問題\n",
        "a , b = map(int,input().split())\n",
        "ind1 = int(- ( - a // 0.08))\n",
        "ind2 = int(b  * 10 )\n",
        "a1 = min(ind1,ind2)\n",
        "a2 = max(ind1,ind2)\n",
        "res = -1 \n",
        "for i in range(a1,a2+1):\n",
        "  if int(i * 0.08)  ==  a and int(i * 0.1) == b:\n",
        "    res = i\n",
        "    break\n",
        "print(res)"
      ],
      "execution_count": null,
      "outputs": [
        {
          "output_type": "stream",
          "text": [
            "19 99\n",
            "-1\n"
          ],
          "name": "stdout"
        }
      ]
    },
    {
      "cell_type": "code",
      "metadata": {
        "colab": {
          "base_uri": "https://localhost:8080/"
        },
        "id": "eQblMYkwoZeo",
        "outputId": "d2e28164-0480-4117-bdb5-61e44977a609"
      },
      "source": [
        "#AtCoderABC158 D問題\n",
        "#これではTLEになってしまう\n",
        "# s = input()\n",
        "# q = int(input())\n",
        "# flag = 0\n",
        "# for i in range(q):\n",
        "#   tmp =  input().split()\n",
        "#   if len(tmp) == 1:\n",
        "#     flag += 1\n",
        "#   else:\n",
        "#     if flag % 2 == 0:\n",
        "#       if int(tmp[1]) == 1:\n",
        "#         s =  tmp[2] + s\n",
        "#       else:\n",
        "#         s =   s + tmp[2]\n",
        "#     else:\n",
        "#       if int(tmp[1]) == 1:\n",
        "#         s = s + tmp[2] \n",
        "#       else:\n",
        "#         s = tmp[2] + s\n",
        "# if flag % 2 == 0:\n",
        "#   print(s)\n",
        "# else:\n",
        "#   print(s[::-1])\n",
        "\n",
        "#参考：https://atcoder.jp/contests/abc158/submissions/22372655\n",
        "s = list(input())\n",
        "q = int(input())\n",
        "turned = False\n",
        "l = []\n",
        "r = []\n",
        " \n",
        "for i in range(q):\n",
        "  tmp = input().split()\n",
        "  if tmp[0] == '1':\n",
        "    turned = not turned\n",
        "  else:\n",
        "    f, c = tmp[1:]\n",
        "    if not turned:\n",
        "      if f == '1':\n",
        "        l.append(c)\n",
        "      else:\n",
        "        r.append(c)\n",
        "    else:\n",
        "      if f == '1':\n",
        "        r.append(c)\n",
        "      else:\n",
        "        l.append(c)\n",
        " \n",
        "l.reverse()\n",
        "tmp = l + s + r\n",
        "if turned:\n",
        "  tmp.reverse()\n",
        "ans = ''.join(tmp)\n",
        "print(ans)"
      ],
      "execution_count": null,
      "outputs": [
        {
          "output_type": "stream",
          "text": [
            "a\n",
            "4\n",
            "2 1 p\n",
            "1\n",
            "1\n",
            "1\n",
            "ap\n"
          ],
          "name": "stdout"
        }
      ]
    },
    {
      "cell_type": "markdown",
      "metadata": {
        "id": "z60jtZ3XGDW9"
      },
      "source": [
        "#AtCoderABC159\n"
      ]
    },
    {
      "cell_type": "code",
      "metadata": {
        "colab": {
          "base_uri": "https://localhost:8080/"
        },
        "id": "54P60wVnGH9x",
        "outputId": "41d02fd4-3a7e-4684-dae3-d1129d5c66b1"
      },
      "source": [
        "#AtCoderABC159 A問題\n",
        "n , m = map(int , input().split())\n",
        "res = n*(n-1) // 2 + m*(m-1) //2\n",
        "print(res)"
      ],
      "execution_count": null,
      "outputs": [
        {
          "output_type": "stream",
          "text": [
            "0 3\n",
            "3\n"
          ],
          "name": "stdout"
        }
      ]
    },
    {
      "cell_type": "code",
      "metadata": {
        "colab": {
          "base_uri": "https://localhost:8080/"
        },
        "id": "7wqv2MxXGJHd",
        "outputId": "97286cf6-f43f-4c1a-8ff1-48160b3de713"
      },
      "source": [
        "#AtCoderABC159 B問題\n",
        "s = input()\n",
        "flag = 0\n",
        "n = len(s)\n",
        "for i in range(n//2):\n",
        "  if s[i] != s[n-i-1]:\n",
        "    flag  =1\n",
        "for j in range(n//2//2):\n",
        "  if s[i] != s[n//2- i-1]:\n",
        "    flag = 1\n",
        "for l in range(n//2+2, n//2+(n//2//2)+2):\n",
        "  if s[i] != s[n -i+ n//2 - 2]:\n",
        "    flag = 1\n",
        "if flag:\n",
        "  print(\"No\")\n",
        "else:\n",
        "  print(\"Yes\")"
      ],
      "execution_count": null,
      "outputs": [
        {
          "output_type": "stream",
          "text": [
            "level\n",
            "No\n"
          ],
          "name": "stdout"
        }
      ]
    },
    {
      "cell_type": "code",
      "metadata": {
        "colab": {
          "base_uri": "https://localhost:8080/"
        },
        "id": "2sbrcvA0GKMH",
        "outputId": "e9bb10b5-cd23-4d0a-c525-1cb67cf0f2fc"
      },
      "source": [
        "#AtCoderABC159 C問題\n",
        "l = int(input())\n",
        "res = (l / 3) ** 3\n",
        "print(res)"
      ],
      "execution_count": null,
      "outputs": [
        {
          "output_type": "stream",
          "text": [
            "999\n",
            "36926037.0\n"
          ],
          "name": "stdout"
        }
      ]
    },
    {
      "cell_type": "code",
      "metadata": {
        "colab": {
          "base_uri": "https://localhost:8080/"
        },
        "id": "2ataUY0DJSs6",
        "outputId": "00c6c500-9732-4a6f-e8b7-4bdfc31075de"
      },
      "source": [
        "#AtCoderABC159 D問題\n",
        "import collections\n",
        "n = int(input())\n",
        "lst = list(map(int, input().split()))\n",
        "cnt = collections.Counter(lst)\n",
        "res = 0\n",
        "for i in cnt.values():\n",
        "  if i > 1:\n",
        "    res += i*(i-1) //2\n",
        "\n",
        "for j in lst:\n",
        "  tmp = cnt[j]\n",
        "  if tmp > 1:\n",
        "    print(res - (tmp-1))\n",
        "  else:\n",
        "    print(res)"
      ],
      "execution_count": null,
      "outputs": [
        {
          "output_type": "stream",
          "text": [
            "8\n",
            "1 2 1 4 2 1 4 1\n",
            "5\n",
            "7\n",
            "5\n",
            "7\n",
            "7\n",
            "5\n",
            "7\n",
            "5\n"
          ],
          "name": "stdout"
        }
      ]
    },
    {
      "cell_type": "code",
      "metadata": {
        "colab": {
          "base_uri": "https://localhost:8080/"
        },
        "id": "9SOJpm6pRKkZ",
        "outputId": "f8432a9e-e0a0-4ac8-e0e1-7b37328d6480"
      },
      "source": [
        ""
      ],
      "execution_count": null,
      "outputs": [
        {
          "output_type": "execute_result",
          "data": {
            "text/plain": [
              "Counter({1: 3, 2: 2})"
            ]
          },
          "metadata": {
            "tags": []
          },
          "execution_count": 19
        }
      ]
    },
    {
      "cell_type": "markdown",
      "metadata": {
        "id": "bIxUTa59ox_K"
      },
      "source": [
        "#AtCoderABC160"
      ]
    },
    {
      "cell_type": "code",
      "metadata": {
        "colab": {
          "base_uri": "https://localhost:8080/"
        },
        "id": "sG7kRfLmo9Ne",
        "outputId": "6464f600-5b73-4982-8fc8-4fd64173948e"
      },
      "source": [
        "#AtCoderABC160 A問題\n",
        "s = input()\n",
        "if s[2]==s[3] and s[4]==s[5]:\n",
        "  print(\"Yes\")\n",
        "else:\n",
        "  print(\"No\")"
      ],
      "execution_count": null,
      "outputs": [
        {
          "output_type": "stream",
          "text": [
            "coffee\n",
            "Yes\n"
          ],
          "name": "stdout"
        }
      ]
    },
    {
      "cell_type": "code",
      "metadata": {
        "colab": {
          "base_uri": "https://localhost:8080/"
        },
        "id": "po3rLubHo-qS",
        "outputId": "e8d3c335-00dc-4c0c-b1bf-aafcb7fa31e2"
      },
      "source": [
        "#AtCoderABC160 B問題\n",
        "x = int(input())\n",
        "res =( x // 500) * 1000 + ((x % 500) // 5) * 5\n",
        "print(res)"
      ],
      "execution_count": null,
      "outputs": [
        {
          "output_type": "stream",
          "text": [
            "1000000000\n",
            "2000000000\n"
          ],
          "name": "stdout"
        }
      ]
    },
    {
      "cell_type": "code",
      "metadata": {
        "colab": {
          "base_uri": "https://localhost:8080/"
        },
        "id": "3mvYZ_n-pAHZ",
        "outputId": "0abc8582-fca1-4035-a6df-091bbcdbdcb6"
      },
      "source": [
        "#AtCoderABC160 C問題\n",
        "k , n = map(int,input().split())\n",
        "lst = list(map(int, input().split()))\n",
        "res = lst[-1] - lst[0]\n",
        "for i in range(n-1):\n",
        "  tmp = lst[i] + k - lst[i+1]\n",
        "  if tmp < res:\n",
        "    res = tmp\n",
        "print(res)"
      ],
      "execution_count": null,
      "outputs": [
        {
          "output_type": "stream",
          "text": [
            "20 3\n",
            "5 10 15\n",
            "10\n"
          ],
          "name": "stdout"
        }
      ]
    },
    {
      "cell_type": "markdown",
      "metadata": {
        "id": "LM0zXsJ9y0Fc"
      },
      "source": [
        "#AtCoderABC161"
      ]
    },
    {
      "cell_type": "code",
      "metadata": {
        "colab": {
          "base_uri": "https://localhost:8080/"
        },
        "id": "urF-_4hHy2QQ",
        "outputId": "08aec313-5bb6-4524-fc14-4e3d56868a84"
      },
      "source": [
        "#AtCoderABC161 A問題\n",
        "x,y,z = map(int,input().split())\n",
        "print(z , x, y)"
      ],
      "execution_count": null,
      "outputs": [
        {
          "output_type": "stream",
          "text": [
            "41 59 31\n",
            "31 41 59\n"
          ],
          "name": "stdout"
        }
      ]
    },
    {
      "cell_type": "code",
      "metadata": {
        "colab": {
          "base_uri": "https://localhost:8080/"
        },
        "id": "w3UqZi4vy4ix",
        "outputId": "d4fe5f75-5347-4e96-c2df-31f8a87b83ce"
      },
      "source": [
        "#AtCoderABC161 B問題\n",
        "n , m = map(int , input().split())\n",
        "lst = list(map(int ,input().split()))\n",
        "lst.sort(reverse=True)\n",
        "if lst[m-1] >= sum(lst)/ (4*m):\n",
        "  print(\"Yes\")\n",
        "else:\n",
        "  print(\"No\")"
      ],
      "execution_count": null,
      "outputs": [
        {
          "output_type": "stream",
          "text": [
            "3 2\n",
            "380 19 1\n",
            "No\n"
          ],
          "name": "stdout"
        }
      ]
    },
    {
      "cell_type": "code",
      "metadata": {
        "colab": {
          "base_uri": "https://localhost:8080/"
        },
        "id": "7Nu2ro-ny54I",
        "outputId": "9243048e-c115-422c-cbbe-8d09d31509fb"
      },
      "source": [
        "#AtCoderABC161 C問題\n",
        "n,k = map(int,input().split())\n",
        "print(min(n%k , k-n%k))"
      ],
      "execution_count": null,
      "outputs": [
        {
          "output_type": "stream",
          "text": [
            "1000000000000000000 1\n",
            "0\n"
          ],
          "name": "stdout"
        }
      ]
    },
    {
      "cell_type": "code",
      "metadata": {
        "id": "-BCbXBsK5AVI"
      },
      "source": [
        ""
      ],
      "execution_count": null,
      "outputs": []
    },
    {
      "cell_type": "markdown",
      "metadata": {
        "id": "aQqD-gbILMoh"
      },
      "source": [
        "#AtCoderABC162"
      ]
    },
    {
      "cell_type": "code",
      "metadata": {
        "colab": {
          "base_uri": "https://localhost:8080/"
        },
        "id": "CfXsHUfgLPMW",
        "outputId": "ddae0fde-9023-49e5-fe75-ab74c5545bc4"
      },
      "source": [
        "#AtCoderABC162 A問題\n",
        "n = input()\n",
        "if n[0] == '7' or n[1] == '7' or n[2] == '7':\n",
        "  print(\"Yes\")\n",
        "else:\n",
        "  print(\"No\")"
      ],
      "execution_count": null,
      "outputs": [
        {
          "output_type": "stream",
          "text": [
            "777\n",
            "Yes\n"
          ],
          "name": "stdout"
        }
      ]
    },
    {
      "cell_type": "code",
      "metadata": {
        "colab": {
          "base_uri": "https://localhost:8080/"
        },
        "id": "rQhxyWwsLQZB",
        "outputId": "694e20f8-702a-42a1-c3ac-9cab79a7c109"
      },
      "source": [
        "#AtCoderABC162 B問題\n",
        "n = int(input())\n",
        "res = 0\n",
        "for i in range(1,n+1):\n",
        "  if i % 3 != 0 and i % 5 != 0:\n",
        "    res += i\n",
        "print(res)"
      ],
      "execution_count": null,
      "outputs": [
        {
          "output_type": "stream",
          "text": [
            "1000000\n",
            "266666333332\n"
          ],
          "name": "stdout"
        }
      ]
    },
    {
      "cell_type": "code",
      "metadata": {
        "colab": {
          "base_uri": "https://localhost:8080/"
        },
        "id": "ASoouab1LRbf",
        "outputId": "77a17f23-8b9e-4c7a-ce0b-e71aa7e1fa7d"
      },
      "source": [
        "#AtCoderABC162 C問題\n",
        "import math\n",
        "k = int(input())\n",
        "res = 0\n",
        "for i in range(1,k+1):\n",
        "  for j in range(1,k+1):\n",
        "    tmp = math.gcd(i,j)\n",
        "    for l in range(1,k+1):\n",
        "      res += math.gcd(l,tmp)\n",
        "print(res)"
      ],
      "execution_count": null,
      "outputs": [
        {
          "output_type": "stream",
          "text": [
            "200\n",
            "10813692\n"
          ],
          "name": "stdout"
        }
      ]
    },
    {
      "cell_type": "code",
      "metadata": {
        "colab": {
          "base_uri": "https://localhost:8080/"
        },
        "id": "C7PiOd_6NDXz",
        "outputId": "971d44cd-8238-46e7-97cb-737be8ecbfc9"
      },
      "source": [
        "#AtCoderABC162 D問題\n",
        "#TLEになってしまう\n",
        "# n = int(input())\n",
        "# s = input()\n",
        "# res = 0\n",
        "# for i in range(n-2):\n",
        "#   for j in range(i+1,n-1):\n",
        "#     if s[i] == s[j]:\n",
        "#       continue\n",
        "#     for l in range(j+1,n):\n",
        "#       if j-i == l-j:\n",
        "#         continue\n",
        "#       if s[j] != s[l] and s[l] != s[i]:\n",
        "#         res += 1\n",
        "# print(res)\n",
        "\n",
        "#参考:https://atcoder.jp/contests/abc162/submissions/22188066\n",
        "n=int(input())\n",
        "s=input()\n",
        "ans = 0\n",
        "r=0\n",
        "g=0\n",
        "b=0\n",
        "minus = 0\n",
        "for i in range(n):\n",
        "    if s[i] == 'R':\n",
        "        r += 1\n",
        "    elif s[i] == 'G':\n",
        "        g += 1\n",
        "    else:\n",
        "        b += 1\n",
        "    \n",
        "    for j in range(i+1,n):\n",
        "        k = 2*j-i\n",
        "        if k < n:\n",
        "            if s[i] != s[j] and s[i] != s[k] and s[j] != s[k]:\n",
        "                minus += 1\n",
        " \n",
        "ans = r*g*b - minus\n",
        "print(ans)"
      ],
      "execution_count": null,
      "outputs": [
        {
          "output_type": "stream",
          "text": [
            "39\n",
            "RBRBGRBGGBBRRGBBRRRBGGBRBGBRBGBRBBBGBBB\n",
            "1800\n"
          ],
          "name": "stdout"
        }
      ]
    },
    {
      "cell_type": "markdown",
      "metadata": {
        "id": "yh7GKXZeTtcf"
      },
      "source": [
        "#AtCoderABC163\n"
      ]
    },
    {
      "cell_type": "code",
      "metadata": {
        "colab": {
          "base_uri": "https://localhost:8080/"
        },
        "id": "MWqL7HcVTwXH",
        "outputId": "5bbeea58-a9b6-4220-a2c9-8e7ebc935816"
      },
      "source": [
        "#AtCoderABC163 A問題\n",
        "r = int(input())\n",
        "PI = 3.14159265359\n",
        "print(2*PI*r)"
      ],
      "execution_count": null,
      "outputs": [
        {
          "output_type": "stream",
          "text": [
            "73\n",
            "458.67252742414\n"
          ],
          "name": "stdout"
        }
      ]
    },
    {
      "cell_type": "code",
      "metadata": {
        "colab": {
          "base_uri": "https://localhost:8080/"
        },
        "id": "k70YcVuGWziw",
        "outputId": "2c5bb530-28be-4bc8-9deb-6e420216a9d8"
      },
      "source": [
        "#AtCoderABC163 B問題\n",
        "n , m = map(int,input().split())\n",
        "lst = list(map(int, input().split()))\n",
        "tmp = sum(lst)\n",
        "if n >= tmp:\n",
        "  print(n -tmp)\n",
        "else:\n",
        "  print(-1)"
      ],
      "execution_count": null,
      "outputs": [
        {
          "output_type": "stream",
          "text": [
            "314 15\n",
            "9 26 5 35 8 9 79 3 23 8 46 2 6 43 3\n",
            "9\n"
          ],
          "name": "stdout"
        }
      ]
    },
    {
      "cell_type": "code",
      "metadata": {
        "colab": {
          "base_uri": "https://localhost:8080/"
        },
        "id": "1V1MjGxWdfGm",
        "outputId": "8e720abc-34ef-4bc7-d6ab-05ed83d0fe23"
      },
      "source": [
        "#AtCoderABC163 C問題\n",
        "import collections\n",
        "n = int(input())\n",
        "lst = list(map(int, input().split()))\n",
        "c = collections.Counter(lst)\n",
        "for i in range(n):\n",
        "  print(c[i+1])"
      ],
      "execution_count": null,
      "outputs": [
        {
          "output_type": "stream",
          "text": [
            "7\n",
            "1 2 3 4 5 6\n",
            "1\n",
            "1\n",
            "1\n",
            "1\n",
            "1\n",
            "1\n",
            "0\n"
          ],
          "name": "stdout"
        }
      ]
    },
    {
      "cell_type": "code",
      "metadata": {
        "colab": {
          "base_uri": "https://localhost:8080/"
        },
        "id": "FO_AR7jVlTrz",
        "outputId": "b7aa4275-529a-478e-8e26-2ebabe27db0a"
      },
      "source": [
        "#AtCoderABC163 D問題\n",
        "#参考：https://atcoder.jp/contests/abc163/editorial/428\n",
        "n , k = map(int, input().split())\n",
        "MOD = 10**9 + 7\n",
        "res = ((n-k+2) * (n**2 + n*k - 2 * k**2 + n + 2*k + 6) // 6 ) %MOD\n",
        "print(res)\n",
        "\n",
        "# res = 0\n",
        "# a = 1\n",
        "# b = 1\n",
        "# for i in range(n+1):\n",
        "#   a = a * (n+1-i) % MOD\n",
        "#   b = b * (i+1) % MOD\n",
        "#   # print(i+1,k)\n",
        "#   if i + 1 >= k:\n",
        "#     res = (res + a * pow(b,MOD-2,MOD) % MOD) %MOD\n",
        "# print(res)\n",
        "# if n//2 > k:\n",
        "  # for i in range(k):\n",
        "  #   a = a * (n+1-i) % MOD\n",
        "  #   b = b * (i + 1) % MOD\n",
        "  # res = a * pow(b , MOD-2, MOD) %MOD\n",
        "  # print(res)\n",
        "# else:\n",
        "#   for i in range(n-k):\n",
        "    "
      ],
      "execution_count": null,
      "outputs": [
        {
          "output_type": "stream",
          "text": [
            "200000 200001\n",
            "1\n"
          ],
          "name": "stdout"
        }
      ]
    },
    {
      "cell_type": "markdown",
      "metadata": {
        "id": "LB3gQ2J4WUnY"
      },
      "source": [
        "#AtCoderABC164"
      ]
    },
    {
      "cell_type": "code",
      "metadata": {
        "colab": {
          "base_uri": "https://localhost:8080/"
        },
        "id": "M9CqnHcCWXIb",
        "outputId": "9f0fdbb0-8504-4637-91b3-3a493b8bf805"
      },
      "source": [
        "#AtCoderABC164 A問題\n",
        "s,w = map(int,input().split())\n",
        "if w >= s:\n",
        "  print(\"unsafe\")\n",
        "else:\n",
        "  print(\"safe\")"
      ],
      "execution_count": null,
      "outputs": [
        {
          "output_type": "stream",
          "text": [
            "10 10\n",
            "unsafe\n"
          ],
          "name": "stdout"
        }
      ]
    },
    {
      "cell_type": "code",
      "metadata": {
        "colab": {
          "base_uri": "https://localhost:8080/"
        },
        "id": "Uv8LkSgCWzfM",
        "outputId": "8d9d3a1f-b72c-46da-f562-4eb35b8e8698"
      },
      "source": [
        "#AtCoderABC164 B問題\n",
        "a,b,c,d = map(int,input().split())\n",
        "if -(-a//d) >= -(-c//b):\n",
        "  print(\"Yes\")\n",
        "else:\n",
        "  print(\"No\")"
      ],
      "execution_count": null,
      "outputs": [
        {
          "output_type": "stream",
          "text": [
            "10 10 9 10\n",
            "No\n"
          ],
          "name": "stdout"
        }
      ]
    },
    {
      "cell_type": "code",
      "metadata": {
        "colab": {
          "base_uri": "https://localhost:8080/"
        },
        "id": "rqrd4nB4glDQ",
        "outputId": "f455802f-c9c4-4b2c-ec80-055c5618b461"
      },
      "source": [
        "#AtCoderABC164 C問題\n",
        "n = int(input())\n",
        "res = [input() for i in range(n)]\n",
        "print(len(set(res)))"
      ],
      "execution_count": null,
      "outputs": [
        {
          "output_type": "stream",
          "text": [
            "3\n",
            "apple\n",
            "orange\n",
            "apple\n",
            "2\n"
          ],
          "name": "stdout"
        }
      ]
    },
    {
      "cell_type": "markdown",
      "metadata": {
        "id": "DUt8tyMsO6AC"
      },
      "source": [
        "#AtCoderABC165"
      ]
    },
    {
      "cell_type": "code",
      "metadata": {
        "colab": {
          "base_uri": "https://localhost:8080/"
        },
        "id": "qa86TJSqO8pE",
        "outputId": "1ec439a6-66a9-46ad-bdf4-f4250ab30e1f"
      },
      "source": [
        "#AtCoderABC165 A問題\n",
        "k = int(input())\n",
        "a,b = map(int, input().split())\n",
        "lst = [i % k for i in range(a,b+1)]\n",
        "if 0 in lst:\n",
        "  print(\"OK\")\n",
        "else:\n",
        "  print(\"NG\")"
      ],
      "execution_count": null,
      "outputs": [
        {
          "output_type": "stream",
          "text": [
            "7\n",
            "500 600\n",
            "OK\n"
          ],
          "name": "stdout"
        }
      ]
    },
    {
      "cell_type": "code",
      "metadata": {
        "colab": {
          "base_uri": "https://localhost:8080/"
        },
        "id": "rnCcFpLuO92j",
        "outputId": "b873391a-c845-47be-e8dc-f5e6dd145dd4"
      },
      "source": [
        "#AtCoderABC165 B問題\n",
        "x = int(input())\n",
        "now = 100\n",
        "ind = 0\n",
        "while now < x:\n",
        "  now = now + now//100\n",
        "  ind += 1\n",
        "print(ind)"
      ],
      "execution_count": null,
      "outputs": [
        {
          "output_type": "stream",
          "text": [
            "1333333333\n",
            "1335850880 1706\n"
          ],
          "name": "stdout"
        }
      ]
    },
    {
      "cell_type": "code",
      "metadata": {
        "colab": {
          "base_uri": "https://localhost:8080/"
        },
        "id": "X6ZRncmNO_Md",
        "outputId": "b6f5d20c-bd1e-4a27-dc9e-e6816fe77714"
      },
      "source": [
        "#AtCoderABC165 C問題\n",
        "# n , m q = map(int,input().split())\n",
        "# lst = [list(map(int, input().split())) for i in range(q)]\n",
        "import sys\n",
        "sys.setrecursionlimit(10**9)\n",
        " \n",
        "N, M, Q = map(int, input().split())\n",
        "P = [tuple(map(int, input().split())) for _ in range(Q)]\n",
        " \n",
        "All = []\n",
        "def dfs(x):\n",
        "  if len(x) == N:\n",
        "    All.append(x)\n",
        "    return\n",
        "  for i in range(x[-1], M+1):\n",
        "    dfs(x + [i])\n",
        " \n",
        "for i in range(1, M+1):\n",
        "  dfs([i])\n",
        " \n",
        "ans = 0\n",
        "for A in All:\n",
        "  t = 0\n",
        "  for a, b, c, d in P:\n",
        "    if A[b-1] - A[a-1] == c:\n",
        "      t += d\n",
        "  ans = max(ans, t)\n",
        "print(ans)"
      ],
      "execution_count": null,
      "outputs": [
        {
          "output_type": "stream",
          "text": [
            "3 4 3\n",
            "1 3 3 100\n",
            "1 2 2 10\n",
            "2 3 2 10\n",
            "[]\n",
            "[[1, 1, 1], [1, 1, 2], [1, 1, 3], [1, 1, 4], [1, 2, 2], [1, 2, 3], [1, 2, 4], [1, 3, 3], [1, 3, 4], [1, 4, 4]]\n",
            "[[1, 1, 1], [1, 1, 2], [1, 1, 3], [1, 1, 4], [1, 2, 2], [1, 2, 3], [1, 2, 4], [1, 3, 3], [1, 3, 4], [1, 4, 4], [2, 2, 2], [2, 2, 3], [2, 2, 4], [2, 3, 3], [2, 3, 4], [2, 4, 4]]\n",
            "[[1, 1, 1], [1, 1, 2], [1, 1, 3], [1, 1, 4], [1, 2, 2], [1, 2, 3], [1, 2, 4], [1, 3, 3], [1, 3, 4], [1, 4, 4], [2, 2, 2], [2, 2, 3], [2, 2, 4], [2, 3, 3], [2, 3, 4], [2, 4, 4], [3, 3, 3], [3, 3, 4], [3, 4, 4]]\n",
            "110\n"
          ],
          "name": "stdout"
        }
      ]
    },
    {
      "cell_type": "code",
      "metadata": {
        "colab": {
          "base_uri": "https://localhost:8080/"
        },
        "id": "H48oKSvoPAt7",
        "outputId": "75fb3fa9-425b-48b6-941f-117d66c5e6ce"
      },
      "source": [
        "#AtCoderABC165 D問題\n",
        "a,b,n = map(int, input().split())\n",
        "if n >= b:\n",
        "  print((a*(b-1))//b)\n",
        "else:\n",
        "  print((a*n)//b)"
      ],
      "execution_count": null,
      "outputs": [
        {
          "output_type": "stream",
          "text": [
            "11 10 9\n",
            "9\n"
          ],
          "name": "stdout"
        }
      ]
    },
    {
      "cell_type": "markdown",
      "metadata": {
        "id": "gA2khmw8fCoR"
      },
      "source": [
        "#AtCoderABC166"
      ]
    },
    {
      "cell_type": "code",
      "metadata": {
        "colab": {
          "base_uri": "https://localhost:8080/"
        },
        "id": "N77_tus8fFLr",
        "outputId": "83ca3dd0-de57-42ce-d149-853e5e6e1eab"
      },
      "source": [
        "#AtCoderABC166 A問題\n",
        "s  = input()\n",
        "if s[1] == \"B\":\n",
        "  print(\"ARC\")\n",
        "else:\n",
        "  print(\"ABC\")"
      ],
      "execution_count": null,
      "outputs": [
        {
          "output_type": "stream",
          "text": [
            "ARC\n",
            "ABC\n"
          ],
          "name": "stdout"
        }
      ]
    },
    {
      "cell_type": "code",
      "metadata": {
        "colab": {
          "base_uri": "https://localhost:8080/"
        },
        "id": "JfUJYmZnfGaj",
        "outputId": "7fc01562-269e-45c0-dc17-56282e66085c"
      },
      "source": [
        "#AtCoderABC166 B問題\n",
        "n ,  k = map(int, input().split())\n",
        "lst = [0 for i in range(n)]\n",
        "for i in range(k):\n",
        "  d = int(input())\n",
        "  tmp = list(map(int, input().split()))\n",
        "  for j in range(d):\n",
        "    lst[tmp[j]-1] += 1\n",
        "print(lst.count(0))\n"
      ],
      "execution_count": null,
      "outputs": [
        {
          "output_type": "stream",
          "text": [
            "3 2\n",
            "2\n",
            "1 3\n",
            "1\n",
            "1\n",
            "1\n"
          ],
          "name": "stdout"
        }
      ]
    },
    {
      "cell_type": "code",
      "metadata": {
        "colab": {
          "base_uri": "https://localhost:8080/"
        },
        "id": "29TmENsNgl-q",
        "outputId": "2091e9bd-a164-4b9d-d93e-9e5ffefcb7d9"
      },
      "source": [
        "#AtCoderABC166 C問題\n",
        "n , m = map(int, input().split())\n",
        "lst = list(map(int, input().split()))\n",
        "res = [1 for i in range(n)]\n",
        "for i in range(m):\n",
        "  a,b = map(int,input().split())\n",
        "  if lst[a-1] < lst[b-1]:\n",
        "    res[a-1] = 0\n",
        "  elif lst[a-1] > lst[b-1]:\n",
        "    res[b-1] = 0\n",
        "  else:\n",
        "    res[a-1] = 0\n",
        "    res[b-1] = 0\n",
        "print(sum(res))"
      ],
      "execution_count": null,
      "outputs": [
        {
          "output_type": "stream",
          "text": [
            "6 5\n",
            "8 6 9 1 2 1\n",
            "1 3\n",
            "4 2\n",
            "4 3\n",
            "4 6\n",
            "4 6\n",
            "3\n"
          ],
          "name": "stdout"
        }
      ]
    },
    {
      "cell_type": "code",
      "metadata": {
        "colab": {
          "base_uri": "https://localhost:8080/"
        },
        "id": "ESsQzl9qkBqC",
        "outputId": "220a344d-f6cd-409a-e608-616b4a80c15d"
      },
      "source": [
        "#AtCoderABC166 D問題\n",
        "x = int(input()) \n",
        "flag = 0\n",
        "for i in range(-200,200):\n",
        "  for j in range(-200,200):\n",
        "    if i**5-j**5==x:\n",
        "      print(i,j)\n",
        "      flag = 1\n",
        "      break\n",
        "  if flag == 1:\n",
        "    break"
      ],
      "execution_count": null,
      "outputs": [
        {
          "output_type": "stream",
          "text": [
            "1\n",
            "0 -1\n"
          ],
          "name": "stdout"
        }
      ]
    },
    {
      "cell_type": "markdown",
      "metadata": {
        "id": "kMt89z0mB4Qq"
      },
      "source": [
        "#AtCoderABC167"
      ]
    },
    {
      "cell_type": "code",
      "metadata": {
        "colab": {
          "base_uri": "https://localhost:8080/"
        },
        "id": "c8Ve_QUUCA7H",
        "outputId": "d3922db7-e657-4ffe-d48a-0fb4bf1f7715"
      },
      "source": [
        "#AtCoderABC167 A問題\n",
        "s = input()\n",
        "t = input()\n",
        "flag = 0\n",
        "for i in range(len(s)):\n",
        "  if s[i]  != t[i]:\n",
        "    flag = 1\n",
        "    break\n",
        "if flag == 1:\n",
        "  print(\"No\")\n",
        "else:\n",
        "  print(\"Yes\")\n"
      ],
      "execution_count": null,
      "outputs": [
        {
          "output_type": "stream",
          "text": [
            "a\n",
            "aa\n",
            "Yes\n"
          ],
          "name": "stdout"
        }
      ]
    },
    {
      "cell_type": "code",
      "metadata": {
        "colab": {
          "base_uri": "https://localhost:8080/"
        },
        "id": "ncy6D7gmCC9k",
        "outputId": "3160cf82-eac6-4c5c-cc46-55ca8f50d383"
      },
      "source": [
        "#AtCoderABC167 B問題\n",
        "a,b,c,k = map(int,input().split())\n",
        "if a >= k:\n",
        "  print(k)\n",
        "elif a + b >= k:\n",
        "  print(a)\n",
        "else:\n",
        "  print(a-(k-a-b))"
      ],
      "execution_count": null,
      "outputs": [
        {
          "output_type": "stream",
          "text": [
            "2000000000 0 0 2000000000\n",
            "2000000000\n"
          ],
          "name": "stdout"
        }
      ]
    },
    {
      "cell_type": "code",
      "metadata": {
        "colab": {
          "base_uri": "https://localhost:8080/"
        },
        "id": "XvatvJd3CF1H",
        "outputId": "8e1021d9-77f1-4fb6-efa9-863c6d669824"
      },
      "source": [
        "#AtCoderABC167 C問題\n",
        "#全探索を試みる\n",
        "n,m,x = map(int, input().split())\n",
        "lst = [list(map(int, input().split())) for i in range(n)]\n",
        "flag = 0\n",
        "res = n * 10**5 + 1\n",
        "org = [0 for i in range(m+1)]\n",
        "for i in range(2**n):\n",
        "  tmp = org.copy()\n",
        "  for j in range(n):\n",
        "    if ((i>>j) & 1):\n",
        "      tmp = [x + y for (x,y) in zip(tmp , lst[j])]\n",
        "  tmp2 = sum(list(map(lambda y:int(y>=x) , tmp[1:])))\n",
        "  if m == tmp2:\n",
        "    if tmp[0] < res:\n",
        "      res = tmp[0]\n",
        "      flag = 1\n",
        "if flag == 1:\n",
        "  print(res)\n",
        "else:\n",
        "  print(-1)"
      ],
      "execution_count": null,
      "outputs": [
        {
          "output_type": "stream",
          "text": [
            "8 5 22\n",
            "100 3 7 5 3 1\n",
            "164 4 5 2 7 8\n",
            "334 7 2 7 2 9\n",
            "234 4 7 2 8 2\n",
            "541 5 4 3 3 6\n",
            "235 4 8 6 9 7\n",
            "394 3 6 1 6 2\n",
            "872 8 4 3 7 2\n",
            "1067\n"
          ],
          "name": "stdout"
        }
      ]
    },
    {
      "cell_type": "code",
      "metadata": {
        "colab": {
          "base_uri": "https://localhost:8080/"
        },
        "id": "Uojt-kv9FgD5",
        "outputId": "84aa9a69-170a-4117-c2bc-9555e98c49f5"
      },
      "source": [
        "#AtCoderABC167  D問題\n",
        "#参考:https://qiita.com/Kept1994/items/ea91c057b0e552323da3\n",
        "# N, K = map(int, input().split())\n",
        "# A = [int(i) for i in input().split()]\n",
        "\n",
        "# dv = []\n",
        "# for _ in range(60):\n",
        "#   l = [0] * N\n",
        "#   dv.append(l)\n",
        "\n",
        "# for n in range(N):\n",
        "#   dv[0][n] = A[n] - 1\n",
        "\n",
        "# for k in range(1, 60):\n",
        "#   for n in range(N):\n",
        "#     dv[k][n] = dv[k - 1][dv[k - 1][n]]\n",
        "\n",
        "# a = []\n",
        "# for i in range(60):\n",
        "#   if K>>i & 1:\n",
        "#     a.append(i)\n",
        "# now = 0\n",
        "# for i in a:\n",
        "#   now = dv[i][now]\n",
        "# print(now + 1)\n",
        "\n",
        "\n",
        "import math\n",
        "\n",
        "N, K = map(int, input().split())\n",
        "A = list(map(lambda x: int(x) - 1, input().split()))\n",
        "\n",
        "KMAX = int(math.ceil(math.log2(K))) + 1\n",
        "dp = [[0] * N for _ in range(KMAX)]\n",
        "\n",
        "for i in range(N):\n",
        "  dp[0][i] = A[i]\n",
        "\n",
        "for k in range(KMAX - 1):\n",
        "  for i in range(N):\n",
        "    dp[k + 1][i] = dp[k][dp[k][i]]\n",
        "\n",
        "cur = 0\n",
        "for k in range(KMAX):\n",
        "  if K >> k & 1:\n",
        "    cur = dp[k][cur]\n",
        "\n",
        "print(cur + 1)\n"
      ],
      "execution_count": null,
      "outputs": [
        {
          "output_type": "stream",
          "text": [
            "6 727202214173249351\n",
            "6 5 2 5 3 2\n",
            "2\n"
          ],
          "name": "stdout"
        }
      ]
    },
    {
      "cell_type": "markdown",
      "metadata": {
        "id": "7Piwvrl7p7Sr"
      },
      "source": [
        "#AtCoderABC168\n"
      ]
    },
    {
      "cell_type": "code",
      "metadata": {
        "colab": {
          "base_uri": "https://localhost:8080/"
        },
        "id": "s9AZyytop-_Y",
        "outputId": "3c762f2a-6afd-4439-a49c-f0eff1a86c87"
      },
      "source": [
        "#AtCoderABC168 A問題\n",
        "n = int(input()[-1])\n",
        "lst = [0,1,6,8]\n",
        "if n in lst:\n",
        "  print(\"pon\")\n",
        "elif n == 3:\n",
        "  print(\"bon\")\n",
        "else:\n",
        "  print(\"hon\")"
      ],
      "execution_count": null,
      "outputs": [
        {
          "output_type": "stream",
          "text": [
            "183\n",
            "bon\n"
          ],
          "name": "stdout"
        }
      ]
    },
    {
      "cell_type": "code",
      "metadata": {
        "colab": {
          "base_uri": "https://localhost:8080/"
        },
        "id": "Lsy2KlFiqA8Q",
        "outputId": "8f6ae182-f739-4031-8496-4e0196e20a3c"
      },
      "source": [
        "#AtCoderABC168 B問題\n",
        "k = int(input())\n",
        "s = input()\n",
        "if k >= len(s):\n",
        "  print(s)\n",
        "else:\n",
        "  print(s[0:k] + \"...\")"
      ],
      "execution_count": null,
      "outputs": [
        {
          "output_type": "stream",
          "text": [
            "40\n",
            "ferelibenterhominesidquodvoluntcredunt\n",
            "ferelibenterhominesidquodvoluntcredunt\n"
          ],
          "name": "stdout"
        }
      ]
    },
    {
      "cell_type": "code",
      "metadata": {
        "colab": {
          "base_uri": "https://localhost:8080/"
        },
        "id": "4J49UP8lqCgz",
        "outputId": "d076e907-6270-4888-92e0-d3e68c5a4943"
      },
      "source": [
        "#AtCoderABC168 C問題\n",
        "import math\n",
        "a,b,h,m = map(int, input().split())\n",
        "PI = math.pi\n",
        "theta = 2 * (h / 12 + m/60/12 - m /60) * PI\n",
        "res2 = a ** 2 + b ** 2 - 2 * a * b * math.cos(theta)\n",
        "print(res2 ** 0.5)"
      ],
      "execution_count": null,
      "outputs": [
        {
          "output_type": "stream",
          "text": [
            "3 4 10 40\n",
            "4.564257194330057\n"
          ],
          "name": "stdout"
        }
      ]
    },
    {
      "cell_type": "markdown",
      "metadata": {
        "id": "HfAoG2PJNurd"
      },
      "source": [
        "#AtCoderABC169\n"
      ]
    },
    {
      "cell_type": "code",
      "metadata": {
        "colab": {
          "base_uri": "https://localhost:8080/"
        },
        "id": "1bmBV8qtNyq7",
        "outputId": "6b1a13b8-4354-4e30-8969-f6b47731e5f8"
      },
      "source": [
        "#AtCoderABC169 A問題\n",
        "a,b = map(int , input().split())\n",
        "print(a * b)"
      ],
      "execution_count": null,
      "outputs": [
        {
          "output_type": "stream",
          "text": [
            "2 5\n",
            "10\n"
          ],
          "name": "stdout"
        }
      ]
    },
    {
      "cell_type": "code",
      "metadata": {
        "colab": {
          "base_uri": "https://localhost:8080/"
        },
        "id": "3B1v1QOuN0OZ",
        "outputId": "3f8922e7-7ccd-4251-c878-a1d815cb8702"
      },
      "source": [
        "#AtCoderABC169 B問題\n",
        "n = int(input())\n",
        "lst = list(map(int, input().split()))\n",
        "res = 1\n",
        "threshold = 10**18\n",
        "if 0 in lst:\n",
        "  print(0)\n",
        "else:\n",
        "  for i in lst:\n",
        "    res = res * i\n",
        "    if res > threshold:\n",
        "      res = -1\n",
        "      break\n",
        "  print(res)"
      ],
      "execution_count": null,
      "outputs": [
        {
          "output_type": "stream",
          "text": [
            "3\n",
            "101 9901 999999000001\n",
            "-1\n"
          ],
          "name": "stdout"
        }
      ]
    },
    {
      "cell_type": "code",
      "metadata": {
        "colab": {
          "base_uri": "https://localhost:8080/"
        },
        "id": "QHPbiSfbN1cK",
        "outputId": "5f8e36d2-5e37-40f9-d7c3-4278e747634b"
      },
      "source": [
        "#AtCoderABC169 C問題\n",
        "a,b = map(str , input().split())\n",
        "a = int(a)\n",
        "b100 = int(b[0]+b[2]+b[3])\n",
        "print(a*b100//100)"
      ],
      "execution_count": null,
      "outputs": [
        {
          "output_type": "stream",
          "text": [
            "198 1.10\n",
            "217\n"
          ],
          "name": "stdout"
        }
      ]
    },
    {
      "cell_type": "code",
      "metadata": {
        "colab": {
          "base_uri": "https://localhost:8080/"
        },
        "id": "se6z6hNmS4Gc",
        "outputId": "1d551fd1-fa86-44ac-ac09-436e405d95e5"
      },
      "source": [
        "#AtCoderABC169 D問題\n",
        "n = int(input())\n",
        "def factorization(n):\n",
        "  arr = []\n",
        "  temp = n\n",
        "  for i in range(2, int(-(-n**0.5//1))+1):\n",
        "    if temp%i==0:\n",
        "      cnt=0\n",
        "      while temp%i==0:\n",
        "        cnt+=1\n",
        "        temp //= i\n",
        "      arr.append([i, cnt])\n",
        "  if temp!=1:\n",
        "    arr.append([temp, 1])\n",
        "  if arr==[]:\n",
        "    arr.append([n, 1])\n",
        "  return arr\n",
        "faclst = factorization(n)\n",
        "res = 0\n",
        "for tmp in faclst:\n",
        "  ind = 1\n",
        "  while tmp[1] > 0:\n",
        "    if tmp[1] >= ind:\n",
        "      res += 1\n",
        "    tmp[1] = tmp[1] - ind\n",
        "    ind += 1\n",
        "if n == 1:\n",
        "  print(0)\n",
        "else:\n",
        "  print(res)"
      ],
      "execution_count": null,
      "outputs": [
        {
          "output_type": "stream",
          "text": [
            "997764507000\n",
            "7\n"
          ],
          "name": "stdout"
        }
      ]
    },
    {
      "cell_type": "markdown",
      "metadata": {
        "id": "O7YUOQLYK1T_"
      },
      "source": [
        "#AtCoderABC170"
      ]
    },
    {
      "cell_type": "code",
      "metadata": {
        "colab": {
          "base_uri": "https://localhost:8080/"
        },
        "id": "plAAJGP7K4YO",
        "outputId": "2e013d3d-0877-4edb-8950-c8e63c858225"
      },
      "source": [
        "#AtCoderABC170 A問題\n",
        "lst = list(map(int,input().split()))\n",
        "print(lst.index(0)+1)"
      ],
      "execution_count": null,
      "outputs": [
        {
          "output_type": "stream",
          "text": [
            "12 0\n",
            "2\n"
          ],
          "name": "stdout"
        }
      ]
    },
    {
      "cell_type": "code",
      "metadata": {
        "colab": {
          "base_uri": "https://localhost:8080/"
        },
        "id": "slsMTMRSK5of",
        "outputId": "ffceff03-e60f-4eb1-b74d-d4613cfdfe33"
      },
      "source": [
        "#AtCoderABC170 B問題\n",
        "x , y = map(int, input().split())\n",
        "lst = [(x+i)*2 for i in range(x+1)]\n",
        "if y in lst:\n",
        "  print(\"Yes\")\n",
        "else:\n",
        "  print(\"No\")"
      ],
      "execution_count": null,
      "outputs": [
        {
          "output_type": "stream",
          "text": [
            "1 2\n",
            "Yes\n"
          ],
          "name": "stdout"
        }
      ]
    },
    {
      "cell_type": "code",
      "metadata": {
        "colab": {
          "base_uri": "https://localhost:8080/"
        },
        "id": "4Ow0DkpFK6rm",
        "outputId": "66bfb680-00ca-4c13-b0a3-9c614df3ecb6"
      },
      "source": [
        "#AtCoderABC170 C問題\n",
        "x,n = map(int, input().split())\n",
        "lst = list(map(int, input().split()))\n",
        "if n == 0:\n",
        "  print(x)\n",
        "else:\n",
        "  res = 0 #なんでもいい\n",
        "  res1 = x\n",
        "  res2 = x\n",
        "  flag = 1\n",
        "  while flag == 1:\n",
        "    if res1 not in lst:\n",
        "      res = res1\n",
        "      flag = 0\n",
        "    elif res2 not in lst:\n",
        "      res = res2\n",
        "      flag = 0\n",
        "    res1 -= 1\n",
        "    res2 += 1\n",
        "  print(res)"
      ],
      "execution_count": null,
      "outputs": [
        {
          "output_type": "stream",
          "text": [
            "100 0\n",
            "\n",
            "100\n"
          ],
          "name": "stdout"
        }
      ]
    },
    {
      "cell_type": "markdown",
      "metadata": {
        "id": "W-6yjpS5Zx2A"
      },
      "source": [
        "#AtCoderABC171"
      ]
    },
    {
      "cell_type": "code",
      "metadata": {
        "colab": {
          "base_uri": "https://localhost:8080/"
        },
        "id": "Y7-ycgxGZ0s3",
        "outputId": "e4dc3b3c-a688-44e4-bcd6-6f359bfd1431"
      },
      "source": [
        "#AtCoderABC171 A問題\n",
        "a = input()\n",
        "if a.islower():\n",
        "  print(\"a\")\n",
        "else:\n",
        "  print(\"A\")"
      ],
      "execution_count": null,
      "outputs": [
        {
          "output_type": "stream",
          "text": [
            "g\n",
            "a\n"
          ],
          "name": "stdout"
        }
      ]
    },
    {
      "cell_type": "code",
      "metadata": {
        "colab": {
          "base_uri": "https://localhost:8080/"
        },
        "id": "2Ynjett4Z185",
        "outputId": "344683ce-8ed5-4da8-eb62-091810cd18c7"
      },
      "source": [
        "#AtCoderABC171 B問題\n",
        "n,k = map(int,input().split())\n",
        "lst = list(map(int, input().split()))\n",
        "lst.sort()\n",
        "print(sum(lst[0:k]))"
      ],
      "execution_count": null,
      "outputs": [
        {
          "output_type": "stream",
          "text": [
            "1 1\n",
            "1000\n",
            "1000\n"
          ],
          "name": "stdout"
        }
      ]
    },
    {
      "cell_type": "code",
      "metadata": {
        "colab": {
          "base_uri": "https://localhost:8080/"
        },
        "id": "VvN258o1Z3Q3",
        "outputId": "0a165298-e5d2-4d34-bff3-168a0b25f4d1"
      },
      "source": [
        "#AtCoderABC171 C問題\n",
        "n = int(input())\n",
        "nl = []\n",
        "while n > 0:\n",
        "  n-=1\n",
        "  nl.append(n%26)\n",
        "  n//=26\n",
        "nl = [chr(ni + 97) for ni in nl[::-1]]\n",
        "print(\"\".join(nl))"
      ],
      "execution_count": null,
      "outputs": [
        {
          "output_type": "stream",
          "text": [
            "123456789\n",
            "a\n",
            "aa\n",
            "aaa\n",
            "aaaa\n",
            "aaaaa\n",
            "aaaaaa\n"
          ],
          "name": "stdout"
        }
      ]
    },
    {
      "cell_type": "markdown",
      "metadata": {
        "id": "qXRIMwoGbN5S"
      },
      "source": [
        "#AtCoderABC172"
      ]
    },
    {
      "cell_type": "code",
      "metadata": {
        "colab": {
          "base_uri": "https://localhost:8080/"
        },
        "id": "QR_ghQzwbQGe",
        "outputId": "8176dab6-7303-4ed5-99eb-9798971f6d87"
      },
      "source": [
        "#AtCoderABC172 A問題\n",
        "a = int(input())\n",
        "print(a + a**2 + a**3)"
      ],
      "execution_count": null,
      "outputs": [
        {
          "output_type": "stream",
          "text": [
            "10\n",
            "1110\n"
          ],
          "name": "stdout"
        }
      ]
    },
    {
      "cell_type": "code",
      "metadata": {
        "colab": {
          "base_uri": "https://localhost:8080/"
        },
        "id": "DvXEfhlXbRaC",
        "outputId": "3b32d67f-4dc9-446d-99aa-fac552f6751e"
      },
      "source": [
        "#AtCoderABC172 B問題\n",
        "s = input()\n",
        "t = input()\n",
        "res = 0\n",
        "for i in range(len(s)):\n",
        "  if s[i] != t[i]:\n",
        "    res += 1\n",
        "print(res)"
      ],
      "execution_count": null,
      "outputs": [
        {
          "output_type": "stream",
          "text": [
            "cupofcoffee\n",
            "cupofhottea\n",
            "4\n"
          ],
          "name": "stdout"
        }
      ]
    },
    {
      "cell_type": "markdown",
      "metadata": {
        "id": "q4PHvysLDBGR"
      },
      "source": [
        "#AtCoderABC173"
      ]
    },
    {
      "cell_type": "code",
      "metadata": {
        "colab": {
          "base_uri": "https://localhost:8080/"
        },
        "id": "Cv-wG94DDDjp",
        "outputId": "d9b1c205-0b05-45f1-843a-f78888b100b3"
      },
      "source": [
        "#AtCoderABC173 A問題\n",
        "n = int(input())\n",
        "if n % 1000 == 0:\n",
        "  print(0)\n",
        "else:\n",
        "  print(1000 - n % 1000)"
      ],
      "execution_count": null,
      "outputs": [
        {
          "output_type": "stream",
          "text": [
            "3000\n",
            "0\n"
          ],
          "name": "stdout"
        }
      ]
    },
    {
      "cell_type": "code",
      "metadata": {
        "colab": {
          "base_uri": "https://localhost:8080/"
        },
        "id": "QPE_kLkKDEhM",
        "outputId": "dfa3ceaf-24d7-4c3d-c5dc-5cc63cc2be57"
      },
      "source": [
        "#AtCoderABC173 B問題\n",
        "n = int(input())\n",
        "mydict = {\"AC\": 0 , \"WA\":0 ,\"TLE\" :0 , \"RE\": 0 }\n",
        "for i in range(n):\n",
        "  s = input()\n",
        "  mydict[s] += 1\n",
        "for k , v in mydict.items():\n",
        "  print(k,\"x\",v)"
      ],
      "execution_count": null,
      "outputs": [
        {
          "output_type": "stream",
          "text": [
            "1\n",
            "AC\n",
            "AC x 1\n",
            "WA x 0\n",
            "TLE x 0\n",
            "RE x 0\n"
          ],
          "name": "stdout"
        }
      ]
    },
    {
      "cell_type": "code",
      "metadata": {
        "id": "SVadN2c9DFmG"
      },
      "source": [
        "#AtCoderABC173 C問題"
      ],
      "execution_count": null,
      "outputs": []
    },
    {
      "cell_type": "markdown",
      "metadata": {
        "id": "iZ_wcPeAAsYQ"
      },
      "source": [
        "#AtCoderABC174"
      ]
    },
    {
      "cell_type": "code",
      "metadata": {
        "colab": {
          "base_uri": "https://localhost:8080/"
        },
        "id": "kwJZW8oLAvDh",
        "outputId": "d468912d-0c80-48bc-b105-257818bfca5e"
      },
      "source": [
        "#AtCoderABC174 A問題\n",
        "x = int(input())\n",
        "if x >= 30:\n",
        "  print(\"Yes\")\n",
        "else:\n",
        "  print(\"No\")"
      ],
      "execution_count": null,
      "outputs": [
        {
          "output_type": "stream",
          "text": [
            "30\n",
            "Yes\n"
          ],
          "name": "stdout"
        }
      ]
    },
    {
      "cell_type": "code",
      "metadata": {
        "colab": {
          "base_uri": "https://localhost:8080/"
        },
        "id": "ctBjT_GmAwnu",
        "outputId": "70327654-b51c-412d-f68d-a38c5a819bdf"
      },
      "source": [
        "#AtCoderABC174 B問題\n",
        "n , d = map(int, input().split())\n",
        "res = 0\n",
        "for i in range(n):\n",
        "  x,y = map(int,input().split())\n",
        "  if x**2 + y**2 <= d**2:\n",
        "    res += 1\n",
        "print(res)"
      ],
      "execution_count": null,
      "outputs": [
        {
          "output_type": "stream",
          "text": [
            "12 3\n",
            "1 1\n",
            "1 1\n",
            "1 1\n",
            "1 1\n",
            "1 2\n",
            "1 3\n",
            "2 1\n",
            "2 2\n",
            "2 3\n",
            "3 1\n",
            "3 2\n",
            "3 3\n",
            "7\n"
          ],
          "name": "stdout"
        }
      ]
    },
    {
      "cell_type": "code",
      "metadata": {
        "id": "yYq_FyPiAx89"
      },
      "source": [
        "#AtCoderABC174 D問題\n",
        "n=int(input())\n",
        "a=list(input())\n",
        "y=a.count(\"R\")\n",
        " \n",
        "print(a[:y].count(\"W\"))"
      ],
      "execution_count": null,
      "outputs": []
    },
    {
      "cell_type": "markdown",
      "metadata": {
        "id": "HYNa218OJ1aw"
      },
      "source": [
        "#AtCoderABC175"
      ]
    },
    {
      "cell_type": "code",
      "metadata": {
        "colab": {
          "base_uri": "https://localhost:8080/"
        },
        "id": "Mc5CQiP5J3U8",
        "outputId": "7d31b483-ba2c-4b67-f087-5cb4df1e073f"
      },
      "source": [
        "#AtCoderABC175 A問題\n",
        "s = input()\n",
        "res = s.count(\"R\")\n",
        "if res == 0:\n",
        "  print(0)\n",
        "elif res == 1:\n",
        "  print(1)\n",
        "elif res == 2:\n",
        "  if s[1] ==\"R\":\n",
        "    print(2)\n",
        "  else:\n",
        "    print(1)\n",
        "else:\n",
        "  print(3)"
      ],
      "execution_count": null,
      "outputs": [
        {
          "output_type": "stream",
          "text": [
            "RSR\n",
            "1\n"
          ],
          "name": "stdout"
        }
      ]
    },
    {
      "cell_type": "code",
      "metadata": {
        "id": "yFD6moRYZAo8",
        "colab": {
          "base_uri": "https://localhost:8080/"
        },
        "outputId": "8882a66c-7756-4fe3-df04-255a5727b719"
      },
      "source": [
        "#AtCoderABC175 B問題\n",
        "n = int(input())\n",
        "lst = list(map(int,input().split()))\n",
        "res = 0\n",
        "for i in range(n-2):\n",
        "  a = lst[i]\n",
        "  for j in range(i+1,n-1):\n",
        "    b = lst[j]\n",
        "    if a != b:\n",
        "      for l in range(j+1,n):\n",
        "        c = lst[l]\n",
        "        if a != c and b != c:\n",
        "          if a + b > c and b + c > a and c + a > b:\n",
        "            res += 1\n",
        "print(res)"
      ],
      "execution_count": null,
      "outputs": [
        {
          "output_type": "stream",
          "text": [
            "2\n",
            "1 1\n",
            "0\n"
          ],
          "name": "stdout"
        }
      ]
    },
    {
      "cell_type": "code",
      "metadata": {
        "colab": {
          "base_uri": "https://localhost:8080/"
        },
        "id": "Lo9VGuIkxrrh",
        "outputId": "cf4cad8a-eb5a-4795-f1ba-8dd084b58bba"
      },
      "source": [
        "#AtCoderABC175 C問題\n",
        "x, k, d = map(int, input().split())\n",
        "x = abs(x)\n",
        "ind = x // d\n",
        "if k <= ind:\n",
        "  print(x - d * k)\n",
        "else:\n",
        "  k = k - ind\n",
        "  print(abs(x - ind*d - d * (k % 2) ))"
      ],
      "execution_count": null,
      "outputs": [
        {
          "output_type": "stream",
          "text": [
            "1000000000000000 1000000000000000 1000000000000000\n",
            "1000000000000000\n"
          ],
          "name": "stdout"
        }
      ]
    },
    {
      "cell_type": "code",
      "metadata": {
        "colab": {
          "base_uri": "https://localhost:8080/"
        },
        "id": "BawT-M2u52sf",
        "outputId": "c3315490-9187-41b8-a652-c770e84d27a7"
      },
      "source": [
        "1000000000000000\n",
        "1000000000000000"
      ],
      "execution_count": null,
      "outputs": [
        {
          "output_type": "execute_result",
          "data": {
            "text/plain": [
              "-5"
            ]
          },
          "metadata": {
            "tags": []
          },
          "execution_count": 16
        }
      ]
    },
    {
      "cell_type": "markdown",
      "metadata": {
        "id": "anA9W8eqzFy_"
      },
      "source": [
        "#AtCoderABC176"
      ]
    },
    {
      "cell_type": "code",
      "metadata": {
        "colab": {
          "base_uri": "https://localhost:8080/"
        },
        "id": "MpR5Mo8OzIDW",
        "outputId": "76555669-f340-4e8e-f020-d578c79a07ba"
      },
      "source": [
        "#AtCoderABC176 A問題\n",
        "n, x, t = map(int,input().split())\n",
        "print(-(-n//x) * t)"
      ],
      "execution_count": null,
      "outputs": [
        {
          "output_type": "stream",
          "text": [
            "1000 1 1000\n",
            "1000000\n"
          ],
          "name": "stdout"
        }
      ]
    },
    {
      "cell_type": "code",
      "metadata": {
        "colab": {
          "base_uri": "https://localhost:8080/"
        },
        "id": "siBuWVl9zJC_",
        "outputId": "7ab6e1a0-9bb5-4701-9fd6-6e4be2cba56d"
      },
      "source": [
        "#AtCoderABC176 B問題\n",
        "n = input()\n",
        "res = sum(list(map(int, list(n))))\n",
        "if res % 9 == 0:\n",
        "  print(\"Yes\")\n",
        "else:\n",
        "  print(\"No\")"
      ],
      "execution_count": null,
      "outputs": [
        {
          "output_type": "stream",
          "text": [
            "31415926535897932384626433832795028841971693993751058209749445923078164062862089986280\n",
            "No\n"
          ],
          "name": "stdout"
        }
      ]
    },
    {
      "cell_type": "code",
      "metadata": {
        "colab": {
          "base_uri": "https://localhost:8080/"
        },
        "id": "E_KSHGjv1ID_",
        "outputId": "ace6a711-2b9c-4352-e424-4ae18cb4370a"
      },
      "source": [
        "#AtCoderABC176 C問題\n",
        "n = int(input())\n",
        "lst = list(map(int,input().split()))\n",
        "res = 0\n",
        "for i in range(1,n):\n",
        "  if lst[i-1] > lst[i]:\n",
        "    res += lst[i-1] - lst[i] \n",
        "    lst[i] = lst[i-1]\n",
        "print(res)"
      ],
      "execution_count": null,
      "outputs": [
        {
          "output_type": "stream",
          "text": [
            "5\n",
            "3 3 3 3 3\n",
            "0\n"
          ],
          "name": "stdout"
        }
      ]
    },
    {
      "cell_type": "markdown",
      "metadata": {
        "id": "xbPyRi4UqfL7"
      },
      "source": [
        "#AtCoderABC177"
      ]
    },
    {
      "cell_type": "code",
      "metadata": {
        "colab": {
          "base_uri": "https://localhost:8080/"
        },
        "id": "FYfYQbrZqhFz",
        "outputId": "19f074d6-2ce0-4605-8c24-bf81c8ce3b48"
      },
      "source": [
        "#AtCoderABC177 A問題\n",
        "d,t,s = map(int,input().split())\n",
        "if t*s >= d:\n",
        "  print(\"Yes\")\n",
        "else:\n",
        "  print(\"No\")"
      ],
      "execution_count": null,
      "outputs": [
        {
          "output_type": "stream",
          "text": [
            "10000 1 1\n",
            "No\n"
          ],
          "name": "stdout"
        }
      ]
    },
    {
      "cell_type": "code",
      "metadata": {
        "colab": {
          "base_uri": "https://localhost:8080/"
        },
        "id": "qZ-7KSHFqiEc",
        "outputId": "be5464cd-e664-48c8-d0a6-7bf0e8487ac4"
      },
      "source": [
        "#AtCoderABC177 B問題\n",
        "s = input()\n",
        "t = input()\n",
        "res = 1001\n",
        "for i in range(len(s)-len(t)+1):\n",
        "  dif = 0\n",
        "  for j in range(len(t)):\n",
        "    if s[i+j] != t[j]:\n",
        "      dif += 1\n",
        "  if dif < res:\n",
        "    res = dif\n",
        "print(res)"
      ],
      "execution_count": null,
      "outputs": [
        {
          "output_type": "stream",
          "text": [
            "codeforce\n",
            "atcoder\n",
            "6\n"
          ],
          "name": "stdout"
        }
      ]
    },
    {
      "cell_type": "code",
      "metadata": {
        "colab": {
          "base_uri": "https://localhost:8080/"
        },
        "id": "HC3YRTLwqjR2",
        "outputId": "e1e16073-7d05-4088-c1cd-2a6851f0a844"
      },
      "source": [
        "#AtCoderABC177 C問題\n",
        "n = int(input())\n",
        "lst = list(map(int,input().split()))\n",
        "res = 0\n",
        "MOD = 10**9 + 7\n",
        "tmp = sum(lst)\n",
        "for i in range(n-1):\n",
        "  a = lst[i]\n",
        "  tmp -= a\n",
        "  res = (res + ((tmp*a)% MOD)) % MOD\n",
        "print(res)"
      ],
      "execution_count": null,
      "outputs": [
        {
          "output_type": "stream",
          "text": [
            "4\n",
            "141421356 17320508 22360679 244949\n",
            "437235829\n"
          ],
          "name": "stdout"
        }
      ]
    },
    {
      "cell_type": "code",
      "metadata": {
        "colab": {
          "base_uri": "https://localhost:8080/"
        },
        "id": "RraLMjwDqkRy",
        "outputId": "6881b4ac-e60f-4e9c-f550-7639efc63160"
      },
      "source": [
        "#AtCoderABC177 D問題\n",
        "#参考：https://atcoder.jp/contests/abc177/submissions/22895836\n",
        "import sys\n",
        "sys.setrecursionlimit(10**9)\n",
        "\n",
        "n,m=map(int,input().split())\n",
        "root=[-1]*n\n",
        "\n",
        "def r(x):\n",
        "  if root[x]<0:\n",
        "    return x\n",
        "  else:\n",
        "    root[x]=r(root[x])\n",
        "    return root[x]\n",
        "\n",
        "def unite(x,y):\n",
        "  x=r(x)\n",
        "  y=r(y)\n",
        "  if x==y:\n",
        "    return\n",
        "  root[x]+=root[y]\n",
        "  root[y]=x\n",
        "\n",
        "def size(x):\n",
        "  x=r(x)\n",
        "  return -root[x]\n",
        "\n",
        "for i in range(m):\n",
        "  x,y=map(int,input().split())\n",
        "  x-=1\n",
        "  y-=1\n",
        "  unite(x,y)\n",
        "max_size=max((map(size,range(n))))\n",
        "\n",
        "print(max_size)"
      ],
      "execution_count": null,
      "outputs": [
        {
          "output_type": "stream",
          "text": [
            "5 3\n",
            "1 2\n",
            "[-2, 0, -1, -1, -1]\n",
            "3 4\n",
            "[-2, 0, -2, 2, -1]\n",
            "5 1\n",
            "[4, 0, -2, 2, -3]\n",
            "3\n"
          ],
          "name": "stdout"
        }
      ]
    },
    {
      "cell_type": "markdown",
      "metadata": {
        "id": "CXyEP_SfBjCk"
      },
      "source": [
        "#AtCoderABC183"
      ]
    },
    {
      "cell_type": "code",
      "metadata": {
        "colab": {
          "base_uri": "https://localhost:8080/"
        },
        "id": "Cy--MeFtBl69",
        "outputId": "b4790911-ea34-49b0-eb22-36b9d132b4a9"
      },
      "source": [
        "#AtCoderABC183 A問題\n",
        "x = int(input())\n",
        "print(max(0, x))"
      ],
      "execution_count": null,
      "outputs": [
        {
          "output_type": "stream",
          "text": [
            "-1\n",
            "0\n"
          ],
          "name": "stdout"
        }
      ]
    },
    {
      "cell_type": "code",
      "metadata": {
        "colab": {
          "base_uri": "https://localhost:8080/"
        },
        "id": "pxsos-d7BnD9",
        "outputId": "0d892bfe-187d-4bc5-a643-f40039d7ae2b"
      },
      "source": [
        "#AtCoderABC183 B問題\n",
        "sx , sy ,gx , gy = map(int,input().split())\n",
        "if gy + sy == 0:\n",
        "  print((sx + gx) / 2)\n",
        "else:\n",
        "  res = (gy * sx + gx *sy) / (gy + sy)\n",
        "  print(res)"
      ],
      "execution_count": null,
      "outputs": [
        {
          "output_type": "stream",
          "text": [
            "-9 99 -999 9999\n",
            "-18.705882352941178\n"
          ],
          "name": "stdout"
        }
      ]
    },
    {
      "cell_type": "code",
      "metadata": {
        "colab": {
          "base_uri": "https://localhost:8080/"
        },
        "id": "A65Fu8w3HOxA",
        "outputId": "66dad84f-5842-41b5-aa70-f2c8acba84dd"
      },
      "source": [
        "#AtCoderABC183 C問題\n",
        "import itertools\n",
        "n , k = map(int,input().split())\n",
        "mylst = [list(map(int, input().split())) for i in range(n)]\n",
        "myperm = list(itertools.permutations([i for i in range(1,n)]))\n",
        "res = 0\n",
        "for lst in myperm:\n",
        "  lst = list(lst)\n",
        "  tmp = mylst[0][lst[0]] + mylst[lst[n-2]][0]\n",
        "  for i in range(n-2):\n",
        "    tmp += mylst[lst[i]][lst[i+1]]\n",
        "  if tmp == k:\n",
        "    res += 1\n",
        "print(res)"
      ],
      "execution_count": null,
      "outputs": [
        {
          "output_type": "stream",
          "text": [
            "5 5\n",
            "0 1 1 1 1\n",
            "1 0 1 1 1\n",
            "1 1 0 1 1\n",
            "1 1 1 0 1\n",
            "1 1 1 1 0\n",
            "24\n"
          ],
          "name": "stdout"
        }
      ]
    },
    {
      "cell_type": "code",
      "metadata": {
        "colab": {
          "base_uri": "https://localhost:8080/"
        },
        "id": "G8G8AXloQDwr",
        "outputId": "b5b9e5f6-aa64-4412-8bd5-e6b07f861d79"
      },
      "source": [
        "#AtCoderABC183 D問題\n",
        "n , w = map(int,input().split())\n",
        "lst = [0] * (2 * 10 ** 5 + 2)\n",
        "for i in range(n):\n",
        "  tmp = list(map(int, input().split()))\n",
        "  lst[tmp[0]] += tmp[2]\n",
        "  lst[tmp[1]] -= tmp[2]\n",
        "flag = 1\n",
        "water = 0\n",
        "for i in range(2*10**5 + 2):\n",
        "  water += lst[i]\n",
        "  if water > w:\n",
        "    flag = 0\n",
        "    break\n",
        "if flag ==1:\n",
        "  print(\"Yes\")\n",
        "else:\n",
        "  print(\"No\")"
      ],
      "execution_count": null,
      "outputs": [
        {
          "output_type": "stream",
          "text": [
            "4 10\n",
            "1 3 5\n",
            "2 4 10\n",
            "3 4 10\n",
            "3 5 10\n",
            "No\n"
          ],
          "name": "stdout"
        }
      ]
    },
    {
      "cell_type": "markdown",
      "metadata": {
        "id": "K4J4CcNy8z9W"
      },
      "source": [
        "#AtCoderABC184"
      ]
    },
    {
      "cell_type": "code",
      "metadata": {
        "colab": {
          "base_uri": "https://localhost:8080/"
        },
        "id": "Hul-uX7t84ZI",
        "outputId": "d0ec26b7-5349-46be-9133-276bfd22f4f2"
      },
      "source": [
        "#AtCoderABC184  A問題\n",
        "a , b = map(int,input().split())\n",
        "c , d =  map(int,input().split())\n",
        "print(a * d - b *c)"
      ],
      "execution_count": null,
      "outputs": [
        {
          "output_type": "stream",
          "text": [
            "1 2\n",
            "3 4\n",
            "-2\n"
          ],
          "name": "stdout"
        }
      ]
    },
    {
      "cell_type": "code",
      "metadata": {
        "colab": {
          "base_uri": "https://localhost:8080/"
        },
        "id": "IUsb6mXw86Kx",
        "outputId": "b29c1143-b86c-4a86-be84-0ab7efbda5ec"
      },
      "source": [
        "#AtCoderABC184  B問題\n",
        "n , x = map(int, input().split())\n",
        "s = input()\n",
        "for i in s:\n",
        "  if i == \"o\":\n",
        "    x += 1\n",
        "  else:\n",
        "    if x != 0:\n",
        "      x -= 1\n",
        "print(x)\n",
        "      "
      ],
      "execution_count": null,
      "outputs": [
        {
          "output_type": "stream",
          "text": [
            "20 10\n",
            "xxxxxxxxxxxxxxxxxxxx\n",
            "0\n"
          ],
          "name": "stdout"
        }
      ]
    },
    {
      "cell_type": "code",
      "metadata": {
        "colab": {
          "base_uri": "https://localhost:8080/"
        },
        "id": "hJw7U8Kr87Bo",
        "outputId": "d602e1b6-7a70-4079-f1b6-40e6c9d22f18"
      },
      "source": [
        "#AtCoderABC184  C問題\n",
        "r1, c1 = map(int, input().split())\n",
        "r2, c2 = map(int, input().split())\n",
        "r = r2 - r1\n",
        "c = c2 - c1\n",
        "if (r, c) == (0, 0):\n",
        "    ans = 0\n",
        "elif r == c or r == -c: \n",
        "    ans = 1\n",
        "elif abs(r) + abs(c) <= 3:\n",
        "    ans = 1\n",
        "elif (r ^ c ^ 1) & 1:\n",
        "    ans = 2\n",
        "elif abs(r) + abs(c) <= 6:\n",
        "    ans = 2\n",
        "elif abs(r + c) <= 3 or abs(r - c) <= 3:\n",
        "    ans = 2\n",
        "else:\n",
        "    ans = 3\n",
        "print(ans)"
      ],
      "execution_count": null,
      "outputs": [
        {
          "output_type": "stream",
          "text": [
            "1 1\n",
            "5 6\n",
            "2\n"
          ],
          "name": "stdout"
        }
      ]
    },
    {
      "cell_type": "markdown",
      "metadata": {
        "id": "7ztrqyATwoh-"
      },
      "source": [
        "#AtCoderABC185"
      ]
    },
    {
      "cell_type": "code",
      "metadata": {
        "colab": {
          "base_uri": "https://localhost:8080/"
        },
        "id": "u_WEV2I0ws38",
        "outputId": "8e9099aa-79fd-466a-9318-1999163ebc2c"
      },
      "source": [
        "#AtCoderABC185 A問題\n",
        "lst = list(map(int, input().split()))\n",
        "print(min(lst))"
      ],
      "execution_count": 2,
      "outputs": [
        {
          "output_type": "stream",
          "text": [
            "100 100 1 100\n",
            "1\n"
          ],
          "name": "stdout"
        }
      ]
    },
    {
      "cell_type": "code",
      "metadata": {
        "colab": {
          "base_uri": "https://localhost:8080/"
        },
        "id": "G-HBCNxaxIcF",
        "outputId": "ceb2a044-2637-42e3-b982-4b7c1868a6a6"
      },
      "source": [
        "#AtCoderABC185 B問題\n",
        "n , m , t = map(int,input().split())\n",
        "ntmp = n\n",
        "flag = 0\n",
        "btmp = 0\n",
        "for i in range(m):\n",
        "  a,b  = map(int, input().split())\n",
        "  n = n - (a-btmp)\n",
        "  if n <= 0:\n",
        "    flag = 1\n",
        "  if n + (b-a) <= ntmp:\n",
        "    n = n + (b - a)\n",
        "  else:\n",
        "    n = ntmp\n",
        "  btmp = b\n",
        "n = n - (t - btmp)\n",
        "if n <= 0:\n",
        "  flag = 1\n",
        "if flag == 1:\n",
        "  print(\"No\")\n",
        "else:\n",
        "  print(\"Yes\")"
      ],
      "execution_count": 13,
      "outputs": [
        {
          "output_type": "stream",
          "text": [
            "20 1 30\n",
            "20 29\n",
            "No\n"
          ],
          "name": "stdout"
        }
      ]
    },
    {
      "cell_type": "code",
      "metadata": {
        "colab": {
          "base_uri": "https://localhost:8080/"
        },
        "id": "qcB8TFIhzs01",
        "outputId": "c680c16c-ea68-4fc3-99e8-674b37b4eebe"
      },
      "source": [
        "#AtCoderABC185 C問題\n",
        "l = int(input())\n",
        "a = 1\n",
        "b = 1\n",
        "for i in range(11):\n",
        "  a *= (i+1)\n",
        "  b *= (l-i-1)\n",
        "print(b//a)"
      ],
      "execution_count": 11,
      "outputs": [
        {
          "output_type": "stream",
          "text": [
            "17\n",
            "4368\n"
          ],
          "name": "stdout"
        }
      ]
    },
    {
      "cell_type": "code",
      "metadata": {
        "id": "AsYCgQ8Mw-PB"
      },
      "source": [
        "#AtCoderABC185 D問題\n",
        "n , m = map(int,input().split())\n",
        "lst = list(map(int,input().split()))\n"
      ],
      "execution_count": null,
      "outputs": []
    },
    {
      "cell_type": "markdown",
      "metadata": {
        "id": "W8IMvj5Cn7BR"
      },
      "source": [
        "#第２回日本最強プログラマー学生選手権"
      ]
    },
    {
      "cell_type": "code",
      "metadata": {
        "colab": {
          "base_uri": "https://localhost:8080/"
        },
        "id": "IYmXQW2On__9",
        "outputId": "2667c4e4-27a8-4b55-b9a3-2d7b70b78bc7"
      },
      "source": [
        "#A問題\n",
        "import math\n",
        "x,y,z = map(int, input().split())\n",
        "print(math.ceil(y/x * z)-1)\n"
      ],
      "execution_count": null,
      "outputs": [
        {
          "output_type": "stream",
          "text": [
            "2 3 4\n",
            "5\n"
          ],
          "name": "stdout"
        }
      ]
    },
    {
      "cell_type": "code",
      "metadata": {
        "id": "EL05mHFxoCnp"
      },
      "source": [
        "#B問題\n",
        "n,m= map(int,input().split())\n",
        "alst = list(map(int,input().split()))\n",
        "blst = list(map(int,input().split()))\n",
        "abunion = set(alst) | set(blst)\n",
        "abinter = set(alst) & set(blst)\n",
        "resset = list(abunion - abinter)\n",
        "res = \" \".join(list(map(str , resset)))\n",
        "print(res)"
      ],
      "execution_count": null,
      "outputs": []
    },
    {
      "cell_type": "code",
      "metadata": {
        "id": "ieq9IabCqH1f"
      },
      "source": [
        "#C問題\n",
        "a,b = map(int, input().split())\n",
        "res = 1\n",
        "dif = b-a\n",
        "for i in range(dif,0,-1):\n",
        "  if a % i ==0:\n",
        "    if a + i <= b:\n",
        "      res = i\n",
        "      break\n",
        "  else:\n",
        "    tmp = i *(a//i)  + i\n",
        "    tmp2 = tmp + i\n",
        "    if tmp <= b and tmp2 <= b:\n",
        "      res = i\n",
        "      break\n",
        "print(res)"
      ],
      "execution_count": null,
      "outputs": []
    },
    {
      "cell_type": "code",
      "metadata": {
        "id": "wtbTify1xNr4"
      },
      "source": [
        "#D問題\n",
        "n , p = map(int, input().split())\n",
        "tmp = pow(p-2,n-1,10**9 +7) * (p-1)\n",
        "print(tmp%(10**9 + 7))\n"
      ],
      "execution_count": null,
      "outputs": []
    },
    {
      "cell_type": "code",
      "metadata": {
        "id": "RKjpaEpWApMp"
      },
      "source": [
        "#F問題\n",
        "import numpy as np\n",
        "n ,m, q = map(int, input().split())\n",
        "np_arr = np.zeros((n, m))\n",
        "for i in range(q):\n",
        "  t,x,y = map(int, input().split())\n",
        "  if t == 1:\n",
        "    np_arr[x-1,:] = np.array(list(map(lambda a: max(a,y) , np_arr[x-1,:])))\n",
        "  else:\n",
        "    np_arr[:,x-1] = np.array(list(map(lambda a: max(a,y) , np_arr[: , x-1])))\n",
        "  print(int(np.sum(np_arr)))"
      ],
      "execution_count": null,
      "outputs": []
    },
    {
      "cell_type": "markdown",
      "metadata": {
        "id": "rrvNGExEYumO"
      },
      "source": [
        "#AtCoderABC194\n"
      ]
    },
    {
      "cell_type": "code",
      "metadata": {
        "id": "l2rxDuZxYGi1"
      },
      "source": [
        "#AtCoderABC194 A問題\n",
        "a,b = map(int, input().split())\n",
        "if a+b >= 15 and b >= 8:\n",
        "  print(1)\n",
        "elif a+b >= 10 and b >= 3:\n",
        "  print(2)\n",
        "elif a + b >= 3:\n",
        "  print(3)\n",
        "else:\n",
        "  print(4)"
      ],
      "execution_count": null,
      "outputs": []
    },
    {
      "cell_type": "code",
      "metadata": {
        "id": "5pFhNqf2Y0LD"
      },
      "source": [
        "#AtCoderABC194 B問題\n",
        "n = int(input())\n",
        "a = []\n",
        "b = []\n",
        "res = []\n",
        "for i in range(n):\n",
        "  tmp = list(map(int, input().split()))\n",
        "  a.append(tmp[0])\n",
        "  b.append(tmp[1])\n",
        "\n",
        "for i in range(n):\n",
        "  for j in range(n):\n",
        "    if i == j:\n",
        "      tmp2 = a[i] + b[j]\n",
        "      res.append(tmp2)\n",
        "    else:\n",
        "      tmp2 = max(a[i], b[j])\n",
        "      res.append(tmp2)\n",
        "print(min(res))\n"
      ],
      "execution_count": null,
      "outputs": []
    },
    {
      "cell_type": "code",
      "metadata": {
        "colab": {
          "base_uri": "https://localhost:8080/"
        },
        "id": "jdB10IjvcN6n",
        "outputId": "a590cf9b-09e6-4799-a340-7ac6ae357572"
      },
      "source": [
        "#AtCoderABC194 C問題\n",
        "#なぜか実行時エラーが起こる\n",
        "# import numpy as np\n",
        "\n",
        "# n = int(input())\n",
        "# a = list(map(int,input().split()))\n",
        "# an=np.array(a)\n",
        "# c = an.reshape([n,1]) @ an.reshape([1,n])\n",
        "# res = (n+1) * sum(np.diag(c)) - 2 *  sum(sum(np.tril(c)))\n",
        "# print(res)\n",
        "\n",
        "\n",
        "##パターン2\n",
        "# import itertools\n",
        "# n = int(input())\n",
        "# a = list(map(int,input().split()))\n",
        "# tmp = - 2 *sum(list(map(lambda x:x[0]*x[1] , list(itertools.combinations(a, 2))))) \n",
        "# res = sum(list(map(lambda x: x**2 , a))) * (n-1) + tmp\n",
        "# print(res)\n",
        "\n",
        "n = int(input())\n",
        "a = list(map(int , input().split()))\n",
        "res = sum([a[i] * ((n-1) * a[i] - 2 * sum(a[i+1:])) for i in range(n)])\n",
        "\n",
        "print(res)"
      ],
      "execution_count": null,
      "outputs": [
        {
          "output_type": "stream",
          "text": [
            "3\n",
            "2 8 4\n",
            "56\n"
          ],
          "name": "stdout"
        }
      ]
    },
    {
      "cell_type": "code",
      "metadata": {
        "colab": {
          "base_uri": "https://localhost:8080/"
        },
        "id": "ydnLkMLCcOZR",
        "outputId": "1153a81a-5fc5-4349-b06a-0421a26ba541"
      },
      "source": [
        "#AtCoderABC194 D問題\n",
        "sum([]) * 3"
      ],
      "execution_count": null,
      "outputs": [
        {
          "output_type": "execute_result",
          "data": {
            "text/plain": [
              "0"
            ]
          },
          "metadata": {
            "tags": []
          },
          "execution_count": 73
        }
      ]
    },
    {
      "cell_type": "code",
      "metadata": {
        "colab": {
          "base_uri": "https://localhost:8080/"
        },
        "id": "QO3HMasMo4Hb",
        "outputId": "2d0a462c-c637-4a93-a74f-2194b8c2bcc8"
      },
      "source": [
        "list(itertools.combinations(a, 2))"
      ],
      "execution_count": null,
      "outputs": [
        {
          "output_type": "execute_result",
          "data": {
            "text/plain": [
              "[(2, 8), (2, 4), (8, 4)]"
            ]
          },
          "metadata": {
            "tags": []
          },
          "execution_count": 69
        }
      ]
    },
    {
      "cell_type": "markdown",
      "metadata": {
        "id": "fduwXcgxbcxq"
      },
      "source": [
        "#AtCoderABC195"
      ]
    },
    {
      "cell_type": "code",
      "metadata": {
        "id": "M1it4YElbf93",
        "colab": {
          "base_uri": "https://localhost:8080/"
        },
        "outputId": "411c8e9c-8b96-43b7-ee04-5a8fba0d950e"
      },
      "source": [
        "#AtCoderABC195 A問題\n",
        "m,h = map(int, input().split())\n",
        "if h % m ==0:\n",
        "  print(\"Yes\")\n",
        "else:\n",
        "  print(\"No\")"
      ],
      "execution_count": null,
      "outputs": [
        {
          "output_type": "stream",
          "text": [
            "10 125\n",
            "No\n"
          ],
          "name": "stdout"
        }
      ]
    },
    {
      "cell_type": "code",
      "metadata": {
        "id": "60J8QAkQbk-I",
        "colab": {
          "base_uri": "https://localhost:8080/"
        },
        "outputId": "c82f6548-e80e-4606-d9e7-bc4fe796cb22"
      },
      "source": [
        "#AtCoderABC195 B問題\n",
        "a ,b , w = map(int, input().split())\n",
        "w1000 = w * 1000\n",
        "max_ind = int(w1000 // a) \n",
        "min_ind = int(w1000 // b) \n",
        "lst = []\n",
        "for i in range(min_ind, max_ind + 1):\n",
        "  tmp = w1000 - i * a \n",
        "  if 0 <= tmp <= (b-a) * i:\n",
        "    lst.append(i)\n",
        "\n",
        "if not lst:\n",
        "  print(\"UNSATISFIABLE\")\n",
        "else:\n",
        "  print(min(lst) , max(lst))"
      ],
      "execution_count": null,
      "outputs": [
        {
          "output_type": "stream",
          "text": [
            "300 333 1\n",
            "UNSATISFIABLE\n"
          ],
          "name": "stdout"
        }
      ]
    },
    {
      "cell_type": "code",
      "metadata": {
        "id": "J8NI5qFObmNO",
        "colab": {
          "base_uri": "https://localhost:8080/"
        },
        "outputId": "8fa42ce9-a0c3-4627-8767-2a05edae6797"
      },
      "source": [
        "#AtCoderABC195 C問題\n",
        "n  = int(input())\n",
        "if n < 1000:\n",
        "  print(0)\n",
        "else:\n",
        "  nlen = len(str(n))\n",
        "  if 4 <= nlen <=6:\n",
        "    tmp = n - 999\n",
        "  elif 7 <= nlen <= 9:\n",
        "    tmp = n - 999 + n - 999999\n",
        "  elif 10 <= nlen <= 12:\n",
        "    tmp = n - 999 + n - 999999 + n - 999999999\n",
        "  elif 13 <= nlen <= 15:\n",
        "    tmp = n - 999 + n - 999999 + n - 999999999 + n -999999999999\n",
        "  else:\n",
        "    tmp = n - 999 + n - 999999 + n - 999999999 + n -999999999999 + n -999999999999999\n",
        "  print(tmp)"
      ],
      "execution_count": null,
      "outputs": [
        {
          "output_type": "stream",
          "text": [
            "11000\n",
            "10001\n"
          ],
          "name": "stdout"
        }
      ]
    },
    {
      "cell_type": "code",
      "metadata": {
        "colab": {
          "base_uri": "https://localhost:8080/"
        },
        "id": "6S8aaIgekuqT",
        "outputId": "356b4416-578f-480c-d443-ad78eec7354f"
      },
      "source": [
        "#AtCoderABC195 D問題\n",
        "n , m , q = map(int, input().split())\n",
        "lag = []\n",
        "for i in range(n):\n",
        "  tmp = list(map(int, input().split()))\n",
        "  lag.append(tmp)\n",
        "lag2 = sorted(lag)\n",
        "box = list(map(int, input().split()))\n",
        "query = []\n",
        "for i in range(q):\n",
        "  l, r = map(int , input().split())\n",
        "  lag3 = lag2.copy()\n",
        "  tmp = box[:l-1] + box[r:]\n",
        "  if not tmp:\n",
        "    print(0)\n",
        "  else:\n",
        "    tmp2 = sorted(tmp)\n",
        "    res = 0\n",
        "    for j in tmp2:\n",
        "      flag = 1\n",
        "      while flag:\n",
        "        tmp3 = lag3.pop(0)\n",
        "        if tmp3[0] <= j:\n",
        "          res = res + tmp3[1]\n",
        "          flag = 0\n",
        "        if not lag3:\n",
        "          flag = 0\n",
        "    print(res)\n",
        "\n",
        "\n",
        "\n",
        "\n",
        "\n",
        "\n",
        "    # if n < len(tmp2):\n",
        "    #   res = 0\n",
        "    #   for j in range(n):\n",
        "    #     hoge\n",
        "    # elif n == len(tmp2):\n",
        "    #   for j in range(n):\n",
        "    #     hoge\n",
        "    # else:\n",
        "    #   for j in tmp2:\n",
        "\n"
      ],
      "execution_count": null,
      "outputs": [
        {
          "output_type": "stream",
          "text": [
            "3 4 3\n",
            "1 9\n",
            "5 3\n",
            "7 8\n",
            "1 8 6 9\n",
            "4 4\n",
            "20\n",
            "1 4\n",
            "0\n",
            "20\n",
            "1 3\n",
            "9\n"
          ],
          "name": "stdout"
        }
      ]
    },
    {
      "cell_type": "code",
      "metadata": {
        "colab": {
          "base_uri": "https://localhost:8080/"
        },
        "id": "7iix6K1Wvt-8",
        "outputId": "957ef8bd-e98a-405f-d4d2-6a2c849f8c84"
      },
      "source": [
        "sorted(lag , reverse=True)"
      ],
      "execution_count": null,
      "outputs": [
        {
          "output_type": "execute_result",
          "data": {
            "text/plain": [
              "[[7, 8], [5, 3], [1, 9]]"
            ]
          },
          "metadata": {
            "tags": []
          },
          "execution_count": 55
        }
      ]
    },
    {
      "cell_type": "markdown",
      "metadata": {
        "id": "fsUI8MwhjXOW"
      },
      "source": [
        "#AtCoderABC197"
      ]
    },
    {
      "cell_type": "code",
      "metadata": {
        "colab": {
          "base_uri": "https://localhost:8080/"
        },
        "id": "zX2lSy8vjcHP",
        "outputId": "d0f4a93a-4746-45ff-e935-a757eba4df98"
      },
      "source": [
        "#AtCoderABC197 A問題\n",
        "s = input()\n",
        "sp = s[1] + s[2] + s[0]\n",
        "print(sp)"
      ],
      "execution_count": null,
      "outputs": [
        {
          "output_type": "stream",
          "text": [
            "abc\n",
            "bca\n"
          ],
          "name": "stdout"
        }
      ]
    },
    {
      "cell_type": "code",
      "metadata": {
        "colab": {
          "base_uri": "https://localhost:8080/"
        },
        "id": "Ig2bnO61jeKS",
        "outputId": "50b404d9-413d-403a-f22e-1bd91ab524f9"
      },
      "source": [
        "#AtCoderABC197 B問題\n",
        "h , w, x, y = map(int, input().split())\n",
        "col = \"\"\n",
        "row = \"\"\n",
        "for i in range(h):\n",
        "  s = input()\n",
        "  col = col + s[y-1]\n",
        "  if i == x-1:\n",
        "    row = s\n",
        "flag = 1\n",
        "res = 1\n",
        "for i in range(y-2,-1,-1):\n",
        "  if row[i] != \".\":\n",
        "    flag = 0\n",
        "  if flag != 0:\n",
        "    res += 1\n",
        "\n",
        "flag = 1\n",
        "for i in range(y,w):\n",
        "  if row[i] != \".\":\n",
        "    flag = 0\n",
        "  if flag != 0:\n",
        "    res += 1\n",
        "\n",
        "flag = 1\n",
        "for j in range(x-2, -1, -1):\n",
        "  if col[j] != \".\":\n",
        "    flag = 0\n",
        "  if flag != 0:\n",
        "    res += 1\n",
        "\n",
        "flag = 1\n",
        "for j in range(x,h):\n",
        "  if col[j] != \".\":\n",
        "    flag = 0\n",
        "  if flag != 0:\n",
        "    res += 1\n",
        "\n",
        "print(res)"
      ],
      "execution_count": null,
      "outputs": [
        {
          "output_type": "stream",
          "text": [
            "5 5 4 2\n",
            ".#..#\n",
            "#.###\n",
            "##...\n",
            "#..#.\n",
            "#.###\n",
            "0\n",
            "2\n",
            "3\n",
            "4\n",
            "2\n",
            "1\n",
            "0\n",
            "4\n",
            "3\n"
          ],
          "name": "stdout"
        }
      ]
    },
    {
      "cell_type": "code",
      "metadata": {
        "colab": {
          "base_uri": "https://localhost:8080/"
        },
        "id": "fQHL_lxVlFjk",
        "outputId": "84f21526-1b3f-4885-e5ca-a2dada7c2fa6"
      },
      "source": [
        "#AtCoderABC197 C問題\n",
        "n = int(input())\n",
        "lst = list(map(int, input().split()))\n",
        "\n",
        "res = 2 ** 30 + 1\n",
        "for i in range(2 ** (n-1)):\n",
        "    now = 0\n",
        "    ind = 0\n",
        "    for j in range(n-1):\n",
        "      if i >> j & 1:\n",
        "        tmp = 0\n",
        "        for l in range(ind,j+1):\n",
        "          tmp = tmp | lst[l]\n",
        "        now = now ^ tmp\n",
        "        ind = j \n",
        "    tmp = 0 \n",
        "    for j in range(ind,n):\n",
        "      tmp = tmp | lst[j]\n",
        "    now = now ^ tmp\n",
        "    if res > now:\n",
        "      res = now\n",
        "print(res)"
      ],
      "execution_count": null,
      "outputs": [
        {
          "output_type": "stream",
          "text": [
            "3\n",
            "1 5 7\n",
            "2\n"
          ],
          "name": "stdout"
        }
      ]
    },
    {
      "cell_type": "code",
      "metadata": {
        "colab": {
          "base_uri": "https://localhost:8080/"
        },
        "id": "5AOeMEt45lJL",
        "outputId": "fa9ca57c-461a-46c3-ce17-bfd494953b81"
      },
      "source": [
        "4 ^ 0"
      ],
      "execution_count": null,
      "outputs": [
        {
          "output_type": "execute_result",
          "data": {
            "text/plain": [
              "4"
            ]
          },
          "metadata": {
            "tags": []
          },
          "execution_count": 46
        }
      ]
    },
    {
      "cell_type": "markdown",
      "metadata": {
        "id": "SRMvzZO1y3jB"
      },
      "source": [
        "#AtCoderABC198"
      ]
    },
    {
      "cell_type": "code",
      "metadata": {
        "colab": {
          "base_uri": "https://localhost:8080/"
        },
        "id": "l1pwO8x8y6ou",
        "outputId": "c3520adf-22e2-409d-95d1-8d8f40daf49b"
      },
      "source": [
        "#AtCoderABC198 A問題\n",
        "n = int(input())\n",
        "if n == 1:\n",
        "  print(0)\n",
        "elif n == 2:\n",
        "  print(1)\n",
        "else:\n",
        "  print(n-1)"
      ],
      "execution_count": null,
      "outputs": [
        {
          "output_type": "stream",
          "text": [
            "4\n",
            "6\n"
          ],
          "name": "stdout"
        }
      ]
    },
    {
      "cell_type": "code",
      "metadata": {
        "colab": {
          "base_uri": "https://localhost:8080/"
        },
        "id": "d9TNlRsjy--a",
        "outputId": "27fb09b5-95dd-4e2f-9e13-23b21d1c67c3"
      },
      "source": [
        "#AtCoderABC198 B問題\n",
        "n = int(input())\n",
        "if len(str(n)) == 1:\n",
        "  print(\"Yes\")\n",
        "else:\n",
        "  flag = 1\n",
        "  while flag:\n",
        "    if n % 10 == 0:\n",
        "      n = n//10\n",
        "    else:\n",
        "      flag = 0\n",
        "  strn = str(n)\n",
        "  if len(strn) == 1:\n",
        "    print(\"Yes\")\n",
        "  else:\n",
        "    res = 0\n",
        "    strn2 = strn[::-1]\n",
        "    for i in range(len(strn)//2):\n",
        "      if strn[i] != strn2[i]:\n",
        "        res = 1\n",
        "    if res:\n",
        "      print(\"No\")\n",
        "    else:\n",
        "      print(\"Yes\")"
      ],
      "execution_count": null,
      "outputs": [
        {
          "output_type": "stream",
          "text": [
            "100000000001\n",
            "1 0 1\n",
            "0 1 0\n",
            "0 2 0\n",
            "0 3 0\n",
            "0 4 0\n",
            "0 5 0\n",
            "Yes\n"
          ],
          "name": "stdout"
        }
      ]
    },
    {
      "cell_type": "code",
      "metadata": {
        "colab": {
          "base_uri": "https://localhost:8080/"
        },
        "id": "iFpWkV7w1ikH",
        "outputId": "5a54bafa-3d2c-49d9-fda7-2330c3c0e591"
      },
      "source": [
        "#AtCoderABC198 C問題\n",
        "r,x,y = map(int,input().split())\n",
        "tmp = (x**2 + y**2)**0.5\n",
        "if tmp % r == 0:\n",
        "  print(int(tmp//r))\n",
        "elif tmp // r == 0:\n",
        "  print(int(tmp//r)+2)\n",
        "else:\n",
        "  print(int(tmp//r)+1)"
      ],
      "execution_count": null,
      "outputs": [
        {
          "output_type": "stream",
          "text": [
            "3 4 4\n",
            "2\n"
          ],
          "name": "stdout"
        }
      ]
    },
    {
      "cell_type": "code",
      "metadata": {
        "colab": {
          "base_uri": "https://localhost:8080/"
        },
        "id": "2EG2LPNP-Ngh",
        "outputId": "d86e2c7f-d650-43bd-c846-fc5304fc83c8"
      },
      "source": [
        "#AtCoderABC198 D問題\n",
        "s1 = input()\n",
        "s2 = input()\n",
        "s3 = input()\n",
        "s = s1 + s2 + s3\n",
        "if len(set(s)) > 10:\n",
        "  print(\"UNSOLVABLE\")\n",
        "for i in range(10**(len(s3)-1),10**len(s3)):\n",
        "  if len(set(str(i))) != len(set(s3)):\n",
        "    pass\n",
        "  "
      ],
      "execution_count": null,
      "outputs": [
        {
          "output_type": "stream",
          "text": [
            "s\n",
            "g\n",
            "s\n",
            "0\n",
            "2\n",
            "3\n",
            "4\n",
            "5\n",
            "6\n",
            "7\n",
            "8\n",
            "9\n"
          ],
          "name": "stdout"
        }
      ]
    },
    {
      "cell_type": "markdown",
      "metadata": {
        "id": "lirjnwVZvCT1"
      },
      "source": [
        "#AtCoderABC199 *"
      ]
    },
    {
      "cell_type": "code",
      "metadata": {
        "colab": {
          "base_uri": "https://localhost:8080/"
        },
        "id": "YMhgbZDOvGBX",
        "outputId": "dc8f91eb-4daf-46c6-ced2-bd60b4c798f2"
      },
      "source": [
        "#AtCoderABC199 A問題\n",
        "a,b,c = map(int, input().split())\n",
        "if a**2 + b**2 < c**2:\n",
        "  print(\"Yes\")\n",
        "else:\n",
        "  print(\"No\")"
      ],
      "execution_count": null,
      "outputs": [
        {
          "output_type": "stream",
          "text": [
            "3 4 5\n",
            "No\n"
          ],
          "name": "stdout"
        }
      ]
    },
    {
      "cell_type": "code",
      "metadata": {
        "colab": {
          "base_uri": "https://localhost:8080/"
        },
        "id": "pyC3f_S2vKud",
        "outputId": "e8d01146-0b79-4ddd-99e9-a3f9e26a284d"
      },
      "source": [
        "#AtCoderABC199 B問題\n",
        "n = int(input())\n",
        "lsta = list(map(int, input().split()))\n",
        "lstb = list(map(int, input().split()))\n",
        "a = 0\n",
        "b = 1001\n",
        "flag = 0\n",
        "for i in range(n):\n",
        "  if a < lsta[i]:\n",
        "    a = lsta[i]\n",
        "  if b > lstb[i]:\n",
        "    b = lstb[i]\n",
        "  if b - a < 0:\n",
        "    flag = 1\n",
        "    break\n",
        "if flag:\n",
        "  print(0)\n",
        "else:\n",
        "  print(b-a+1)"
      ],
      "execution_count": null,
      "outputs": [
        {
          "output_type": "stream",
          "text": [
            "3\n",
            "3 2 5\n",
            "6 9 8\n",
            "2\n"
          ],
          "name": "stdout"
        }
      ]
    },
    {
      "cell_type": "code",
      "metadata": {
        "colab": {
          "base_uri": "https://localhost:8080/"
        },
        "id": "MLyLG9a0vL7G",
        "outputId": "e6090c64-4c8b-44ca-f0d2-8b7ccc1450c7"
      },
      "source": [
        "#AtCoderABC199 C問題\n",
        "n = int(input())\n",
        "s = list(input())\n",
        "q = int(input())\n",
        "ind = 0\n",
        "n2 = 2*n\n",
        "for i in range(q):\n",
        "  t,a,b = map(int,input().split())\n",
        "  if t == 1:\n",
        "    if ind == 0:\n",
        "      s[a-1] , s[b-1] = s[b-1] , s[a-1]\n",
        "    elif n < a:\n",
        "      s[a-n-1] , s[b-n-1] = s[b-n-1], s[a-n-1]\n",
        "    elif b <= n:\n",
        "      s[a-1+n] ,s[b-1+n] = s[b-1+n], s[a-1+n]\n",
        "    else:\n",
        "      s[n+a-1] , s[b-n-1] = s[b-n-1], s[n+a-1]\n",
        "  else:\n",
        "    if ind == 0:\n",
        "      ind = 1\n",
        "    else:\n",
        "      ind =0\n",
        "if ind == 1:\n",
        "  s[0:n] ,s[n:2*n] =s[n:2*n] ,  s[0:n]  \n",
        "print(\"\".join(s))"
      ],
      "execution_count": null,
      "outputs": [
        {
          "output_type": "stream",
          "text": [
            "2\n",
            "FLIP\n",
            "6\n",
            "1 1 3\n",
            "2 0 0\n",
            "1 1 2\n",
            "1 2 3\n",
            "2 0 0\n",
            "1 1 4\n",
            "ILPF\n"
          ],
          "name": "stdout"
        }
      ]
    },
    {
      "cell_type": "code",
      "metadata": {
        "colab": {
          "base_uri": "https://localhost:8080/"
        },
        "id": "3XE-iOBqvNBG",
        "outputId": "97ed49e3-1853-4bfd-af8d-7ce8e6dcbbf7"
      },
      "source": [
        "# #AtCoderABC199 D問題\n",
        "# n , m = map(int,input().split())\n",
        "# lstn = [[3,[]] for i in range(n)]\n",
        "# flag = 0\n",
        "# lst = [list(map(int, input().split())) for i in range(m)]\n",
        "# for i in range(m):\n",
        "#   lstn[lst[i][0]-1][0] -= 1\n",
        "#   lstn[lst[i][1]-1][0] -= 1\n",
        "#   lstn[lst[i][0]-1][1].append(lst[i][1]-1)\n",
        "#   lstn[lst[i][1]-1][1].append(lst[i][0]-1)\n",
        "# res = 0\n",
        "# tmp = []\n",
        "# for i in range(n):\n",
        "#   print(i,res,tmp)\n",
        "#   if i in tmp:\n",
        "#     continue\n",
        "#   if lstn[i][0] <= 0:\n",
        "#     res = 0\n",
        "#     break\n",
        "#   elif lstn[i][0] == 1:\n",
        "#     tmp.append(i)\n",
        "#     for j in lstn[i][1]:\n",
        "#       tmp.append(j)\n",
        "#       if lstn[j][0] == 2:\n",
        "#         res *= 2\n",
        "#       elif lstn[j][0] == 1:\n",
        "#         res += 3\n",
        "#   elif lstn[i][0] == 2:\n",
        "#     tmp.append(i)\n",
        "#     for j in lstn[i][1]:\n",
        "#       tmp.append(j)\n",
        "#       if lstn[j][0] == 2:\n",
        "#         res *= 2\n",
        "#       elif lstn[j][0] == 1:\n",
        "#         res += 3\n",
        "#   else:\n",
        "#     if res == 0:\n",
        "#       res += 3\n",
        "#     else:\n",
        "#       res *= 3\n",
        "# print(res)"
      ],
      "execution_count": null,
      "outputs": [
        {
          "output_type": "stream",
          "text": [
            "20 0\n",
            "0 0 []\n",
            "1 3 []\n",
            "2 9 []\n",
            "3 27 []\n",
            "4 81 []\n",
            "5 243 []\n",
            "6 729 []\n",
            "7 2187 []\n",
            "8 6561 []\n",
            "9 19683 []\n",
            "10 59049 []\n",
            "11 177147 []\n",
            "12 531441 []\n",
            "13 1594323 []\n",
            "14 4782969 []\n",
            "15 14348907 []\n",
            "16 43046721 []\n",
            "17 129140163 []\n",
            "18 387420489 []\n",
            "19 1162261467 []\n",
            "3486784401\n"
          ],
          "name": "stdout"
        }
      ]
    },
    {
      "cell_type": "markdown",
      "metadata": {
        "id": "RNq7kwKT1_AJ"
      },
      "source": [
        "#AtCoderABC200 *"
      ]
    },
    {
      "cell_type": "code",
      "metadata": {
        "colab": {
          "base_uri": "https://localhost:8080/"
        },
        "id": "22xyVsSs2Cou",
        "outputId": "422ca6bc-2aa7-40e3-e18d-61e2f00ad79d"
      },
      "source": [
        "#AtCoderABC200 A問題\n",
        "n = int(input())\n",
        "print(-(-n//100))"
      ],
      "execution_count": null,
      "outputs": [
        {
          "output_type": "stream",
          "text": [
            "2021\n",
            "21\n"
          ],
          "name": "stdout"
        }
      ]
    },
    {
      "cell_type": "code",
      "metadata": {
        "colab": {
          "base_uri": "https://localhost:8080/"
        },
        "id": "fYCKrew02EB2",
        "outputId": "669ba418-ae92-4772-c899-3e64cb7aa1b4"
      },
      "source": [
        "#AtCoderABC200 B問題\n",
        "n , k = map(int, input().split())\n",
        "for i in range(k):\n",
        "  if n % 200 == 0:\n",
        "    n = n // 200\n",
        "  else:\n",
        "    n = int(str(n) + \"200\")\n",
        "print(n)"
      ],
      "execution_count": null,
      "outputs": [
        {
          "output_type": "stream",
          "text": [
            "8691 20\n",
            "84875488281\n"
          ],
          "name": "stdout"
        }
      ]
    },
    {
      "cell_type": "code",
      "metadata": {
        "colab": {
          "base_uri": "https://localhost:8080/"
        },
        "id": "YeaAZ9qu2Rnr",
        "outputId": "642d00cc-8116-43ed-91e3-d3a6803a834d"
      },
      "source": [
        "#AtCoderABC200 C問題\n",
        "import collections\n",
        "import math\n",
        "def combinations_count(n, r=2):\n",
        "    return math.factorial(n) // (math.factorial(n - r) * math.factorial(r))\n",
        "\n",
        "n = int(input())\n",
        "lst = list(map(lambda x : int(x) % 200, input().split()))\n",
        "c  = collections.Counter(lst)\n",
        "lst2 = list(c.values())\n",
        "res = 0\n",
        "for i in lst2:\n",
        "  if i > 1:\n",
        "    res += combinations_count(i)\n",
        "print(res)"
      ],
      "execution_count": null,
      "outputs": [
        {
          "output_type": "stream",
          "text": [
            "8\n",
            "199 100 200 400 300 500 600 200\n",
            "9\n"
          ],
          "name": "stdout"
        }
      ]
    },
    {
      "cell_type": "code",
      "metadata": {
        "colab": {
          "base_uri": "https://localhost:8080/"
        },
        "id": "riSt1OvY4cvb",
        "outputId": "a7675c81-0b63-4c4c-c4fe-bf381dd33b67"
      },
      "source": [
        "#AtCoderABC200 D問題\n",
        "\n",
        "def get_integral_value_combination(lst, target):\n",
        "    def a(idx, l, r, t):\n",
        "        if t == sum(l)%200: r.append(l)\n",
        "        elif len(l) > 10: return\n",
        "        for u in range(idx, len(lst)):\n",
        "            a((u + 1), l + [lst[u]], r, t)\n",
        "        return r\n",
        "    return a(0, [], [], target)\n",
        "\n",
        "n = int(input())\n",
        "lst = list(map(int, input().split()))\n",
        "lst2 = list(map(lambda x : x % 200 , lst))\n",
        "lst3 = sorted(lst2,reverse=True)\n",
        "lst4 = []\n",
        "for i in range(n):\n",
        "  lst4.append(lst[lst2.index(lst3[i])])\n",
        "\n",
        "if len(lst2) != len(set(lst2)):\n",
        "  print(\"Yes\")\n",
        "  res1 = [str(1)]\n",
        "  res2 = [str(1)]\n",
        "  flag = 0\n",
        "  for i in range(n-1):\n",
        "    for j in range(i+1,n):\n",
        "      if lst2[i] == lst3[j]:\n",
        "        res1.append(str(i+1))\n",
        "        res2.append(str(j+1))\n",
        "        flag = 1\n",
        "        break\n",
        "    if flag:\n",
        "      break\n",
        "  print(\" \".join(res1))\n",
        "  print(\" \".join(res2))\n",
        "else:\n",
        "  flag = 0\n",
        "  for i in range(200):\n",
        "    tmp  = get_integral_value_combination(lst4 , i)\n",
        "    print(tmp)\n",
        "    if len(tmp) >= 2:\n",
        "      flag = 1\n",
        "      break\n",
        "  if flag==0:\n",
        "    print(\"No\")\n",
        "  else:\n",
        "    res1 = []\n",
        "    for j in tmp[0]:\n",
        "      res1.append(lst.index(j)+1)\n",
        "    res1.sort()\n",
        "    res1.insert(0, len(tmp[0]))\n",
        "    res2 = []\n",
        "    for j in tmp[1]:\n",
        "      res2.append(lst.index(j)+1)\n",
        "    res2.sort()\n",
        "    res2.insert(0, len(tmp[1]))\n",
        "    print(\"Yes\")\n",
        "    print(\" \".join(list(map(str , res1))))\n",
        "    print(\" \".join(list(map(str , res2))))"
      ],
      "execution_count": null,
      "outputs": [
        {
          "output_type": "stream",
          "text": [
            "5\n",
            "180 186 189 191 218\n",
            "[[]]\n",
            "[]\n",
            "[]\n",
            "[]\n",
            "[[186, 218]]\n",
            "[]\n",
            "[]\n",
            "[[189, 218]]\n",
            "[]\n",
            "[[191, 218]]\n",
            "[]\n",
            "[]\n",
            "[]\n",
            "[]\n",
            "[]\n",
            "[]\n",
            "[]\n",
            "[]\n",
            "[[218]]\n",
            "[]\n",
            "[]\n",
            "[]\n",
            "[]\n",
            "[]\n",
            "[]\n",
            "[]\n",
            "[]\n",
            "[]\n",
            "[]\n",
            "[]\n",
            "[]\n",
            "[]\n",
            "[]\n",
            "[]\n",
            "[]\n",
            "[]\n",
            "[]\n",
            "[]\n",
            "[]\n",
            "[]\n",
            "[]\n",
            "[]\n",
            "[]\n",
            "[]\n",
            "[]\n",
            "[]\n",
            "[]\n",
            "[]\n",
            "[]\n",
            "[]\n",
            "[]\n",
            "[]\n",
            "[]\n",
            "[]\n",
            "[]\n",
            "[]\n",
            "[]\n",
            "[]\n",
            "[]\n",
            "[]\n",
            "[]\n",
            "[]\n",
            "[]\n",
            "[]\n",
            "[]\n",
            "[]\n",
            "[]\n",
            "[]\n",
            "[]\n",
            "[]\n",
            "[]\n",
            "[]\n",
            "[]\n",
            "[]\n",
            "[]\n",
            "[]\n",
            "[]\n",
            "[]\n",
            "[]\n",
            "[]\n",
            "[]\n",
            "[]\n",
            "[]\n",
            "[]\n",
            "[]\n",
            "[]\n",
            "[]\n",
            "[]\n",
            "[]\n",
            "[]\n",
            "[]\n",
            "[]\n",
            "[]\n",
            "[]\n",
            "[]\n",
            "[]\n",
            "[]\n",
            "[]\n",
            "[]\n",
            "[]\n",
            "[]\n",
            "[]\n",
            "[]\n",
            "[]\n",
            "[]\n",
            "[]\n",
            "[]\n",
            "[]\n",
            "[]\n",
            "[]\n",
            "[]\n",
            "[]\n",
            "[]\n",
            "[]\n",
            "[]\n",
            "[]\n",
            "[]\n",
            "[]\n",
            "[]\n",
            "[]\n",
            "[]\n",
            "[]\n",
            "[]\n",
            "[]\n",
            "[]\n",
            "[]\n",
            "[]\n",
            "[]\n",
            "[]\n",
            "[]\n",
            "[]\n",
            "[]\n",
            "[]\n",
            "[]\n",
            "[]\n",
            "[]\n",
            "[]\n",
            "[]\n",
            "[]\n",
            "[]\n",
            "[]\n",
            "[]\n",
            "[]\n",
            "[]\n",
            "[]\n",
            "[]\n",
            "[[191, 189, 186, 180]]\n",
            "[]\n",
            "[]\n",
            "[]\n",
            "[]\n",
            "[]\n",
            "[]\n",
            "[]\n",
            "[]\n",
            "[[189, 186, 180]]\n",
            "[]\n",
            "[[191, 186, 180]]\n",
            "[]\n",
            "[]\n",
            "[[191, 189, 180]]\n",
            "[]\n",
            "[]\n",
            "[]\n",
            "[[191, 189, 186, 180, 218]]\n",
            "[]\n",
            "[[191, 189, 186], [186, 180]]\n",
            "Yes\n",
            "3 2 3 4\n",
            "2 1 2\n"
          ],
          "name": "stdout"
        }
      ]
    },
    {
      "cell_type": "code",
      "metadata": {
        "colab": {
          "base_uri": "https://localhost:8080/"
        },
        "id": "yeeYq1qqJshJ",
        "outputId": "7a5f3f20-1a2a-4276-ceb3-d23146fbfc39"
      },
      "source": [
        " "
      ],
      "execution_count": null,
      "outputs": [
        {
          "output_type": "execute_result",
          "data": {
            "text/plain": [
              "True"
            ]
          },
          "metadata": {
            "tags": []
          },
          "execution_count": 59
        }
      ]
    },
    {
      "cell_type": "markdown",
      "metadata": {
        "id": "UBDXk_qxy9hA"
      },
      "source": [
        "#AtCoderABC Zone"
      ]
    },
    {
      "cell_type": "code",
      "metadata": {
        "colab": {
          "base_uri": "https://localhost:8080/"
        },
        "id": "kXEl0Q6yzBFL",
        "outputId": "0b439127-fe82-41b9-e882-7c151cf36366"
      },
      "source": [
        "#AtCoderABC A問題\n",
        "s = input()\n",
        "res = 0\n",
        "for i in range(len(s)-3):\n",
        "  if s[i] + s[i+1]+ s[i+2] + s[i+3] == \"ZONe\":\n",
        "    res += 1\n",
        "print(res)"
      ],
      "execution_count": null,
      "outputs": [
        {
          "output_type": "stream",
          "text": [
            "helloAtZoner\n",
            "0\n"
          ],
          "name": "stdout"
        }
      ]
    },
    {
      "cell_type": "code",
      "metadata": {
        "colab": {
          "base_uri": "https://localhost:8080/"
        },
        "id": "_JgGSFS_zHqf",
        "outputId": "9798bd87-ee3d-48f1-87c8-1f9c69a35d09"
      },
      "source": [
        "#AtCoderABC B問題\n",
        "n , d, h = map(int,input().split())\n",
        "res = 0\n",
        "for i in range(n):\n",
        "  dd , hh= map(int, input().split())\n",
        "  tmp = (d * hh - h * dd) / (d -dd)\n",
        "  if res < tmp:\n",
        "    res = tmp\n",
        "print(res)"
      ],
      "execution_count": null,
      "outputs": [
        {
          "output_type": "stream",
          "text": [
            "1 10 10\n",
            "5 5\n",
            "0\n"
          ],
          "name": "stdout"
        }
      ]
    },
    {
      "cell_type": "code",
      "metadata": {
        "colab": {
          "base_uri": "https://localhost:8080/"
        },
        "id": "6fvPB450-J_8",
        "outputId": "98cc36f8-e90f-44e7-ef89-8843d9105dc9"
      },
      "source": [
        "#AtCoderABC C問題\n",
        "n = int(input())\n",
        "lst = [list(map(int, input().split())) for i in range(n)]\n",
        "def minmax(lst1,lst2):\n",
        "  return min([max([lst1[i], lst2[i]]) for i in range(5)])\n",
        "res = 0\n",
        "for i in range(n-2):\n",
        "  for j in range(i+1,n-1):\n",
        "    tlst = [max(lst[i][k], lst[j][k]) for k in range(5)] \n",
        "    for l in range(j+1,n):\n",
        "      tmp = minmax(tlst,lst[l])\n",
        "      if res < tmp:\n",
        "        res = tmp\n",
        "print(res)"
      ],
      "execution_count": null,
      "outputs": [
        {
          "output_type": "stream",
          "text": [
            "5\n",
            "6 13 6 19 11\n",
            "4 4 12 11 18\n",
            "20 7 19 2 5\n",
            "15 5 12 20 7\n",
            "8 7 6 18 5\n",
            "13\n"
          ],
          "name": "stdout"
        }
      ]
    },
    {
      "cell_type": "code",
      "metadata": {
        "colab": {
          "base_uri": "https://localhost:8080/"
        },
        "id": "aTvVYjbGzJj6",
        "outputId": "fc47983f-9e7f-4e82-8c27-7e9f666fa317"
      },
      "source": [
        "#AtCoderABC D問題\n",
        "s = input()\n",
        "t = \"\"\n",
        "flag = 0\n",
        "ind = 0\n",
        "for i in range(len(s)):\n",
        "  if s[i] == \"R\":\n",
        "    flag += 1\n",
        "  else:\n",
        "    if flag % 2 == 1:\n",
        "      if ind >= 1:\n",
        "        if t[0] != s[i]:\n",
        "          t = s[i] + t\n",
        "          ind += 1\n",
        "        else:\n",
        "          t = t[1:len(t)]\n",
        "          ind -= 1\n",
        "      else:\n",
        "        t = s[i]\n",
        "        ind += 1\n",
        "    else:\n",
        "      if ind >= 1:\n",
        "        if s[i] != t[len(t)-1]:\n",
        "          t = t + s[i]\n",
        "          ind += 1\n",
        "        else:\n",
        "          t = t[0:len(t)-1]\n",
        "          ind -= 1\n",
        "      else:\n",
        "        t = s[i]\n",
        "        ind += 1\n",
        "if flag % 2 == 0:\n",
        "  print(t)\n",
        "else:\n",
        "  print(t[::-1])\n"
      ],
      "execution_count": null,
      "outputs": [
        {
          "output_type": "stream",
          "text": [
            "hellospaceRhellospace\n",
            "\n"
          ],
          "name": "stdout"
        }
      ]
    },
    {
      "cell_type": "markdown",
      "metadata": {
        "id": "dVBsKl7v4h_l"
      },
      "source": [
        "#AtCoderABC201 *\n"
      ]
    },
    {
      "cell_type": "code",
      "metadata": {
        "colab": {
          "base_uri": "https://localhost:8080/"
        },
        "id": "Xl5ZQcyS4l9U",
        "outputId": "9d7fd2ab-aab0-4f96-b890-2eb59211b77c"
      },
      "source": [
        "#AtCoderABC201 A問題\n",
        "lst = list(map(int,input().split()))\n",
        "lst.sort()\n",
        "if lst[1]-lst[0] == lst[2] - lst[1]:\n",
        "  print(\"Yes\")\n",
        "else:\n",
        "  print(\"No\")"
      ],
      "execution_count": null,
      "outputs": [
        {
          "output_type": "stream",
          "text": [
            "5 3 1\n",
            "Yes\n"
          ],
          "name": "stdout"
        }
      ]
    },
    {
      "cell_type": "code",
      "metadata": {
        "colab": {
          "base_uri": "https://localhost:8080/"
        },
        "id": "b5-drKjp4nR8",
        "outputId": "914d8682-c69c-491f-ce85-7b8d61d35dba"
      },
      "source": [
        "#AtCoderABC201 B問題\n",
        "n = int(input())\n",
        "lsts = []\n",
        "lstt = []\n",
        "for i in range(n):\n",
        "  tmp = list(map(str, input().split()))\n",
        "  lsts.append(tmp[0])\n",
        "  lstt.append(int(tmp[1]))\n",
        "tmp2 = sorted(lstt , reverse = True)\n",
        "print(lsts[lstt.index(tmp2[1])])"
      ],
      "execution_count": null,
      "outputs": [
        {
          "output_type": "stream",
          "text": [
            "4\n",
            "QCFium 2846\n",
            "chokudai 2992\n",
            "kyoprofriends 2432\n",
            "penguinman 2390\n",
            "QCFium\n"
          ],
          "name": "stdout"
        }
      ]
    },
    {
      "cell_type": "code",
      "metadata": {
        "colab": {
          "base_uri": "https://localhost:8080/"
        },
        "id": "4Zi7LoRS4ouX",
        "outputId": "34c5ce29-f9a0-4ab2-d725-ef781868926b"
      },
      "source": [
        "#AtCoderABC201 C問題\n",
        "s = input()\n",
        "lst = list(s)\n",
        "tmp1  = lst.count(\"o\")\n",
        "tmp2 = lst.count(\"x\")\n",
        "tmp3 = lst.count(\"?\")\n",
        "if tmp1 > 4:\n",
        "  print(0)\n",
        "elif tmp1 == 4:\n",
        "  print(24)\n",
        "elif tmp1 == 3:\n",
        "  if tmp3 == 0:\n",
        "    print(36)\n",
        "  else:\n",
        "    res = 36 + 24 * tmp3\n",
        "    print(res)\n",
        "elif tmp1 == 2:\n",
        "  if tmp3 == 0:\n",
        "    print(6 + 8)\n",
        "  elif tmp3 == 1:\n",
        "    res = 6 + 8 + 36\n",
        "    print(res)\n",
        "  else:\n",
        "    res = 6 + 8 + 36 * tmp3 + 12 * tmp3 * (tmp3 -1)\n",
        "    print(res)\n",
        "elif tmp1 == 1:\n",
        "  if tmp3 == 0:\n",
        "    print(1)\n",
        "  elif tmp3 == 1:\n",
        "    res = 1 + 6  + 8\n",
        "    print(res)\n",
        "  elif tmp3 == 2:\n",
        "    res = 1 + 14 * 2 + 36\n",
        "    print(res)\n",
        "  else:\n",
        "    res = 1 + 14 * tmp3 + 18 * tmp3 * (tmp3-1) + 4 * tmp3 * (tmp3-1) *(tmp3 -2)\n",
        "    print(res)\n",
        "else:\n",
        "  if tmp3 == 0:\n",
        "    print(0)\n",
        "  elif tmp3 == 1:\n",
        "    print(1)\n",
        "  elif tmp3 == 2:\n",
        "    print(16)\n",
        "  elif tmp3 == 3:\n",
        "    res = 3 + 14 * 3 + 36\n",
        "    print(res)\n",
        "  else:\n",
        "    res = tmp3 + 7 * tmp3*(tmp3-1) + 6 * tmp3 * (tmp3-1) * (tmp3 -2) + tmp3 * (tmp3-1) * (tmp3-2) * (tmp3 -3)\n",
        "    print(res)\n"
      ],
      "execution_count": null,
      "outputs": [
        {
          "output_type": "stream",
          "text": [
            "??????????\n",
            "1\n",
            "10000\n"
          ],
          "name": "stdout"
        }
      ]
    },
    {
      "cell_type": "code",
      "metadata": {
        "colab": {
          "base_uri": "https://localhost:8080/"
        },
        "id": "ZshhxPuT9Dfp",
        "outputId": "96fdccab-51aa-408d-9509-af29414bf07f"
      },
      "source": [
        "print(tmp1,tmp2,tmp3)"
      ],
      "execution_count": null,
      "outputs": [
        {
          "output_type": "stream",
          "text": [
            "3 4 3\n"
          ],
          "name": "stdout"
        }
      ]
    },
    {
      "cell_type": "markdown",
      "metadata": {
        "id": "Se3fUiVi4uR9"
      },
      "source": [
        "#AtCoderABC202 *"
      ]
    },
    {
      "cell_type": "code",
      "metadata": {
        "colab": {
          "base_uri": "https://localhost:8080/"
        },
        "id": "MfB4Re6r4zLF",
        "outputId": "135e9a4b-8199-426d-f521-e112e0b401a9"
      },
      "source": [
        "#AtCoderABC202 A問題\n",
        "a,b,c = map(int, input().split())\n",
        "res = 21 - (a+b+c)\n",
        "print(res)"
      ],
      "execution_count": null,
      "outputs": [
        {
          "output_type": "stream",
          "text": [
            "5 6 4\n",
            "6\n"
          ],
          "name": "stdout"
        }
      ]
    },
    {
      "cell_type": "code",
      "metadata": {
        "colab": {
          "base_uri": "https://localhost:8080/"
        },
        "id": "8jfeZPCf40nh",
        "outputId": "6e3b6ffa-94b4-48da-db38-3c02e76eca14"
      },
      "source": [
        "#AtCoderABC202 B問題\n",
        "s = input()\n",
        "s = s[::-1]\n",
        "s = s.replace(\"6\",\"-\").replace(\"9\",\"6\").replace(\"-\",\"9\")\n",
        "print(s)"
      ],
      "execution_count": null,
      "outputs": [
        {
          "output_type": "stream",
          "text": [
            "01010\n",
            "01010\n"
          ],
          "name": "stdout"
        }
      ]
    },
    {
      "cell_type": "code",
      "metadata": {
        "colab": {
          "base_uri": "https://localhost:8080/"
        },
        "id": "IItkwTi_42Lh",
        "outputId": "732c3092-d1dd-40f0-b4ea-3ae24d1ea24b"
      },
      "source": [
        "#AtCoderABC202 C問題\n",
        "import collections\n",
        "n = int(input())\n",
        "A = list(map(int,input().split()))\n",
        "B = list(map(int,input().split()))\n",
        "C = list(map(int,input().split()))\n",
        "Acount = collections.Counter(A)\n",
        "Ccount = collections.Counter(C)\n",
        "res = 0\n",
        "for k,v in Ccount.items():\n",
        "  res += v * Acount[B[k-1]]\n",
        "print(res)\n"
      ],
      "execution_count": null,
      "outputs": [
        {
          "output_type": "stream",
          "text": [
            "3\n",
            "2 3 3\n",
            "1 3 3\n",
            "1 1 1\n",
            "0\n"
          ],
          "name": "stdout"
        }
      ]
    },
    {
      "cell_type": "code",
      "metadata": {
        "colab": {
          "base_uri": "https://localhost:8080/"
        },
        "id": "IMUzgnkW_pKc",
        "outputId": "3435adce-674a-4579-89ac-e060e99aca8b"
      },
      "source": [
        "#AtCoderABC202 \n",
        "from scipy.special import comb\n",
        "a,b,k = map(int,input().split())\n",
        "res = \"\"\n",
        "tmp = comb(a+b-1, a-1, exact=True)\n",
        "while a > 0 and b > 0:\n",
        "  if k > tmp:\n",
        "    res = res + \"b\" \n",
        "    b = b - 1\n",
        "    tmp += comb(a+b-1,a-1,exact = True)\n",
        "  else:\n",
        "    res = res + \"a\" \n",
        "    tmp -= comb(a+b-1,a-1,exact = True)\n",
        "    a = a -1\n",
        "    tmp += comb(a+b-1,a-1,exact = True)\n",
        "if a > 0:\n",
        "  res = res + \"a\" * a\n",
        "else:\n",
        "  res = res + \"b\" * b\n",
        "print(res)"
      ],
      "execution_count": null,
      "outputs": [
        {
          "output_type": "stream",
          "text": [
            "30 30 118264581564861424\n",
            "bbbbbbbbbbbbbbbbbbbbbbbbbbbbbbaaaaaaaaaaaaaaaaaaaaaaaaaaaaaa\n"
          ],
          "name": "stdout"
        }
      ]
    },
    {
      "cell_type": "markdown",
      "metadata": {
        "id": "uaE3Rp9HJAti"
      },
      "source": [
        "#AtCoderABC203 *"
      ]
    },
    {
      "cell_type": "code",
      "metadata": {
        "colab": {
          "base_uri": "https://localhost:8080/"
        },
        "id": "Lry8KPbfJEhm",
        "outputId": "8e5b479e-f042-49cb-f401-41c577c8e11f"
      },
      "source": [
        "#AtCoderABC203 A問題\n",
        "a,b,c = map(int,input().split())\n",
        "if a == b:\n",
        "  print(c)\n",
        "elif b == c:\n",
        "  print(a)\n",
        "elif c == a:\n",
        "  print(b)\n",
        "else:\n",
        "  print(0)\n"
      ],
      "execution_count": null,
      "outputs": [
        {
          "output_type": "stream",
          "text": [
            "1 1 1\n",
            "1\n"
          ],
          "name": "stdout"
        }
      ]
    },
    {
      "cell_type": "code",
      "metadata": {
        "colab": {
          "base_uri": "https://localhost:8080/"
        },
        "id": "430BQgJlJGjI",
        "outputId": "adbc7f16-acb4-4417-f2e2-2f2ad5277770"
      },
      "source": [
        "#AtCoderABC203 B問題\n",
        "n , k = map(int, input().split())\n",
        "res = 0\n",
        "for i in range(1,n+1):\n",
        "  for j in range(1,k+1):\n",
        "    tmp = str(i) + \"0\" + str(j)\n",
        "    res += int(tmp)\n",
        "print(res)"
      ],
      "execution_count": null,
      "outputs": [
        {
          "output_type": "stream",
          "text": [
            "3 3\n",
            "1818\n"
          ],
          "name": "stdout"
        }
      ]
    },
    {
      "cell_type": "code",
      "metadata": {
        "colab": {
          "base_uri": "https://localhost:8080/"
        },
        "id": "3p_XPNIsJHod",
        "outputId": "8b6a63d0-d6a0-4185-a129-726028878e4e"
      },
      "source": [
        "#AtCoderABC203 C問題\n",
        "n , k = map(int, input().split())\n",
        "lst = [list(map(int, input().split())) for _ in range(n)]\n",
        "alst = sorted(lst, key = lambda x : x[0])\n",
        "res = k\n",
        "for a in alst:\n",
        "  if a[0] <= res:\n",
        "    res += a[1]\n",
        "  else:\n",
        "    break\n",
        "print(res)"
      ],
      "execution_count": null,
      "outputs": [
        {
          "output_type": "stream",
          "text": [
            "3 2\n",
            "5 5\n",
            "2 1\n",
            "2 2\n",
            "10\n"
          ],
          "name": "stdout"
        }
      ]
    },
    {
      "cell_type": "code",
      "metadata": {
        "colab": {
          "base_uri": "https://localhost:8080/"
        },
        "id": "fX_w8UYZLPDf",
        "outputId": "477802ed-d0c8-4422-8f71-d98e4e8ff4b5"
      },
      "source": [
        "#AtCoderABC203 D問題\n",
        "import numpy as np\n",
        "n , k = map(int, input().split())\n",
        "lst = [list(map(int, input().split())) for _ in range(n)]\n",
        "arr = np.array(lst)\n",
        "ind = k*k // 2 + 1\n",
        "res = 10**9 + 1\n",
        "for i in range(n-k+1):\n",
        "  atmp = arr[i:i+k,:]\n",
        "  for j in range(n-k+1):\n",
        "    btmp = atmp[:,j:j+k]\n",
        "    tmp = sorted(btmp.ravel())[-ind]\n",
        "    if res > tmp:\n",
        "      res = tmp\n",
        "print(res)"
      ],
      "execution_count": null,
      "outputs": [
        {
          "output_type": "stream",
          "text": [
            "3 3\n",
            "1 2 3\n",
            "4 5 6\n",
            "7 8 9\n",
            "5\n"
          ],
          "name": "stdout"
        }
      ]
    },
    {
      "cell_type": "code",
      "metadata": {
        "colab": {
          "base_uri": "https://localhost:8080/"
        },
        "id": "8sW1LgSTOHcY",
        "outputId": "2438eb06-e418-4eb3-90d8-b8661d572c3a"
      },
      "source": [
        "1 lst"
      ],
      "execution_count": null,
      "outputs": [
        {
          "output_type": "execute_result",
          "data": {
            "text/plain": [
              "[<map at 0x7fbdabc0fa50>, <map at 0x7fbdac2898d0>, <map at 0x7fbdabb264d0>]"
            ]
          },
          "metadata": {
            "tags": []
          },
          "execution_count": 16
        }
      ]
    },
    {
      "cell_type": "markdown",
      "metadata": {
        "id": "2TQWMX6CiL0N"
      },
      "source": [
        "#AtCoderARC115"
      ]
    },
    {
      "cell_type": "code",
      "metadata": {
        "id": "V5jcAXBziPI3",
        "colab": {
          "base_uri": "https://localhost:8080/"
        },
        "outputId": "c6ec9277-3dbf-4859-faf9-393afb9b099e"
      },
      "source": [
        "#AtCoderARC115 A問題\n",
        "n , m = map(int , input().split())\n",
        "lst = []\n",
        "for i in range(n):\n",
        "  tmp = input()\n",
        "  res = 0\n",
        "  for j in range(m):\n",
        "    if int(tmp[j]) == 0:\n",
        "      res += 1\n",
        "  lst.append(res%2)\n",
        "\n",
        "res = sum(lst) * (n - sum(lst))\n",
        "print(res)"
      ],
      "execution_count": null,
      "outputs": [
        {
          "output_type": "stream",
          "text": [
            "7 5\n",
            "10101\n",
            "00001\n",
            "00110\n",
            "11110\n",
            "00100\n",
            "11111\n",
            "10000\n",
            "10\n"
          ],
          "name": "stdout"
        }
      ]
    },
    {
      "cell_type": "code",
      "metadata": {
        "colab": {
          "base_uri": "https://localhost:8080/"
        },
        "id": "UX0s97w3cRtO",
        "outputId": "dc8170a4-e35f-472f-80da-508325b99f22"
      },
      "source": [
        "#AtCoderARC115 B問題\n",
        "n = int(input())\n",
        "lst = []\n",
        "minind = 0\n",
        "minval = 10**9 + 1\n",
        "for i in range(n):\n",
        "  tmp = list(map(int, input().split()))\n",
        "  lst.append(tmp)\n",
        "  if minval > min(tmp):\n",
        "    minval = min(tmp)\n",
        "    minind = tmp.index(minval)\n",
        "flag = 0\n",
        "for i in range(minval):\n",
        "  resB = [l - i for l in lst[minind]]\n",
        "  resA = [0 for j in range(n)]\n",
        "  for l in range(n):\n",
        "    resA[l] = lst[l][l] - resB[l]\n",
        "  tmp = [-1 for j in range(n) for l in range(n) if resA[j] + resB[l] != lst[j][l]]\n",
        "  tmp2 = [-1 for i in range(n) if resA[i] < 0 or resB[i] < 0]\n",
        "  if -1 not in (tmp + tmp2):\n",
        "    flag = 1\n",
        "    break\n",
        "\n",
        "if flag:\n",
        "  print(\"Yes\")\n",
        "  print(' '.join(map(str, resA)))\n",
        "  print(' '.join(map(str, resB)))\n",
        "else:\n",
        "  print(\"No\")"
      ],
      "execution_count": null,
      "outputs": [
        {
          "output_type": "stream",
          "text": [
            "3\n",
            "4 3 5\n",
            "2 2 3\n",
            "3 2 4\n",
            "[0, -1, -1]\n",
            "[1, 0, 0]\n",
            "No\n"
          ],
          "name": "stdout"
        }
      ]
    },
    {
      "cell_type": "code",
      "metadata": {
        "colab": {
          "base_uri": "https://localhost:8080/"
        },
        "id": "MyWQiXf-n3XX",
        "outputId": "f0598bf4-02b0-406f-db0a-cba8e58ccc88"
      },
      "source": [
        "for i in range(1,10):\n",
        "  print(i)"
      ],
      "execution_count": null,
      "outputs": [
        {
          "output_type": "stream",
          "text": [
            "1\n",
            "2\n",
            "3\n",
            "4\n",
            "5\n",
            "6\n",
            "7\n",
            "8\n",
            "9\n"
          ],
          "name": "stdout"
        }
      ]
    },
    {
      "cell_type": "markdown",
      "metadata": {
        "id": "u9Z7M-SpsVyh"
      },
      "source": [
        "#AtCoderARC116"
      ]
    },
    {
      "cell_type": "code",
      "metadata": {
        "colab": {
          "base_uri": "https://localhost:8080/"
        },
        "id": "gc6z5WiAsaoB",
        "outputId": "124799c3-7312-42cb-edb2-093486c4c011"
      },
      "source": [
        "#AtCoderARC116 A問題\n",
        "t = int(input())\n",
        "for i in range(t):\n",
        "  n = int(input())\n",
        "  if n == 2:\n",
        "    print(\"Same\")\n",
        "  elif n % 2 == 0:\n",
        "    if n % 4 ==0:\n",
        "      print(\"Even\")\n",
        "    else:\n",
        "      print(\"Same\")\n",
        "  else:\n",
        "    print(\"Odd\")\n"
      ],
      "execution_count": null,
      "outputs": [
        {
          "output_type": "stream",
          "text": [
            "3\n",
            "2\n",
            "Same\n",
            "139\n",
            "Odd\n",
            "149912\n",
            "Even\n"
          ],
          "name": "stdout"
        }
      ]
    },
    {
      "cell_type": "code",
      "metadata": {
        "colab": {
          "base_uri": "https://localhost:8080/"
        },
        "id": "kVp5CEs_sd0n",
        "outputId": "1f92d725-9ea7-4b40-8d6f-31a8da3e9197"
      },
      "source": [
        "#AtCoderARC116 B問題(これでは間に合わない)\n",
        "n = int(input())\n",
        "lst = list(map(int, input().split()))\n",
        "lst.sort()\n",
        "res = 0\n",
        "for i in range(n):\n",
        "  res +=  lst[i] * lst[i]\n",
        "  res += sum([lst[i] * lst[i+j+1] * (2**j) for j in range(n-i-1)])\n",
        "res = res % 998244353\n",
        "print(res)"
      ],
      "execution_count": null,
      "outputs": [
        {
          "output_type": "stream",
          "text": [
            "7\n",
            "853983 14095 543053 143209 4324 524361 45154\n",
            "206521341\n"
          ],
          "name": "stdout"
        }
      ]
    },
    {
      "cell_type": "code",
      "metadata": {
        "colab": {
          "base_uri": "https://localhost:8080/"
        },
        "id": "qWjM5rUcw8Bm",
        "outputId": "d3730e16-657b-47ec-f548-03df29be8c34"
      },
      "source": [
        ""
      ],
      "execution_count": null,
      "outputs": [
        {
          "output_type": "execute_result",
          "data": {
            "text/plain": [
              "4015"
            ]
          },
          "metadata": {
            "tags": []
          },
          "execution_count": 10
        }
      ]
    },
    {
      "cell_type": "code",
      "metadata": {
        "id": "arnJatxOw8gL"
      },
      "source": [
        ""
      ],
      "execution_count": null,
      "outputs": []
    },
    {
      "cell_type": "markdown",
      "metadata": {
        "id": "yZo6YxKVOtQr"
      },
      "source": [
        "#AtCoderARC118\n"
      ]
    },
    {
      "cell_type": "code",
      "metadata": {
        "colab": {
          "base_uri": "https://localhost:8080/"
        },
        "id": "_IZNTBo2Ovdm",
        "outputId": "2c285848-43fe-4d56-cdd8-c422e4756616"
      },
      "source": [
        "#AtCoderARC118 A問題\n",
        "t , n = map(int,input().split())\n",
        "if n * 100 % t == 0:\n",
        "  print(n * 100 // t + n - 1)\n",
        "else:\n",
        "  print(n * 100 // t + n)\n"
      ],
      "execution_count": null,
      "outputs": [
        {
          "output_type": "stream",
          "text": [
            "15 3\n",
            "23\n"
          ],
          "name": "stdout"
        }
      ]
    },
    {
      "cell_type": "code",
      "metadata": {
        "colab": {
          "base_uri": "https://localhost:8080/"
        },
        "id": "BzuNRcu8RHZP",
        "outputId": "9fc49659-d030-44db-80f8-349f4407d1ff"
      },
      "source": [
        "#AtCoderARC118 B問題\n",
        "import numpy as np\n",
        "k , n , m = map(int,input().split())\n",
        "lst = list(map(int, input().split()))\n",
        "res = [( (m*i) // n) for i in lst]\n",
        "a = m-sum(res)\n",
        "tmp = [(i/n - j/m) for i , j in zip(lst , res)]\n",
        "indlst = list(np.argsort(tmp))[::-1]\n",
        "if tmp[indlst[0]] - 1/m > tmp[indlst[1]]:\n",
        "  res[indlst[0]] = res[indlst[0]] +1\n",
        "  for i in range(a-1):\n",
        "    res[indlst[i]] = res[indlst[i]] +1\n",
        "else:\n",
        "  for i in range(a):\n",
        "    res[indlst[i]] = res[indlst[i]] +1\n",
        "print(\" \".join(list(map(str, res))))"
      ],
      "execution_count": null,
      "outputs": [
        {
          "output_type": "stream",
          "text": [
            "7 78314 1000\n",
            "53515 10620 7271 3817 1910 956 225\n",
            "1\n",
            "683 136 93 49 24 12 3\n"
          ],
          "name": "stdout"
        }
      ]
    },
    {
      "cell_type": "code",
      "metadata": {
        "colab": {
          "base_uri": "https://localhost:8080/"
        },
        "id": "QEV1_WeXRLZ-",
        "outputId": "99924d0a-5cbe-40ce-8a62-1f4408f66756"
      },
      "source": [
        "tmp"
      ],
      "execution_count": null,
      "outputs": [
        {
          "output_type": "execute_result",
          "data": {
            "text/plain": [
              "[0.09940035978412953,\n",
              " 0.00029982010793523883,\n",
              " 0.0001998800719568259,\n",
              " 9.994003597841295e-05,\n",
              " 0.0,\n",
              " 0.0]"
            ]
          },
          "metadata": {
            "tags": []
          },
          "execution_count": 45
        }
      ]
    },
    {
      "cell_type": "markdown",
      "metadata": {
        "id": "sDP6vyFgCyZz"
      },
      "source": [
        "#AtCoderARC119"
      ]
    },
    {
      "cell_type": "code",
      "metadata": {
        "id": "2v9dI6sBS5M0",
        "colab": {
          "base_uri": "https://localhost:8080/"
        },
        "outputId": "a4d1caff-2cd0-472c-db81-9bca22fd966b"
      },
      "source": [
        "#AtCoderARC119 A問題\n",
        "n = int(input())\n",
        "x = 1\n",
        "cnt = 0\n",
        "while x < n:\n",
        "  x *= 2\n",
        "  cnt += 1\n",
        "res = n\n",
        "if n == 1:\n",
        "  print(1)\n",
        "else:\n",
        "  for i in range(1,cnt):\n",
        "    tmp = n // (2 ** i)\n",
        "    tmp2 = tmp + i + (n - (tmp * 2 ** i))\n",
        "    if tmp2 < res:\n",
        "      res = tmp2\n",
        "  print(res)"
      ],
      "execution_count": null,
      "outputs": [
        {
          "output_type": "stream",
          "text": [
            "998244353\n",
            "143\n"
          ],
          "name": "stdout"
        }
      ]
    },
    {
      "cell_type": "code",
      "metadata": {
        "colab": {
          "base_uri": "https://localhost:8080/"
        },
        "id": "V9STC0ERC2LR",
        "outputId": "db72df2e-f169-406f-98d1-7896b59a26ea"
      },
      "source": [
        "#AtCoderARC119 B問題\n",
        "n = int(input())\n",
        "ss = input()\n",
        "tt = input()\n",
        "s = list(ss)\n",
        "t = list(tt)\n",
        "if s.count(\"0\") != t.count(\"0\"):\n",
        "  print(-1)\n",
        "else:\n",
        "  cnt = 0\n",
        "  tmp = -2\n",
        "  for i in range(n):\n",
        "    if ss[i] != tt[i]:\n",
        "      cnt += 1\n",
        "      if tmp + 1 == i:\n",
        "        cnt -=  1\n",
        "      else:\n",
        "        tmp = i\n",
        "  print(cnt)"
      ],
      "execution_count": null,
      "outputs": [
        {
          "output_type": "stream",
          "text": [
            "6\n",
            "111100\n",
            "111000\n",
            "-1\n"
          ],
          "name": "stdout"
        }
      ]
    },
    {
      "cell_type": "code",
      "metadata": {
        "id": "LlCKm17XISlD"
      },
      "source": [
        ""
      ],
      "execution_count": null,
      "outputs": []
    },
    {
      "cell_type": "markdown",
      "metadata": {
        "id": "w29kgEqz_PMw"
      },
      "source": [
        "#AtCoderARC121"
      ]
    },
    {
      "cell_type": "code",
      "metadata": {
        "colab": {
          "base_uri": "https://localhost:8080/"
        },
        "id": "CMk-Jv4p_RVR",
        "outputId": "cae16619-cbd0-4dea-9572-3c3ccce14cb8"
      },
      "source": [
        "#AtCoderARC121 A問題\n",
        "n = int(input())\n",
        "lst = [list(map(int , input().split())) for _ in range(n)]\n",
        "xlst = sorted(lst, key = lambda x : x[0])\n",
        "ylst = sorted(lst, key = lambda x:x[1])\n",
        "if xlst[0] == ylst[0] and xlst[-1] == ylst[-1]:\n",
        "  res = [xlst[-1][0] - xlst[1][0] , xlst[-2][0] - xlst[1][0] , \n",
        "         ylst[-1][1] - ylst[1][1] , ylst[-2][1] - ylst[1][1]]\n",
        "  print(max(res))\n",
        "else:\n",
        "  res = [xlst[-1][0] - xlst[0][0] , ylst[-1][1] - ylst[0][1] ,\n",
        "         xlst[-2][0] - xlst[0][0] , xlst[-1][0] - xlst[1][0],\n",
        "         ylst[-2][1] - ylst[0][1] , ylst[-1][1] - ylst[1][1]]\n",
        "  res.sort()\n",
        "  print(res[-2])"
      ],
      "execution_count": null,
      "outputs": [
        {
          "output_type": "stream",
          "text": [
            "20\n",
            "407 361\n",
            "167 433\n",
            "756 388\n",
            "-551 -47\n",
            "306 -471\n",
            "36 928\n",
            "338 -355\n",
            "911 852\n",
            "288 70\n",
            "-961 -769\n",
            "-668 -386\n",
            "-690 -378\n",
            "182 -609\n",
            "-677 401\n",
            "-458 -112\n",
            "184 -131\n",
            "-243 888\n",
            "-163 471\n",
            "-11 997\n",
            "119 544\n",
            "1766\n"
          ],
          "name": "stdout"
        }
      ]
    },
    {
      "cell_type": "code",
      "metadata": {
        "colab": {
          "base_uri": "https://localhost:8080/"
        },
        "id": "TaVdt9jG_TFp",
        "outputId": "01f8118f-c44e-4f9f-e86d-f4b4c1425faa"
      },
      "source": [
        "#AtCoderARC121 B問題\n",
        "n = int(input())\n",
        "rlst = []\n",
        "glst = []\n",
        "blst = []\n",
        "rappend = rlst.append\n",
        "gappend = glst.append\n",
        "bappend = blst.append\n",
        "for _ in range(2*n):\n",
        "  s = list(input().split())\n",
        "  if s[1] == \"R\":\n",
        "    rappend(int(s[0]))\n",
        "  elif s[1] == \"G\":\n",
        "    gappend(int(s[0]))\n",
        "  else:\n",
        "    bappend(int(s[0]))\n",
        "\n",
        "\n",
        "\n",
        "if len(rlst) % 2 == 0:\n",
        "  if len(glst) % 2 == 0:\n",
        "    print(0)\n",
        "  else:\n",
        "    if len(set(glst) & set(blst)) != 0:\n",
        "      print(0)\n",
        "    else:\n",
        "      tmp = [abs(a - b) for a in glst for b in blst]\n",
        "      print(min(tmp))\n",
        "else:\n",
        "  if len(glst) % 2 == 0:\n",
        "    if len(set(rlst) & set(blst)) !=0:\n",
        "      print(0)\n",
        "    else:\n",
        "      tmp = [abs(a - b) for a in rlst for b in blst]\n",
        "      print(min(tmp))\n",
        "  else:\n",
        "    if len(set(glst) & set(rlst)) != 0:\n",
        "      print(0)\n",
        "    else:\n",
        "      tmp = [abs(a - b) for a in glst for b in rlst]\n",
        "      print(min(tmp))"
      ],
      "execution_count": null,
      "outputs": [
        {
          "output_type": "stream",
          "text": [
            "10\n",
            "585 B\n",
            "293 B\n",
            "788 B\n",
            "222 B\n",
            "772 G\n",
            "841 B\n",
            "115 R\n",
            "603 G\n",
            "450 B\n",
            "325 R\n",
            "851 B\n",
            "205 G\n",
            "134 G\n",
            "651 R\n",
            "565 R\n",
            "548 B\n",
            "391 G\n",
            "19 G\n",
            "808 B\n",
            "475 B\n",
            "0\n"
          ],
          "name": "stdout"
        }
      ]
    },
    {
      "cell_type": "code",
      "metadata": {
        "id": "YgGohuJVOG93"
      },
      "source": [
        "aa = []\n",
        "my_append = aa.append"
      ],
      "execution_count": null,
      "outputs": []
    },
    {
      "cell_type": "code",
      "metadata": {
        "colab": {
          "base_uri": "https://localhost:8080/"
        },
        "id": "do36JMvmPi3i",
        "outputId": "b3f4495f-26cc-4038-dea8-f2ab93875486"
      },
      "source": [
        "for i in range(5):\n",
        "  my_append(i)\n",
        "  print(aa)"
      ],
      "execution_count": null,
      "outputs": [
        {
          "output_type": "stream",
          "text": [
            "[0]\n",
            "[0, 1]\n",
            "[0, 1, 2]\n",
            "[0, 1, 2, 3]\n",
            "[0, 1, 2, 3, 4]\n"
          ],
          "name": "stdout"
        }
      ]
    },
    {
      "cell_type": "code",
      "metadata": {
        "id": "MA7OqubKRL8U"
      },
      "source": [
        ""
      ],
      "execution_count": null,
      "outputs": []
    }
  ]
}