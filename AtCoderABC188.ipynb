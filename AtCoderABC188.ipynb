{
  "nbformat": 4,
  "nbformat_minor": 0,
  "metadata": {
    "colab": {
      "name": "AtCoderABC188.ipynb",
      "provenance": [],
      "authorship_tag": "ABX9TyMlKysKL2zXahmCnDiv4qri",
      "include_colab_link": true
    },
    "kernelspec": {
      "name": "python3",
      "display_name": "Python 3"
    }
  },
  "cells": [
    {
      "cell_type": "markdown",
      "metadata": {
        "id": "view-in-github",
        "colab_type": "text"
      },
      "source": [
        "<a href=\"https://colab.research.google.com/github/sasaki-akaso270/AtCoder_practice/blob/main/AtCoderABC188.ipynb\" target=\"_parent\"><img src=\"https://colab.research.google.com/assets/colab-badge.svg\" alt=\"Open In Colab\"/></a>"
      ]
    },
    {
      "cell_type": "code",
      "metadata": {
        "colab": {
          "base_uri": "https://localhost:8080/"
        },
        "id": "5FguvbeBLMwD",
        "outputId": "d3ee44bc-13e7-4777-aa08-cbd5174aff19"
      },
      "source": [
        "#AtCoder ABC 188 A問題\n",
        "x , y = map(int, input().split())\n",
        "m = min(x,y)\n",
        "M = max(x,y)\n",
        "if m+3 > M:\n",
        "  print(\"Yes\")\n",
        "else:\n",
        "  print(\"No\")"
      ],
      "execution_count": null,
      "outputs": [
        {
          "output_type": "stream",
          "text": [
            "12 15\n",
            "No\n"
          ],
          "name": "stdout"
        }
      ]
    },
    {
      "cell_type": "code",
      "metadata": {
        "colab": {
          "base_uri": "https://localhost:8080/"
        },
        "id": "2ypVXnYeLeEn",
        "outputId": "fe8bfa38-1ef8-48c3-c00d-90c4517e9ed5"
      },
      "source": [
        "#AtCoder ABC 188 B問題\n",
        "n = int(input())\n",
        "A = list(map(int, input().split()))\n",
        "B = list(map(int, input().split()))\n",
        "res = 0\n",
        "for i in range(n):\n",
        "  res = res + A[i] * B[i]\n",
        "if res != 0:\n",
        "  print(\"No\")\n",
        "else:\n",
        "  print(\"Yes\")"
      ],
      "execution_count": null,
      "outputs": [
        {
          "output_type": "stream",
          "text": [
            "3\n",
            "1 3 5\n",
            "3 -6 3\n",
            "Yes\n"
          ],
          "name": "stdout"
        }
      ]
    },
    {
      "cell_type": "code",
      "metadata": {
        "colab": {
          "base_uri": "https://localhost:8080/"
        },
        "id": "6ugqViogM4Na",
        "outputId": "95061073-f85f-4b21-def0-0fbb4397d494"
      },
      "source": [
        "#AtCoder ABC 188 C問題\n",
        "n = int(input())\n",
        "A = list(map(int, input().split()))\n",
        "A1 = A[:2**(n-1)]\n",
        "A2 = A[2**(n-1):]\n",
        "ind1 = A1.index(max(A1))\n",
        "ind2 = A2.index(max(A2))\n",
        "\n",
        "if A1[ind1] > A2[ind2]:\n",
        "  print(ind2 + 2**(n-1) + 1)\n",
        "else:\n",
        "  print(ind1+1)"
      ],
      "execution_count": null,
      "outputs": [
        {
          "output_type": "stream",
          "text": [
            "4\n",
            "6 13 12 5 3 7 10 11 16 9 8 15 2 1 14 4\n",
            "2\n"
          ],
          "name": "stdout"
        }
      ]
    },
    {
      "cell_type": "code",
      "metadata": {
        "colab": {
          "base_uri": "https://localhost:8080/",
          "height": 210
        },
        "id": "u0iLen4mNM3K",
        "outputId": "afbffe63-6de7-4c7f-8520-7074debcafe0"
      },
      "source": [
        "#AtCoder ABC 188 D問題\n",
        "import pandas as pd\n",
        "\n",
        "n , c  = map(int, input().split())\n",
        "data = []\n",
        "for i in range(n):\n",
        "  data.append(list(map(int, input().split())))\n",
        "df = pd.DataFrame(data, columns=[\"A\", \"B\", \"Cost\"])\n",
        "tmp = df[\"A\"].min()\n",
        "df[\"A\"] = df[\"A\"] - tmp\n",
        "df[\"B\"] = df[\"B\"] - tmp\n",
        "df.sort_values(\"A\")"
      ],
      "execution_count": null,
      "outputs": [
        {
          "output_type": "stream",
          "text": [
            "3 4\n",
            "3 5 1\n",
            "6 7 3\n",
            "4 13 7\n"
          ],
          "name": "stdout"
        },
        {
          "output_type": "execute_result",
          "data": {
            "text/html": [
              "<div>\n",
              "<style scoped>\n",
              "    .dataframe tbody tr th:only-of-type {\n",
              "        vertical-align: middle;\n",
              "    }\n",
              "\n",
              "    .dataframe tbody tr th {\n",
              "        vertical-align: top;\n",
              "    }\n",
              "\n",
              "    .dataframe thead th {\n",
              "        text-align: right;\n",
              "    }\n",
              "</style>\n",
              "<table border=\"1\" class=\"dataframe\">\n",
              "  <thead>\n",
              "    <tr style=\"text-align: right;\">\n",
              "      <th></th>\n",
              "      <th>A</th>\n",
              "      <th>B</th>\n",
              "      <th>Cost</th>\n",
              "    </tr>\n",
              "  </thead>\n",
              "  <tbody>\n",
              "    <tr>\n",
              "      <th>0</th>\n",
              "      <td>0</td>\n",
              "      <td>2</td>\n",
              "      <td>1</td>\n",
              "    </tr>\n",
              "    <tr>\n",
              "      <th>1</th>\n",
              "      <td>3</td>\n",
              "      <td>4</td>\n",
              "      <td>3</td>\n",
              "    </tr>\n",
              "    <tr>\n",
              "      <th>2</th>\n",
              "      <td>1</td>\n",
              "      <td>10</td>\n",
              "      <td>7</td>\n",
              "    </tr>\n",
              "  </tbody>\n",
              "</table>\n",
              "</div>"
            ],
            "text/plain": [
              "   A   B  Cost\n",
              "0  0   2     1\n",
              "1  3   4     3\n",
              "2  1  10     7"
            ]
          },
          "metadata": {
            "tags": []
          },
          "execution_count": 30
        }
      ]
    },
    {
      "cell_type": "code",
      "metadata": {
        "id": "O9FMSzIHTDWe"
      },
      "source": [
        "#AtCoder ABC 188 F問題\n",
        "x ,y = map(int, input().split())\n",
        "if x == y:\n",
        "  print(0)\n",
        "res = 0\n",
        "while x == y:\n",
        "  res = res + 1\n",
        "  \n",
        "  t1 = y % x\n",
        "  if y % x \n",
        "\n",
        "\n"
      ],
      "execution_count": null,
      "outputs": []
    },
    {
      "cell_type": "code",
      "metadata": {
        "colab": {
          "base_uri": "https://localhost:8080/",
          "height": 111
        },
        "id": "vQgZ7SkLWbtq",
        "outputId": "cf9aa6d3-ad0f-4421-e664-38fa8794ed02"
      },
      "source": [
        ""
      ],
      "execution_count": null,
      "outputs": [
        {
          "output_type": "execute_result",
          "data": {
            "text/html": [
              "<div>\n",
              "<style scoped>\n",
              "    .dataframe tbody tr th:only-of-type {\n",
              "        vertical-align: middle;\n",
              "    }\n",
              "\n",
              "    .dataframe tbody tr th {\n",
              "        vertical-align: top;\n",
              "    }\n",
              "\n",
              "    .dataframe thead th {\n",
              "        text-align: right;\n",
              "    }\n",
              "</style>\n",
              "<table border=\"1\" class=\"dataframe\">\n",
              "  <thead>\n",
              "    <tr style=\"text-align: right;\">\n",
              "      <th></th>\n",
              "      <th>A</th>\n",
              "      <th>B</th>\n",
              "      <th>Cost</th>\n",
              "    </tr>\n",
              "  </thead>\n",
              "  <tbody>\n",
              "    <tr>\n",
              "      <th>1</th>\n",
              "      <td>2</td>\n",
              "      <td>4</td>\n",
              "      <td>5</td>\n",
              "    </tr>\n",
              "    <tr>\n",
              "      <th>0</th>\n",
              "      <td>1</td>\n",
              "      <td>32</td>\n",
              "      <td>4</td>\n",
              "    </tr>\n",
              "  </tbody>\n",
              "</table>\n",
              "</div>"
            ],
            "text/plain": [
              "   A   B  Cost\n",
              "1  2   4     5\n",
              "0  1  32     4"
            ]
          },
          "metadata": {
            "tags": []
          },
          "execution_count": 26
        }
      ]
    },
    {
      "cell_type": "code",
      "metadata": {
        "id": "7pYJZ8qQWe1f"
      },
      "source": [
        ""
      ],
      "execution_count": null,
      "outputs": []
    }
  ]
}