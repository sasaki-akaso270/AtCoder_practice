{
  "nbformat": 4,
  "nbformat_minor": 0,
  "metadata": {
    "colab": {
      "name": "AtCoder_ABC178to179.ipynb",
      "provenance": [],
      "authorship_tag": "ABX9TyM21TMILfGMCePK3TwCiP2m",
      "include_colab_link": true
    },
    "kernelspec": {
      "name": "python3",
      "display_name": "Python 3"
    }
  },
  "cells": [
    {
      "cell_type": "markdown",
      "metadata": {
        "id": "view-in-github",
        "colab_type": "text"
      },
      "source": [
        "<a href=\"https://colab.research.google.com/github/sasaki-akaso270/AtCoder_practice/blob/main/AtCoder_ABC178to179.ipynb\" target=\"_parent\"><img src=\"https://colab.research.google.com/assets/colab-badge.svg\" alt=\"Open In Colab\"/></a>"
      ]
    },
    {
      "cell_type": "code",
      "metadata": {
        "id": "HESlBpODXOPt"
      },
      "source": [
        "#ABC179 A問題\n",
        "s = input()\n",
        "if s[-1] == \"s\":\n",
        "  print( s + \"es\")\n",
        "else:\n",
        "  print(s + \"s\")"
      ],
      "execution_count": null,
      "outputs": []
    },
    {
      "cell_type": "code",
      "metadata": {
        "id": "tsSfgVeKZIRw"
      },
      "source": [
        ""
      ],
      "execution_count": null,
      "outputs": []
    },
    {
      "cell_type": "code",
      "metadata": {
        "colab": {
          "base_uri": "https://localhost:8080/"
        },
        "id": "ETKTEtL8XyCU",
        "outputId": "58635fa0-cba8-4436-f7a3-616c953d944d"
      },
      "source": [
        "#ABC179 B問題\n",
        "n = int(input())\n",
        "nlist = []\n",
        "for i in range(n):\n",
        "  a1 , a2 = map(int, input().split())\n",
        "  nlist.append(abs(a1-a2))\n",
        "res = []\n",
        "for i in range(n-2):\n",
        "  tmp = nlist[i] + nlist[i+1] + nlist[i+2]\n",
        "  res.append(tmp)\n",
        "if 0 in res:\n",
        "  print(\"Yes\")\n",
        "else:\n",
        "  print(\"No\")"
      ],
      "execution_count": 6,
      "outputs": [
        {
          "output_type": "stream",
          "text": [
            "3\n",
            "1 2\n",
            "2 2\n",
            "2 2\n",
            "No\n"
          ],
          "name": "stdout"
        }
      ]
    },
    {
      "cell_type": "code",
      "metadata": {
        "colab": {
          "base_uri": "https://localhost:8080/"
        },
        "id": "M3RL4MKEZeRY",
        "outputId": "3cd844ab-5625-4a7d-c763-5e28f84f68ab"
      },
      "source": [
        "#ABC179 C問題\n",
        "#自分でかいたやつ(遅い)\n",
        "def make_divisors(n):\n",
        "    lower_divisors , upper_divisors = [], []\n",
        "    i = 1\n",
        "    while i*i <= n:\n",
        "        if n % i == 0:\n",
        "            lower_divisors.append(i)\n",
        "            if i != n // i:\n",
        "                upper_divisors.append(n//i)\n",
        "        i += 1\n",
        "    return lower_divisors + upper_divisors[::-1]\n",
        "n = int(input())\n",
        "res = 0\n",
        "for i in range(1,n+1):\n",
        "  tmp = make_divisors(n-i)\n",
        "  res = res + len(tmp)\n",
        "print(res)\n",
        "#答え\n",
        "n = int(input())\n",
        "ans = 0\n",
        "for a in range(1, n):\n",
        "  ans += (n - 1) // a\n",
        "print(ans)"
      ],
      "execution_count": 10,
      "outputs": [
        {
          "output_type": "stream",
          "text": [
            "100\n",
            "473\n"
          ],
          "name": "stdout"
        }
      ]
    },
    {
      "cell_type": "code",
      "metadata": {
        "id": "gRd6hEKYbJ1e"
      },
      "source": [
        ""
      ],
      "execution_count": null,
      "outputs": []
    }
  ]
}