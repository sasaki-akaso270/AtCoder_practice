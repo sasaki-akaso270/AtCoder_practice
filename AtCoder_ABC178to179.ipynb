{
  "nbformat": 4,
  "nbformat_minor": 0,
  "metadata": {
    "colab": {
      "name": "AtCoder_ABC178to179.ipynb",
      "provenance": [],
      "authorship_tag": "ABX9TyNJojFJBDO+hkPHLMoLPFvh",
      "include_colab_link": true
    },
    "kernelspec": {
      "name": "python3",
      "display_name": "Python 3"
    }
  },
  "cells": [
    {
      "cell_type": "markdown",
      "metadata": {
        "id": "view-in-github",
        "colab_type": "text"
      },
      "source": [
        "<a href=\"https://colab.research.google.com/github/sasaki-akaso270/AtCoder_practice/blob/main/AtCoder_ABC178to179.ipynb\" target=\"_parent\"><img src=\"https://colab.research.google.com/assets/colab-badge.svg\" alt=\"Open In Colab\"/></a>"
      ]
    },
    {
      "cell_type": "code",
      "metadata": {
        "id": "HESlBpODXOPt"
      },
      "source": [
        "#ABC179 A問題\n",
        "s = input()\n",
        "if s[-1] == \"s\":\n",
        "  print( s + \"es\")\n",
        "else:\n",
        "  print(s + \"s\")"
      ],
      "execution_count": null,
      "outputs": []
    },
    {
      "cell_type": "code",
      "metadata": {
        "id": "tsSfgVeKZIRw"
      },
      "source": [
        ""
      ],
      "execution_count": null,
      "outputs": []
    },
    {
      "cell_type": "code",
      "metadata": {
        "colab": {
          "base_uri": "https://localhost:8080/"
        },
        "id": "ETKTEtL8XyCU",
        "outputId": "58635fa0-cba8-4436-f7a3-616c953d944d"
      },
      "source": [
        "#ABC179 B問題\n",
        "n = int(input())\n",
        "nlist = []\n",
        "for i in range(n):\n",
        "  a1 , a2 = map(int, input().split())\n",
        "  nlist.append(abs(a1-a2))\n",
        "res = []\n",
        "for i in range(n-2):\n",
        "  tmp = nlist[i] + nlist[i+1] + nlist[i+2]\n",
        "  res.append(tmp)\n",
        "if 0 in res:\n",
        "  print(\"Yes\")\n",
        "else:\n",
        "  print(\"No\")"
      ],
      "execution_count": null,
      "outputs": [
        {
          "output_type": "stream",
          "text": [
            "3\n",
            "1 2\n",
            "2 2\n",
            "2 2\n",
            "No\n"
          ],
          "name": "stdout"
        }
      ]
    },
    {
      "cell_type": "code",
      "metadata": {
        "colab": {
          "base_uri": "https://localhost:8080/"
        },
        "id": "M3RL4MKEZeRY",
        "outputId": "3cd844ab-5625-4a7d-c763-5e28f84f68ab"
      },
      "source": [
        "#ABC179 C問題\n",
        "#自分でかいたやつ(遅い)\n",
        "def make_divisors(n):\n",
        "    lower_divisors , upper_divisors = [], []\n",
        "    i = 1\n",
        "    while i*i <= n:\n",
        "        if n % i == 0:\n",
        "            lower_divisors.append(i)\n",
        "            if i != n // i:\n",
        "                upper_divisors.append(n//i)\n",
        "        i += 1\n",
        "    return lower_divisors + upper_divisors[::-1]\n",
        "n = int(input())\n",
        "res = 0\n",
        "for i in range(1,n+1):\n",
        "  tmp = make_divisors(n-i)\n",
        "  res = res + len(tmp)\n",
        "print(res)\n",
        "#答え\n",
        "n = int(input())\n",
        "ans = 0\n",
        "for a in range(1, n):\n",
        "  ans += (n - 1) // a\n",
        "print(ans)"
      ],
      "execution_count": null,
      "outputs": [
        {
          "output_type": "stream",
          "text": [
            "100\n",
            "473\n"
          ],
          "name": "stdout"
        }
      ]
    },
    {
      "cell_type": "code",
      "metadata": {
        "id": "gRd6hEKYbJ1e",
        "colab": {
          "base_uri": "https://localhost:8080/"
        },
        "outputId": "ffc0e523-dafa-4d01-802d-b32e09af329e"
      },
      "source": [
        "#ABC178 A問題\n",
        "x = int(input())\n",
        "if x:\n",
        "  print(0)\n",
        "else:\n",
        "  print(1)"
      ],
      "execution_count": 2,
      "outputs": [
        {
          "output_type": "stream",
          "text": [
            "0\n",
            "1\n"
          ],
          "name": "stdout"
        }
      ]
    },
    {
      "cell_type": "code",
      "metadata": {
        "colab": {
          "base_uri": "https://localhost:8080/"
        },
        "id": "nLzAwk12usDW",
        "outputId": "552bff25-d826-45e5-e120-afde17b6a6a9"
      },
      "source": [
        "#ABC178 B問題\n",
        "a,b,c,d = map(int , input().split())\n",
        "print(max(max(a*c,a*d) , max(b*c, b*d)))"
      ],
      "execution_count": 1,
      "outputs": [
        {
          "output_type": "stream",
          "text": [
            "-1000000000 0 -1000000000 0\n",
            "1000000000000000000\n"
          ],
          "name": "stdout"
        }
      ]
    },
    {
      "cell_type": "code",
      "metadata": {
        "colab": {
          "base_uri": "https://localhost:8080/"
        },
        "id": "IJgZ0BjUwGvS",
        "outputId": "88c47195-ea6a-4667-fead-0c39db06c796"
      },
      "source": [
        "#ABC178 C問題\n",
        "n = int(input())\n",
        "if n <= 1:\n",
        "  print(0)\n",
        "elif n == 2:\n",
        "  print(2)\n",
        "else:\n",
        "  tmp = (10 ** n - 2 * 9 ** n + 8 ** n) %(10**9 + 7)\n",
        "  print(tmp)\n",
        "  "
      ],
      "execution_count": 22,
      "outputs": [
        {
          "output_type": "stream",
          "text": [
            "869121\n",
            "2511445\n"
          ],
          "name": "stdout"
        }
      ]
    },
    {
      "cell_type": "code",
      "metadata": {
        "id": "AEopdTNpyo-a"
      },
      "source": [
        ""
      ],
      "execution_count": null,
      "outputs": []
    }
  ]
}