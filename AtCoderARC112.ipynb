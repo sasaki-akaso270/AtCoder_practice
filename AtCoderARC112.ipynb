{
  "nbformat": 4,
  "nbformat_minor": 0,
  "metadata": {
    "colab": {
      "name": "AtCoderARC112.ipynb",
      "provenance": [],
      "authorship_tag": "ABX9TyPNyvrj7PwxzYTu0prj2ZNT",
      "include_colab_link": true
    },
    "kernelspec": {
      "name": "python3",
      "display_name": "Python 3"
    }
  },
  "cells": [
    {
      "cell_type": "markdown",
      "metadata": {
        "id": "view-in-github",
        "colab_type": "text"
      },
      "source": [
        "<a href=\"https://colab.research.google.com/github/sasaki-akaso270/AtCoder_practice/blob/main/AtCoderARC112.ipynb\" target=\"_parent\"><img src=\"https://colab.research.google.com/assets/colab-badge.svg\" alt=\"Open In Colab\"/></a>"
      ]
    },
    {
      "cell_type": "code",
      "metadata": {
        "colab": {
          "base_uri": "https://localhost:8080/"
        },
        "id": "VHhKQlTYQZHb",
        "outputId": "12d9da45-e0c8-4375-f6c8-1b2ddd1e00ee"
      },
      "source": [
        "#AtCoderARC112 A問題\n",
        "t = int(input())\n",
        "lst = []\n",
        "for i in range(t):\n",
        "  lst.append(list(map(int, input().split())))\n",
        "\n",
        "for ele in lst:\n",
        "  l = ele[0]\n",
        "  r = ele[1]\n",
        "  if r - 2*l < 0:\n",
        "    if r == 0:\n",
        "      print(1)\n",
        "    else:\n",
        "      print(0)\n",
        "  elif r - 2*l == 0:\n",
        "    print(1)\n",
        "  else:\n",
        "    n = r - 2 * l + 1\n",
        "    print(int(n*(n+1)//2)) "
      ],
      "execution_count": 9,
      "outputs": [
        {
          "output_type": "stream",
          "text": [
            "2\n",
            "1 2\n",
            "0 0\n",
            "1\n",
            "1\n"
          ],
          "name": "stdout"
        }
      ]
    },
    {
      "cell_type": "code",
      "metadata": {
        "colab": {
          "base_uri": "https://localhost:8080/"
        },
        "id": "QJyLj7L9WaQa",
        "outputId": "718ca8a0-23e5-4b72-aaaf-8bb080307123"
      },
      "source": [
        "#AtCoderARC112 B問題\n",
        "b,c = map(int , input().split())\n",
        "\n",
        "if c - abs(b) * 2 < 0:\n",
        "  print(2*c - 1)\n",
        "elif c - abs(b) * 2 == 0:\n",
        "  if b > 0:\n",
        "    print(2 * b + 1)\n",
        "  else:\n",
        "    print(2 * c - 1 )\n",
        "else:\n",
        "  if c % 2 == 0:\n",
        "    if b > 0:\n",
        "      print(2*b + c -1)        \n",
        "    elif b == 0:\n",
        "      print(c)\n",
        "    else:\n",
        "      print(2*c - 2 * ((c -2 * abs(b))//2))\n",
        "  else:\n",
        "    if b > 0:\n",
        "      tmp = (c+1)//2 - 2 * b\n",
        "      if tmp < 0:\n",
        "        print(c+1 +((c-3)//2))  \n",
        "      else:\n",
        "        print(c+1 + ((c-3) //2) - tmp)\n",
        "    elif b == 0:\n",
        "      print(c)\n",
        "    else:\n",
        "      print(2*b + 3*c - 2)\n",
        "\n"
      ],
      "execution_count": 27,
      "outputs": [
        {
          "output_type": "stream",
          "text": [
            "5 7\n",
            "13\n"
          ],
          "name": "stdout"
        }
      ]
    }
  ]
}