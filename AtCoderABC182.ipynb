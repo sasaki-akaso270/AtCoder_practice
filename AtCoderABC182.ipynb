{
  "nbformat": 4,
  "nbformat_minor": 0,
  "metadata": {
    "colab": {
      "name": "AtCoderABC182.ipynb",
      "provenance": [],
      "authorship_tag": "ABX9TyOq6Guj3zcm5WhsjvOr3mOI",
      "include_colab_link": true
    },
    "kernelspec": {
      "name": "python3",
      "display_name": "Python 3"
    }
  },
  "cells": [
    {
      "cell_type": "markdown",
      "metadata": {
        "id": "view-in-github",
        "colab_type": "text"
      },
      "source": [
        "<a href=\"https://colab.research.google.com/github/sasaki-akaso270/AtCoder_practice/blob/main/AtCoderABC182.ipynb\" target=\"_parent\"><img src=\"https://colab.research.google.com/assets/colab-badge.svg\" alt=\"Open In Colab\"/></a>"
      ]
    },
    {
      "cell_type": "code",
      "metadata": {
        "colab": {
          "base_uri": "https://localhost:8080/"
        },
        "id": "hGMXsqGoPFcD",
        "outputId": "9327905d-d7af-4b61-9401-ed9833d0d7d5"
      },
      "source": [
        "#ABC182 A問題\n",
        "a,b = map(int, input().split())\n",
        "res = 2 * a + 100 - b\n",
        "print(res)"
      ],
      "execution_count": null,
      "outputs": [
        {
          "output_type": "stream",
          "text": [
            "10000 0\n",
            "20100\n"
          ],
          "name": "stdout"
        }
      ]
    },
    {
      "cell_type": "code",
      "metadata": {
        "id": "04LeweoXa1LZ",
        "colab": {
          "base_uri": "https://localhost:8080/"
        },
        "outputId": "7c525a47-c9ab-4746-af16-0d4593d5c26c"
      },
      "source": [
        "#ABC182 B問題\n",
        "n = int(input())\n",
        "alist = list(map(int,input().split()))\n",
        "res = 0\n",
        "tmp = 0\n",
        "for i in range(2,1001):\n",
        "  s = sum(a % i == 0 for a in alist)\n",
        "  if tmp < s:\n",
        "    tmp = s\n",
        "    res = i \n",
        "print(res)\n",
        "\n",
        "#答え\n",
        "# N = int(input())\n",
        "# A = list(map(int, input().split()))\n",
        " \n",
        "# ans = -1\n",
        "# mx = 0\n",
        " \n",
        "# for x in range(2, 1001):\n",
        "# \ts = sum(a % x == 0 for a in A)\n",
        "# \tif mx < s:\n",
        "# \t\tmx = s\n",
        "# \t\tans = x\n",
        " \n",
        "# print(ans)"
      ],
      "execution_count": null,
      "outputs": [
        {
          "output_type": "stream",
          "text": [
            "3\n",
            "3 12 7\n",
            "3\n"
          ],
          "name": "stdout"
        }
      ]
    },
    {
      "cell_type": "code",
      "metadata": {
        "id": "dGZiYtQRVsX-",
        "colab": {
          "base_uri": "https://localhost:8080/"
        },
        "outputId": "7e41d5ae-c43c-40b8-d98c-3d62eb556ba4"
      },
      "source": [
        "#ABC182 C問題\n",
        "#最初にかいた回答\n",
        "n = int(input())\n",
        "nlist = [int(s) % 3 for s in str(n)]\n",
        "res = -1\n",
        "one = nlist.count(1) \n",
        "two = nlist.count(2) \n",
        "if sum(nlist) % 3 == 0:\n",
        "  res = 0\n",
        "elif 0 in nlist:\n",
        "  if ((one % 3 == 2 and two % 3 == 0) or (one % 3 == 0 and two % 3 == 2)) and abs(one-two) % 3 != 1:\n",
        "    res = 2\n",
        "  else:\n",
        "    res = 1\n",
        "print(res)\n",
        "\n",
        "#答えをみてかいた回答\n",
        "n = int(input())\n",
        "nlist = [int(s) for s in str(n)]\n",
        "res = -1\n",
        "if sum(nlist) % 3 == 0:\n",
        "  res = 0\n",
        "elif sum(nlist) % 3 == 1:\n",
        "  if 1 in [i % 3 for i in nlist] and len(nlist) > 1:\n",
        "    res = 1\n",
        "  elif len(nlist) > 2:\n",
        "    res = 2\n",
        "elif sum(nlist) % 3 == 2:\n",
        "  if 2 in [i % 3 for i in nlist] and len(nlist) > 1:\n",
        "    res = 1\n",
        "  elif len(nlist) > 2:\n",
        "    res = 2\n",
        "print(res)\n",
        "           \n",
        "  \n"
      ],
      "execution_count": 12,
      "outputs": [
        {
          "output_type": "stream",
          "text": [
            "6227384\n",
            "1\n"
          ],
          "name": "stdout"
        }
      ]
    },
    {
      "cell_type": "code",
      "metadata": {
        "id": "z12xSTYZX5p2",
        "colab": {
          "base_uri": "https://localhost:8080/"
        },
        "outputId": "b7e595e0-06b9-4198-fa17-8ae096c966ea"
      },
      "source": [
        "[1,2,1,1,1].count(1) % 3"
      ],
      "execution_count": 4,
      "outputs": [
        {
          "output_type": "execute_result",
          "data": {
            "text/plain": [
              "1"
            ]
          },
          "metadata": {
            "tags": []
          },
          "execution_count": 4
        }
      ]
    },
    {
      "cell_type": "code",
      "metadata": {
        "id": "Anckad2cM4xN"
      },
      "source": [
        ""
      ],
      "execution_count": null,
      "outputs": []
    }
  ]
}