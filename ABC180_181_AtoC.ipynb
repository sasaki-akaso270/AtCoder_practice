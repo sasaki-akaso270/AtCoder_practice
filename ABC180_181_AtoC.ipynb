{
  "nbformat": 4,
  "nbformat_minor": 0,
  "metadata": {
    "colab": {
      "name": "ABC180_181_AtoC.ipynb",
      "provenance": [],
      "authorship_tag": "ABX9TyONkRTn9AbPVjEdXYtUv7aR",
      "include_colab_link": true
    },
    "kernelspec": {
      "name": "python3",
      "display_name": "Python 3"
    }
  },
  "cells": [
    {
      "cell_type": "markdown",
      "metadata": {
        "id": "view-in-github",
        "colab_type": "text"
      },
      "source": [
        "<a href=\"https://colab.research.google.com/github/sasaki-akaso270/AtCoder_practice/blob/main/ABC180_181_AtoC.ipynb\" target=\"_parent\"><img src=\"https://colab.research.google.com/assets/colab-badge.svg\" alt=\"Open In Colab\"/></a>"
      ]
    },
    {
      "cell_type": "code",
      "metadata": {
        "colab": {
          "base_uri": "https://localhost:8080/"
        },
        "id": "WF0DnZQ8Vzvt",
        "outputId": "47bf1bac-4096-4217-b785-c0b0bd0ecacc"
      },
      "source": [
        "#ABC180 問題１\n",
        "n,a,b = map(int, input().split())\n",
        "print(n -a + b)"
      ],
      "execution_count": null,
      "outputs": [
        {
          "output_type": "stream",
          "text": [
            "100 1 2\n",
            "101\n"
          ],
          "name": "stdout"
        }
      ]
    },
    {
      "cell_type": "code",
      "metadata": {
        "colab": {
          "base_uri": "https://localhost:8080/"
        },
        "id": "O0gsb7r1a1R1",
        "outputId": "dbd59474-e4aa-4813-e35c-113218cd14a0"
      },
      "source": [
        "#ABC180 問題2\n",
        "import math\n",
        "n = int(input())\n",
        "x = list(map(int , input().split()))\n",
        "tmp = [abs(i) for i in x]\n",
        "print(sum(tmp))\n",
        "print(math.sqrt(sum([i*i for i in tmp])))\n",
        "print(max(tmp))"
      ],
      "execution_count": null,
      "outputs": [
        {
          "output_type": "stream",
          "text": [
            "10\n",
            "3 -1 -4 1 -5 9 2 -6 5 -3\n",
            "39\n",
            "14.38749456993816\n",
            "9\n"
          ],
          "name": "stdout"
        }
      ]
    },
    {
      "cell_type": "code",
      "metadata": {
        "colab": {
          "base_uri": "https://localhost:8080/"
        },
        "id": "bYlug0DRcWuV",
        "outputId": "7b33d066-6e82-41c2-8b2c-3fe5aa736eda"
      },
      "source": [
        "#ABC180 問題3\n",
        "#参考　https://qiita.com/LorseKudos/items/9eb560494862c8b4eb56\n",
        "def make_divisors(n):\n",
        "    divisors = []\n",
        "    for i in range(1, int(n**0.5)+1):\n",
        "        if n % i == 0:\n",
        "            divisors.append(i)\n",
        "            if i != n // i:\n",
        "                divisors.append(n//i)\n",
        "\n",
        "    divisors.sort()\n",
        "    return divisors\n",
        "n = int(input())\n",
        "res = make_divisors(n)\n",
        "for i in res:\n",
        "  print(i)"
      ],
      "execution_count": null,
      "outputs": [
        {
          "output_type": "stream",
          "text": [
            "720\n",
            "1\n",
            "2\n",
            "3\n",
            "4\n",
            "5\n",
            "6\n",
            "8\n",
            "9\n",
            "10\n",
            "12\n",
            "15\n",
            "16\n",
            "18\n",
            "20\n",
            "24\n",
            "30\n",
            "36\n",
            "40\n",
            "45\n",
            "48\n",
            "60\n",
            "72\n",
            "80\n",
            "90\n",
            "120\n",
            "144\n",
            "180\n",
            "240\n",
            "360\n",
            "720\n"
          ],
          "name": "stdout"
        }
      ]
    },
    {
      "cell_type": "code",
      "metadata": {
        "colab": {
          "base_uri": "https://localhost:8080/"
        },
        "id": "HrWjMI2pdHNk",
        "outputId": "eddac8d0-68d4-4f86-9256-d44feb4f4c58"
      },
      "source": [
        "#ABC180 問題4(答えをみた)\n",
        "#https://atcoder.jp/contests/abc180/editorial/219\n",
        "x,y,a,b=map(int,input().split())\n",
        "ans=0\n",
        "while a*x<=x+b and a*x<y:\n",
        "  x*=a\n",
        "  ans+=1\n",
        "print(ans+(y-1-x)//b)"
      ],
      "execution_count": null,
      "outputs": [
        {
          "output_type": "stream",
          "text": [
            "1 1000000000000000000 10 1000000000\n",
            "1000000007\n"
          ],
          "name": "stdout"
        }
      ]
    },
    {
      "cell_type": "code",
      "metadata": {
        "id": "Xtjz5HSNfdhH",
        "colab": {
          "base_uri": "https://localhost:8080/"
        },
        "outputId": "1c4bc8c0-bbb1-4bdb-fadb-cdf1ab786b42"
      },
      "source": [
        "#ABC181 問題A\n",
        "n = int(input())\n",
        "if n % 2 == 1:\n",
        "  print(\"Black\")\n",
        "else:\n",
        "  print(\"White\")"
      ],
      "execution_count": null,
      "outputs": [
        {
          "output_type": "stream",
          "text": [
            "5\n",
            "Black\n"
          ],
          "name": "stdout"
        }
      ]
    },
    {
      "cell_type": "code",
      "metadata": {
        "colab": {
          "base_uri": "https://localhost:8080/"
        },
        "id": "L6dM9ypvawIG",
        "outputId": "ed4b60f7-c4e5-4177-d561-216e99488f16"
      },
      "source": [
        "#ABC181 問題B\n",
        "n = int(input())\n",
        "res = []\n",
        "for i in range(n):\n",
        "  a , b = map(int , input().split())\n",
        "  res.append(sum([a *(b-a + 1) , int((b-a)*(b-a +1)/2) ]))\n",
        "print(sum(res))\n"
      ],
      "execution_count": null,
      "outputs": [
        {
          "output_type": "stream",
          "text": [
            "1\n",
            "1 1000000\n",
            "500000500000\n"
          ],
          "name": "stdout"
        }
      ]
    },
    {
      "cell_type": "code",
      "metadata": {
        "id": "Aije9Br3fObc",
        "colab": {
          "base_uri": "https://localhost:8080/"
        },
        "outputId": "4786752d-ca76-456d-8f21-00bdfdb830b7"
      },
      "source": [
        "#ABC181 問題C(答え見た)\n",
        "#参考\n",
        "#https://atcoder.jp/contests/abc181/editorial/258\n",
        "n = int(input())\n",
        "p = [tuple(map(int, input().split())) for i in range(n)]\n",
        "for i in range(n):\n",
        "    for j in range(i):\n",
        "        for k in range(j):\n",
        "            x1, y1 = p[i]\n",
        "            x2, y2 = p[j]\n",
        "            x3, y3 = p[k]\n",
        "            x1 -= x3\n",
        "            x2 -= x3\n",
        "            y1 -= y3\n",
        "            y2 -= y3\n",
        "            if x1 * y2 == x2 * y1:\n",
        "                print(\"Yes\")\n",
        "                exit()\n",
        "print(\"No\")"
      ],
      "execution_count": 2,
      "outputs": [
        {
          "output_type": "stream",
          "text": [
            "3\n",
            "1 3\n",
            "1 2\n",
            "1 5\n",
            "Yes\n",
            "No\n"
          ],
          "name": "stdout"
        }
      ]
    },
    {
      "cell_type": "code",
      "metadata": {
        "colab": {
          "base_uri": "https://localhost:8080/"
        },
        "id": "Pa0WFvrjJT4k",
        "outputId": "bc17ae74-5ede-4b42-c0b1-cd07d73fedd3"
      },
      "source": [
        "#ABC182 問題D\n",
        "#16 24 32 48 56 64 72 88 96 12 28 36 44 52 68 76 84 92\n",
        "#自分で描いたコード\n",
        "# s = input()\n",
        "# nlist = [\"16\",\"24\",\"32\",\"48\",\"56\",\"64\",\"72\",\"88\",\"96\",\"12\",\"28\",\"36\",\"44\",\"52\",\"68\",\"76\",\"84\",\"92\"]\n",
        "# flag = 0\n",
        "# for i in range(len(nlist)):\n",
        "#   if nlist[i][0] in s and nlist[i][1] in s:\n",
        "#     flag = 1\n",
        "# if flag == 1:\n",
        "#   print(\"Yes\")\n",
        "# else:\n",
        "#   print(\"No\")\n",
        "\n",
        "#答え\n",
        "from collections import Counter\n",
        "n = input()\n",
        "if len(n) <= 2:\n",
        "    if int(n) % 8 == 0 or int(n[::-1]) % 8 == 0:\n",
        "        print(\"Yes\")\n",
        "    else:\n",
        "        print(\"No\")\n",
        "    exit()\n",
        "cnt = Counter(n)\n",
        "for i in range(112, 1000, 8):\n",
        "    if not Counter(str(i)) - cnt:\n",
        "        print(\"Yes\")\n",
        "        exit()\n",
        "print(\"No\")"
      ],
      "execution_count": 2,
      "outputs": [
        {
          "output_type": "stream",
          "text": [
            "8\n",
            "Yes\n"
          ],
          "name": "stdout"
        }
      ]
    },
    {
      "cell_type": "code",
      "metadata": {
        "id": "Wmk8pBuHMo_V"
      },
      "source": [
        ""
      ],
      "execution_count": null,
      "outputs": []
    }
  ]
}