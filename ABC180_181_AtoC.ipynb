{
  "nbformat": 4,
  "nbformat_minor": 0,
  "metadata": {
    "colab": {
      "name": "ABC180_181_AtoC.ipynb",
      "provenance": [],
      "authorship_tag": "ABX9TyMOpwvNer/K41a5iop+6v/o",
      "include_colab_link": true
    },
    "kernelspec": {
      "name": "python3",
      "display_name": "Python 3"
    }
  },
  "cells": [
    {
      "cell_type": "markdown",
      "metadata": {
        "id": "view-in-github",
        "colab_type": "text"
      },
      "source": [
        "<a href=\"https://colab.research.google.com/github/sasaki-akaso270/AtCoder_practice/blob/main/ABC180_181_AtoC.ipynb\" target=\"_parent\"><img src=\"https://colab.research.google.com/assets/colab-badge.svg\" alt=\"Open In Colab\"/></a>"
      ]
    },
    {
      "cell_type": "code",
      "metadata": {
        "colab": {
          "base_uri": "https://localhost:8080/"
        },
        "id": "WF0DnZQ8Vzvt",
        "outputId": "47bf1bac-4096-4217-b785-c0b0bd0ecacc"
      },
      "source": [
        "#ABC180 問題１\n",
        "n,a,b = map(int, input().split())\n",
        "print(n -a + b)"
      ],
      "execution_count": 1,
      "outputs": [
        {
          "output_type": "stream",
          "text": [
            "100 1 2\n",
            "101\n"
          ],
          "name": "stdout"
        }
      ]
    },
    {
      "cell_type": "code",
      "metadata": {
        "colab": {
          "base_uri": "https://localhost:8080/"
        },
        "id": "O0gsb7r1a1R1",
        "outputId": "dbd59474-e4aa-4813-e35c-113218cd14a0"
      },
      "source": [
        "#ABC180 問題2\n",
        "import math\n",
        "n = int(input())\n",
        "x = list(map(int , input().split()))\n",
        "tmp = [abs(i) for i in x]\n",
        "print(sum(tmp))\n",
        "print(math.sqrt(sum([i*i for i in tmp])))\n",
        "print(max(tmp))"
      ],
      "execution_count": 9,
      "outputs": [
        {
          "output_type": "stream",
          "text": [
            "10\n",
            "3 -1 -4 1 -5 9 2 -6 5 -3\n",
            "39\n",
            "14.38749456993816\n",
            "9\n"
          ],
          "name": "stdout"
        }
      ]
    },
    {
      "cell_type": "code",
      "metadata": {
        "colab": {
          "base_uri": "https://localhost:8080/"
        },
        "id": "bYlug0DRcWuV",
        "outputId": "7b33d066-6e82-41c2-8b2c-3fe5aa736eda"
      },
      "source": [
        "#ABC180 問題3\n",
        "#参考　https://qiita.com/LorseKudos/items/9eb560494862c8b4eb56\n",
        "def make_divisors(n):\n",
        "    divisors = []\n",
        "    for i in range(1, int(n**0.5)+1):\n",
        "        if n % i == 0:\n",
        "            divisors.append(i)\n",
        "            if i != n // i:\n",
        "                divisors.append(n//i)\n",
        "\n",
        "    divisors.sort()\n",
        "    return divisors\n",
        "n = int(input())\n",
        "res = make_divisors(n)\n",
        "for i in res:\n",
        "  print(i)"
      ],
      "execution_count": 12,
      "outputs": [
        {
          "output_type": "stream",
          "text": [
            "720\n",
            "1\n",
            "2\n",
            "3\n",
            "4\n",
            "5\n",
            "6\n",
            "8\n",
            "9\n",
            "10\n",
            "12\n",
            "15\n",
            "16\n",
            "18\n",
            "20\n",
            "24\n",
            "30\n",
            "36\n",
            "40\n",
            "45\n",
            "48\n",
            "60\n",
            "72\n",
            "80\n",
            "90\n",
            "120\n",
            "144\n",
            "180\n",
            "240\n",
            "360\n",
            "720\n"
          ],
          "name": "stdout"
        }
      ]
    },
    {
      "cell_type": "code",
      "metadata": {
        "colab": {
          "base_uri": "https://localhost:8080/"
        },
        "id": "HrWjMI2pdHNk",
        "outputId": "eddac8d0-68d4-4f86-9256-d44feb4f4c58"
      },
      "source": [
        "#ABC180 問題4(答えをみた)\n",
        "#https://atcoder.jp/contests/abc180/editorial/219\n",
        "x,y,a,b=map(int,input().split())\n",
        "ans=0\n",
        "while a*x<=x+b and a*x<y:\n",
        "  x*=a\n",
        "  ans+=1\n",
        "print(ans+(y-1-x)//b)"
      ],
      "execution_count": 13,
      "outputs": [
        {
          "output_type": "stream",
          "text": [
            "1 1000000000000000000 10 1000000000\n",
            "1000000007\n"
          ],
          "name": "stdout"
        }
      ]
    },
    {
      "cell_type": "code",
      "metadata": {
        "id": "Xtjz5HSNfdhH"
      },
      "source": [
        ""
      ],
      "execution_count": null,
      "outputs": []
    }
  ]
}