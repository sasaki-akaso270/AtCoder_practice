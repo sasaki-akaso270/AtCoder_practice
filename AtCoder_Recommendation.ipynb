{
  "nbformat": 4,
  "nbformat_minor": 0,
  "metadata": {
    "colab": {
      "name": "AtCoder_Recommendation.ipynb",
      "provenance": [],
      "collapsed_sections": [],
      "authorship_tag": "ABX9TyPI13mEe/49VRpzOybJaF35",
      "include_colab_link": true
    },
    "kernelspec": {
      "name": "python3",
      "display_name": "Python 3"
    },
    "language_info": {
      "name": "python"
    }
  },
  "cells": [
    {
      "cell_type": "markdown",
      "metadata": {
        "id": "view-in-github",
        "colab_type": "text"
      },
      "source": [
        "<a href=\"https://colab.research.google.com/github/sasaki-akaso270/AtCoder_practice/blob/main/AtCoder_Recommendation.ipynb\" target=\"_parent\"><img src=\"https://colab.research.google.com/assets/colab-badge.svg\" alt=\"Open In Colab\"/></a>"
      ]
    },
    {
      "cell_type": "code",
      "metadata": {
        "colab": {
          "base_uri": "https://localhost:8080/"
        },
        "id": "rU9IsPc_CenX",
        "outputId": "364cc92e-8480-4fa7-e3fd-62eed3d31934"
      },
      "source": [
        "#ARC57 A問題\n",
        "a,k = map(int,input().split())\n",
        "if k == 0:\n",
        "  print(2*10**12 - a)\n",
        "else:\n",
        "  tmp = 2*10**12\n",
        "  ind = 0\n",
        "  while a < tmp:\n",
        "    a = a + 1 + a*k\n",
        "    ind += 1\n",
        "  print(ind)"
      ],
      "execution_count": null,
      "outputs": [
        {
          "output_type": "stream",
          "text": [
            "567876543 0\n",
            "1999432123457\n"
          ],
          "name": "stdout"
        }
      ]
    },
    {
      "cell_type": "code",
      "metadata": {
        "colab": {
          "base_uri": "https://localhost:8080/"
        },
        "id": "eFPOQwt8EY56",
        "outputId": "1ae685c0-8ea8-4107-b3e1-43bda96a2442"
      },
      "source": [
        "#ABC39 C問題\n",
        "s = input()\n",
        "if s[0:12] == \"WBWBWWBWBWBW\" or s[0:12] == \"BWBWWBWBWBWW\":\n",
        "  print(\"Do\")\n",
        "elif s[0:12] == \"WBWWBWBWBWWB\" or s[0:12] == \"BWWBWBWBWWBW\":\n",
        "  print(\"Re\")\n",
        "elif s[0:12] == \"WWBWBWBWWBWB\":\n",
        "  print(\"Mi\")\n",
        "elif s[0:12] == \"WBWBWBWWBWBW\" or s[0:12] == \"BWBWBWWBWBWW\":\n",
        "  print(\"Fa\")\n",
        "elif s[0:12] == \"WBWBWWBWBWWB\" or s[0:12] == \"BWBWWBWBWWBW\":\n",
        "  print(\"So\")\n",
        "elif s[0:12] == \"WBWWBWBWWBWB\" or s[0:12] == \"BWWBWBWWBWBW\":\n",
        "  print(\"La\")\n",
        "else:\n",
        "  print(\"Si\")\n"
      ],
      "execution_count": null,
      "outputs": [
        {
          "output_type": "stream",
          "text": [
            "WBWBWWBWBWBWWBWBWWBW\n",
            "Do\n"
          ],
          "name": "stdout"
        }
      ]
    },
    {
      "cell_type": "code",
      "metadata": {
        "id": "wUXU2ZL_Hkvg",
        "colab": {
          "base_uri": "https://localhost:8080/"
        },
        "outputId": "c113e3d5-1123-41e1-d104-7d0c22447a21"
      },
      "source": [
        "#ARC109 B問題\n",
        "def check(x):\n",
        "  sub = x*(x+1)//2\n",
        "  if sub <= T:\n",
        "    return 1\n",
        "  else:\n",
        "    return 0\n",
        "N = int(input())\n",
        "ok = 0\n",
        "ng = N+1\n",
        "T = N+1\n",
        "while abs(ng-ok)>1:\n",
        "  ic = (ok + ng)//2\n",
        "  if check(ic):\n",
        "    ok = ic\n",
        "  else:\n",
        "    ng = ic\n",
        "print(N+1-ok)"
      ],
      "execution_count": null,
      "outputs": [
        {
          "output_type": "stream",
          "text": [
            "109109109109109109\n",
            "109109108641970782\n"
          ],
          "name": "stdout"
        }
      ]
    },
    {
      "cell_type": "code",
      "metadata": {
        "id": "M410OhS2AWwm",
        "colab": {
          "base_uri": "https://localhost:8080/"
        },
        "outputId": "c6086626-5332-4ee7-8c61-9ec46fdba0c3"
      },
      "source": [
        "#AGC039 A問題\n",
        "#参考\n",
        "#https://atcoder.jp/contests/agc039/submissions/23288166\n",
        "\n",
        "# s = input()\n",
        "# k = int(input())\n",
        "# if s[0] == s[-1]:\n",
        "#   cnt = 1\n",
        "# else:\n",
        "#   cnt = 0\n",
        "# flag = 1\n",
        "# for i in range(len(s)-1):\n",
        "#   if s[i] = s[i+1]:\n",
        "#     if flag == 1:\n",
        "#       cnt += 1\n",
        "\n",
        "from itertools import groupby\n",
        "S = list(input())\n",
        "K = int(input())\n",
        "ans = len(S) * K // 2\n",
        "a = [len(list(j)) & 1 for i, j in groupby(S)]\n",
        "if len(a) > 1:\n",
        "    ans -= sum(a) * K // 2\n",
        "    \n",
        "    if S[0] == S[-1] and a[0] & a[-1]:\n",
        "        ans += K - 1\n",
        " \n",
        "print(ans)\n",
        "\n",
        "  "
      ],
      "execution_count": 3,
      "outputs": [
        {
          "output_type": "stream",
          "text": [
            "issii\n",
            "4\n",
            "[1, 0, 0]\n",
            "8\n"
          ],
          "name": "stdout"
        }
      ]
    },
    {
      "cell_type": "code",
      "metadata": {
        "colab": {
          "base_uri": "https://localhost:8080/"
        },
        "id": "5N3bav4PIJgU",
        "outputId": "444e6ea5-e809-4b02-e35f-ef592a7654bf"
      },
      "source": [
        "#AGC019 A問題\n",
        "import numpy as np\n",
        "q , h , s , d = map(int,input().split())\n",
        "n = int(input())\n",
        "lst = [q*8,h*4,s*2,d]\n",
        "lst2 = [q*4,h*2,s]\n",
        "res = (n//2) * min(lst) + (n%2) * min(lst2)\n",
        "print(res)"
      ],
      "execution_count": 8,
      "outputs": [
        {
          "output_type": "stream",
          "text": [
            "12345678 87654321 12345678 87654321\n",
            "123456789\n",
            "1524157763907942\n"
          ],
          "name": "stdout"
        }
      ]
    }
  ]
}