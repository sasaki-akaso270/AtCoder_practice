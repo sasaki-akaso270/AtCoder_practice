{
  "nbformat": 4,
  "nbformat_minor": 0,
  "metadata": {
    "colab": {
      "name": "AtCoder_Recommendation.ipynb",
      "provenance": [],
      "collapsed_sections": [],
      "authorship_tag": "ABX9TyNXadcIxTbDPpL4QIWkqPJn",
      "include_colab_link": true
    },
    "kernelspec": {
      "name": "python3",
      "display_name": "Python 3"
    },
    "language_info": {
      "name": "python"
    }
  },
  "cells": [
    {
      "cell_type": "markdown",
      "metadata": {
        "id": "view-in-github",
        "colab_type": "text"
      },
      "source": [
        "<a href=\"https://colab.research.google.com/github/sasaki-akaso270/AtCoder_practice/blob/main/AtCoder_Recommendation.ipynb\" target=\"_parent\"><img src=\"https://colab.research.google.com/assets/colab-badge.svg\" alt=\"Open In Colab\"/></a>"
      ]
    },
    {
      "cell_type": "code",
      "metadata": {
        "colab": {
          "base_uri": "https://localhost:8080/"
        },
        "id": "rU9IsPc_CenX",
        "outputId": "364cc92e-8480-4fa7-e3fd-62eed3d31934"
      },
      "source": [
        "#ARC57 A問題\n",
        "a,k = map(int,input().split())\n",
        "if k == 0:\n",
        "  print(2*10**12 - a)\n",
        "else:\n",
        "  tmp = 2*10**12\n",
        "  ind = 0\n",
        "  while a < tmp:\n",
        "    a = a + 1 + a*k\n",
        "    ind += 1\n",
        "  print(ind)"
      ],
      "execution_count": 5,
      "outputs": [
        {
          "output_type": "stream",
          "text": [
            "567876543 0\n",
            "1999432123457\n"
          ],
          "name": "stdout"
        }
      ]
    },
    {
      "cell_type": "code",
      "metadata": {
        "colab": {
          "base_uri": "https://localhost:8080/"
        },
        "id": "eFPOQwt8EY56",
        "outputId": "1ae685c0-8ea8-4107-b3e1-43bda96a2442"
      },
      "source": [
        "#ABC39 C問題\n",
        "s = input()\n",
        "if s[0:12] == \"WBWBWWBWBWBW\" or s[0:12] == \"BWBWWBWBWBWW\":\n",
        "  print(\"Do\")\n",
        "elif s[0:12] == \"WBWWBWBWBWWB\" or s[0:12] == \"BWWBWBWBWWBW\":\n",
        "  print(\"Re\")\n",
        "elif s[0:12] == \"WWBWBWBWWBWB\":\n",
        "  print(\"Mi\")\n",
        "elif s[0:12] == \"WBWBWBWWBWBW\" or s[0:12] == \"BWBWBWWBWBWW\":\n",
        "  print(\"Fa\")\n",
        "elif s[0:12] == \"WBWBWWBWBWWB\" or s[0:12] == \"BWBWWBWBWWBW\":\n",
        "  print(\"So\")\n",
        "elif s[0:12] == \"WBWWBWBWWBWB\" or s[0:12] == \"BWWBWBWWBWBW\":\n",
        "  print(\"La\")\n",
        "else:\n",
        "  print(\"Si\")\n"
      ],
      "execution_count": 8,
      "outputs": [
        {
          "output_type": "stream",
          "text": [
            "WBWBWWBWBWBWWBWBWWBW\n",
            "Do\n"
          ],
          "name": "stdout"
        }
      ]
    },
    {
      "cell_type": "code",
      "metadata": {
        "id": "wUXU2ZL_Hkvg"
      },
      "source": [
        ""
      ],
      "execution_count": null,
      "outputs": []
    }
  ]
}