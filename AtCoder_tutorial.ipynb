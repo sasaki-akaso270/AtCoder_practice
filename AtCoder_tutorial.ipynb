{
  "nbformat": 4,
  "nbformat_minor": 0,
  "metadata": {
    "colab": {
      "name": "AtCoder_tutorial",
      "provenance": [],
      "authorship_tag": "ABX9TyMojIkYKJ/Z/w4vK0bsjidF",
      "include_colab_link": true
    },
    "kernelspec": {
      "name": "python3",
      "display_name": "Python 3"
    }
  },
  "cells": [
    {
      "cell_type": "markdown",
      "metadata": {
        "id": "view-in-github",
        "colab_type": "text"
      },
      "source": [
        "<a href=\"https://colab.research.google.com/github/sasaki-akaso270/AtCoder_practice/blob/main/AtCoder_tutorial.ipynb\" target=\"_parent\"><img src=\"https://colab.research.google.com/assets/colab-badge.svg\" alt=\"Open In Colab\"/></a>"
      ]
    },
    {
      "cell_type": "code",
      "metadata": {
        "colab": {
          "base_uri": "https://localhost:8080/"
        },
        "id": "lahOnnrt8xqb",
        "outputId": "6bdf6912-307d-4cb7-fb8d-7f7acd75dd26"
      },
      "source": [
        "#問題1\n",
        "#整数の入力\n",
        "a = int(input())\n",
        "#スペース区切りの整数の入力\n",
        "b,c = map(int, input().split())\n",
        "#文字の入力\n",
        "s = input()\n",
        "#出力\n",
        "print(\"{} {}\".format(a+b+c , s))"
      ],
      "execution_count": null,
      "outputs": [
        {
          "output_type": "stream",
          "text": [
            "1\n",
            "2 6\n",
            "test\n",
            "9 test\n"
          ],
          "name": "stdout"
        }
      ]
    },
    {
      "cell_type": "code",
      "metadata": {
        "colab": {
          "base_uri": "https://localhost:8080/"
        },
        "id": "jcMS59rF85bx",
        "outputId": "0af98f63-2d2d-4f39-f0dd-d3b492e7bb97"
      },
      "source": [
        "#問題2\n",
        "#入力(整数)\n",
        "a,b  = map(int , input().split())\n",
        "if (a * b) % 2 == 0:\n",
        "  print(\"Even\")\n",
        "else:\n",
        "  print(\"Odd\")\n"
      ],
      "execution_count": null,
      "outputs": [
        {
          "output_type": "stream",
          "text": [
            "3 8\n",
            "Even\n"
          ],
          "name": "stdout"
        }
      ]
    },
    {
      "cell_type": "code",
      "metadata": {
        "colab": {
          "base_uri": "https://localhost:8080/"
        },
        "id": "xnsWWF0F89TT",
        "outputId": "5fad0367-fa44-4ef7-c369-16a31a393376"
      },
      "source": [
        "#問題3\n",
        "a = input()\n",
        "b = a.count(\"1\")\n",
        "print(b)\n"
      ],
      "execution_count": null,
      "outputs": [
        {
          "output_type": "stream",
          "text": [
            "101\n",
            "2\n"
          ],
          "name": "stdout"
        }
      ]
    },
    {
      "cell_type": "code",
      "metadata": {
        "colab": {
          "base_uri": "https://localhost:8080/"
        },
        "id": "kYAjsoH2-p9r",
        "outputId": "1992fdb1-8c4d-4d0f-f7eb-40fe02c81ca1"
      },
      "source": [
        "#問題4\n",
        "N = int(input())\n",
        "a = list(map(int, input().split()))\n",
        "counter = 0\n",
        "while True:\n",
        "  a2 = [i % 2 for i in a]\n",
        "  if 1 in a2:\n",
        "    print(counter)\n",
        "    break\n",
        "  else:\n",
        "    a = [i /2 for i in a]\n",
        "    counter = counter + 1\n"
      ],
      "execution_count": null,
      "outputs": [
        {
          "output_type": "stream",
          "text": [
            "1\n",
            "8\n",
            "3\n"
          ],
          "name": "stdout"
        }
      ]
    },
    {
      "cell_type": "code",
      "metadata": {
        "colab": {
          "base_uri": "https://localhost:8080/"
        },
        "id": "6ykXMPD0EEcp",
        "outputId": "6ae91b62-742d-411a-b871-5990c1b196ed"
      },
      "source": [
        "#問題5\n",
        "a = int(input())\n",
        "b = int(input())\n",
        "c = int(input())\n",
        "x = int(input())\n",
        "money_list = [50 * i + 100 * j + 500 * k for i in range(c+1) for j in range(b+1) for k in range(a+1)]\n",
        "res = money_list.count(x)\n",
        "print(res)"
      ],
      "execution_count": null,
      "outputs": [
        {
          "output_type": "stream",
          "text": [
            "30\n",
            "40\n",
            "50\n",
            "6000\n",
            "213\n"
          ],
          "name": "stdout"
        }
      ]
    },
    {
      "cell_type": "code",
      "metadata": {
        "colab": {
          "base_uri": "https://localhost:8080/"
        },
        "id": "zqgrvHvTEc7I",
        "outputId": "bcad1461-b9f4-4997-9d2d-0b7179cc36fe"
      },
      "source": [
        "#問題6\n",
        "n , a, b  = map(int , input().split())\n",
        "num_list = []\n",
        "for i in range(1,n+1):\n",
        "  tmp = 0\n",
        "  for j in str(i):\n",
        "    tmp = tmp + int(j)\n",
        "  if a <= tmp <= b:\n",
        "    num_list.append(i)\n",
        "\n",
        "res = sum(num_list)\n",
        "print(res)"
      ],
      "execution_count": null,
      "outputs": [
        {
          "output_type": "stream",
          "text": [
            "100 4 16\n",
            "4554\n"
          ],
          "name": "stdout"
        }
      ]
    },
    {
      "cell_type": "code",
      "metadata": {
        "colab": {
          "base_uri": "https://localhost:8080/"
        },
        "id": "Y6H0GyqmP4uW",
        "outputId": "ded6ec82-4a6e-4914-e6d4-e5854c9ee404"
      },
      "source": [
        "#問題7\n",
        "n = int(input())\n",
        "a = list(map(int, input().split()))\n",
        "a.sort(reverse=True)\n",
        "AP = 0\n",
        "BP = 0 \n",
        "for i in range(len(a)):\n",
        "  if i % 2 == 0:\n",
        "    AP = AP + a[i]\n",
        "  else:\n",
        "    BP = BP + a[i]\n",
        "res = AP - BP\n",
        "print(res)"
      ],
      "execution_count": null,
      "outputs": [
        {
          "output_type": "stream",
          "text": [
            "4\n",
            "20 18 2 18\n",
            "18\n"
          ],
          "name": "stdout"
        }
      ]
    },
    {
      "cell_type": "code",
      "metadata": {
        "colab": {
          "base_uri": "https://localhost:8080/"
        },
        "id": "1mBDOwuddVdg",
        "outputId": "512c4214-04c4-493a-e777-57fc409d035e"
      },
      "source": [
        "#問題8\n",
        "n = int(input())\n",
        "a = []\n",
        "for i in range(n):\n",
        "  tmp = int(input())\n",
        "  a.append(tmp)\n",
        "res = len(list(set(a)))\n",
        "print(res)"
      ],
      "execution_count": null,
      "outputs": [
        {
          "output_type": "stream",
          "text": [
            "3\n",
            "34\n",
            "54\n",
            "34\n",
            "2\n"
          ],
          "name": "stdout"
        }
      ]
    },
    {
      "cell_type": "code",
      "metadata": {
        "colab": {
          "base_uri": "https://localhost:8080/"
        },
        "id": "HVJXw2eQf4WY",
        "outputId": "69027c40-2107-49a4-8136-698a8b6914e8"
      },
      "source": [
        "#問題9\n",
        "n,y =  map(int , input().split())\n",
        "flag = 0\n",
        "for i in range(n+1):\n",
        "  for j in range(n-i+1):\n",
        "    tmp = 10000 * i + 5000 * j + 1000 * (n - i - j)\n",
        "    if tmp == y:\n",
        "      print(i,j,n-i-j)\n",
        "      flag = 1\n",
        "      break\n",
        "  else:\n",
        "    continue\n",
        "  break\n",
        "if flag == 0:\n",
        "  print(-1,-1,-1)"
      ],
      "execution_count": null,
      "outputs": [
        {
          "output_type": "stream",
          "text": [
            "2000 20000000\n",
            "2000 0 0\n"
          ],
          "name": "stdout"
        }
      ]
    },
    {
      "cell_type": "code",
      "metadata": {
        "colab": {
          "base_uri": "https://localhost:8080/"
        },
        "id": "cmMXDlOhsNCw",
        "outputId": "011c35db-2fcd-400a-83e3-bfbd4003e518"
      },
      "source": [
        "#問題10\n",
        "s = input()\n",
        "s1 = s.replace(\"eraser\",\"\")\n",
        "s2 = s1.replace(\"erase\",\"\")\n",
        "s3 = s2.replace(\"dreamer\",\"\")\n",
        "s4 = s3.replace(\"dream\",\"\")\n",
        "if s4:\n",
        "  print(\"NO\")\n",
        "else:\n",
        "  print(\"YES\")"
      ],
      "execution_count": null,
      "outputs": [
        {
          "output_type": "stream",
          "text": [
            "dreamerer\n",
            "NO\n"
          ],
          "name": "stdout"
        }
      ]
    },
    {
      "cell_type": "code",
      "metadata": {
        "colab": {
          "base_uri": "https://localhost:8080/"
        },
        "id": "SM9N1zbf6L6G",
        "outputId": "f609d6a7-b6bd-476f-af4f-eefe4859b8be"
      },
      "source": [
        "#問題11\n",
        "n = int(input())\n",
        "tlist = [0]\n",
        "xlist = [0]\n",
        "ylist = [0]\n",
        "for i in range(n):\n",
        "  tmp = list(map(int , input().split()))\n",
        "  tlist.append(tmp[0])\n",
        "  xlist.append(tmp[1])\n",
        "  ylist.append(tmp[2])\n",
        "flag = 0\n",
        "for i in range(n):\n",
        "  tmp = [tlist[i+1]-tlist[i],abs(xlist[i+1]-xlist[i]) ,abs(ylist[i+1] - ylist[i])]\n",
        "  if tmp[0] % 2 == (tmp[1] + tmp[2]) % 2 and  (tmp[1] + tmp[2]) <= tmp[0]:\n",
        "    pass\n",
        "  else:\n",
        "    flag = 10\n",
        "if flag==0:\n",
        "  print(\"Yes\")\n",
        "else:\n",
        "  print(\"No\")\n"
      ],
      "execution_count": null,
      "outputs": [
        {
          "output_type": "stream",
          "text": [
            "2\n",
            "5 1 1\n",
            "100 1 1\n",
            "No\n"
          ],
          "name": "stdout"
        }
      ]
    }
  ]
}